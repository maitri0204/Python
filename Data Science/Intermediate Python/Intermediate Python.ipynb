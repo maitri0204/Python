{
 "cells": [
  {
   "cell_type": "code",
   "execution_count": 14,
   "metadata": {},
   "outputs": [
    {
     "data": {
      "image/png": "[encoded data removed]",
      "text/plain": [
       "<Figure size 640x480 with 1 Axes>"
      ]
     },
     "metadata": {},
     "output_type": "display_data"
    }
   ],
   "source": [
    "import matplotlib.pyplot as plt\n",
    "year = [1950, 1970, 1990, 2010]\n",
    "pop = [2.519, 3.692, 5.263, 6.972]\n",
    "# plt.plot(year, pop) \n",
    "plt.scatter(year, pop)\n",
    "plt.xlabel('Year')\n",
    "plt.ylabel('Population')\n",
    "plt.title('World Population Projections')\n",
    "plt.yticks([0, 2, 4, 6, 8, 10],\n",
    "            ['0B', '2B', '4B', '6B', '8B', '10B']) # Starts with '0'\n",
    "plt.xscale('log')   # Putting the x-axis on logarithmic scale\n",
    "plt.show()"
   ]
  },
  {
   "cell_type": "code",
   "execution_count": 10,
   "metadata": {},
   "outputs": [
    {
     "data": {
      "image/png": "[encoded data removed]",
      "text/plain": [
       "<Figure size 640x480 with 1 Axes>"
      ]
     },
     "metadata": {},
     "output_type": "display_data"
    }
   ],
   "source": [
    "# Histogram\n",
    "import matplotlib.pyplot as plt\n",
    "# help(plt.hist)\n",
    "# hist(x, number of bins, )\n",
    "values = [0, 0.6, 1.4, 1.6, 2.2, 2.5, 2.6, 3.2, 3.5, 3.9, 4.2, 2.6]\n",
    "plt.hist(values, bins = 3)\n",
    "plt.show()"
   ]
  },
  {
   "cell_type": "code",
   "execution_count": 4,
   "metadata": {},
   "outputs": [
    {
     "name": "stdout",
     "output_type": "stream",
     "text": [
      "1\n",
      "2.77\n",
      "2.77\n",
      "dict_keys(['afghanistan', 'albania', 'algeria'])\n",
      "{'afghanistan': 30.55, 'albania': 2.77, 'algeria': 39.21, 'sealand': 2.7e-05}\n",
      "True\n",
      "{'afghanistan': 30.55, 'albania': 2.77, 'algeria': 39.21}\n"
     ]
    }
   ],
   "source": [
    "# Dictionaries\n",
    "pop = [30.55, 2.77, 39.21]\n",
    "countries = [\"afghinstan\", \"albania\", \"algeria\"]\n",
    "ind_alb = countries.index(\"albania\")    # Finding the index of albania\n",
    "print(ind_alb)\n",
    "print(pop[ind_alb])    # Prints the pop of albania through index\n",
    "\n",
    "world = {\"afghanistan\":30.55, \"albania\":2.77, \"algeria\":39.21}\n",
    "print(world[\"albania\"])\n",
    "print(world.keys())\n",
    "\n",
    "world[\"sealand\"] = 0.000027\n",
    "print(world)\n",
    "print(\"sealand\" in world)\n",
    "del(world[\"sealand\"])\n",
    "print(world)"
   ]
  },
  {
   "cell_type": "code",
   "execution_count": 1,
   "metadata": {},
   "outputs": [
    {
     "name": "stdout",
     "output_type": "stream",
     "text": [
      "         Country    Capital    Area  Population\n",
      "BR        Brazil   Brasilia   8.516      200.40\n",
      "RU        Russia     Moscow  17.100      143.50\n",
      "IN         India  New Delhi   3.286     1252.00\n",
      "CH         China     Bejing   9.597     1357.00\n",
      "SA  South Africa   Pretoria   1.221       52.98\n",
      "BR          Brazil\n",
      "RU          Russia\n",
      "IN           India\n",
      "CH           China\n",
      "SA    South Africa\n",
      "Name: Country, dtype: object\n",
      "<class 'pandas.core.series.Series'>\n",
      "Country       Russia\n",
      "Capital       Moscow\n",
      "Area            17.1\n",
      "Population     143.5\n",
      "Name: RU, dtype: object\n",
      "   Country Capital  Area  Population\n",
      "RU  Russia  Moscow  17.1       143.5\n",
      "   Country    Capital    Area  Population\n",
      "RU  Russia     Moscow  17.100       143.5\n",
      "IN   India  New Delhi   3.286      1252.0\n",
      "CH   China     Bejing   9.597      1357.0\n",
      "   Country    Capital\n",
      "RU  Russia     Moscow\n",
      "IN   India  New Delhi\n",
      "         Country    Capital\n",
      "BR        Brazil   Brasilia\n",
      "RU        Russia     Moscow\n",
      "IN         India  New Delhi\n",
      "CH         China     Bejing\n",
      "SA  South Africa   Pretoria\n"
     ]
    }
   ],
   "source": [
    "#Pandas\n",
    "dict = {\n",
    "    \"Country\":[\"Brazil\", \"Russia\", \"India\", \"China\", \"South Africa\"],\n",
    "    \"Capital\":[\"Brasilia\", \"Moscow\", \"New Delhi\", \"Bejing\", \"Pretoria\"],\n",
    "    \"Area\":[8.516, 17.10, 3.286, 9.597, 1.221],\n",
    "    \"Population\":[200.4, 143.5, 1252, 1357, 52.98]\n",
    "}\n",
    "\n",
    "import pandas as pd\n",
    "brics = pd.DataFrame(dict)\n",
    "brics\n",
    "brics.index = [\"BR\", \"RU\", \"IN\", \"CH\", \"SA\"]\n",
    "print(brics)\n",
    "# brics = pr.read_csv(\"path\", index_col = 0) for csv file\n",
    "\n",
    "print(brics[\"Country\"]) # prints the entire column\n",
    "print(type(brics[\"Country\"]))   \n",
    "\n",
    "# loc (label-based)\n",
    "# iloc (integer-based)\n",
    "print(brics.loc[\"RU\"])  # Prints the row\n",
    "print(brics.loc[[\"RU\"]])    # to get the dataFrame\n",
    "print(brics.loc[[\"RU\", \"IN\", \"CH\"]])    # to add mutliple rows\n",
    "print(brics.loc[[\"RU\", \"IN\"], [\"Country\", \"Capital\"]])\n",
    "print(brics.loc[:, [\"Country\", \"Capital\"]])\n",
    "\n",
    "# print(brics.iloc[1])\n",
    "# print(brics.iloc[1,2,3])\n",
    "# print(brics.iloc[[1,2,3], [0,1]])\n",
    "# print(brics.iloc[:, [0,1]])"
   ]
  },
  {
   "cell_type": "code",
   "execution_count": 13,
   "metadata": {},
   "outputs": [
    {
     "name": "stdout",
     "output_type": "stream",
     "text": [
      "True\n",
      "False\n",
      "True\n",
      "True\n",
      "True\n",
      "True\n",
      "False\n",
      "False\n"
     ]
    }
   ],
   "source": [
    "# Numeric comparisons\n",
    "print(2 < 3)\n",
    "print(2 == 3)\n",
    "print(2 <= 3)   \n",
    "print(\"carl\" < \"chris\") # carl comes first \n",
    "print(3 < 4.2)  # float and integer can be compared\n",
    "\n",
    "# Boolean Operators(and, or, not)\n",
    "x = 12\n",
    "print(x>5 and x<15) # true and true -> true\n",
    "print(x>15 or x<5)  # false or false -> false\n",
    "print(not True) # not true -> false\n",
    "\n",
    "# logical_and(), logical_or(), logical_not() used for array\n",
    "# bmi[np.logical_and(bmi > 21, bmi < 22)]"
   ]
  },
  {
   "cell_type": "code",
   "execution_count": 3,
   "metadata": {},
   "outputs": [
    {
     "name": "stdout",
     "output_type": "stream",
     "text": [
      "z is odd\n"
     ]
    }
   ],
   "source": [
    "# if, elif, else\n",
    "z = 5\n",
    "if z%2 == 0:\n",
    "    print(\"checking \" + str(z))\n",
    "    print(\"z is even\")\n",
    "else:\n",
    "    print(\"z is odd\")"
   ]
  },
  {
   "cell_type": "code",
   "execution_count": null,
   "metadata": {},
   "outputs": [],
   "source": [
    "# Filtering pandas DataFrame\n",
    "brics[\"area\"]\n",
    "is_huge = brics[\"area\"] > 8\n",
    "brics[is_huge]  # brics[brics[\"area\"] > 8]\n",
    "brics[np.logical_and(brics[\"area\"] > 8, brics[\"area\"] < 10)]"
   ]
  },
  {
   "cell_type": "code",
   "execution_count": 6,
   "metadata": {},
   "outputs": [
    {
     "name": "stdout",
     "output_type": "stream",
     "text": [
      "12.5\n",
      "3.125\n",
      "0.78125\n",
      "1.73\n",
      "1.68\n",
      "1.71\n",
      "1.89\n",
      "index 0: 1.73\n",
      "index 1: 1.68\n",
      "index 2: 1.71\n",
      "index 3: 1.89\n",
      "F\n",
      "A\n",
      "M\n",
      "I\n",
      "L\n",
      "Y\n",
      "hallway is 11.25sqm\n",
      "kitchen is 18.0sqm\n",
      "living room is 20.0sqm\n",
      "bedroom is 10.75sqm\n",
      "bathroom is 9.5sqm\n"
     ]
    }
   ],
   "source": [
    "# While loop\n",
    "error = 50\n",
    "while error > 1:\n",
    "    error = error / 4\n",
    "    print(error)\n",
    "\n",
    "# for loop\n",
    "fam = [1.73, 1.68, 1.71, 1.89]\n",
    "for height in fam:\n",
    "    print(height)\n",
    "\n",
    "# for displaying index\n",
    "for index, height in enumerate(fam):\n",
    "    print(\"index \" + str(index) + \": \" + str(height))\n",
    "\n",
    "for c in \"family\":\n",
    "    print(c.capitalize())\n",
    "\n",
    "# house list of lists\n",
    "house = [[\"hallway\", 11.25], \n",
    "         [\"kitchen\", 18.0], \n",
    "         [\"living room\", 20.0], \n",
    "         [\"bedroom\", 10.75], \n",
    "         [\"bathroom\", 9.50]]\n",
    "         \n",
    "# Build a for loop from scratch\n",
    "for room in house:\n",
    "    print(str(room[0]) + \" is \" + str(room[1]) + \" sqm\")"
   ]
  },
  {
   "cell_type": "code",
   "execution_count": 7,
   "metadata": {},
   "outputs": [
    {
     "name": "stdout",
     "output_type": "stream",
     "text": [
      "afghanistan -- 30.55\n",
      "albania -- 2.77\n",
      "algeria -- 39.21\n",
      "[1.73 1.68 1.71 1.89 1.79]\n",
      "[65.4 59.2 63.6 88.4 68.7]\n"
     ]
    }
   ],
   "source": [
    "# Loop Data Structures\n",
    "import numpy as np\n",
    "world = {\"afghanistan\": 30.55,\n",
    "\"albania\":2.77,\n",
    "\"algeria\":39.21}\n",
    "\n",
    "for key, value in world.items():\n",
    "    print(key + \" -- \" + str(value))\n",
    "\n",
    "np_height = np.array([1.73, 1.68, 1.71, 1.89, 1.79])\n",
    "np_weight = np.array([65.4, 59.2, 63.6, 88.4, 68.7])\n",
    "meas = np.array([np_height, np_weight])\n",
    "for val in meas:    # for val in np.nditer(meas):\n",
    "    print(val)\n"
   ]
  },
  {
   "cell_type": "code",
   "execution_count": 9,
   "metadata": {},
   "outputs": [
    {
     "name": "stdout",
     "output_type": "stream",
     "text": [
      "Country\n",
      "Capital\n",
      "Area\n",
      "Population\n",
      "0\n",
      "Country         Brazil\n",
      "Capital       Brasilia\n",
      "Area             8.516\n",
      "Population       200.4\n",
      "Name: 0, dtype: object\n",
      "1\n",
      "Country       Russia\n",
      "Capital       Moscow\n",
      "Area            17.1\n",
      "Population     143.5\n",
      "Name: 1, dtype: object\n",
      "2\n",
      "Country           India\n",
      "Capital       New Delhi\n",
      "Area              3.286\n",
      "Population       1252.0\n",
      "Name: 2, dtype: object\n",
      "3\n",
      "Country        China\n",
      "Capital       Bejing\n",
      "Area           9.597\n",
      "Population    1357.0\n",
      "Name: 3, dtype: object\n",
      "4\n",
      "Country       South Africa\n",
      "Capital           Pretoria\n",
      "Area                 1.221\n",
      "Population           52.98\n",
      "Name: 4, dtype: object\n",
      "0: Brasilia\n",
      "1: Moscow\n",
      "2: New Delhi\n",
      "3: Bejing\n",
      "4: Pretoria\n",
      "        Country    Capital    Area  Population  name_length\n",
      "0        Brazil   Brasilia   8.516      200.40            6\n",
      "1        Russia     Moscow  17.100      143.50            6\n",
      "2         India  New Delhi   3.286     1252.00            5\n",
      "3         China     Bejing   9.597     1357.00            5\n",
      "4  South Africa   Pretoria   1.221       52.98           12\n"
     ]
    }
   ],
   "source": [
    "dict = {\n",
    "    \"Country\":[\"Brazil\", \"Russia\", \"India\", \"China\", \"South Africa\"],\n",
    "    \"Capital\":[\"Brasilia\", \"Moscow\", \"New Delhi\", \"Bejing\", \"Pretoria\"],\n",
    "    \"Area\":[8.516, 17.10, 3.286, 9.597, 1.221],\n",
    "    \"Population\":[200.4, 143.5, 1252, 1357, 52.98]\n",
    "}\n",
    "\n",
    "import pandas as pd\n",
    "brics = pd.DataFrame(dict)\n",
    "brics\n",
    "for val in brics:\n",
    "    print(val)\n",
    "\n",
    "for lab, row in brics.iterrows():\n",
    "    print(lab)\n",
    "    print(row)\n",
    "\n",
    "for lab, row in brics.iterrows():   # For printing capital only\n",
    "    print(str(lab) + \": \" + row[\"Capital\"])\n",
    "\n",
    "# for lab, row in brics.iterrows():   # counting the length of capital and adding new column\n",
    "#     brics.loc[lab, \"name_length\"] = len(row[\"Country\"])\n",
    "# print(brics)\n",
    "\n",
    "brics[\"name_length\"] = brics[\"Country\"].apply(len)\n",
    "print(brics)"
   ]
  },
  {
   "cell_type": "code",
   "execution_count": 7,
   "metadata": {},
   "outputs": [
    {
     "name": "stdout",
     "output_type": "stream",
     "text": [
      "0.7129553205232272\n",
      "None\n",
      "0.6964691855978616\n",
      "0\n",
      "heads\n"
     ]
    }
   ],
   "source": [
    "# Random numbers\n",
    "import numpy as np\n",
    "print(np.random.rand())    # pseudo-random numbers\n",
    "print(np.random.seed(123))\n",
    "print(np.random.rand())\n",
    "\n",
    "#Coin toss\n",
    "import numpy as np\n",
    "np.random.seed(123)\n",
    "coin = np.random.randint(0, 2)  # Randomly generate 0 or 1\n",
    "print(coin)\n",
    "if coin == 0:\n",
    "    print(\"heads\")\n",
    "else:\n",
    "    print(\"tails\")"
   ]
  },
  {
   "cell_type": "code",
   "execution_count": 10,
   "metadata": {},
   "outputs": [
    {
     "name": "stdout",
     "output_type": "stream",
     "text": [
      "['heads', 'tails', 'heads', 'heads', 'heads', 'heads', 'heads', 'tails', 'tails', 'heads']\n",
      "[0, 0, 1, 1, 1, 1, 1, 1, 2, 3, 3]\n"
     ]
    }
   ],
   "source": [
    "# Tracking of true and false\n",
    "import numpy as np\n",
    "np.random.seed(123)\n",
    "outcomes = []\n",
    "for x in range(10):\n",
    "    coin = np.random.randint(0, 2)\n",
    "    if coin == 0:\n",
    "        outcomes.append(\"heads\")\n",
    "    else:\n",
    "        outcomes.append(\"tails\")\n",
    "print(outcomes)\n",
    "\n",
    "# tracking tails in game\n",
    "import numpy as np;\n",
    "np.random.seed(123)\n",
    "tails = [0]\n",
    "for x in range(10):\n",
    "    coin = np.random.randint(0, 2)\n",
    "    tails.append(tails[x] + coin)\n",
    "print(tails)\n"
   ]
  },
  {
   "cell_type": "code",
   "execution_count": 13,
   "metadata": {},
   "outputs": [
    {
     "data": {
      "image/png": "[encoded data removed]",
      "text/plain": [
       "<Figure size 640x480 with 1 Axes>"
      ]
     },
     "metadata": {},
     "output_type": "display_data"
    }
   ],
   "source": [
    "# Distribution\n",
    "import numpy as np\n",
    "import matplotlib.pyplot as plt\n",
    "np.random.seed(123)\n",
    "final_tails = []\n",
    "for x in range(1000):\n",
    "    tails = [0]\n",
    "    for x in range(10):\n",
    "        coin = np.random.randint(0, 2)\n",
    "        tails.append(tails[x] + coin)\n",
    "    final_tails.append(tails[-1])\n",
    "# print(final_tails)\n",
    "plt.hist(final_tails, bins = 10)\n",
    "plt.show()"
   ]
  }
 ],
 "metadata": {
  "kernelspec": {
   "display_name": "Python 3.11.5 64-bit",
   "language": "python",
   "name": "python3"
  },
  "language_info": {
   "codemirror_mode": {
    "name": "ipython",
    "version": 3
   },
   "file_extension": ".py",
   "mimetype": "text/x-python",
   "name": "python",
   "nbconvert_exporter": "python",
   "pygments_lexer": "ipython3",
   "version": "3.11.5"
  },
  "orig_nbformat": 4,
  "vscode": {
   "interpreter": {
    "hash": "aee8b7b246df8f9039afb4144a1f6fd8d2ca17a180786b69acc140d282b71a49"
   }
  }
 },
 "nbformat": 4,
 "nbformat_minor": 2
}

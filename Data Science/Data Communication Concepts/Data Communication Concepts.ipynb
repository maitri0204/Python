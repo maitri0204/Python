{
 "cells": [
  {
   "cell_type": "markdown",
   "metadata": {},
   "source": [
    "Data storytelling\n",
    "Benefits:\n",
    "- Helps focus attention\n",
    "- Meaning and context\n",
    "- Helps retain insights\n",
    "- Better-informed decision-making\n",
    "- Persuade change-resistant stakeholders"
   ]
  },
  {
   "cell_type": "markdown",
   "metadata": {},
   "source": [
    "Tech or non-tech approach?\n",
    "- Techincal knowledge is a continum\n",
    "- Data professionals care about their methods but the audience likely cares about results and implications"
   ]
  },
  {
   "cell_type": "markdown",
   "metadata": {},
   "source": [
    "How technical?\n",
    "- Low accurancy predictions to supply chain agents\n",
    "    - Don't care about stats\n",
    "    - Care about their own points"
   ]
  },
  {
   "cell_type": "markdown",
   "metadata": {},
   "source": [
    "Translating techincal results into stories\n",
    "- Easy to understand\n",
    "- Engage audience\n",
    "- Decision-making\n",
    "- Drive change\n",
    "- Strategies"
   ]
  },
  {
   "cell_type": "markdown",
   "metadata": {},
   "source": [
    "Technical jargon\n",
    "- Use acronyms with caution\n",
    "    - Can help or hurt communication\n",
    "    - Introduce the term and acronym\n",
    "- Jargon\n",
    "    - Translate terminology\n",
    "    - Simple terms\n",
    "    - Guide\n",
    "    - Definitions"
   ]
  },
  {
   "cell_type": "markdown",
   "metadata": {},
   "source": [
    "Humility\n",
    "- Be receptive\n",
    "- Proactively ensure understanding\n",
    "- Explain differently\n"
   ]
  },
  {
   "cell_type": "markdown",
   "metadata": {},
   "source": [
    "Narrative structure\n",
    "- Backgorund\n",
    "    - What motivated the analysis?\n",
    "    - What changed?\n",
    "    - Who is the focus of the analysis?\n",
    "        - Customers? Employees? Something else?\n",
    "- Insight1\n",
    "    - What contributed to the problem?\n",
    "    - Only relevant information\n",
    "- Insight2\n",
    "    - Add supporting evidence\n",
    "    - Help better explain the cause of problem\n",
    "- Climax\n",
    "    - Central insight\n",
    "    - What would happen if there is no change\n",
    "- Next steps\n",
    "    - Potential solutions\n",
    "    - Course of action\n",
    "    - Proactive"
   ]
  },
  {
   "cell_type": "markdown",
   "metadata": {},
   "source": [
    "Building narrative\n",
    "- Change over time: Chocolate lower in summer and higher in winter\n",
    "- Correlation: Chocolate rating vs. price\n",
    "- Comparison: Two age groups vs. chocolate consumption\n",
    "- Clustering: Groups with different coffee and chocolate consumption"
   ]
  },
  {
   "cell_type": "markdown",
   "metadata": {},
   "source": [
    "Selecting the right data\n",
    "- How to prepare for communicating data?\n",
    "    - Identify personas\n",
    "    - Selecting findings and statistics\n",
    "    - Selecting a visualization\n",
    "    - Choose format"
   ]
  },
  {
   "cell_type": "markdown",
   "metadata": {},
   "source": [
    "The right data\n",
    "- Selecting the right data implies including enough contextual insights in a story to better support the main point without overloading with information.\n",
    "- Minimal amount of information to support our story"
   ]
  },
  {
   "cell_type": "markdown",
   "metadata": {},
   "source": [
    "General audience\n",
    "- Role:\n",
    "    - Other department staff(internal)\n",
    "- Interests:\n",
    "    - To understand the general results and impact of the project\n",
    "- Right data:\n",
    "    - Historical data: Decline in profits\n",
    "    - Correlation/impact: Chocolate needs rebranding"
   ]
  },
  {
   "cell_type": "markdown",
   "metadata": {},
   "source": [
    "Audience skepticism\n",
    "- Different levels of skepticism\n",
    "- Differnt levels of argumentation\n",
    "    - Convince yourself\n",
    "    - Convince a friend\n",
    "    - Convince a skeptic"
   ]
  },
  {
   "cell_type": "markdown",
   "metadata": {},
   "source": [
    "Showing relevant statistics\n",
    "Ratio\n",
    "- Quotient of two variables\n",
    "    - Revenue per customer (total product revenue/number customers)\n",
    "- Normalize values = better comparisons\n",
    "\n",
    "Aggregates\n",
    "- Representative value:\n",
    "    - Totals / counts\n",
    "    - Mean\n",
    "    - Median\n",
    "- Mean can be misleading (outlier)\n",
    "- Distribution of the data\n",
    "\n",
    "p-value\n",
    "- What is p-value?\n",
    "    - Convention:\n",
    "        - Value less than 0.05: statistical significance\n",
    "        - Values close to 0.05: weak indicator\n",
    "\n",
    "- What is it not?\n",
    "- Not proof of evidence:\n",
    "    - Reject our hypothesis, but not that is false\n",
    "- Consider alternatives or complementary metrics"
   ]
  },
  {
   "cell_type": "markdown",
   "metadata": {},
   "source": [
    "Visualizations for different audiences\n",
    "- Pareto principle\n",
    "    - Aggregate less relevant data\n",
    "    - Include chocolate, chips and other products\n",
    "- Approachable and engaging visuals\n",
    "- How many/how quickly\n",
    "- Less is more"
   ]
  },
  {
   "cell_type": "markdown",
   "metadata": {},
   "source": [
    "McCandless method\n",
    "1. Introduction visualization by name\n",
    "    - Graph headline\n",
    "    - Clear and obvious\n",
    "    - y vs x technique\n",
    "2. Anticipate audience's questions\n",
    "    - Focus on story not on decoding graph\n",
    "3. State insights\n",
    "4. Help the audience relate\n",
    "    - Importance\n",
    "    - Action items"
   ]
  },
  {
   "cell_type": "markdown",
   "metadata": {},
   "source": [
    "Choosing the appropriate format\n",
    "- Which format is more effective?\n",
    "    1. Written reports\n",
    "    2. Oral presentations"
   ]
  },
  {
   "cell_type": "markdown",
   "metadata": {},
   "source": [
    "Consumption\n",
    "- Format\n",
    "    - Document\n",
    "    - Slide deck\n",
    "- Delivery mechanism\n",
    "    - Live\n",
    "    - Asynchronous\n",
    "- Audience\n",
    "    - Conference room\n",
    "    - Ballroom"
   ]
  },
  {
   "cell_type": "markdown",
   "metadata": {},
   "source": [
    "Oral communication\n",
    "- Advantages\n",
    "    - Relationship\n",
    "    - Immeduate feedback\n",
    "    - Non-verbal cues\n",
    "- Disadvantages\n",
    "    - No permanent record of communication\n",
    "    - Not suitable for long messages"
   ]
  },
  {
   "cell_type": "markdown",
   "metadata": {},
   "source": [
    "Written communication\n",
    "- Advantages\n",
    "    - Permanent record of communication\n",
    "    - Shared easily with a large audience\n",
    "    - Less emotional reaction to message\n",
    "    - Suitable to chare code with colleagues\n",
    "- Disadvantages\n",
    "    - Hard to see if the message was understood\n",
    "    - No immediate feedback"
   ]
  },
  {
   "cell_type": "markdown",
   "metadata": {},
   "source": [
    "Types of reports\n",
    "How to structure a written report?\n",
    "- Types of reports\n",
    "- Reproducibility\n",
    "- Write precise and clear reports"
   ]
  },
  {
   "cell_type": "markdown",
   "metadata": {},
   "source": [
    "Written reports\n",
    "- Explain data analysis project\n",
    "    - Sentiment analysis on product reviews\n",
    "- Communicate findings\n",
    "    - 30% negative ratings for delayef shipping\n",
    "    - Predict ratings with 90% accurancy\n",
    "- Standards\n",
    "- Give recommendations to drive change"
   ]
  },
  {
   "cell_type": "markdown",
   "metadata": {},
   "source": [
    "Types of reports\n",
    "- Informational\n",
    "    - Factual information\n",
    "    - Short\n",
    "    - Not strict structure\n",
    "    - Inform about facts\n",
    "- Analytical\n",
    "    - Analysis (relationships/recommendations)\n",
    "    - Varies (short or long)\n",
    "    - Strict structure\n",
    "    - Data-driven decisions"
   ]
  },
  {
   "cell_type": "markdown",
   "metadata": {},
   "source": [
    "Final report\n",
    "- Elements\n",
    "    - Data analysis\n",
    "    - Findings and results\n",
    "    - Visuals\n",
    "- Format\n",
    "    - Long\n",
    "- Audience\n",
    "    - Details"
   ]
  },
  {
   "cell_type": "markdown",
   "metadata": {},
   "source": [
    "Summary report\n",
    "- Elements\n",
    "    - Key findings and recommendations\n",
    "    - Visuals\n",
    "- Format\n",
    "    - Short (<5 pages)\n",
    "    - Summary of final report\n",
    "    - Link to main document\n",
    "- Audience\n",
    "    - No need for details"
   ]
  },
  {
   "cell_type": "markdown",
   "metadata": {},
   "source": [
    "Report structure\n",
    "- Introduction\n",
    "    - Purpose\n",
    "        - Analysis of the product reviews gathered from website\n",
    "        - Rating prediction based on review\n",
    "    - Contextual information\n",
    "        - Increase in negative reviews\n",
    "    - Question of analysis\n",
    "        - Factor affecting bad user experience\n",
    "- Body\n",
    "    - Data\n",
    "        - Description and tables\n",
    "    - Methods\n",
    "        - NLP and random forest\n",
    "    - Analysis\n",
    "        - Visuals\n",
    "            - Graphs with most common words\n",
    "    - Results\n",
    "        - Description and visuals\n",
    "            - 30% negative ratings associated with 'delayed' and 'shipping'\n",
    "- Conclusions\n",
    "    - Restate question\n",
    "    - Summarize important results\n",
    "    - Add recommendations"
   ]
  },
  {
   "cell_type": "markdown",
   "metadata": {},
   "source": [
    "Report structure\n",
    "- Business content\n",
    "- 1-3-25\n",
    "    - 1 page of abstract\n",
    "    - ? 3 pages of executive summary\n",
    "    - ? 25 pages of detail"
   ]
  },
  {
   "cell_type": "markdown",
   "metadata": {},
   "source": [
    "Audience\n",
    "- People with little time\n",
    "    - Introduction\n",
    "    - Conclusion\n",
    "    - Scan body\n",
    "- Customer or internal collaborator\n",
    "- Executive team\n",
    "    - Scan introduction and conclusions\n",
    "    - Recommendations\n",
    "- Techincal stakeholder\n",
    "    - Body"
   ]
  },
  {
   "cell_type": "markdown",
   "metadata": {},
   "source": [
    "Reproducibility and references\n",
    "Best practices\n",
    "1. Keep track of how results were produced\n",
    "    - Well document scripts\n",
    "        - Comments in code\n",
    "    - List packages and environment used\n",
    "    - Version control\n",
    "2. Avoid manual data manipulation\n",
    "    - Data versioning\n",
    "    - Store raw data and immediate steps\n",
    "    - Adapt and resolve problems\n",
    "    - Example: data impulation\n",
    "        - impute missing values with the mean\n",
    "        - save and close editor\n",
    "        - how to know which were replaced in the first place?\n",
    "3. Control randomness\n",
    "    - Random seeds for ML pipelines\n",
    "    - Controls confounding variables\n",
    "4. Interpretsbility\n",
    "    - Understand the course of a decision or predict model results\n",
    "    - Story with compelling narrative\n",
    "    - Link with reproducibility\n",
    "5. Cite bibliography correctly\n",
    "\n",
    "References\n",
    "    - Easier to keep track\n",
    "    - Change between styles\n",
    "    - Search for reference online\n",
    "    - Options:\n",
    "        - EndNote\n",
    "        - Mendely\n",
    "        - RefWorks\n",
    "\n",
    "References\n",
    "    - Business content\n",
    "        - Less strict\n",
    "        - Simpler (hyperlink)\n",
    "        - ==> information available and retrievable\n"
   ]
  },
  {
   "cell_type": "markdown",
   "metadata": {},
   "source": [
    "Write precise and clear reports\n",
    "- Concise\n",
    "- Precise\n",
    "- Avoid misleading and confusion\n",
    "- Meaningful message\n",
    "\n",
    "Empty phrases\n",
    "- Contain no information\n",
    "    - It is interesting to note that\n",
    "    - The fact that\n",
    "    - It should be pointed out that\n",
    "    - It is well known that\n",
    "    - It is obvious that\n",
    "- Distracting\n",
    "- ==> should be removed\n",
    "\n",
    "Concrete nouns\n",
    "- Write concrete nouns\n",
    "- Avoid 'this', 'that', 'it'\n",
    "    - Adds cognitive load\n",
    "    - Distracts them from insights\n",
    "\n",
    "More pronouns\n",
    "- Active voice: emphasis on the author\n",
    "- Passive voice: stuffy and hard to read\n",
    "- Acdemic vs business context\n",
    "\n",
    "Redundant adjectives and adverbs\n",
    "- Phrases that say the same thing twice\n",
    "    - Introduce a new\n",
    "    - Done previously\n",
    "- Eliminate redundant adjective and adverbs\n",
    "\n",
    "Run-on sentences\n",
    "- Two or more independent clauses connected incorrectly\n",
    "    - There is a correlation between delayed shipping and customer rating, the shipping delay is the cause for negative review.\n",
    "- Correction\n",
    "    - Make two sentences\n",
    "    - Use dependent clause"
   ]
  },
  {
   "cell_type": "markdown",
   "metadata": {},
   "source": [
    "Case study: report on credit risk\n",
    "- Credit risk: probability of defaulting\n",
    "- Loanme bank wants to predict of a customer is likely to default\n",
    "- Raw data available\n",
    "- Data Exploration Analysis\n",
    "- Model training and evaluation\n",
    "\n",
    "Audience\n",
    "- Non-technical stakeholders\n",
    "- Bank decision-makers"
   ]
  },
  {
   "cell_type": "markdown",
   "metadata": {},
   "source": [
    "Planning an oral presentation\n",
    "Purpose\n",
    "- What type of presentation?\n",
    "    - Informative\n",
    "        - Current number of negative and positive ratings and words associated with negative reviews\n",
    "    - Instructional\n",
    "        - How to build the model for sentiment analysis\n",
    "    - Persuasive\n",
    "        - Follow-up actions to revert the current situation of high number of negative ratings\n",
    "\n",
    "Audience\n",
    "- Who is the audience?\n",
    "    - Technical colleagues\n",
    "    - Managers or executive teams\n",
    "    - Customer\n",
    "- How big is the audience?\n",
    "    - Small meeting\n",
    "        - Meeting with 10 members of the financial team\n",
    "    - Conference or large meeting\n",
    "        - Meeting with 100 employees from the software development department\n",
    "    - Workshop\n",
    "        - Technical workshop for 30 customer's IT employees\n",
    "\n",
    "What is the central message?\n",
    "- After one week: 90% forgotten\n",
    "- ==> What do we want to stick?\n",
    "- Opening statement\n",
    "    - Capture audience's attention\n",
    "        - Negative ratings scare customers away from our website\n",
    "    - One sentence\n",
    "        - Delayed shipping is the main cause of negative reviews and immediate actions are needed to revert the situation.\n",
    "- Closing statement\n",
    "    - Sums up presentation and strengthens central message"
   ]
  },
  {
   "cell_type": "markdown",
   "metadata": {},
   "source": [
    "Text slide\n",
    "- Less text\n",
    "- Headline\n",
    "- Layering approach\n",
    "\n",
    "Visualization slide\n",
    "- Replace many sentences with graph\n",
    "- Use layering and highlighting\n",
    "- Headline (if needed)\n",
    "- One or two full-size graphs"
   ]
  },
  {
   "cell_type": "markdown",
   "metadata": {},
   "source": [
    "Avoiding common errors\n",
    "- Guide audience\n",
    "    - Sequence of information\n",
    "    - Keep audience's attention\n",
    "    - Do not leave all findings to the end\n",
    "- Audience involvement\n",
    "    - Engage and involve audience\n",
    "    - Strong introduction\n",
    "    - State key assumption\n",
    "    - Ask questions\n",
    "    - Reiterate to main idea\n",
    "- Body language\n",
    "    - What matters is the message but the speaker is at the center of the presentation\n",
    "    - Emphasis by natural gesture and movements\n",
    "    - Attracts attention\n",
    "    - Supports message\n",
    "- Voice tonality\n",
    "    - Use different voice tonalities\n",
    "        - Speed\n",
    "            - Fast: urgency, excitement and emotion\n",
    "            - Slow: importance, and new ideas introduction\n",
    "        - Volume\n",
    "            - Live: speak loud\n",
    "            - Online: check mic\n",
    "        - Intonation"
   ]
  }
 ],
 "metadata": {
  "kernelspec": {
   "display_name": "Python 3.11.5 64-bit",
   "language": "python",
   "name": "python3"
  },
  "language_info": {
   "name": "python",
   "version": "3.11.5"
  },
  "orig_nbformat": 4,
  "vscode": {
   "interpreter": {
    "hash": "aee8b7b246df8f9039afb4144a1f6fd8d2ca17a180786b69acc140d282b71a49"
   }
  }
 },
 "nbformat": 4,
 "nbformat_minor": 2
}

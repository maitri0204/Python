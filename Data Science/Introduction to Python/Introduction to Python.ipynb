{
 "cells": [
  {
   "cell_type": "code",
   "execution_count": 1,
   "metadata": {},
   "outputs": [
    {
     "data": {
      "text/plain": [
       "str"
      ]
     },
     "execution_count": 1,
     "metadata": {},
     "output_type": "execute_result"
    }
   ],
   "source": [
    "# String \n",
    "x = \"body mass index\"\n",
    "y = 'this works too'\n",
    "type (y)"
   ]
  },
  {
   "cell_type": "code",
   "execution_count": 2,
   "metadata": {},
   "outputs": [
    {
     "data": {
      "text/plain": [
       "bool"
      ]
     },
     "execution_count": 2,
     "metadata": {},
     "output_type": "execute_result"
    }
   ],
   "source": [
    "# Boolean\n",
    "z = True\n",
    "type(z)"
   ]
  },
  {
   "cell_type": "code",
   "execution_count": 8,
   "metadata": {},
   "outputs": [
    {
     "data": {
      "text/plain": [
       "5"
      ]
     },
     "execution_count": 8,
     "metadata": {},
     "output_type": "execute_result"
    }
   ],
   "source": [
    "# Summation of two num.\n",
    "2 + 3"
   ]
  },
  {
   "cell_type": "code",
   "execution_count": 7,
   "metadata": {},
   "outputs": [
    {
     "data": {
      "text/plain": [
       "'abcd'"
      ]
     },
     "execution_count": 7,
     "metadata": {},
     "output_type": "execute_result"
    }
   ],
   "source": [
    "# Summation of two strings\n",
    "'ab' + 'cd'"
   ]
  },
  {
   "cell_type": "code",
   "execution_count": 9,
   "metadata": {},
   "outputs": [
    {
     "name": "stdout",
     "output_type": "stream",
     "text": [
      "<class 'int'>\n",
      "Hello! How are you?Hello! How are you?\n"
     ]
    }
   ],
   "source": [
    "monthly_savings = 10\n",
    "num_months = 12\n",
    "intro = \"Hello! How are you?\"\n",
    "\n",
    "# Calculate year_savings using monthly_savings and num_months\n",
    "year_savings = monthly_savings * num_months\n",
    "\n",
    "# Print the type of year_savings\n",
    "print(type(year_savings))\n",
    "\n",
    "# Assign sum of intro and intro to doubleintro\n",
    "double_intro = intro + intro\n",
    "\n",
    "# Print out doubleintro\n",
    "print(double_intro)"
   ]
  },
  {
   "cell_type": "code",
   "execution_count": 15,
   "metadata": {},
   "outputs": [
    {
     "name": "stdout",
     "output_type": "stream",
     "text": [
      "[['ABC', 1, 11], ['DEF', 2.22], ['GHI', 3.33]]\n"
     ]
    },
    {
     "data": {
      "text/plain": [
       "list"
      ]
     },
     "execution_count": 15,
     "metadata": {},
     "output_type": "execute_result"
    }
   ],
   "source": [
    "# list\n",
    "fan1 = [['ABC', 1,11],\n",
    "        ['DEF', 2.22],\n",
    "        ['GHI', 3.33]]\n",
    "print(fan1)\n",
    "type(fan1)"
   ]
  },
  {
   "cell_type": "code",
   "execution_count": 16,
   "metadata": {},
   "outputs": [
    {
     "name": "stdout",
     "output_type": "stream",
     "text": [
      "['hallway', 11.25, 'kitchen', 18.0, 'living room', 20.0, 'bedroom', 10.75, 'bathroom', 9.5]\n"
     ]
    }
   ],
   "source": [
    "# area variables (in square meters)\n",
    "hall = 11.25\n",
    "kit = 18.0\n",
    "liv = 20.0\n",
    "bed = 10.75\n",
    "bath = 9.50\n",
    "\n",
    "# Adapt list areas\n",
    "areas = [\"hallway\",hall, \"kitchen\", kit, \"living room\", liv, \"bedroom\", bed, \"bathroom\", bath]\n",
    "\n",
    "# Print areas\n",
    "print(areas)"
   ]
  },
  {
   "cell_type": "code",
   "execution_count": 19,
   "metadata": {},
   "outputs": [
    {
     "name": "stdout",
     "output_type": "stream",
     "text": [
      "['abc', 1.73, 'def', 1.68, 'ghi', 1.71, 'jkl', 1.89]\n",
      "jkl\n",
      "1.89\n",
      "3.62\n",
      "[1.68, 'ghi']\n",
      "['abc', 1.73, 'def', 1.68]\n",
      "[1.68, 'ghi', 1.71, 'jkl', 1.89]\n"
     ]
    }
   ],
   "source": [
    "# Printing the strings from the index\n",
    "fam = ['abc', 1.73, 'def', 1.68, 'ghi', 1.71, 'jkl', 1.89]\n",
    "print(fam)\n",
    "print(fam[6])\n",
    "print(fam[-1])\n",
    "print(fam[1] + fam[-1])\n",
    "print(fam[3:5]) # end index element is not printed\n",
    "print(fam[:4])  # starting index is 0\n",
    "print(fam[3:]) # end index is the last index of the list"
   ]
  },
  {
   "cell_type": "code",
   "execution_count": 25,
   "metadata": {},
   "outputs": [
    {
     "name": "stdout",
     "output_type": "stream",
     "text": [
      "['abc', 1.73, 'def', 1.68, 'ghi', 1.71, 'jkl', 1.86]\n",
      "['abc', 1.73, 'def', 1.68, 'ghi', 1.71, 'jkl', 1.86, 'mno', 1.79]\n",
      "['abc', 1.73, 1.68, 'ghi', 1.71, 'jkl', 1.86]\n",
      "['a', 'z', 'c']\n",
      "['a', 'z', 'c']\n",
      "['a', 'z', 'c']\n",
      "['a', 'b', 'c']\n"
     ]
    }
   ],
   "source": [
    "# Modifying the elements in list\n",
    "fam = ['abc', 1.73, 'def', 1.68, 'ghi', 1.71, 'jkl', 1.89]\n",
    "fam[-1] = 1.86\n",
    "print(fam)\n",
    "\n",
    "# Adding the element in list\n",
    "fam_ext = fam + [\"mno\", 1.79]\n",
    "print(fam_ext)\n",
    "\n",
    "# Deleting the element from the list\n",
    "del(fam[2])\n",
    "print(fam)\n",
    "\n",
    "# List are stored by using the references\n",
    "x = [\"a\", \"b\", \"c\"]\n",
    "y = x\n",
    "y[1] = \"z\"\n",
    "print(y)\n",
    "print(x)\n",
    "\n",
    "# For not affecting the x list\n",
    "x = [\"a\", \"b\", \"c\"]\n",
    "y = x[:] # y = list(x)\n",
    "y[1] = \"z\"\n",
    "print(y)\n",
    "print(x)"
   ]
  },
  {
   "cell_type": "code",
   "execution_count": 4,
   "metadata": {},
   "outputs": [
    {
     "name": "stdout",
     "output_type": "stream",
     "text": [
      "1.89\n",
      "1.7\n",
      "2\n"
     ]
    }
   ],
   "source": [
    "# Functions\n",
    "fam = [1.73, 1.68, 1.71, 1.89]\n",
    "print(max(fam))\n",
    "print(round(1.68, 1))   # round to the 1 decimal place\n",
    "print(round(1.68)) # round to the closet integer"
   ]
  },
  {
   "cell_type": "code",
   "execution_count": 12,
   "metadata": {},
   "outputs": [
    {
     "name": "stdout",
     "output_type": "stream",
     "text": [
      "6\n",
      "2\n",
      "Liz\n",
      "lisa\n",
      "['liz', 1.73, 'emma', 1.68, 'mom', 1.73, 'dad', 1.89, 'me']\n"
     ]
    }
   ],
   "source": [
    "# Functions\n",
    "fam = ['liz', 1.73, 'emma', 1.68, 'mom', 1.73, 'dad', 1.89]\n",
    "print(fam.index(\"dad\"))\n",
    "print(fam.count(1.73))\n",
    "\n",
    "sister = 'liz'\n",
    "print(sister.capitalize())\n",
    "print(sister.replace('z', 'sa'))\n",
    "fam.append('me')\n",
    "print(fam)"
   ]
  },
  {
   "cell_type": "code",
   "execution_count": 9,
   "metadata": {},
   "outputs": [
    {
     "name": "stdout",
     "output_type": "stream",
     "text": [
      "10 elements in fan_ext\n",
      "['liza' '1.73' 'emma' '1.68' 'mom' '1.71' 'dad' '1.89' 'me' '1.79']\n"
     ]
    }
   ],
   "source": [
    "# Importing the packages\n",
    "import numpy as np\n",
    "np.array([1, 2, 3])\n",
    "\n",
    "from numpy import array # Another way \n",
    "array([1, 2, 3])\n",
    "\n",
    "import numpy as np\n",
    "fam = ['liza', 1.73, 'emma', 1.68, 'mom', 1.71, 'dad', 1.89]\n",
    "fam_ext = fam + ['me', 1.79]\n",
    "print(str(len(fam_ext)) + \" elements in fan_ext\")\n",
    "np_fam = np.array(fam_ext)  # Clearly using NumPy\n",
    "print(np_fam)"
   ]
  },
  {
   "cell_type": "code",
   "execution_count": 14,
   "metadata": {},
   "outputs": [
    {
     "name": "stdout",
     "output_type": "stream",
     "text": [
      "[1.73 1.68 1.71 1.89 1.79]\n",
      "[65.4 59.2 63.6 88.4 68.7]\n",
      "[37.80346821 35.23809524 37.19298246 46.77248677 38.37988827]\n",
      "37.19298245614035\n",
      "[False False False  True False]\n",
      "[46.77248677]\n"
     ]
    }
   ],
   "source": [
    "# NumPy\n",
    "import numpy as np\n",
    "height = ([1.73, 1.68, 1.71, 1.89, 1.79])\n",
    "np_height = np.array(height)\n",
    "print(np_height)\n",
    "\n",
    "weight = ([65.4, 59.2, 63.6, 88.4, 68.7])\n",
    "np_weigth = np.array(weight)\n",
    "print(np_weigth)\n",
    "\n",
    "bmi = np_weigth / np_height\n",
    "print(bmi)\n",
    "print(bmi[2])\n",
    "print(bmi > 40)\n",
    "print(bmi[bmi > 40])"
   ]
  },
  {
   "cell_type": "code",
   "execution_count": 26,
   "metadata": {},
   "outputs": [
    {
     "name": "stdout",
     "output_type": "stream",
     "text": [
      "[[ 1.73  1.68  1.71  1.89  1.79]\n",
      " [65.4  59.2  63.6  88.4  68.7 ]]\n",
      "(2, 5)\n",
      "[65.4 59.2 63.6 88.4 68.7]\n",
      "1.68\n",
      "[[ 1.68  1.71]\n",
      " [59.2  63.6 ]]\n",
      "[65.4 59.2 63.6 88.4 68.7]\n",
      "33.565000000000005\n",
      "33.565000000000005\n",
      "[[1. 1.]\n",
      " [1. 1.]]\n",
      "31.835000000000004\n",
      "[2.29 1.68 2.08 ... 1.97 1.83 1.59]\n"
     ]
    }
   ],
   "source": [
    "# 2D NumPy Arrays\n",
    "import numpy as np\n",
    "np_2d = np.array([[1.73, 1.68, 1.71, 1.89, 1.79],\n",
    "[65.4, 59.2, 63.6, 88.4, 68.7]])\n",
    "print(np_2d)\n",
    "print(np_2d.shape)  # (2, 5) 2 rows and 5 columns\n",
    "print(np_2d[1])\n",
    "print(np_2d[0][1])  # (np_2d[0, 1])\n",
    "print(np_2d[:, 1:3])\n",
    "print(np_2d[1, :])\n",
    "\n",
    "print(np.mean(np_2d[:, 0]))  # Mean\n",
    "print(np.median(np_2d[:, 0]))    #Median \n",
    "print(np.corrcoef(np_2d[:, 0], np_2d[:, 1]))   # Correlation\n",
    "print(np.std(np_2d[:, 0]))   # Standard deviation\n",
    "\n",
    "height = np.round(np.random.normal(1.75, 0.20, 5000), 2)\n",
    "print(height)"
   ]
  }
 ],
 "metadata": {
  "kernelspec": {
   "display_name": "Python 3.11.5 64-bit",
   "language": "python",
   "name": "python3"
  },
  "language_info": {
   "codemirror_mode": {
    "name": "ipython",
    "version": 3
   },
   "file_extension": ".py",
   "mimetype": "text/x-python",
   "name": "python",
   "nbconvert_exporter": "python",
   "pygments_lexer": "ipython3",
   "version": "3.11.5"
  },
  "orig_nbformat": 4,
  "vscode": {
   "interpreter": {
    "hash": "aee8b7b246df8f9039afb4144a1f6fd8d2ca17a180786b69acc140d282b71a49"
   }
  }
 },
 "nbformat": 4,
 "nbformat_minor": 2
}

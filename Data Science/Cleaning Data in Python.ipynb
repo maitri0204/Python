{
 "cells": [
  {
   "cell_type": "code",
   "execution_count": null,
   "metadata": {},
   "outputs": [],
   "source": [
    "# Strings to integers\n",
    "# Import CAV file and output header\n",
    "import pandas as pd\n",
    "sales = pd.read_csv('sales.csv')\n",
    "sales.head(2)\n",
    "\n",
    "# Get data types of columns\n",
    "sales.dtypes\n",
    "\n",
    "# Get DataFrame information\n",
    "sales.info()\n",
    "\n",
    "# Print sum of all Revenue column\n",
    "sales['Revenue'].sum()\n",
    "\n",
    "# Remove $ from Revenue column\n",
    "sales['Revenue'] = sales['Revenue'].str.strip('$')\n",
    "sales['Revenue'] = sales['Revenue'].astype('int')\n",
    "\n",
    "# Verify that Revenue is now an integer\n",
    "assert sales['Revenue'].dtype == 'int'\n",
    "# It returns nothing if that condition is met and an error if it is not\n",
    "\n",
    "# Convert to categorical\n",
    "df['marriage_status'] = df['marriage_status'].astype('category')\n",
    "df.describe()"
   ]
  },
  {
   "cell_type": "code",
   "execution_count": null,
   "metadata": {},
   "outputs": [],
   "source": [
    "# Movie example\n",
    "import pandas as pd\n",
    "# Output Movies with rating > 5\n",
    "movies[movies['avg_rating'] > 5]\n",
    "\n",
    "# Drop values using filtering\n",
    "movies = movies[movies['avg_rating'] <= 5]\n",
    "\n",
    "# Drop values using .drop()\n",
    "movies.drop(movies[movies['avg_rating'] > 5].index, inplace=True)\n",
    "\n",
    "# Assert results\n",
    "assert movies['avg_rating'].max() <= 5\n",
    "\n",
    "# Convert avg_rating > 5 to =5\n",
    "movies.loc[movies['avg_rating'] > 5, 'avg_rating'] = 5\n"
   ]
  },
  {
   "cell_type": "code",
   "execution_count": null,
   "metadata": {},
   "outputs": [],
   "source": [
    "# Data range example\n",
    "import datetime as dt\n",
    "import pandas as pd\n",
    "# Output data types\n",
    "user_signups.dtypes\n",
    "\n",
    "# Convert to date\n",
    "user_signups['subcription_date'] = pd.to_datetime(user_signups['subscription_date']).dt.date\n",
    "today_date = dt.date.today()\n",
    "\n",
    "# Drop values using filtering\n",
    "user_signups = user_signups[user_signups['subscription_date'] < today_date]\n",
    "\n",
    "# Drop values using .drop()\n",
    "user_signups.drop(user_signups[user_signups['subscription_date'] > today_date].index, inplace=True)\n",
    "\n",
    "# Hardcode dates with upper limit\n",
    "# Drop values using filtering\n",
    "user_signups.loc[user_signups['subscription_date'] > today_date, 'subscription_date'] = today_date\n",
    "\n",
    "# Assert is true\n",
    "assert user_signups.subscription_date.max().date() <= today_date"
   ]
  },
  {
   "cell_type": "code",
   "execution_count": null,
   "metadata": {},
   "outputs": [],
   "source": [
    "# How to find duplicate values\n",
    "# Get duplicate rows\n",
    "duplicates = height_weight.duplicated()\n",
    "height_weight[duplicates]\n",
    "\n",
    "# Columns names to check for duplication\n",
    "column_names = ['first_name', 'last_name', 'address']\n",
    "duplicates = height_weight.duplicated(subset=column_names, keep=False)\n",
    "# keep - whether to keep first, last or all duplicate values\n",
    "\n",
    "# Drop duplicates\n",
    "height_weight.drop_duplicates(inplace=True)\n"
   ]
  },
  {
   "cell_type": "code",
   "execution_count": null,
   "metadata": {},
   "outputs": [],
   "source": [
    "# Group by column names and produce statistical summaries\n",
    "column_names = ['first_name', 'last_name', 'address']\n",
    "summaries = {'height': 'max', 'weight': 'mean'}\n",
    "height_weight = height_weight.groupby(by=column_names).agg(summaries).reset_index()\n",
    "\n",
    "# Make sure aggregation is done\n",
    "duplicates = height_weight.duplicated(subset = column_names, keep=False)\n",
    "height_weight[duplicates].sort_values(by='first_name')"
   ]
  },
  {
   "cell_type": "code",
   "execution_count": null,
   "metadata": {},
   "outputs": [],
   "source": [
    "# Finding inconsistent categories\n",
    "import pandas as pd\n",
    "study_data = pd.read_csv('study_data.csv')\n",
    "inconsistent_categories = set(study_data['blood_type']).difference(categories['blood_type'])\n",
    "print(inconsistent_categories)\n",
    "\n",
    "# Get and print rows with inconsistent categories\n",
    "inconsistent_rows = study_data['blood_type'].isin(inconsistent_categories)\n",
    "study_data[inconsistent_rows]\n",
    "\n",
    "# Drop inconsistent categories and get consistent data only\n",
    "consistent_data = study_data[~inconsistent_rows]"
   ]
  },
  {
   "cell_type": "code",
   "execution_count": null,
   "metadata": {},
   "outputs": [],
   "source": [
    "# Value consistency\n",
    "# Get marriage status column\n",
    "marriage_status = demographics['marriage_status']\n",
    "marriage_status.value_counts()\n",
    "\n",
    "# Capitalize\n",
    "marriage_status['marriage_status'] = marriage_status['marriage_status'].str.upper()\n",
    "marriage_status['marriage_status'].value_counts()"
   ]
  },
  {
   "cell_type": "code",
   "execution_count": null,
   "metadata": {},
   "outputs": [],
   "source": [
    "# Collapsing data into categories\n",
    "import pandas as pd\n",
    "import numpy as np\n",
    "ranges = [0, 200000, 500000, np.inf]\n",
    "group_names = ['0-200K', '200K-500K', '500K+']\n",
    "demographics['income_group'] = pd.qcut(demographics['household_income'], q=3, labels=group_names)\n",
    "\n",
    "# Print income_group column\n",
    "demographics[['income_group', 'household_income']]"
   ]
  },
  {
   "cell_type": "code",
   "execution_count": null,
   "metadata": {},
   "outputs": [],
   "source": [
    "# Creating mapping dictionary and replace\n",
    "mapping = {'Microsoft':'DesktopOS', 'MacOS':'DesktopOS', 'Linux':'DesktopOS',\n",
    "            'IOS':'MobileOS', 'Android':'MobileOS'}\n",
    "devices['operating_system'] = devices['operating_system'].replace(mapping)\n",
    "devices['operating_system'].unique()"
   ]
  },
  {
   "cell_type": "code",
   "execution_count": null,
   "metadata": {},
   "outputs": [],
   "source": [
    "# Fixing the phone number column\n",
    "# Replace '+' with '00'\n",
    "phones['Phone number'] = phones['Phone number'].str.replace('+', '00')\n",
    "\n",
    "# Replace phone numbers with lower than 10 digits to NaN\n",
    "digits = phones['Phone number'].str.len()\n",
    "phones.loc[digits < 10, 'Phone number'] = np.nan\n",
    "\n",
    "# Assert minimum phone number length is 10\n",
    "assert digits.min() >= 10\n",
    "\n",
    "# Assert all numbers do not have '+' or '-'\n",
    "assert phone['Phone number'].str.contains('+|-').any() == False\n",
    "\n",
    "# Replace letters with nothing\n",
    "phones['Phone number'] = phones['Phone number'].str.replace(r'\\D+', '')\n"
   ]
  },
  {
   "cell_type": "code",
   "execution_count": null,
   "metadata": {},
   "outputs": [],
   "source": [
    "# Treating temperature data\n",
    "temp_fah = temperatures.loc[temperatures['Temperature'] > 40, 'Temperature']\n",
    "temp_cels = (temp_fah - 32) * (5/9)\n",
    "temperatures.loc[temperatures['Temperature'] > 40, 'Temperature'] = temp_cels\n",
    "\n",
    "# Assert conversion is correct\n",
    "assert temperatures['Temperature'].max() < 40"
   ]
  },
  {
   "cell_type": "code",
   "execution_count": null,
   "metadata": {},
   "outputs": [],
   "source": [
    "# Converts to datetime - but won't work!\n",
    "birthdays['Birthday'] = pd.to_datetime(birthdays['Birthday'])\n",
    "\n",
    "# Will work!\n",
    "birthdays['Birthday'] = pd.to_datetime(birthdays['Birthday'],\n",
    "                        # Attemp to infer format of each date\n",
    "                        infer_datetime_format=True,\n",
    "                        # Return NA for rows where conversion failed\n",
    "                        errors='coerce')\n",
    "\n",
    "birthdays['Birthday'] = birthdays['Birthday'].dt.strftime('%d-%m-%Y')"
   ]
  },
  {
   "cell_type": "code",
   "execution_count": null,
   "metadata": {},
   "outputs": [],
   "source": [
    "# Cross field validation\n",
    "sum_classes = flights[['economy_class', 'business_class', 'first_class']].sum(axis=1)\n",
    "passenger_equ = sum_classes == flights['total_passengers']\n",
    "\n",
    "# Find and filter out rows with inconsistent passenger totals\n",
    "inconsistent_pass = flights[~passenger_equ]\n",
    "consistent_pass = flights[passenger_equ]"
   ]
  },
  {
   "cell_type": "code",
   "execution_count": null,
   "metadata": {},
   "outputs": [],
   "source": [
    "# Missingno\n",
    "import missingno as msno\n",
    "import matplotlib.pyplot as plt\n",
    "\n",
    "msno.matrix(airquality)\n",
    "plt.show()"
   ]
  },
  {
   "cell_type": "code",
   "execution_count": 3,
   "metadata": {},
   "outputs": [
    {
     "data": {
      "text/plain": [
       "86"
      ]
     },
     "execution_count": 3,
     "metadata": {},
     "output_type": "execute_result"
    }
   ],
   "source": [
    "# Simple string comparison\n",
    "# Lets us compare between two strings\n",
    "from thefuzz import fuzz\n",
    "\n",
    "# Compare reeding vs reading\n",
    "# fuzz.WRatio: 0-100 --> 0: not similar at all, 100--> same\n",
    "fuzz.WRatio('Reeding', 'Reading')      # 86\n",
    "\n",
    "# Partial string comparison\n",
    "fuzz.WRatio('Houston Rockets', 'Rockets')   # 90\n",
    "\n",
    "# Partial string comparison with different order\n",
    "fuzz.WRatio('Huston Rockets vs Los Angeles Lakers', 'Lakers vs Rockets')\n",
    "# 86\n"
   ]
  },
  {
   "cell_type": "code",
   "execution_count": 7,
   "metadata": {},
   "outputs": [
    {
     "data": {
      "text/plain": [
       "[('Rockets vs Lakers', 86, 0),\n",
       " ('Lakers vs Rockets', 86, 1),\n",
       " ('Houson vs Los Angeles', 86, 2),\n",
       " ('Heat vs Bulls', 86, 3)]"
      ]
     },
     "execution_count": 7,
     "metadata": {},
     "output_type": "execute_result"
    }
   ],
   "source": [
    "# Comparison with arrays\n",
    "from thefuzz import process\n",
    "import pandas as pd\n",
    "\n",
    "string = 'Houston Rockets vs Los Angeles Lakers'\n",
    "choices = pd.Series(['Rockets vs Lakers', 'Lakers vs Rockets',\n",
    "                    'Houson vs Los Angeles', 'Heat vs Bulls'])\n",
    "process.extract(string, choices, limit=2)"
   ]
  },
  {
   "cell_type": "code",
   "execution_count": null,
   "metadata": {},
   "outputs": [],
   "source": [
    "# Collapsing all of the state\n",
    "for state in categories['state']:\n",
    "    matches = process.extract(state, survey['state'], limit=survey.shape[0])\n",
    "    for potential_match in matches:\n",
    "        if potential_match[1] >= 80:\n",
    "            survey.loc[survey['state'] == potential_match[0], 'state'] = state\n",
    "            "
   ]
  },
  {
   "cell_type": "code",
   "execution_count": null,
   "metadata": {},
   "outputs": [],
   "source": [
    "# Generating pairs\n",
    "import recordlinkage\n",
    "indexer = recordlinkage.Index()\n",
    "\n",
    "# Generate pairs blocked on state\n",
    "indexer.block('state')\n",
    "pairs = indexer.index(census_A, census_B)"
   ]
  },
  {
   "cell_type": "code",
   "execution_count": null,
   "metadata": {},
   "outputs": [],
   "source": [
    "# Comparing DataFrames\n",
    "pairs = indexer.index(census_A, census_B)\n",
    "compare_cl = recordlinkage.Compare()\n",
    "\n",
    "# Find exact matches for pairs of date_of_birth and state\n",
    "compare_cl.exact('date_of_birth', 'date_of_birth', label = 'date_of_birth')\n",
    "compare_cl.exact('state', 'state', label = 'state')\n",
    "\n",
    "# Find similar matches for pairs of surname and address_1 using string similarity\n",
    "compare_cl.string('surname', 'surname', threshold=0.85, label='surname')\n",
    "compare_cl.string('address_1', 'address_1', threshold=0.85, label='address_1')\n",
    "\n",
    "# Find matches\n",
    "potential_matches = compare_cl.compute(pairs, census_A, census_B)\n",
    "\n",
    "# Finding the only pairs we want\n",
    "potential_matches[potential_matches.sum(axis = 1) >= 2]\n"
   ]
  },
  {
   "cell_type": "code",
   "execution_count": null,
   "metadata": {},
   "outputs": [],
   "source": [
    "# Linking DataFrames\n",
    "# Finding duplicates in census_B\n",
    "census_B_duplicates = census_B[census_B.index.isin(duplicate_rows)]\n",
    "\n",
    "# Finding new rows in census_B\n",
    "census_B_new = census_B[~census_B.index.isin(duplicate_rows)]\n",
    "\n",
    "# Link the DataFrames!\n",
    "full_census = census_A.append(census_B_new)\n"
   ]
  }
 ],
 "metadata": {
  "kernelspec": {
   "display_name": "Python 3.11.5 64-bit",
   "language": "python",
   "name": "python3"
  },
  "language_info": {
   "codemirror_mode": {
    "name": "ipython",
    "version": 3
   },
   "file_extension": ".py",
   "mimetype": "text/x-python",
   "name": "python",
   "nbconvert_exporter": "python",
   "pygments_lexer": "ipython3",
   "version": "3.11.5"
  },
  "orig_nbformat": 4,
  "vscode": {
   "interpreter": {
    "hash": "aee8b7b246df8f9039afb4144a1f6fd8d2ca17a180786b69acc140d282b71a49"
   }
  }
 },
 "nbformat": 4,
 "nbformat_minor": 2
}

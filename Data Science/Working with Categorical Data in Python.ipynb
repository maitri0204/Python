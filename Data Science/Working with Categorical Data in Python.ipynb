{
 "cells": [
  {
   "cell_type": "markdown",
   "metadata": {},
   "source": [
    "Categorical\n",
    "- Finite number of groups\n",
    "- These categories are usually fixed or known\n",
    "- Known as qualitative data\n",
    "\n",
    "    Ordinal\n",
    "    ° Categorical variables that have a natural order\n",
    "\n",
    "    Nominal\n",
    "    ° Categorical variables that cannot be placed into a natural order\n",
    "\n",
    "Numerical\n",
    "- Known as quantitative data\n",
    "- Expressed using a numerical value\n",
    "- Is usually a measurement \n"
   ]
  },
  {
   "cell_type": "code",
   "execution_count": null,
   "metadata": {},
   "outputs": [],
   "source": [
    "# course introduction\n",
    "adult.info()\n",
    "adult['Marital Status'].describe()\n",
    "adult['Marital Status'].value_counts(normalize=True)\n"
   ]
  },
  {
   "cell_type": "code",
   "execution_count": null,
   "metadata": {},
   "outputs": [],
   "source": [
    "# Categorical data in pandas\n",
    "import pandas as pd\n",
    "adult = pd.read_csv('data/adult.csv')\n",
    "adult.dtypes\n",
    "\n",
    "# set dtype as categorical\n",
    "adult['Marital Status'] = adult['Marital Status'].astype('category')\n"
   ]
  },
  {
   "cell_type": "code",
   "execution_count": 3,
   "metadata": {},
   "outputs": [
    {
     "name": "stdout",
     "output_type": "stream",
     "text": [
      "0    A\n",
      "1    A\n",
      "2    C\n",
      "3    B\n",
      "4    C\n",
      "5    A\n",
      "dtype: category\n",
      "Categories (3, object): ['A', 'B', 'C']\n",
      "['A', 'A', 'C', 'B', 'C', 'A']\n",
      "Categories (3, object): ['C' < 'B' < 'A']\n"
     ]
    }
   ],
   "source": [
    "# creating a categorical Series\n",
    "import pandas as pd\n",
    "my_data = ['A', 'A', 'C', 'B', 'C', 'A']\n",
    "my_series1 = pd.Series(my_data, dtype='category')\n",
    "print(my_series1)\n",
    "\n",
    "my_series2 = pd.Categorical(my_data, categories=['C', 'B', 'A'], ordered=True)\n",
    "print(my_series2)"
   ]
  },
  {
   "cell_type": "code",
   "execution_count": null,
   "metadata": {},
   "outputs": [],
   "source": [
    "# Why do we use categorical: memory\n",
    "adult = pd.read_csv('data/adult.csv')\n",
    "adult['Marital Status'].nbytes\n",
    "adult['Marital Status'] = adult['Marital Status'].astype('category')\n",
    "adult['Marital Status'].nbytes"
   ]
  },
  {
   "cell_type": "code",
   "execution_count": null,
   "metadata": {},
   "outputs": [],
   "source": [
    "# Grouping data by category in pandas\n",
    "adult = pd.read_csv('data/adult.csv')\n",
    "adult1 = adult[adult['Above/Below 50k'] == ' <=50K']\n",
    "adult2 = adult[adult['Above/Below 50k'] == ' >50K']\n",
    "\n",
    "# replaced by\n",
    "groupby_object = adult.groupby(by=['Above/Below 50k'])\n",
    "\n",
    "# specifying columns\n",
    "adult.groupby(by=['Above/Below 50k'])['Age', 'Education Num'].sum()\n",
    "adult.groupby(by=['Above/Below 50k']).sum()['Age', 'Education Num']\n",
    "\n",
    "# Groupby multiple columns\n",
    "adult.groupby(by=['Above/Below 50k', 'Martial Status']).size()\n"
   ]
  },
  {
   "cell_type": "code",
   "execution_count": null,
   "metadata": {},
   "outputs": [],
   "source": [
    "# setting category variables\n",
    "# a dog's coat\n",
    "dogs['coat'] = dogs['coat'].astype('category')\n",
    "dogs['coat'].value_counts(dropna=False)\n",
    "\n",
    "# set category\n",
    "dogs['coat']=dogs['coat'].cat.set_categories(new_categories=['short', 'medium', 'long'], ordered=True)\n",
    "\n",
    "# add category\n",
    "dogs['likes_people']=dogs['likes_people'].astype('category')\n",
    "dogs['likes_people']=dogs['likes_people'].cat.add_categories(new_categories=['did not check', 'could not tell'])\n",
    "\n",
    "# check category\n",
    "dogs['likes_people'].cat.categories\n",
    "\n",
    "# remove category\n",
    "dogs['coat']=dogs['coat'].astype('category')\n",
    "dogs['coat']=dogs['coat'].cat.remove_categories(removals=['wirehaired'])\n",
    "dogs['coat'].cat.categories\n"
   ]
  }
 ],
 "metadata": {
  "kernelspec": {
   "display_name": "Python 3.11.5 64-bit",
   "language": "python",
   "name": "python3"
  },
  "language_info": {
   "codemirror_mode": {
    "name": "ipython",
    "version": 3
   },
   "file_extension": ".py",
   "mimetype": "text/x-python",
   "name": "python",
   "nbconvert_exporter": "python",
   "pygments_lexer": "ipython3",
   "version": "3.11.5"
  },
  "orig_nbformat": 4,
  "vscode": {
   "interpreter": {
    "hash": "aee8b7b246df8f9039afb4144a1f6fd8d2ca17a180786b69acc140d282b71a49"
   }
  }
 },
 "nbformat": 4,
 "nbformat_minor": 2
}

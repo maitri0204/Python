{
 "cells": [
  {
   "cell_type": "markdown",
   "metadata": {},
   "source": [
    "Categorical\n",
    "- Finite number of groups\n",
    "- These categories are usually fixed or known\n",
    "- Known as qualitative data\n",
    "\n",
    "    Ordinal\n",
    "    ° Categorical variables that have a natural order\n",
    "\n",
    "    Nominal\n",
    "    ° Categorical variables that cannot be placed into a natural order\n",
    "\n",
    "Numerical\n",
    "- Known as quantitative data\n",
    "- Expressed using a numerical value\n",
    "- Is usually a measurement \n"
   ]
  },
  {
   "cell_type": "code",
   "execution_count": null,
   "metadata": {},
   "outputs": [],
   "source": [
    "# course introduction\n",
    "adult.info()\n",
    "adult['Marital Status'].describe()\n",
    "adult['Marital Status'].value_counts(normalize=True)\n"
   ]
  },
  {
   "cell_type": "code",
   "execution_count": null,
   "metadata": {},
   "outputs": [],
   "source": [
    "# Categorical data in pandas\n",
    "import pandas as pd\n",
    "adult = pd.read_csv('data/adult.csv')\n",
    "adult.dtypes\n",
    "\n",
    "# set dtype as categorical\n",
    "adult['Marital Status'] = adult['Marital Status'].astype('category')\n"
   ]
  },
  {
   "cell_type": "code",
   "execution_count": 3,
   "metadata": {},
   "outputs": [
    {
     "name": "stdout",
     "output_type": "stream",
     "text": [
      "0    A\n",
      "1    A\n",
      "2    C\n",
      "3    B\n",
      "4    C\n",
      "5    A\n",
      "dtype: category\n",
      "Categories (3, object): ['A', 'B', 'C']\n",
      "['A', 'A', 'C', 'B', 'C', 'A']\n",
      "Categories (3, object): ['C' < 'B' < 'A']\n"
     ]
    }
   ],
   "source": [
    "# creating a categorical Series\n",
    "import pandas as pd\n",
    "my_data = ['A', 'A', 'C', 'B', 'C', 'A']\n",
    "my_series1 = pd.Series(my_data, dtype='category')\n",
    "print(my_series1)\n",
    "\n",
    "my_series2 = pd.Categorical(my_data, categories=['C', 'B', 'A'], ordered=True)\n",
    "print(my_series2)"
   ]
  },
  {
   "cell_type": "code",
   "execution_count": null,
   "metadata": {},
   "outputs": [],
   "source": [
    "# Why do we use categorical: memory\n",
    "adult = pd.read_csv('data/adult.csv')\n",
    "adult['Marital Status'].nbytes\n",
    "adult['Marital Status'] = adult['Marital Status'].astype('category')\n",
    "adult['Marital Status'].nbytes"
   ]
  },
  {
   "cell_type": "code",
   "execution_count": null,
   "metadata": {},
   "outputs": [],
   "source": [
    "# Grouping data by category in pandas\n",
    "adult = pd.read_csv('data/adult.csv')\n",
    "adult1 = adult[adult['Above/Below 50k'] == ' <=50K']\n",
    "adult2 = adult[adult['Above/Below 50k'] == ' >50K']\n",
    "\n",
    "# replaced by\n",
    "groupby_object = adult.groupby(by=['Above/Below 50k'])\n",
    "\n",
    "# specifying columns\n",
    "adult.groupby(by=['Above/Below 50k'])['Age', 'Education Num'].sum()\n",
    "adult.groupby(by=['Above/Below 50k']).sum()['Age', 'Education Num']\n",
    "\n",
    "# Groupby multiple columns\n",
    "adult.groupby(by=['Above/Below 50k', 'Martial Status']).size()\n"
   ]
  },
  {
   "cell_type": "code",
   "execution_count": null,
   "metadata": {},
   "outputs": [],
   "source": [
    "# setting category variables\n",
    "# a dog's coat\n",
    "dogs['coat'] = dogs['coat'].astype('category')\n",
    "dogs['coat'].value_counts(dropna=False)\n",
    "\n",
    "# set category\n",
    "dogs['coat']=dogs['coat'].cat.set_categories(new_categories=['short', 'medium', 'long'], ordered=True)\n",
    "\n",
    "# add category\n",
    "dogs['likes_people']=dogs['likes_people'].astype('category')\n",
    "dogs['likes_people']=dogs['likes_people'].cat.add_categories(new_categories=['did not check', 'could not tell'])\n",
    "\n",
    "# check category\n",
    "dogs['likes_people'].cat.categories\n",
    "\n",
    "# remove category\n",
    "dogs['coat']=dogs['coat'].astype('category')\n",
    "dogs['coat']=dogs['coat'].cat.remove_categories(removals=['wirehaired'])\n",
    "dogs['coat'].cat.categories\n"
   ]
  },
  {
   "cell_type": "markdown",
   "metadata": {},
   "source": [
    "Rename_categories method:\n",
    "- Series.cat.rename_categories(new_categories=dict)\n",
    "ex:\n",
    "dogs['breed'] = dogs['breed'].cat.rename_categories(my_changes)"
   ]
  },
  {
   "cell_type": "code",
   "execution_count": null,
   "metadata": {},
   "outputs": [],
   "source": [
    "# Updating categories\n",
    "my_changes = {'Unknown Mix':'Unknown'}"
   ]
  },
  {
   "cell_type": "code",
   "execution_count": null,
   "metadata": {},
   "outputs": [],
   "source": [
    "# renaming categories with a function\n",
    "dogs['sex'] = dogs['sex'].cat.rename_categories(lambda c:c.title())\n",
    "dogs['sex'].cat.categories"
   ]
  },
  {
   "cell_type": "code",
   "execution_count": null,
   "metadata": {},
   "outputs": [],
   "source": [
    "update_colors = {\n",
    "    'black and brown':'black',\n",
    "    'black and tan': 'black',\n",
    "    'black and white': 'black'\n",
    "}\n",
    "dogs['main_color'] = dogs['color'].replace(update_colors)\n"
   ]
  },
  {
   "cell_type": "code",
   "execution_count": null,
   "metadata": {},
   "outputs": [],
   "source": [
    "# reordering categories\n",
    "dogs['coat'] = dogs['coat'].cat.reorder_categories(\n",
    "    new_categories = ['short', 'medium', 'wirehand', 'long'],\n",
    "    ordered=True\n",
    ")\n",
    "\n",
    "# using inplace\n",
    "dogs['coat'].cat.reorder_categories(\n",
    "    new_categories = ['short', 'medium', 'wirehand', 'long'],\n",
    "    ordered=True,\n",
    "    inplace=True\n",
    ")"
   ]
  },
  {
   "cell_type": "markdown",
   "metadata": {},
   "source": [
    "Cleaning and accessing data\n",
    "- Identifying issues\n",
    "    - Series.cat.categories \n",
    "    - Series.value_counts()"
   ]
  },
  {
   "cell_type": "code",
   "execution_count": null,
   "metadata": {},
   "outputs": [],
   "source": [
    "# cleaning and accessing data\n",
    "dogs['get_along_cats'].value_counts()\n",
    "\n",
    "# fixing issues: whitespace\n",
    "dogs['get_along_cats'] = dogs['get_along_cats'].str.strip()\n",
    "\n",
    "# capitalization issues\n",
    "dogs['get_along_cats'] = dogs['get_along_cats'].str.title()\n",
    "\n",
    "# misspelled words\n",
    "replace_map = {'Noo': 'No'}\n",
    "dogs['get_along_cats'].replace(replace_map, inplace=True)\n"
   ]
  },
  {
   "cell_type": "code",
   "execution_count": null,
   "metadata": {},
   "outputs": [],
   "source": [
    "# Searching for a string\n",
    "dogs['breed'].str.contains('Shepherd', regrex=False)\n",
    "\n",
    "# access series values based on category\n",
    "dogs.loc[dogs['get_along_cats'] == 'Yes', 'size'].value_counts(sort=False)"
   ]
  },
  {
   "cell_type": "code",
   "execution_count": null,
   "metadata": {},
   "outputs": [],
   "source": [
    "# introduction to categorical plots using seaborn\n",
    "import seaborn as sns\n",
    "import matplotlib.pyplot as plt\n",
    "\n",
    "sns.catplot(x='Pool', y='Score', data=reviews, kind='box')\n",
    "plt.show()\n",
    "\n",
    "# Setting font size and plot background\n",
    "sns.set(font_scale=1.4)\n",
    "sns.set_style('whitegrid')\n"
   ]
  },
  {
   "cell_type": "code",
   "execution_count": null,
   "metadata": {},
   "outputs": [],
   "source": [
    "# seaborn bar chart\n",
    "sns.catplot(x='Traveler type', y='Score', data=reviews, kind='bar')\n",
    "plt.show()\n"
   ]
  },
  {
   "cell_type": "code",
   "execution_count": null,
   "metadata": {},
   "outputs": [],
   "source": [
    "# Point and count plot\n",
    "# join=False - lines are not connected\n",
    "sns.catplot(x='Pool', y='Score', data=reviews, kind='point', dodge=True, join=False)\n",
    "plt.show()"
   ]
  },
  {
   "cell_type": "markdown",
   "metadata": {},
   "source": [
    "- col: tells seaborn to create a catplot of each category in user continent.\n",
    "- col_wrap: 3 -> makes the visualizations go to the next line  or wrap itself after every 3rd graphic. \n",
    "- Common colors: 'Set', 'Set2', 'Tab10', 'Paired'\n",
    "\n",
    "Updating plots\n",
    "- Plot title: ax.fig.suptitle(\"My title\")\n",
    "- Axis label: ax.set_axis_labels(\"x-axis-label\", \"y-axis-label\")\n",
    "- Title height: plt.subplots_adjust(top=.9)"
   ]
  },
  {
   "cell_type": "code",
   "execution_count": null,
   "metadata": {},
   "outputs": [],
   "source": [
    "# additional catplot() options\n",
    "sns.catplot(x='Traveler type', kind='count', col='User continent', col_wrap=3,\n",
    "palette=sns.color_palette('Set1'), data=reviews)\n",
    "ax.fig.suptitle('Hotel Score by Traveler Type & User Continent')\n",
    "ax.set_axis_labels('Traveler Type', 'Number of Reviews')\n",
    "plt.subplots_adjust(top=.9)\n",
    "plt.show()"
   ]
  },
  {
   "cell_type": "code",
   "execution_count": null,
   "metadata": {},
   "outputs": [],
   "source": [
    "# Categorical pitfalls\n",
    "# Using NumPy arrays\n",
    "used_cars['number_of_photos'] = used_cars['number_of_photos'].astype('category')\n",
    "used_cars['number_of_photos'].sum() # <--- Gives an error\n",
    "used_cars['number_of_photos'].astype(int).sum()\n",
    "\n",
    "# .str converts the column to an array\n",
    "used_cars['color'].str.contains('red')\n"
   ]
  },
  {
   "cell_type": "markdown",
   "metadata": {},
   "source": [
    "Label encoding\n",
    "- A technique that codes categorical values as integers.\n",
    "- Code start at 0 and end at n-1, where n is the number of categories.\n",
    "- (-1) code is used for any missing values.\n"
   ]
  },
  {
   "cell_type": "code",
   "execution_count": null,
   "metadata": {},
   "outputs": [],
   "source": [
    "# Label encoding\n",
    "# creating a code book\n",
    "codes=used_Cars['manufacturer_name'].cat.codes\n",
    "categories=used_cars['manufacturer_name']\n",
    "\n",
    "name_map = dict(zip(codes, categories))\n",
    "print(name_map)\n",
    "\n",
    "# reverting to previous values:\n",
    "used_cars['manufacturer_code'].map(name_map)"
   ]
  },
  {
   "cell_type": "code",
   "execution_count": null,
   "metadata": {},
   "outputs": [],
   "source": [
    "# Boolean coding\n",
    "used_cars['van_code'] = np.where(\n",
    "    used_cars['body_type'].str.contains('van', regrex=False), 1, 0)\n",
    "used_cars['van_code'].value_counts()\n"
   ]
  },
  {
   "cell_type": "code",
   "execution_count": null,
   "metadata": {},
   "outputs": [],
   "source": [
    "# one-hot encoding\n",
    "used_cars_onehot = pd.get_dummies(used_cars[['odometer_value', 'color']])\n",
    "used_cars_onehot.head()\n",
    "\n",
    "# Specifying columns to use\n",
    "used_cars_onehot = pd.get_dummies(used_cars, columns=['color'], prefix=\"\")\n",
    "used_cars_onehot.head()"
   ]
  }
 ],
 "metadata": {
  "kernelspec": {
   "display_name": "Python 3.11.5 64-bit",
   "language": "python",
   "name": "python3"
  },
  "language_info": {
   "codemirror_mode": {
    "name": "ipython",
    "version": 3
   },
   "file_extension": ".py",
   "mimetype": "text/x-python",
   "name": "python",
   "nbconvert_exporter": "python",
   "pygments_lexer": "ipython3",
   "version": "3.11.5"
  },
  "orig_nbformat": 4,
  "vscode": {
   "interpreter": {
    "hash": "aee8b7b246df8f9039afb4144a1f6fd8d2ca17a180786b69acc140d282b71a49"
   }
  }
 },
 "nbformat": 4,
 "nbformat_minor": 2
}

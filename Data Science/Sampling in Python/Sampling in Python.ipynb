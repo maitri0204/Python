{
 "cells": [
  {
   "cell_type": "code",
   "execution_count": 1,
   "metadata": {},
   "outputs": [
    {
     "name": "stdout",
     "output_type": "stream",
     "text": [
      "   total_cup_points  species                     owner country_of_origin   \n",
      "0             90.58  Arabica                 metad plc          Ethiopia  \\\n",
      "1             89.92  Arabica                 metad plc          Ethiopia   \n",
      "2             89.75  Arabica  grounds for health admin         Guatemala   \n",
      "3             89.00  Arabica       yidnekachew dabessa          Ethiopia   \n",
      "4             88.83  Arabica                 metad plc          Ethiopia   \n",
      "\n",
      "                                  farm_name lot_number       mill ico_number   \n",
      "0                                 metad plc       None  metad plc  2014/2015  \\\n",
      "1                                 metad plc       None  metad plc  2014/2015   \n",
      "2  san marcos barrancas \"san cristobal cuch       None       None       None   \n",
      "3     yidnekachew dabessa coffee plantation       None    wolensu       None   \n",
      "4                                 metad plc       None  metad plc  2014/2015   \n",
      "\n",
      "                                 company       altitude  ...  color   \n",
      "0      metad agricultural developmet plc      1950-2200  ...  Green  \\\n",
      "1      metad agricultural developmet plc      1950-2200  ...  Green   \n",
      "2                                   None  1600 - 1800 m  ...   None   \n",
      "3  yidnekachew debessa coffee plantation      1800-2200  ...  Green   \n",
      "4      metad agricultural developmet plc      1950-2200  ...  Green   \n",
      "\n",
      "  category_two_defects        expiration                  certification_body   \n",
      "0                  0.0   April 3rd, 2016  METAD Agricultural Development plc  \\\n",
      "1                  1.0   April 3rd, 2016  METAD Agricultural Development plc   \n",
      "2                  0.0    May 31st, 2011        Specialty Coffee Association   \n",
      "3                  2.0  March 25th, 2016  METAD Agricultural Development plc   \n",
      "4                  2.0   April 3rd, 2016  METAD Agricultural Development plc   \n",
      "\n",
      "                      certification_address   \n",
      "0  309fcf77415a3661ae83e027f7e5f05dad786e44  \\\n",
      "1  309fcf77415a3661ae83e027f7e5f05dad786e44   \n",
      "2  36d0d00a3724338ba7937c52a378d085f2172daa   \n",
      "3  309fcf77415a3661ae83e027f7e5f05dad786e44   \n",
      "4  309fcf77415a3661ae83e027f7e5f05dad786e44   \n",
      "\n",
      "                      certification_contact unit_of_measurement   \n",
      "0  19fef5a731de2db57d16da10287413f5f99bc2dd                   m  \\\n",
      "1  19fef5a731de2db57d16da10287413f5f99bc2dd                   m   \n",
      "2  0878a7d4b9d35ddbf0fe2ce69a2062cceb45a660                   m   \n",
      "3  19fef5a731de2db57d16da10287413f5f99bc2dd                   m   \n",
      "4  19fef5a731de2db57d16da10287413f5f99bc2dd                   m   \n",
      "\n",
      "  altitude_low_meters altitude_high_meters altitude_mean_meters  \n",
      "0              1950.0               2200.0               2075.0  \n",
      "1              1950.0               2200.0               2075.0  \n",
      "2              1600.0               1800.0               1700.0  \n",
      "3              1800.0               2200.0               2000.0  \n",
      "4              1950.0               2200.0               2075.0  \n",
      "\n",
      "[5 rows x 43 columns]\n"
     ]
    }
   ],
   "source": [
    "import pandas as pd\n",
    "coffee_ratings = pd.read_feather('coffee_ratings_full.feather')\n",
    "print(coffee_ratings.head())\n"
   ]
  },
  {
   "cell_type": "code",
   "execution_count": 2,
   "metadata": {},
   "outputs": [
    {
     "data": {
      "text/plain": [
       "152     84.58\n",
       "844     81.83\n",
       "97      85.00\n",
       "527     83.00\n",
       "205     84.25\n",
       "1181    79.33\n",
       "554     82.92\n",
       "1081    80.42\n",
       "108     84.92\n",
       "0       90.58\n",
       "Name: total_cup_points, dtype: float64"
      ]
     },
     "execution_count": 2,
     "metadata": {},
     "output_type": "execute_result"
    }
   ],
   "source": [
    "# Point vs. flavor: population\n",
    "pts_vs_flavor_pop = coffee_ratings[['total_cup_points', 'flavor']]\n",
    "pts_vs_flavor_pop\n",
    "\n",
    "# 10 row sample(return 10 random rows)\n",
    "pts_vs_flavor_samp = pts_vs_flavor_pop.sample(n=10)\n",
    "pts_vs_flavor_samp\n",
    "\n",
    "# Python sampling for Series\n",
    "cup_points_samp = coffee_ratings['total_cup_points'].sample(n=10)\n",
    "cup_points_samp"
   ]
  },
  {
   "cell_type": "code",
   "execution_count": 3,
   "metadata": {},
   "outputs": [
    {
     "data": {
      "text/plain": [
       "7.651000000000001"
      ]
     },
     "execution_count": 3,
     "metadata": {},
     "output_type": "execute_result"
    }
   ],
   "source": [
    "# Population parameters & point estimates\n",
    "import numpy as np\n",
    "np.mean(pts_vs_flavor_pop['total_cup_points'])\n",
    "np.mean(cup_points_samp)\n",
    "\n",
    "# Point estimates with pandas\n",
    "pts_vs_flavor_pop['flavor'].mean()\n",
    "pts_vs_flavor_samp['flavor'].mean()"
   ]
  },
  {
   "cell_type": "code",
   "execution_count": 4,
   "metadata": {},
   "outputs": [
    {
     "data": {
      "text/plain": [
       "89.1"
      ]
     },
     "execution_count": 4,
     "metadata": {},
     "output_type": "execute_result"
    }
   ],
   "source": [
    "# Convenience sampling coffee ratings\n",
    "coffee_ratings['total_cup_points'].mean()\n",
    "coffee_ratings_first10 = coffee_ratings.head(10)\n",
    "coffee_ratings_first10['total_cup_points'].mean()"
   ]
  },
  {
   "cell_type": "code",
   "execution_count": 5,
   "metadata": {},
   "outputs": [
    {
     "data": {
      "image/png": "[encoded data removed]",
      "text/plain": [
       "<Figure size 640x480 with 1 Axes>"
      ]
     },
     "metadata": {},
     "output_type": "display_data"
    }
   ],
   "source": [
    "# Visualizing selection bias\n",
    "import matplotlib.pyplot as plt\n",
    "import numpy as np\n",
    "coffee_ratings['total_cup_points'].hist(bins=np.arange(59, 93, 2))\n",
    "plt.show()"
   ]
  },
  {
   "cell_type": "code",
   "execution_count": 32,
   "metadata": {},
   "outputs": [
    {
     "data": {
      "image/png": "[encoded data removed]",
      "text/plain": [
       "<Figure size 640x480 with 1 Axes>"
      ]
     },
     "metadata": {},
     "output_type": "display_data"
    }
   ],
   "source": [
    "# Visualizing selection bias for a random sample\n",
    "coffee_sample = coffee_ratings.sample(n=10)\n",
    "coffee_sample['total_cup_points'].hist(bins=np.arange(59, 93, 2))\n",
    "plt.show()"
   ]
  },
  {
   "cell_type": "code",
   "execution_count": 28,
   "metadata": {},
   "outputs": [
    {
     "ename": "NameError",
     "evalue": "name 'calc_next_random' is not defined",
     "output_type": "error",
     "traceback": [
      "\u001b[0;31m---------------------------------------------------------------------------\u001b[0m",
      "\u001b[0;31mNameError\u001b[0m                                 Traceback (most recent call last)",
      "Cell \u001b[0;32mIn[28], line 3\u001b[0m\n\u001b[1;32m      1\u001b[0m \u001b[38;5;66;03m# Pseudo-random number generation example\u001b[39;00m\n\u001b[1;32m      2\u001b[0m seed \u001b[38;5;241m=\u001b[39m \u001b[38;5;241m1\u001b[39m\n\u001b[0;32m----> 3\u001b[0m \u001b[43mcalc_next_random\u001b[49m(seed)\n\u001b[1;32m      4\u001b[0m calc_next_random(\u001b[38;5;241m3\u001b[39m)\n\u001b[1;32m      5\u001b[0m calc_next_random(\u001b[38;5;241m2\u001b[39m)\n",
      "\u001b[0;31mNameError\u001b[0m: name 'calc_next_random' is not defined"
     ]
    }
   ],
   "source": [
    "# Pseudo-random number generation example\n",
    "seed = 1\n",
    "calc_next_random(seed)\n",
    "calc_next_random(3)\n",
    "calc_next_random(2)"
   ]
  },
  {
   "cell_type": "code",
   "execution_count": 6,
   "metadata": {},
   "outputs": [
    {
     "data": {
      "image/png": "[encoded data removed]",
      "text/plain": [
       "<Figure size 640x480 with 1 Axes>"
      ]
     },
     "metadata": {},
     "output_type": "display_data"
    }
   ],
   "source": [
    "# Visualizing random numbers\n",
    "randoms = np.random.beta(a=2, b=2, size=5000)\n",
    "randoms\n",
    "plt.hist(randoms, bins=np.arange(0, 1, 0.05))\n",
    "plt.show()"
   ]
  },
  {
   "cell_type": "markdown",
   "metadata": {},
   "source": [
    "- loc = mean\n",
    "- scale = standard deviation\n",
    "- size = number of random numbers from distribution will be returned"
   ]
  },
  {
   "cell_type": "code",
   "execution_count": 7,
   "metadata": {},
   "outputs": [
    {
     "data": {
      "text/plain": [
       "array([-0.59030264,  1.87821258])"
      ]
     },
     "execution_count": 7,
     "metadata": {},
     "output_type": "execute_result"
    }
   ],
   "source": [
    "# Random number seeds\n",
    "np.random.seed(20000229)\n",
    "np.random.normal(loc=2, scale=1.5, size=2)"
   ]
  },
  {
   "cell_type": "code",
   "execution_count": 8,
   "metadata": {},
   "outputs": [
    {
     "name": "stdout",
     "output_type": "stream",
     "text": [
      "1338\n",
      "267\n"
     ]
    },
    {
     "data": {
      "image/png": "[encoded data removed]",
      "text/plain": [
       "<Figure size 640x480 with 1 Axes>"
      ]
     },
     "metadata": {},
     "output_type": "display_data"
    }
   ],
   "source": [
    "import matplotlib.pyplot as plt\n",
    "# Systematic sampling- defining the interval\n",
    "sample_size = 5\n",
    "pop_size = len(coffee_ratings)\n",
    "print(pop_size)\n",
    "\n",
    "interval = pop_size // sample_size\n",
    "print(interval)\n",
    "\n",
    "coffee_ratings.iloc[::interval]\n",
    "\n",
    "# trouble with systematic sampling\n",
    "coffee_ratings_with_id = coffee_ratings.reset_index()\n",
    "coffee_ratings_with_id.plot(x='index', y='aftertaste', kind='scatter')\n",
    "plt.show()"
   ]
  },
  {
   "cell_type": "code",
   "execution_count": 9,
   "metadata": {},
   "outputs": [
    {
     "data": {
      "image/png": "[encoded data removed]",
      "text/plain": [
       "<Figure size 640x480 with 1 Axes>"
      ]
     },
     "metadata": {},
     "output_type": "display_data"
    }
   ],
   "source": [
    "# making systematic sampling safe\n",
    "shuffled = coffee_ratings.sample(frac=1)\n",
    "shuffled = shuffled.reset_index(drop=True).reset_index()\n",
    "shuffled.plot(x='index', y='aftertaste', kind='scatter')\n",
    "plt.show()"
   ]
  },
  {
   "cell_type": "code",
   "execution_count": 10,
   "metadata": {},
   "outputs": [
    {
     "data": {
      "text/plain": [
       "country_of_origin\n",
       "Mexico                          236\n",
       "Colombia                        183\n",
       "Guatemala                       181\n",
       "Brazil                          132\n",
       "Taiwan                           75\n",
       "United States (Hawaii)           73\n",
       "Honduras                         52\n",
       "Costa Rica                       51\n",
       "Ethiopia                         44\n",
       "Tanzania, United Republic Of     40\n",
       "Name: count, dtype: int64"
      ]
     },
     "execution_count": 10,
     "metadata": {},
     "output_type": "execute_result"
    }
   ],
   "source": [
    "top_counts = coffee_ratings['country_of_origin'].value_counts()\n",
    "top_counts.head(10)\n"
   ]
  },
  {
   "cell_type": "code",
   "execution_count": 11,
   "metadata": {},
   "outputs": [
    {
     "data": {
      "text/html": [
       "<div>\n",
       "<style scoped>\n",
       "    .dataframe tbody tr th:only-of-type {\n",
       "        vertical-align: middle;\n",
       "    }\n",
       "\n",
       "    .dataframe tbody tr th {\n",
       "        vertical-align: top;\n",
       "    }\n",
       "\n",
       "    .dataframe thead th {\n",
       "        text-align: right;\n",
       "    }\n",
       "</style>\n",
       "<table border=\"1\" class=\"dataframe\">\n",
       "  <thead>\n",
       "    <tr style=\"text-align: right;\">\n",
       "      <th></th>\n",
       "      <th>total_cup_points</th>\n",
       "      <th>species</th>\n",
       "      <th>owner</th>\n",
       "      <th>country_of_origin</th>\n",
       "      <th>farm_name</th>\n",
       "      <th>lot_number</th>\n",
       "      <th>mill</th>\n",
       "      <th>ico_number</th>\n",
       "      <th>company</th>\n",
       "      <th>altitude</th>\n",
       "      <th>...</th>\n",
       "      <th>color</th>\n",
       "      <th>category_two_defects</th>\n",
       "      <th>expiration</th>\n",
       "      <th>certification_body</th>\n",
       "      <th>certification_address</th>\n",
       "      <th>certification_contact</th>\n",
       "      <th>unit_of_measurement</th>\n",
       "      <th>altitude_low_meters</th>\n",
       "      <th>altitude_high_meters</th>\n",
       "      <th>altitude_mean_meters</th>\n",
       "    </tr>\n",
       "  </thead>\n",
       "  <tbody>\n",
       "    <tr>\n",
       "      <th>2</th>\n",
       "      <td>89.75</td>\n",
       "      <td>Arabica</td>\n",
       "      <td>grounds for health admin</td>\n",
       "      <td>Guatemala</td>\n",
       "      <td>san marcos barrancas \"san cristobal cuch</td>\n",
       "      <td>None</td>\n",
       "      <td>None</td>\n",
       "      <td>None</td>\n",
       "      <td>None</td>\n",
       "      <td>1600 - 1800 m</td>\n",
       "      <td>...</td>\n",
       "      <td>None</td>\n",
       "      <td>0.0</td>\n",
       "      <td>May 31st, 2011</td>\n",
       "      <td>Specialty Coffee Association</td>\n",
       "      <td>36d0d00a3724338ba7937c52a378d085f2172daa</td>\n",
       "      <td>0878a7d4b9d35ddbf0fe2ce69a2062cceb45a660</td>\n",
       "      <td>m</td>\n",
       "      <td>1600.00</td>\n",
       "      <td>1800.00</td>\n",
       "      <td>1700.00</td>\n",
       "    </tr>\n",
       "    <tr>\n",
       "      <th>5</th>\n",
       "      <td>88.83</td>\n",
       "      <td>Arabica</td>\n",
       "      <td>ji-ae ahn</td>\n",
       "      <td>Brazil</td>\n",
       "      <td>None</td>\n",
       "      <td>None</td>\n",
       "      <td>None</td>\n",
       "      <td>None</td>\n",
       "      <td>None</td>\n",
       "      <td>None</td>\n",
       "      <td>...</td>\n",
       "      <td>Bluish-Green</td>\n",
       "      <td>1.0</td>\n",
       "      <td>September 3rd, 2014</td>\n",
       "      <td>Specialty Coffee Institute of Asia</td>\n",
       "      <td>726e4891cf2c9a4848768bd34b668124d12c4224</td>\n",
       "      <td>b70da261fcc84831e3e9620c30a8701540abc200</td>\n",
       "      <td>m</td>\n",
       "      <td>NaN</td>\n",
       "      <td>NaN</td>\n",
       "      <td>NaN</td>\n",
       "    </tr>\n",
       "    <tr>\n",
       "      <th>13</th>\n",
       "      <td>87.92</td>\n",
       "      <td>Arabica</td>\n",
       "      <td>grounds for health admin</td>\n",
       "      <td>United States (Hawaii)</td>\n",
       "      <td>arianna farms</td>\n",
       "      <td>None</td>\n",
       "      <td>None</td>\n",
       "      <td>None</td>\n",
       "      <td>None</td>\n",
       "      <td>2000 ft</td>\n",
       "      <td>...</td>\n",
       "      <td>None</td>\n",
       "      <td>2.0</td>\n",
       "      <td>May 31st, 2011</td>\n",
       "      <td>Specialty Coffee Association</td>\n",
       "      <td>36d0d00a3724338ba7937c52a378d085f2172daa</td>\n",
       "      <td>0878a7d4b9d35ddbf0fe2ce69a2062cceb45a660</td>\n",
       "      <td>ft</td>\n",
       "      <td>609.60</td>\n",
       "      <td>609.60</td>\n",
       "      <td>609.60</td>\n",
       "    </tr>\n",
       "    <tr>\n",
       "      <th>22</th>\n",
       "      <td>87.17</td>\n",
       "      <td>Arabica</td>\n",
       "      <td>roberto licona franco</td>\n",
       "      <td>Mexico</td>\n",
       "      <td>la herradura</td>\n",
       "      <td>None</td>\n",
       "      <td>la herradura</td>\n",
       "      <td>0</td>\n",
       "      <td>None</td>\n",
       "      <td>1320</td>\n",
       "      <td>...</td>\n",
       "      <td>Green</td>\n",
       "      <td>0.0</td>\n",
       "      <td>July 26th, 2013</td>\n",
       "      <td>AMECAFE</td>\n",
       "      <td>59e396ad6e22a1c22b248f958e1da2bd8af85272</td>\n",
       "      <td>0eb4ee5b3f47b20b049548a2fd1e7d4a2b70d0a7</td>\n",
       "      <td>m</td>\n",
       "      <td>1320.00</td>\n",
       "      <td>1320.00</td>\n",
       "      <td>1320.00</td>\n",
       "    </tr>\n",
       "    <tr>\n",
       "      <th>25</th>\n",
       "      <td>86.92</td>\n",
       "      <td>Arabica</td>\n",
       "      <td>nucoffee</td>\n",
       "      <td>Brazil</td>\n",
       "      <td>fazenda kaquend</td>\n",
       "      <td>None</td>\n",
       "      <td>None</td>\n",
       "      <td>002/1251/0073</td>\n",
       "      <td>nucoffee</td>\n",
       "      <td>1250m</td>\n",
       "      <td>...</td>\n",
       "      <td>Green</td>\n",
       "      <td>2.0</td>\n",
       "      <td>December 2nd, 2012</td>\n",
       "      <td>NUCOFFEE</td>\n",
       "      <td>567f200bcc17a90070cb952647bf88141ad9c80c</td>\n",
       "      <td>aa2ff513ffb9c844462a1fb07c599bce7f3bb53d</td>\n",
       "      <td>m</td>\n",
       "      <td>1250.00</td>\n",
       "      <td>1250.00</td>\n",
       "      <td>1250.00</td>\n",
       "    </tr>\n",
       "    <tr>\n",
       "      <th>...</th>\n",
       "      <td>...</td>\n",
       "      <td>...</td>\n",
       "      <td>...</td>\n",
       "      <td>...</td>\n",
       "      <td>...</td>\n",
       "      <td>...</td>\n",
       "      <td>...</td>\n",
       "      <td>...</td>\n",
       "      <td>...</td>\n",
       "      <td>...</td>\n",
       "      <td>...</td>\n",
       "      <td>...</td>\n",
       "      <td>...</td>\n",
       "      <td>...</td>\n",
       "      <td>...</td>\n",
       "      <td>...</td>\n",
       "      <td>...</td>\n",
       "      <td>...</td>\n",
       "      <td>...</td>\n",
       "      <td>...</td>\n",
       "      <td>...</td>\n",
       "    </tr>\n",
       "    <tr>\n",
       "      <th>1300</th>\n",
       "      <td>71.00</td>\n",
       "      <td>Arabica</td>\n",
       "      <td>ricardo aaron sampieri marini</td>\n",
       "      <td>Mexico</td>\n",
       "      <td>la morena</td>\n",
       "      <td>None</td>\n",
       "      <td>tlamatoca, hutusco, ver.</td>\n",
       "      <td>1104351023</td>\n",
       "      <td>None</td>\n",
       "      <td>1800</td>\n",
       "      <td>...</td>\n",
       "      <td>Green</td>\n",
       "      <td>0.0</td>\n",
       "      <td>July 11th, 2013</td>\n",
       "      <td>AMECAFE</td>\n",
       "      <td>59e396ad6e22a1c22b248f958e1da2bd8af85272</td>\n",
       "      <td>0eb4ee5b3f47b20b049548a2fd1e7d4a2b70d0a7</td>\n",
       "      <td>m</td>\n",
       "      <td>1800.00</td>\n",
       "      <td>1800.00</td>\n",
       "      <td>1800.00</td>\n",
       "    </tr>\n",
       "    <tr>\n",
       "      <th>1301</th>\n",
       "      <td>70.75</td>\n",
       "      <td>Arabica</td>\n",
       "      <td>kurt kappeli</td>\n",
       "      <td>Mexico</td>\n",
       "      <td>various</td>\n",
       "      <td>None</td>\n",
       "      <td>f.i.e.c.h.</td>\n",
       "      <td>0016-2847-0001</td>\n",
       "      <td>globus coffee</td>\n",
       "      <td>1000 meters</td>\n",
       "      <td>...</td>\n",
       "      <td>Green</td>\n",
       "      <td>1.0</td>\n",
       "      <td>May 5th, 2015</td>\n",
       "      <td>Specialty Coffee Association</td>\n",
       "      <td>36d0d00a3724338ba7937c52a378d085f2172daa</td>\n",
       "      <td>0878a7d4b9d35ddbf0fe2ce69a2062cceb45a660</td>\n",
       "      <td>m</td>\n",
       "      <td>1000.00</td>\n",
       "      <td>1000.00</td>\n",
       "      <td>1000.00</td>\n",
       "    </tr>\n",
       "    <tr>\n",
       "      <th>1302</th>\n",
       "      <td>70.67</td>\n",
       "      <td>Arabica</td>\n",
       "      <td>volcafe ltda. - brasil</td>\n",
       "      <td>Brazil</td>\n",
       "      <td>None</td>\n",
       "      <td>2017/2018 - Lot 2</td>\n",
       "      <td>copag</td>\n",
       "      <td>None</td>\n",
       "      <td>volcafe ltda.</td>\n",
       "      <td>None</td>\n",
       "      <td>...</td>\n",
       "      <td>Green</td>\n",
       "      <td>55.0</td>\n",
       "      <td>October 27th, 2018</td>\n",
       "      <td>Brazil Specialty Coffee Association</td>\n",
       "      <td>3297cfa4c538e3dd03f72cc4082c54f7999e1f9d</td>\n",
       "      <td>8900f0bf1d0b2bafe6807a73562c7677d57eb980</td>\n",
       "      <td>m</td>\n",
       "      <td>NaN</td>\n",
       "      <td>NaN</td>\n",
       "      <td>NaN</td>\n",
       "    </tr>\n",
       "    <tr>\n",
       "      <th>1306</th>\n",
       "      <td>68.33</td>\n",
       "      <td>Arabica</td>\n",
       "      <td>juan carlos garcia lopez</td>\n",
       "      <td>Mexico</td>\n",
       "      <td>el centenario</td>\n",
       "      <td>None</td>\n",
       "      <td>la esperanza, municipio juchique de ferrer, ve...</td>\n",
       "      <td>1104328663</td>\n",
       "      <td>terra mia</td>\n",
       "      <td>900</td>\n",
       "      <td>...</td>\n",
       "      <td>None</td>\n",
       "      <td>20.0</td>\n",
       "      <td>September 17th, 2013</td>\n",
       "      <td>AMECAFE</td>\n",
       "      <td>59e396ad6e22a1c22b248f958e1da2bd8af85272</td>\n",
       "      <td>0eb4ee5b3f47b20b049548a2fd1e7d4a2b70d0a7</td>\n",
       "      <td>m</td>\n",
       "      <td>900.00</td>\n",
       "      <td>900.00</td>\n",
       "      <td>900.00</td>\n",
       "    </tr>\n",
       "    <tr>\n",
       "      <th>1309</th>\n",
       "      <td>59.83</td>\n",
       "      <td>Arabica</td>\n",
       "      <td>juan luis alvarado romero</td>\n",
       "      <td>Guatemala</td>\n",
       "      <td>finca el limon</td>\n",
       "      <td>None</td>\n",
       "      <td>beneficio serben</td>\n",
       "      <td>11/853/165</td>\n",
       "      <td>unicafe</td>\n",
       "      <td>4650</td>\n",
       "      <td>...</td>\n",
       "      <td>Green</td>\n",
       "      <td>4.0</td>\n",
       "      <td>May 24th, 2013</td>\n",
       "      <td>Asociacion Nacional Del Café</td>\n",
       "      <td>b1f20fe3a819fd6b2ee0eb8fdc3da256604f1e53</td>\n",
       "      <td>724f04ad10ed31dbb9d260f0dfd221ba48be8a95</td>\n",
       "      <td>ft</td>\n",
       "      <td>1417.32</td>\n",
       "      <td>1417.32</td>\n",
       "      <td>1417.32</td>\n",
       "    </tr>\n",
       "  </tbody>\n",
       "</table>\n",
       "<p>880 rows × 43 columns</p>\n",
       "</div>"
      ],
      "text/plain": [
       "      total_cup_points  species                          owner   \n",
       "2                89.75  Arabica       grounds for health admin  \\\n",
       "5                88.83  Arabica                      ji-ae ahn   \n",
       "13               87.92  Arabica       grounds for health admin   \n",
       "22               87.17  Arabica          roberto licona franco   \n",
       "25               86.92  Arabica                       nucoffee   \n",
       "...                ...      ...                            ...   \n",
       "1300             71.00  Arabica  ricardo aaron sampieri marini   \n",
       "1301             70.75  Arabica                   kurt kappeli   \n",
       "1302             70.67  Arabica         volcafe ltda. - brasil   \n",
       "1306             68.33  Arabica       juan carlos garcia lopez   \n",
       "1309             59.83  Arabica      juan luis alvarado romero   \n",
       "\n",
       "           country_of_origin                                 farm_name   \n",
       "2                  Guatemala  san marcos barrancas \"san cristobal cuch  \\\n",
       "5                     Brazil                                      None   \n",
       "13    United States (Hawaii)                             arianna farms   \n",
       "22                    Mexico                              la herradura   \n",
       "25                    Brazil                           fazenda kaquend   \n",
       "...                      ...                                       ...   \n",
       "1300                  Mexico                                 la morena   \n",
       "1301                  Mexico                                   various   \n",
       "1302                  Brazil                                      None   \n",
       "1306                  Mexico                             el centenario   \n",
       "1309               Guatemala                            finca el limon   \n",
       "\n",
       "             lot_number                                               mill   \n",
       "2                  None                                               None  \\\n",
       "5                  None                                               None   \n",
       "13                 None                                               None   \n",
       "22                 None                                       la herradura   \n",
       "25                 None                                               None   \n",
       "...                 ...                                                ...   \n",
       "1300               None                           tlamatoca, hutusco, ver.   \n",
       "1301               None                                         f.i.e.c.h.   \n",
       "1302  2017/2018 - Lot 2                                              copag   \n",
       "1306               None  la esperanza, municipio juchique de ferrer, ve...   \n",
       "1309               None                                   beneficio serben   \n",
       "\n",
       "          ico_number        company       altitude  ...         color   \n",
       "2               None           None  1600 - 1800 m  ...          None  \\\n",
       "5               None           None           None  ...  Bluish-Green   \n",
       "13              None           None        2000 ft  ...          None   \n",
       "22                 0           None           1320  ...         Green   \n",
       "25     002/1251/0073       nucoffee          1250m  ...         Green   \n",
       "...              ...            ...            ...  ...           ...   \n",
       "1300      1104351023           None           1800  ...         Green   \n",
       "1301  0016-2847-0001  globus coffee    1000 meters  ...         Green   \n",
       "1302            None  volcafe ltda.           None  ...         Green   \n",
       "1306      1104328663      terra mia            900  ...          None   \n",
       "1309      11/853/165        unicafe           4650  ...         Green   \n",
       "\n",
       "     category_two_defects            expiration   \n",
       "2                     0.0        May 31st, 2011  \\\n",
       "5                     1.0   September 3rd, 2014   \n",
       "13                    2.0        May 31st, 2011   \n",
       "22                    0.0       July 26th, 2013   \n",
       "25                    2.0    December 2nd, 2012   \n",
       "...                   ...                   ...   \n",
       "1300                  0.0       July 11th, 2013   \n",
       "1301                  1.0         May 5th, 2015   \n",
       "1302                 55.0    October 27th, 2018   \n",
       "1306                 20.0  September 17th, 2013   \n",
       "1309                  4.0        May 24th, 2013   \n",
       "\n",
       "                       certification_body   \n",
       "2            Specialty Coffee Association  \\\n",
       "5      Specialty Coffee Institute of Asia   \n",
       "13           Specialty Coffee Association   \n",
       "22                                AMECAFE   \n",
       "25                               NUCOFFEE   \n",
       "...                                   ...   \n",
       "1300                              AMECAFE   \n",
       "1301         Specialty Coffee Association   \n",
       "1302  Brazil Specialty Coffee Association   \n",
       "1306                              AMECAFE   \n",
       "1309         Asociacion Nacional Del Café   \n",
       "\n",
       "                         certification_address   \n",
       "2     36d0d00a3724338ba7937c52a378d085f2172daa  \\\n",
       "5     726e4891cf2c9a4848768bd34b668124d12c4224   \n",
       "13    36d0d00a3724338ba7937c52a378d085f2172daa   \n",
       "22    59e396ad6e22a1c22b248f958e1da2bd8af85272   \n",
       "25    567f200bcc17a90070cb952647bf88141ad9c80c   \n",
       "...                                        ...   \n",
       "1300  59e396ad6e22a1c22b248f958e1da2bd8af85272   \n",
       "1301  36d0d00a3724338ba7937c52a378d085f2172daa   \n",
       "1302  3297cfa4c538e3dd03f72cc4082c54f7999e1f9d   \n",
       "1306  59e396ad6e22a1c22b248f958e1da2bd8af85272   \n",
       "1309  b1f20fe3a819fd6b2ee0eb8fdc3da256604f1e53   \n",
       "\n",
       "                         certification_contact unit_of_measurement   \n",
       "2     0878a7d4b9d35ddbf0fe2ce69a2062cceb45a660                   m  \\\n",
       "5     b70da261fcc84831e3e9620c30a8701540abc200                   m   \n",
       "13    0878a7d4b9d35ddbf0fe2ce69a2062cceb45a660                  ft   \n",
       "22    0eb4ee5b3f47b20b049548a2fd1e7d4a2b70d0a7                   m   \n",
       "25    aa2ff513ffb9c844462a1fb07c599bce7f3bb53d                   m   \n",
       "...                                        ...                 ...   \n",
       "1300  0eb4ee5b3f47b20b049548a2fd1e7d4a2b70d0a7                   m   \n",
       "1301  0878a7d4b9d35ddbf0fe2ce69a2062cceb45a660                   m   \n",
       "1302  8900f0bf1d0b2bafe6807a73562c7677d57eb980                   m   \n",
       "1306  0eb4ee5b3f47b20b049548a2fd1e7d4a2b70d0a7                   m   \n",
       "1309  724f04ad10ed31dbb9d260f0dfd221ba48be8a95                  ft   \n",
       "\n",
       "     altitude_low_meters altitude_high_meters altitude_mean_meters  \n",
       "2                1600.00              1800.00              1700.00  \n",
       "5                    NaN                  NaN                  NaN  \n",
       "13                609.60               609.60               609.60  \n",
       "22               1320.00              1320.00              1320.00  \n",
       "25               1250.00              1250.00              1250.00  \n",
       "...                  ...                  ...                  ...  \n",
       "1300             1800.00              1800.00              1800.00  \n",
       "1301             1000.00              1000.00              1000.00  \n",
       "1302                 NaN                  NaN                  NaN  \n",
       "1306              900.00               900.00               900.00  \n",
       "1309             1417.32              1417.32              1417.32  \n",
       "\n",
       "[880 rows x 43 columns]"
      ]
     },
     "execution_count": 11,
     "metadata": {},
     "output_type": "execute_result"
    }
   ],
   "source": [
    "# Filtering for 6 countries\n",
    "top_counted_countries = ['Mexico', 'Colombia', 'Guatemala', 'Brazil', 'Taiwan', 'United States (Hawaii)']\n",
    "top_counted_subset = coffee_ratings['country_of_origin'].isin(top_counted_countries)\n",
    "coffee_ratings_top = coffee_ratings[top_counted_subset]\n",
    "coffee_ratings_top"
   ]
  },
  {
   "cell_type": "code",
   "execution_count": 12,
   "metadata": {},
   "outputs": [
    {
     "data": {
      "text/plain": [
       "country_of_origin\n",
       "Mexico                    0.250000\n",
       "Guatemala                 0.204545\n",
       "Colombia                  0.181818\n",
       "Brazil                    0.181818\n",
       "United States (Hawaii)    0.102273\n",
       "Taiwan                    0.079545\n",
       "Name: proportion, dtype: float64"
      ]
     },
     "execution_count": 12,
     "metadata": {},
     "output_type": "execute_result"
    }
   ],
   "source": [
    "# Counts of a simple random sample\n",
    "coffee_ratings_samp = coffee_ratings_top.sample(frac=0.1, random_state=2021)\n",
    "coffee_ratings_samp['country_of_origin'].value_counts(normalize=True)"
   ]
  },
  {
   "cell_type": "code",
   "execution_count": 13,
   "metadata": {},
   "outputs": [
    {
     "data": {
      "text/plain": [
       "country_of_origin\n",
       "Brazil                    0.166667\n",
       "Colombia                  0.166667\n",
       "Guatemala                 0.166667\n",
       "Mexico                    0.166667\n",
       "Taiwan                    0.166667\n",
       "United States (Hawaii)    0.166667\n",
       "Name: proportion, dtype: float64"
      ]
     },
     "execution_count": 13,
     "metadata": {},
     "output_type": "execute_result"
    }
   ],
   "source": [
    "# Proportional stratified sampling\n",
    "coffee_ratings_strat = coffee_ratings_top.groupby('country_of_origin').sample(frac=0.1, random_state=2021)\n",
    "coffee_ratings_strat['country_of_origin'].value_counts(normalize=True)\n",
    "\n",
    "# Equal counts stratified sampling\n",
    "coffee_ratings_eq = coffee_ratings_top.groupby('country_of_origin').sample(n=15, random_state=2021)\n",
    "coffee_ratings_eq['country_of_origin'].value_counts(normalize=True)"
   ]
  },
  {
   "cell_type": "code",
   "execution_count": 14,
   "metadata": {},
   "outputs": [
    {
     "name": "stderr",
     "output_type": "stream",
     "text": [
      "/var/folders/_s/qghdfmbj0zn2l50mb9k17y8c0000gn/T/ipykernel_2546/2892716517.py:5: SettingWithCopyWarning: \n",
      "A value is trying to be set on a copy of a slice from a DataFrame.\n",
      "Try using .loc[row_indexer,col_indexer] = value instead\n",
      "\n",
      "See the caveats in the documentation: https://pandas.pydata.org/pandas-docs/stable/user_guide/indexing.html#returning-a-view-versus-a-copy\n",
      "  coffee_ratings_weight['weight'] = np.where(condition, 2, 1)\n"
     ]
    },
    {
     "data": {
      "text/plain": [
       "country_of_origin\n",
       "Mexico                    0.250000\n",
       "United States (Hawaii)    0.204545\n",
       "Colombia                  0.193182\n",
       "Guatemala                 0.159091\n",
       "Taiwan                    0.102273\n",
       "Brazil                    0.090909\n",
       "Name: proportion, dtype: float64"
      ]
     },
     "execution_count": 14,
     "metadata": {},
     "output_type": "execute_result"
    }
   ],
   "source": [
    "# Weighted random sampling\n",
    "import numpy as np\n",
    "coffee_ratings_weight = coffee_ratings_top\n",
    "condition = coffee_ratings_weight['country_of_origin'] == 'Taiwan'\n",
    "coffee_ratings_weight['weight'] = np.where(condition, 2, 1)\n",
    "coffee_ratings_weight = coffee_ratings_weight.sample(frac=0.1, weights='weight')\n",
    "coffee_ratings_weight['country_of_origin'].value_counts(normalize=True)"
   ]
  },
  {
   "cell_type": "code",
   "execution_count": 15,
   "metadata": {},
   "outputs": [
    {
     "data": {
      "text/plain": [
       "[None,\n",
       " 'Other',\n",
       " 'Bourbon',\n",
       " 'Catimor',\n",
       " 'Ethiopian Yirgacheffe',\n",
       " 'Caturra',\n",
       " 'SL14',\n",
       " 'Sumatra',\n",
       " 'SL34',\n",
       " 'Hawaiian Kona',\n",
       " 'Yellow Bourbon',\n",
       " 'SL28',\n",
       " 'Gesha',\n",
       " 'Catuai',\n",
       " 'Pacamara',\n",
       " 'Typica',\n",
       " 'Sumatra Lintong',\n",
       " 'Mundo Novo',\n",
       " 'Java',\n",
       " 'Peaberry',\n",
       " 'Pacas',\n",
       " 'Mandheling',\n",
       " 'Ruiru 11',\n",
       " 'Arusha',\n",
       " 'Ethiopian Heirlooms',\n",
       " 'Moka Peaberry',\n",
       " 'Sulawesi',\n",
       " 'Blue Mountain',\n",
       " 'Marigojipe',\n",
       " 'Pache Comun']"
      ]
     },
     "execution_count": 15,
     "metadata": {},
     "output_type": "execute_result"
    }
   ],
   "source": [
    "# Cluster sampling\n",
    "varieties_pop = list(coffee_ratings['variety'].unique())\n",
    "varieties_pop"
   ]
  },
  {
   "cell_type": "code",
   "execution_count": null,
   "metadata": {},
   "outputs": [
    {
     "ename": "AttributeError",
     "evalue": "Can only use .cat accessor with a 'category' dtype",
     "output_type": "error",
     "traceback": [
      "\u001b[0;31m---------------------------------------------------------------------------\u001b[0m",
      "\u001b[0;31mAttributeError\u001b[0m                            Traceback (most recent call last)",
      "Cell \u001b[0;32mIn[21], line 7\u001b[0m\n\u001b[1;32m      4\u001b[0m variety_condition \u001b[38;5;241m=\u001b[39m coffee_ratings[\u001b[38;5;124m'\u001b[39m\u001b[38;5;124mvariety\u001b[39m\u001b[38;5;124m'\u001b[39m]\u001b[38;5;241m.\u001b[39misin(varieties_samp)\n\u001b[1;32m      5\u001b[0m coffee_ratings_cluster \u001b[38;5;241m=\u001b[39m coffee_ratings[variety_condition]\n\u001b[0;32m----> 7\u001b[0m coffee_ratings_cluster[\u001b[38;5;124m'\u001b[39m\u001b[38;5;124mvariety\u001b[39m\u001b[38;5;124m'\u001b[39m] \u001b[38;5;241m=\u001b[39m \u001b[43mcoffee_ratings_cluster\u001b[49m\u001b[43m[\u001b[49m\u001b[38;5;124;43m'\u001b[39;49m\u001b[38;5;124;43mvariety\u001b[39;49m\u001b[38;5;124;43m'\u001b[39;49m\u001b[43m]\u001b[49m\u001b[38;5;241;43m.\u001b[39;49m\u001b[43mcat\u001b[49m\u001b[38;5;241m.\u001b[39mremove_unused_categories()\n\u001b[1;32m      8\u001b[0m coffee_ratings_cluster\u001b[38;5;241m.\u001b[39mgroupby(\u001b[38;5;124m'\u001b[39m\u001b[38;5;124mvariety\u001b[39m\u001b[38;5;124m'\u001b[39m)\u001b[38;5;241m.\u001b[39msample(n\u001b[38;5;241m=\u001b[39m\u001b[38;5;241m5\u001b[39m, random_state\u001b[38;5;241m=\u001b[39m\u001b[38;5;241m2021\u001b[39m)\n",
      "File \u001b[0;32m/Library/Frameworks/Python.framework/Versions/3.11/lib/python3.11/site-packages/pandas/core/generic.py:5989\u001b[0m, in \u001b[0;36mNDFrame.__getattr__\u001b[0;34m(self, name)\u001b[0m\n\u001b[1;32m   5982\u001b[0m \u001b[39mif\u001b[39;00m (\n\u001b[1;32m   5983\u001b[0m     name \u001b[39mnot\u001b[39;00m \u001b[39min\u001b[39;00m \u001b[39mself\u001b[39m\u001b[39m.\u001b[39m_internal_names_set\n\u001b[1;32m   5984\u001b[0m     \u001b[39mand\u001b[39;00m name \u001b[39mnot\u001b[39;00m \u001b[39min\u001b[39;00m \u001b[39mself\u001b[39m\u001b[39m.\u001b[39m_metadata\n\u001b[1;32m   5985\u001b[0m     \u001b[39mand\u001b[39;00m name \u001b[39mnot\u001b[39;00m \u001b[39min\u001b[39;00m \u001b[39mself\u001b[39m\u001b[39m.\u001b[39m_accessors\n\u001b[1;32m   5986\u001b[0m     \u001b[39mand\u001b[39;00m \u001b[39mself\u001b[39m\u001b[39m.\u001b[39m_info_axis\u001b[39m.\u001b[39m_can_hold_identifiers_and_holds_name(name)\n\u001b[1;32m   5987\u001b[0m ):\n\u001b[1;32m   5988\u001b[0m     \u001b[39mreturn\u001b[39;00m \u001b[39mself\u001b[39m[name]\n\u001b[0;32m-> 5989\u001b[0m \u001b[39mreturn\u001b[39;00m \u001b[39mobject\u001b[39;49m\u001b[39m.\u001b[39;49m\u001b[39m__getattribute__\u001b[39;49m(\u001b[39mself\u001b[39;49m, name)\n",
      "File \u001b[0;32m/Library/Frameworks/Python.framework/Versions/3.11/lib/python3.11/site-packages/pandas/core/accessor.py:224\u001b[0m, in \u001b[0;36mCachedAccessor.__get__\u001b[0;34m(self, obj, cls)\u001b[0m\n\u001b[1;32m    221\u001b[0m \u001b[39mif\u001b[39;00m obj \u001b[39mis\u001b[39;00m \u001b[39mNone\u001b[39;00m:\n\u001b[1;32m    222\u001b[0m     \u001b[39m# we're accessing the attribute of the class, i.e., Dataset.geo\u001b[39;00m\n\u001b[1;32m    223\u001b[0m     \u001b[39mreturn\u001b[39;00m \u001b[39mself\u001b[39m\u001b[39m.\u001b[39m_accessor\n\u001b[0;32m--> 224\u001b[0m accessor_obj \u001b[39m=\u001b[39m \u001b[39mself\u001b[39;49m\u001b[39m.\u001b[39;49m_accessor(obj)\n\u001b[1;32m    225\u001b[0m \u001b[39m# Replace the property with the accessor object. Inspired by:\u001b[39;00m\n\u001b[1;32m    226\u001b[0m \u001b[39m# https://www.pydanny.com/cached-property.html\u001b[39;00m\n\u001b[1;32m    227\u001b[0m \u001b[39m# We need to use object.__setattr__ because we overwrite __setattr__ on\u001b[39;00m\n\u001b[1;32m    228\u001b[0m \u001b[39m# NDFrame\u001b[39;00m\n\u001b[1;32m    229\u001b[0m \u001b[39mobject\u001b[39m\u001b[39m.\u001b[39m\u001b[39m__setattr__\u001b[39m(obj, \u001b[39mself\u001b[39m\u001b[39m.\u001b[39m_name, accessor_obj)\n",
      "File \u001b[0;32m/Library/Frameworks/Python.framework/Versions/3.11/lib/python3.11/site-packages/pandas/core/arrays/categorical.py:2445\u001b[0m, in \u001b[0;36mCategoricalAccessor.__init__\u001b[0;34m(self, data)\u001b[0m\n\u001b[1;32m   2444\u001b[0m \u001b[39mdef\u001b[39;00m \u001b[39m__init__\u001b[39m(\u001b[39mself\u001b[39m, data) \u001b[39m-\u001b[39m\u001b[39m>\u001b[39m \u001b[39mNone\u001b[39;00m:\n\u001b[0;32m-> 2445\u001b[0m     \u001b[39mself\u001b[39;49m\u001b[39m.\u001b[39;49m_validate(data)\n\u001b[1;32m   2446\u001b[0m     \u001b[39mself\u001b[39m\u001b[39m.\u001b[39m_parent \u001b[39m=\u001b[39m data\u001b[39m.\u001b[39mvalues\n\u001b[1;32m   2447\u001b[0m     \u001b[39mself\u001b[39m\u001b[39m.\u001b[39m_index \u001b[39m=\u001b[39m data\u001b[39m.\u001b[39mindex\n",
      "File \u001b[0;32m/Library/Frameworks/Python.framework/Versions/3.11/lib/python3.11/site-packages/pandas/core/arrays/categorical.py:2454\u001b[0m, in \u001b[0;36mCategoricalAccessor._validate\u001b[0;34m(data)\u001b[0m\n\u001b[1;32m   2451\u001b[0m \u001b[39m@staticmethod\u001b[39m\n\u001b[1;32m   2452\u001b[0m \u001b[39mdef\u001b[39;00m \u001b[39m_validate\u001b[39m(data):\n\u001b[1;32m   2453\u001b[0m     \u001b[39mif\u001b[39;00m \u001b[39mnot\u001b[39;00m is_categorical_dtype(data\u001b[39m.\u001b[39mdtype):\n\u001b[0;32m-> 2454\u001b[0m         \u001b[39mraise\u001b[39;00m \u001b[39mAttributeError\u001b[39;00m(\u001b[39m\"\u001b[39m\u001b[39mCan only use .cat accessor with a \u001b[39m\u001b[39m'\u001b[39m\u001b[39mcategory\u001b[39m\u001b[39m'\u001b[39m\u001b[39m dtype\u001b[39m\u001b[39m\"\u001b[39m)\n",
      "\u001b[0;31mAttributeError\u001b[0m: Can only use .cat accessor with a 'category' dtype"
     ]
    }
   ],
   "source": [
    "import random\n",
    "varieties_samp = random.sample(varieties_pop, k=3)\n",
    "\n",
    "variety_condition = coffee_ratings['variety'].isin(varieties_samp)\n",
    "coffee_ratings_cluster = coffee_ratings[variety_condition]\n",
    "\n",
    "coffee_ratings_cluster['variety'] = coffee_ratings_cluster['variety'].cat.remove_unused_categories()\n",
    "coffee_ratings_cluster.groupby('variety').sample(n=5, random_state=2021)"
   ]
  },
  {
   "cell_type": "code",
   "execution_count": 16,
   "metadata": {},
   "outputs": [
    {
     "data": {
      "text/plain": [
       "(293, 44)"
      ]
     },
     "execution_count": 16,
     "metadata": {},
     "output_type": "execute_result"
    }
   ],
   "source": [
    "# Review of simple random sampling\n",
    "coffee_ratings_srs = coffee_ratings_top.sample(frac=1/3, random_state=2021)\n",
    "coffee_ratings_srs.shape"
   ]
  },
  {
   "cell_type": "code",
   "execution_count": null,
   "metadata": {},
   "outputs": [
    {
     "ename": "AttributeError",
     "evalue": "Can only use .cat accessor with a 'category' dtype",
     "output_type": "error",
     "traceback": [
      "\u001b[0;31m---------------------------------------------------------------------------\u001b[0m",
      "\u001b[0;31mAttributeError\u001b[0m                            Traceback (most recent call last)",
      "Cell \u001b[0;32mIn[23], line 5\u001b[0m\n\u001b[1;32m      3\u001b[0m top_condition \u001b[38;5;241m=\u001b[39m coffee_ratings_top[\u001b[38;5;124m'\u001b[39m\u001b[38;5;124mcountry_of_origin\u001b[39m\u001b[38;5;124m'\u001b[39m]\u001b[38;5;241m.\u001b[39misin(top_countries_samp)\n\u001b[1;32m      4\u001b[0m coffee_ratings_cluster \u001b[38;5;241m=\u001b[39m coffee_ratings_top[top_condition]\n\u001b[0;32m----> 5\u001b[0m coffee_ratings_cluster[\u001b[38;5;124m'\u001b[39m\u001b[38;5;124mcountry_of_origin\u001b[39m\u001b[38;5;124m'\u001b[39m] \u001b[38;5;241m=\u001b[39m \u001b[43mcoffee_ratings_cluster\u001b[49m\u001b[43m[\u001b[49m\u001b[38;5;124;43m'\u001b[39;49m\u001b[38;5;124;43mcountry_of_origin\u001b[39;49m\u001b[38;5;124;43m'\u001b[39;49m\u001b[43m]\u001b[49m\u001b[38;5;241;43m.\u001b[39;49m\u001b[43mcat\u001b[49m\u001b[38;5;241m.\u001b[39mremove_unused_categories()\n\u001b[1;32m      6\u001b[0m coffee_ratings_clust \u001b[38;5;241m=\u001b[39m coffee_ratings_cluster\u001b[38;5;241m.\u001b[39mgroupby(\u001b[38;5;124m'\u001b[39m\u001b[38;5;124mcountry_of_origin\u001b[39m\u001b[38;5;124m'\u001b[39m)\u001b[38;5;241m.\u001b[39msample(n\u001b[38;5;241m=\u001b[39m\u001b[38;5;28mlen\u001b[39m(coffee_ratings_top) \u001b[38;5;241m/\u001b[39m\u001b[38;5;241m/\u001b[39m \u001b[38;5;241m6\u001b[39m)\n\u001b[1;32m      7\u001b[0m coffee_ratings_clust\u001b[38;5;241m.\u001b[39mshape\n",
      "File \u001b[0;32m/Library/Frameworks/Python.framework/Versions/3.11/lib/python3.11/site-packages/pandas/core/generic.py:5989\u001b[0m, in \u001b[0;36mNDFrame.__getattr__\u001b[0;34m(self, name)\u001b[0m\n\u001b[1;32m   5982\u001b[0m \u001b[39mif\u001b[39;00m (\n\u001b[1;32m   5983\u001b[0m     name \u001b[39mnot\u001b[39;00m \u001b[39min\u001b[39;00m \u001b[39mself\u001b[39m\u001b[39m.\u001b[39m_internal_names_set\n\u001b[1;32m   5984\u001b[0m     \u001b[39mand\u001b[39;00m name \u001b[39mnot\u001b[39;00m \u001b[39min\u001b[39;00m \u001b[39mself\u001b[39m\u001b[39m.\u001b[39m_metadata\n\u001b[1;32m   5985\u001b[0m     \u001b[39mand\u001b[39;00m name \u001b[39mnot\u001b[39;00m \u001b[39min\u001b[39;00m \u001b[39mself\u001b[39m\u001b[39m.\u001b[39m_accessors\n\u001b[1;32m   5986\u001b[0m     \u001b[39mand\u001b[39;00m \u001b[39mself\u001b[39m\u001b[39m.\u001b[39m_info_axis\u001b[39m.\u001b[39m_can_hold_identifiers_and_holds_name(name)\n\u001b[1;32m   5987\u001b[0m ):\n\u001b[1;32m   5988\u001b[0m     \u001b[39mreturn\u001b[39;00m \u001b[39mself\u001b[39m[name]\n\u001b[0;32m-> 5989\u001b[0m \u001b[39mreturn\u001b[39;00m \u001b[39mobject\u001b[39;49m\u001b[39m.\u001b[39;49m\u001b[39m__getattribute__\u001b[39;49m(\u001b[39mself\u001b[39;49m, name)\n",
      "File \u001b[0;32m/Library/Frameworks/Python.framework/Versions/3.11/lib/python3.11/site-packages/pandas/core/accessor.py:224\u001b[0m, in \u001b[0;36mCachedAccessor.__get__\u001b[0;34m(self, obj, cls)\u001b[0m\n\u001b[1;32m    221\u001b[0m \u001b[39mif\u001b[39;00m obj \u001b[39mis\u001b[39;00m \u001b[39mNone\u001b[39;00m:\n\u001b[1;32m    222\u001b[0m     \u001b[39m# we're accessing the attribute of the class, i.e., Dataset.geo\u001b[39;00m\n\u001b[1;32m    223\u001b[0m     \u001b[39mreturn\u001b[39;00m \u001b[39mself\u001b[39m\u001b[39m.\u001b[39m_accessor\n\u001b[0;32m--> 224\u001b[0m accessor_obj \u001b[39m=\u001b[39m \u001b[39mself\u001b[39;49m\u001b[39m.\u001b[39;49m_accessor(obj)\n\u001b[1;32m    225\u001b[0m \u001b[39m# Replace the property with the accessor object. Inspired by:\u001b[39;00m\n\u001b[1;32m    226\u001b[0m \u001b[39m# https://www.pydanny.com/cached-property.html\u001b[39;00m\n\u001b[1;32m    227\u001b[0m \u001b[39m# We need to use object.__setattr__ because we overwrite __setattr__ on\u001b[39;00m\n\u001b[1;32m    228\u001b[0m \u001b[39m# NDFrame\u001b[39;00m\n\u001b[1;32m    229\u001b[0m \u001b[39mobject\u001b[39m\u001b[39m.\u001b[39m\u001b[39m__setattr__\u001b[39m(obj, \u001b[39mself\u001b[39m\u001b[39m.\u001b[39m_name, accessor_obj)\n",
      "File \u001b[0;32m/Library/Frameworks/Python.framework/Versions/3.11/lib/python3.11/site-packages/pandas/core/arrays/categorical.py:2445\u001b[0m, in \u001b[0;36mCategoricalAccessor.__init__\u001b[0;34m(self, data)\u001b[0m\n\u001b[1;32m   2444\u001b[0m \u001b[39mdef\u001b[39;00m \u001b[39m__init__\u001b[39m(\u001b[39mself\u001b[39m, data) \u001b[39m-\u001b[39m\u001b[39m>\u001b[39m \u001b[39mNone\u001b[39;00m:\n\u001b[0;32m-> 2445\u001b[0m     \u001b[39mself\u001b[39;49m\u001b[39m.\u001b[39;49m_validate(data)\n\u001b[1;32m   2446\u001b[0m     \u001b[39mself\u001b[39m\u001b[39m.\u001b[39m_parent \u001b[39m=\u001b[39m data\u001b[39m.\u001b[39mvalues\n\u001b[1;32m   2447\u001b[0m     \u001b[39mself\u001b[39m\u001b[39m.\u001b[39m_index \u001b[39m=\u001b[39m data\u001b[39m.\u001b[39mindex\n",
      "File \u001b[0;32m/Library/Frameworks/Python.framework/Versions/3.11/lib/python3.11/site-packages/pandas/core/arrays/categorical.py:2454\u001b[0m, in \u001b[0;36mCategoricalAccessor._validate\u001b[0;34m(data)\u001b[0m\n\u001b[1;32m   2451\u001b[0m \u001b[39m@staticmethod\u001b[39m\n\u001b[1;32m   2452\u001b[0m \u001b[39mdef\u001b[39;00m \u001b[39m_validate\u001b[39m(data):\n\u001b[1;32m   2453\u001b[0m     \u001b[39mif\u001b[39;00m \u001b[39mnot\u001b[39;00m is_categorical_dtype(data\u001b[39m.\u001b[39mdtype):\n\u001b[0;32m-> 2454\u001b[0m         \u001b[39mraise\u001b[39;00m \u001b[39mAttributeError\u001b[39;00m(\u001b[39m\"\u001b[39m\u001b[39mCan only use .cat accessor with a \u001b[39m\u001b[39m'\u001b[39m\u001b[39mcategory\u001b[39m\u001b[39m'\u001b[39m\u001b[39m dtype\u001b[39m\u001b[39m\"\u001b[39m)\n",
      "\u001b[0;31mAttributeError\u001b[0m: Can only use .cat accessor with a 'category' dtype"
     ]
    }
   ],
   "source": [
    "import random\n",
    "top_countries_samp = random.sample(top_counted_countries, k=2)\n",
    "top_condition = coffee_ratings_top['country_of_origin'].isin(top_countries_samp)\n",
    "coffee_ratings_cluster = coffee_ratings_top[top_condition]\n",
    "coffee_ratings_cluster['country_of_origin'] = coffee_ratings_cluster['country_of_origin'].cat.remove_unused_categories()\n",
    "coffee_ratings_clust = coffee_ratings_cluster.groupby('country_of_origin').sample(n=len(coffee_ratings_top) // 6)\n",
    "coffee_ratings_clust.shape"
   ]
  },
  {
   "cell_type": "code",
   "execution_count": 40,
   "metadata": {},
   "outputs": [
    {
     "ename": "NameError",
     "evalue": "name 'coffee_ratings_clust' is not defined",
     "output_type": "error",
     "traceback": [
      "\u001b[0;31m---------------------------------------------------------------------------\u001b[0m",
      "\u001b[0;31mNameError\u001b[0m                                 Traceback (most recent call last)",
      "Cell \u001b[0;32mIn[40], line 12\u001b[0m\n\u001b[1;32m      9\u001b[0m coffee_ratings_strat[\u001b[38;5;124m'\u001b[39m\u001b[38;5;124mtotal_cup_points\u001b[39m\u001b[38;5;124m'\u001b[39m]\u001b[38;5;241m.\u001b[39mmean()\n\u001b[1;32m     11\u001b[0m \u001b[38;5;66;03m# Cluster sample\u001b[39;00m\n\u001b[0;32m---> 12\u001b[0m \u001b[43mcoffee_ratings_clust\u001b[49m[\u001b[38;5;124m'\u001b[39m\u001b[38;5;124mtotal_cup_points\u001b[39m\u001b[38;5;124m'\u001b[39m]\u001b[38;5;241m.\u001b[39mmean()\n",
      "\u001b[0;31mNameError\u001b[0m: name 'coffee_ratings_clust' is not defined"
     ]
    }
   ],
   "source": [
    "# Calculating mean cup points\n",
    "# Population\n",
    "coffee_ratings_top['total_cup_points'].mean()\n",
    "\n",
    "# Simple random sample\n",
    "coffee_ratings_srs['total_cup_points'].mean()\n",
    "\n",
    "# Stratified sample\n",
    "coffee_ratings_strat['total_cup_points'].mean()\n",
    "\n",
    "# Cluster sample\n",
    "coffee_ratings_clust['total_cup_points'].mean()"
   ]
  },
  {
   "cell_type": "code",
   "execution_count": 17,
   "metadata": {},
   "outputs": [
    {
     "data": {
      "text/plain": [
       "82.1159"
      ]
     },
     "execution_count": 17,
     "metadata": {},
     "output_type": "execute_result"
    }
   ],
   "source": [
    "# Sample size is number of rows\n",
    "len(coffee_ratings.sample(n=300))\n",
    "len(coffee_ratings.sample(frac=0.25))\n",
    "\n",
    "# Various sample sizes\n",
    "coffee_ratings['total_cup_points'].mean()\n",
    "coffee_ratings.sample(n=10)['total_cup_points'].mean()\n",
    "coffee_ratings.sample(n=100)['total_cup_points'].mean()"
   ]
  },
  {
   "cell_type": "code",
   "execution_count": 18,
   "metadata": {},
   "outputs": [],
   "source": [
    "# Relative errors\n",
    "population_mean = coffee_ratings['total_cup_points'].mean()\n",
    "sample_mean = coffee_ratings.sample(n=sample_size)['total_cup_points'].mean()\n",
    "\n",
    "# Relative error as percentage\n",
    "rel_error_pct = 100 * abs(population_mean-sample_mean) / population_mean"
   ]
  },
  {
   "cell_type": "code",
   "execution_count": 19,
   "metadata": {},
   "outputs": [
    {
     "ename": "NameError",
     "evalue": "name 'errors' is not defined",
     "output_type": "error",
     "traceback": [
      "\u001b[0;31m---------------------------------------------------------------------------\u001b[0m",
      "\u001b[0;31mNameError\u001b[0m                                 Traceback (most recent call last)",
      "Cell \u001b[0;32mIn[19], line 3\u001b[0m\n\u001b[1;32m      1\u001b[0m \u001b[38;5;66;03m# Relative error vs. sample size\u001b[39;00m\n\u001b[1;32m      2\u001b[0m \u001b[38;5;28;01mimport\u001b[39;00m \u001b[38;5;21;01mmatplotlib\u001b[39;00m\u001b[38;5;21;01m.\u001b[39;00m\u001b[38;5;21;01mpyplot\u001b[39;00m \u001b[38;5;28;01mas\u001b[39;00m \u001b[38;5;21;01mplt\u001b[39;00m\n\u001b[0;32m----> 3\u001b[0m \u001b[43merrors\u001b[49m\u001b[38;5;241m.\u001b[39mplot(x\u001b[38;5;241m=\u001b[39m\u001b[38;5;124m'\u001b[39m\u001b[38;5;124msample_size\u001b[39m\u001b[38;5;124m'\u001b[39m, y\u001b[38;5;241m=\u001b[39m\u001b[38;5;124m'\u001b[39m\u001b[38;5;124mrelative_error\u001b[39m\u001b[38;5;124m'\u001b[39m, kind\u001b[38;5;241m=\u001b[39m\u001b[38;5;124m'\u001b[39m\u001b[38;5;124mline\u001b[39m\u001b[38;5;124m'\u001b[39m)\n\u001b[1;32m      4\u001b[0m plt\u001b[38;5;241m.\u001b[39mshow()\n",
      "\u001b[0;31mNameError\u001b[0m: name 'errors' is not defined"
     ]
    }
   ],
   "source": [
    "# Relative error vs. sample size\n",
    "import matplotlib.pyplot as plt\n",
    "errors.plot(x='sample_size', y='relative_error', kind='line')\n",
    "plt.show()"
   ]
  },
  {
   "cell_type": "code",
   "execution_count": 20,
   "metadata": {},
   "outputs": [
    {
     "name": "stdout",
     "output_type": "stream",
     "text": [
      "[82.11966666666667, 82.77033333333334, 82.26933333333334, 81.85966666666667, 81.841, 81.52266666666667, 81.96666666666667, 81.70033333333335, 82.41666666666667, 82.67866666666667, 82.231, 82.312, 81.46700000000001, 82.336, 82.606, 82.114, 82.60633333333334, 82.866, 82.473, 82.24199999999999, 82.63333333333334, 81.953, 82.33633333333333, 82.03033333333333, 82.33366666666666, 82.011, 82.57300000000002, 82.73866666666666, 82.32733333333333, 82.114, 81.82733333333334, 82.49433333333333, 82.45266666666666, 82.40566666666668, 82.32133333333333, 82.06133333333334, 82.12133333333331, 82.21633333333332, 81.4, 83.028, 82.83833333333334, 81.61133333333333, 82.92233333333334, 82.09966666666666, 81.97033333333334, 82.22466666666668, 81.883, 80.90499999999999, 82.03633333333333, 82.14166666666667]\n"
     ]
    }
   ],
   "source": [
    "# same code, 50 times\n",
    "mean_cup_points_50 = []\n",
    "for i in range(50):\n",
    "    mean_cup_points_50.append(coffee_ratings.sample(n=30)['total_cup_points'].mean())\n",
    "print(mean_cup_points_50)"
   ]
  },
  {
   "cell_type": "code",
   "execution_count": 21,
   "metadata": {},
   "outputs": [
    {
     "data": {
      "image/png": "[encoded data removed]",
      "text/plain": [
       "<Figure size 640x480 with 1 Axes>"
      ]
     },
     "metadata": {},
     "output_type": "display_data"
    }
   ],
   "source": [
    "# Distribution of sample means for size 30\n",
    "import matplotlib.pyplot as plt\n",
    "plt.hist(mean_cup_points_50, bins=30)\n",
    "plt.show()"
   ]
  },
  {
   "cell_type": "code",
   "execution_count": 22,
   "metadata": {},
   "outputs": [
    {
     "name": "stdout",
     "output_type": "stream",
     "text": [
      "      die1  die2  die3  die4\n",
      "0        1     1     1     1\n",
      "1        1     1     1     2\n",
      "2        1     1     1     3\n",
      "3        1     1     1     4\n",
      "4        1     1     1     5\n",
      "...    ...   ...   ...   ...\n",
      "1291     6     6     6     2\n",
      "1292     6     6     6     3\n",
      "1293     6     6     6     4\n",
      "1294     6     6     6     5\n",
      "1295     6     6     6     6\n",
      "\n",
      "[1296 rows x 4 columns]\n",
      "      die1  die2  die3  die4  mean_roll\n",
      "0        1     1     1     1       1.00\n",
      "1        1     1     1     2       1.25\n",
      "2        1     1     1     3       1.50\n",
      "3        1     1     1     4       1.75\n",
      "4        1     1     1     5       2.00\n",
      "...    ...   ...   ...   ...        ...\n",
      "1291     6     6     6     2       5.00\n",
      "1292     6     6     6     3       5.25\n",
      "1293     6     6     6     4       5.50\n",
      "1294     6     6     6     5       5.75\n",
      "1295     6     6     6     6       6.00\n",
      "\n",
      "[1296 rows x 5 columns]\n"
     ]
    }
   ],
   "source": [
    "import itertools\n",
    "import pandas as pd\n",
    "\n",
    "def expand_grid(d):\n",
    "    \"\"\"Create a dataframe from all combinations of given dictionary values.\"\"\"\n",
    "    rows = list(itertools.product(*d.values()))\n",
    "    return pd.DataFrame(rows, columns=d.keys())\n",
    "\n",
    "dice = expand_grid(\n",
    "    {'die1': [1, 2, 3, 4, 5, 6],\n",
    "    'die2': [1, 2, 3, 4, 5, 6],\n",
    "    'die3': [1, 2, 3, 4, 5, 6],\n",
    "    'die4': [1, 2, 3, 4, 5, 6]}\n",
    ")\n",
    "print(dice)\n",
    "\n",
    "dice['mean_roll'] = (dice['die1'] + dice['die2'] + dice['die3'] + dice['die4']) / 4\n",
    "print(dice)"
   ]
  },
  {
   "cell_type": "code",
   "execution_count": 23,
   "metadata": {},
   "outputs": [
    {
     "data": {
      "text/plain": [
       "<Axes: xlabel='mean_roll'>"
      ]
     },
     "execution_count": 23,
     "metadata": {},
     "output_type": "execute_result"
    },
    {
     "data": {
      "image/png": "[encoded data removed]",
      "text/plain": [
       "<Figure size 640x480 with 1 Axes>"
      ]
     },
     "metadata": {},
     "output_type": "display_data"
    }
   ],
   "source": [
    "# Exact sampling distribution\n",
    "dice['mean_roll'] = dice['mean_roll'].astype('category')\n",
    "dice['mean_roll'].value_counts(sort=False).plot(kind='bar')"
   ]
  },
  {
   "cell_type": "code",
   "execution_count": 24,
   "metadata": {},
   "outputs": [
    {
     "data": {
      "image/png": "[encoded data removed]",
      "text/plain": [
       "<Figure size 640x480 with 1 Axes>"
      ]
     },
     "metadata": {},
     "output_type": "display_data"
    }
   ],
   "source": [
    "# The number of outcomes increases fast\n",
    "n_dice = list(range(1, 101))\n",
    "n_outcomes = []\n",
    "for n in n_dice:\n",
    "    n_outcomes.append(6**n)\n",
    "\n",
    "outcomes = pd.DataFrame(\n",
    "    {'n_dice': n_dice,\n",
    "    'n_outcomes': n_outcomes}\n",
    ")\n",
    "outcomes.plot(x='n_dice', y='n_outcomes', kind='scatter')\n",
    "plt.show()"
   ]
  },
  {
   "cell_type": "code",
   "execution_count": 25,
   "metadata": {},
   "outputs": [
    {
     "data": {
      "text/plain": [
       "(array([  5.,   8.,  22.,  27.,  45.,  67.,  83., 105., 111.,   0.,  99.,\n",
       "        108.,  99.,  72.,  59.,  41.,  31.,   9.,   5.,   4.]),\n",
       " array([1.25 , 1.475, 1.7  , 1.925, 2.15 , 2.375, 2.6  , 2.825, 3.05 ,\n",
       "        3.275, 3.5  , 3.725, 3.95 , 4.175, 4.4  , 4.625, 4.85 , 5.075,\n",
       "        5.3  , 5.525, 5.75 ]),\n",
       " <BarContainer object of 20 artists>)"
      ]
     },
     "execution_count": 25,
     "metadata": {},
     "output_type": "execute_result"
    },
    {
     "data": {
      "image/png": "[encoded data removed]",
      "text/plain": [
       "<Figure size 640x480 with 1 Axes>"
      ]
     },
     "metadata": {},
     "output_type": "display_data"
    }
   ],
   "source": [
    "# Simulating the mean of four dice rolls\n",
    "import numpy as np\n",
    "sample_means_1000 = []\n",
    "for i in range(1000):\n",
    "    sample_means_1000.append(\n",
    "        np.random.choice(list(range(1, 7)), size=4, replace=True).mean()\n",
    "    )\n",
    "# print(sample_means_1000)\n",
    "plt.hist(sample_means_1000, bins=20)"
   ]
  },
  {
   "cell_type": "code",
   "execution_count": 26,
   "metadata": {},
   "outputs": [
    {
     "data": {
      "text/plain": [
       "2.685858187306438"
      ]
     },
     "execution_count": 26,
     "metadata": {},
     "output_type": "execute_result"
    }
   ],
   "source": [
    "coffee_ratings['total_cup_points'].std(ddof=0)"
   ]
  },
  {
   "cell_type": "code",
   "execution_count": 30,
   "metadata": {},
   "outputs": [],
   "source": [
    "# Coffee data preparation\n",
    "coffee_focus = coffee_ratings[['variety', 'country_of_origin', 'flavor']]\n",
    "coffee_focus = coffee_ratings.reset_index()\n",
    "\n",
    "# Resampling with .sample()\n",
    "coffee_resamp = coffee_focus.sample(frac=1, replace=True)\n",
    "\n",
    "# Repeated coffees\n",
    "coffee_resamp['index'].value_counts()\n",
    "\n",
    "# Missing coffees\n",
    "num_unique_coffees = len(coffee_resamp.drop_duplicates(subset='index'))\n",
    "len(coffee_ratings) - num_unique_coffees"
   ]
  },
  {
   "cell_type": "code",
   "execution_count": 33,
   "metadata": {},
   "outputs": [
    {
     "data": {
      "image/png": "[encoded data removed]",
      "text/plain": [
       "<Figure size 640x480 with 1 Axes>"
      ]
     },
     "metadata": {},
     "output_type": "display_data"
    }
   ],
   "source": [
    "# Boostrapping coffee mean flavor\n",
    "import numpy as np\n",
    "mean_flavors_1000 = []\n",
    "for i in range(1000):\n",
    "    mean_flavors_1000.append(\n",
    "        np.mean(coffee_sample.sample(frac=1, replace=True)['flavor'])\n",
    "    )\n",
    "\n",
    "import matplotlib.pyplot as plt\n",
    "plt.hist(mean_flavors_1000)\n",
    "plt.show()"
   ]
  },
  {
   "cell_type": "code",
   "execution_count": 39,
   "metadata": {},
   "outputs": [],
   "source": [
    "import numpy as np\n",
    "mean_flavors_5000 = []\n",
    "for i in range(5000):\n",
    "    mean_flavors_5000.append(\n",
    "        np.mean(coffee_sample.sample(frac=1, replace=True)['flavor'])\n",
    "    )\n",
    "bootstrap_distn = mean_flavors_5000"
   ]
  },
  {
   "cell_type": "code",
   "execution_count": 40,
   "metadata": {},
   "outputs": [
    {
     "data": {
      "text/plain": [
       "2.1446600579982054"
      ]
     },
     "execution_count": 40,
     "metadata": {},
     "output_type": "execute_result"
    }
   ],
   "source": [
    "# Sample, bootstrap dist'n, pop'n standard deviations\n",
    "coffee_sample['flavor'].std()\n",
    "standard_error = np.std(bootstrap_distn, ddof=1)\n",
    "standard_error * np.sqrt(500)"
   ]
  },
  {
   "cell_type": "code",
   "execution_count": null,
   "metadata": {},
   "outputs": [],
   "source": [
    "# Quantile method for confidence intervals\n",
    "np.quantile(coffee_boot_distn, 0.025)\n",
    "np.quantile(coffee_boot_distn, 0.975)"
   ]
  },
  {
   "cell_type": "code",
   "execution_count": null,
   "metadata": {},
   "outputs": [],
   "source": [
    "# Inverse cumulaive distribution function\n",
    "from scipy.stats import norm\n",
    "norm.ppf(quantile, loc=0, scale=1)"
   ]
  },
  {
   "cell_type": "code",
   "execution_count": null,
   "metadata": {},
   "outputs": [],
   "source": [
    "# Standard error method for confidence interval\n",
    "point_estimate = np.mean(coffee_boot_distn)\n",
    "std_error = np.std(coffee_boot_distn, ddof=1)\n",
    "\n",
    "from scipy.stats import norm\n",
    "lower = norm.ppf(0.025, loc=point_estimate, scale=std_error)\n",
    "upper = norm.ppf(0.975, loc=point_estimate, scale=std_error)\n",
    "print((lower, upper))"
   ]
  }
 ],
 "metadata": {
  "kernelspec": {
   "display_name": "Python 3.11.5 64-bit",
   "language": "python",
   "name": "python3"
  },
  "language_info": {
   "codemirror_mode": {
    "name": "ipython",
    "version": 3
   },
   "file_extension": ".py",
   "mimetype": "text/x-python",
   "name": "python",
   "nbconvert_exporter": "python",
   "pygments_lexer": "ipython3",
   "version": "3.11.5"
  },
  "orig_nbformat": 4,
  "vscode": {
   "interpreter": {
    "hash": "aee8b7b246df8f9039afb4144a1f6fd8d2ca17a180786b69acc140d282b71a49"
   }
  }
 },
 "nbformat": 4,
 "nbformat_minor": 2
}

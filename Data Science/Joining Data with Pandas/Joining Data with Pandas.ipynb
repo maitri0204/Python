{
 "cells": [
  {
   "cell_type": "code",
   "execution_count": null,
   "metadata": {},
   "outputs": [],
   "source": [
    "#inner join\n",
    "wards_census = wards.merge(census, on=\"ward\")\n",
    "print(wards_census.head(4))\n",
    "taxi_own_veh = taxi_owners.merge(taxi_veh, on='vid', suffixes=[\"_own\", \"_veh\"])"
   ]
  },
  {
   "cell_type": "code",
   "execution_count": null,
   "metadata": {},
   "outputs": [],
   "source": [
    "#left join\n",
    "movies_taglines=movies.merge(taglines, on=\"id\", how=\"left\")\n",
    "print(movies_taglines.head())"
   ]
  },
  {
   "cell_type": "code",
   "execution_count": null,
   "metadata": {},
   "outputs": [],
   "source": [
    "#merging through index\n",
    "samuel=pd.read_csv(\"samuel.csv\", index_col=[\"movie_id\", \"cast_id\"])\n",
    "print(samuel.head())\n",
    "\n",
    "movies_genres=movies.merge(movie_to_genres, left_on=\"id\", left_index=True, right_on=\"mevie_id\", right_index=True)\n",
    "print(movies_genres)"
   ]
  },
  {
   "cell_type": "code",
   "execution_count": null,
   "metadata": {},
   "outputs": [],
   "source": [
    "#filtering joins\n",
    "generes_track = genres.merge(top_tracks, on=\"gid\", how=\"left\", indicator=True)\n",
    "print(generes_track.head())"
   ]
  },
  {
   "cell_type": "code",
   "execution_count": null,
   "metadata": {},
   "outputs": [],
   "source": [
    "# combining the table vertically\n",
    "import pandas as pd\n",
    "pd.concat([inv_jan, inv_feb, inv_mar], ignore_index=False, keys=[\"jan\", \"feb\", \"mar\"])\n",
    "\n",
    "# concatenate tables with different column names\n",
    "pd.concat([inv_jan, inv_feb], sort=True)"
   ]
  },
  {
   "cell_type": "code",
   "execution_count": null,
   "metadata": {},
   "outputs": [],
   "source": [
    "# verifying relationship\n",
    "albums.merge(tracks, on=\"aid\", validate=\"one_to_many\")\n",
    "\n",
    "# verifying concatenation\n",
    "pd.concat([inv_feb, inv_mar], verify_integrity=True)    # checks for any duplicate index\n"
   ]
  },
  {
   "cell_type": "code",
   "execution_count": null,
   "metadata": {},
   "outputs": [],
   "source": [
    "# merge_ordered() used when working with time series data\n",
    "# here merge is same but result is sorted\n",
    "# default is outer join while inner in case of .merge() method\n",
    "# calling the function: pd.merge_ordered(df1, df2)\n",
    "\n",
    "import pandas as pd\n",
    "pd.merge_ordered(appl, mcd, on=\"date\", suffixes=('_appl', '-mcd'))\n",
    "\n",
    "# Forward fill - fill the missing values as same as above values\n",
    "pd.merge_ordered(appl, mcd, on=\"date\", suffixes=('_appl', '_mcd'), fill_method='ffill')"
   ]
  },
  {
   "cell_type": "code",
   "execution_count": null,
   "metadata": {},
   "outputs": [],
   "source": [
    "# using merge_asof() will match on the nearest value columns rather than equal values\n",
    "# columns must be sorted\n",
    "pd.merge_asof(visa, ibm, on='date_item', suffixes=('_visa', '_ibm'), direction='forward')"
   ]
  },
  {
   "cell_type": "code",
   "execution_count": null,
   "metadata": {},
   "outputs": [],
   "source": [
    "# SQL queries\n",
    "stocks.query('nike >= 90')\n",
    "stocks.query('nike > 90 and disney< 140')\n",
    "stocks.query('nike > 96 or disney < 98')\n",
    "stocks_long.query('stock==\"disney\" or (stock==\"nike\" and close < 90)')\n"
   ]
  },
  {
   "cell_type": "code",
   "execution_count": null,
   "metadata": {},
   "outputs": [],
   "source": [
    "# .melt() method\n",
    "social_fin_tall = social_fin.melt(id_vars=['financial', 'company'])\n",
    "print(social_fin_tall.head(10))\n",
    "\n",
    "social_fin_tall = social_fin.melt(id_vars=['financial', 'company'], value_vars=['2018', '2017'])\n",
    "print(social_fin_tall.head(9))  # only print the data of year 2018 and 2017\n",
    "\n",
    "social_fin_tall = social_fin.merge(id_vars=['financial', 'company'], value_vars=['2018', '2017'], var_name=['year'], value_name='dollars')\n",
    "print(social_fin_tall.head(8))\n"
   ]
  }
 ],
 "metadata": {
  "kernelspec": {
   "display_name": "Python 3.11.5 64-bit",
   "language": "python",
   "name": "python3"
  },
  "language_info": {
   "name": "python",
   "version": "3.11.5"
  },
  "orig_nbformat": 4,
  "vscode": {
   "interpreter": {
    "hash": "aee8b7b246df8f9039afb4144a1f6fd8d2ca17a180786b69acc140d282b71a49"
   }
  }
 },
 "nbformat": 4,
 "nbformat_minor": 2
}

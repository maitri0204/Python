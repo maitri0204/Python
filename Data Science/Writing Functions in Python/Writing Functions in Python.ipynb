{
 "cells": [
  {
   "cell_type": "code",
   "execution_count": 1,
   "metadata": {},
   "outputs": [
    {
     "name": "stdout",
     "output_type": "stream",
     "text": [
      "Return the answer to life, the universe\n",
      "and everything.\n",
      "\n",
      "Returns:\n",
      "int\n"
     ]
    }
   ],
   "source": [
    "# Retrieving docstrings\n",
    "def the_answer():\n",
    "    \"\"\"Return the answer to life, the universe\n",
    "    and everything.\n",
    "    \n",
    "    Returns:\n",
    "    int\n",
    "    \"\"\"\n",
    "\n",
    "import inspect\n",
    "print(inspect.getdoc(the_answer))"
   ]
  },
  {
   "cell_type": "code",
   "execution_count": null,
   "metadata": {},
   "outputs": [],
   "source": [
    "# Use functions to avoid repetition\n",
    "import pandas as pd\n",
    "import matplotlib.pyplot as plt\n",
    "def load_and_plot(path):\n",
    "    \"\"\"Load a dataset and plot the first two principal components.\n",
    "    \n",
    "    Args:\n",
    "    path (str): The location of a CSV file.\n",
    "\n",
    "    Returns:\n",
    "    tuple of ndarray: (features, labels)\n",
    "    \"\"\"\n",
    "\n",
    "    # load the data\n",
    "    data = pd.read_csv(path)\n",
    "    y = data['label'].values\n",
    "    X = data[col for col in data.columns if col != 'label'].values\n",
    "    \n",
    "    # plot the first two principle components\n",
    "    pca = PCA(n_components=2).fit_transform(X)\n",
    "    plt.scatter(pca[:,0], pca[:,1])\n",
    "    \n",
    "    # return loaded data\n",
    "    return X, y\n",
    "\n",
    "train_X, train_y = load_and_plot('train.csv')\n",
    "val_X, val_y = load_and_plot('validation.csv')\n",
    "test_X, test_y = load_and_plot('test.csv')"
   ]
  },
  {
   "cell_type": "code",
   "execution_count": 2,
   "metadata": {},
   "outputs": [
    {
     "name": "stdout",
     "output_type": "stream",
     "text": [
      "[99, 2, 3]\n"
     ]
    }
   ],
   "source": [
    "def foo(x):\n",
    "    x[0] = 99\n",
    "\n",
    "my_list = [1, 2, 3]\n",
    "foo(my_list)\n",
    "print(my_list)"
   ]
  },
  {
   "cell_type": "code",
   "execution_count": 3,
   "metadata": {},
   "outputs": [
    {
     "name": "stdout",
     "output_type": "stream",
     "text": [
      "3\n"
     ]
    }
   ],
   "source": [
    "def bar(x):\n",
    "    x = x + 90\n",
    "\n",
    "my_var = 3\n",
    "bar(my_var)\n",
    "print(my_var)"
   ]
  },
  {
   "cell_type": "markdown",
   "metadata": {},
   "source": [
    "Immutable\n",
    "- int\n",
    "- float\n",
    "- bool\n",
    "- string\n",
    "- bytes\n",
    "- tuple\n",
    "- frozenset\n",
    "- None"
   ]
  },
  {
   "cell_type": "code",
   "execution_count": 7,
   "metadata": {},
   "outputs": [
    {
     "data": {
      "text/plain": [
       "[1]"
      ]
     },
     "execution_count": 7,
     "metadata": {},
     "output_type": "execute_result"
    }
   ],
   "source": [
    "# Mutable default arguments are dangerous!\n",
    "def foo(var=[]):\n",
    "    var.append(1)\n",
    "    return var\n",
    "\n",
    "foo()\n",
    "foo()\n",
    "\n",
    "def foo(var=None):\n",
    "    if var is None:\n",
    "        var = []\n",
    "    var.append(1)\n",
    "    return var\n",
    "\n",
    "foo()\n",
    "foo()"
   ]
  },
  {
   "cell_type": "markdown",
   "metadata": {},
   "source": [
    "# Using a context manager\n",
    "with <context-manager>(<args>) as <variable-name>:\n",
    "    # Run your code here\n",
    "    # This code is running 'inside the context'\n",
    "\n",
    "This code runs after the context is removed\n",
    "\n",
    "with open('my_file.txt) as my_file:\n",
    "    text = my_file.read()\n",
    "    length = len(text)\n",
    "\n",
    "print('The file is {} characters long'.format(length))\n",
    "\n",
    "- open() does things like:\n",
    "    - Sets up a context by opening a file\n",
    "    - Lets you run any code you want on that file\n",
    "    - Removes the context by closing the file"
   ]
  },
  {
   "cell_type": "code",
   "execution_count": null,
   "metadata": {},
   "outputs": [],
   "source": [
    "# Creating a context manager\n",
    "@contextlib.contextmanager\n",
    "def my_context():\n",
    "    # Add any set up code you need\n",
    "    yield\n",
    "    # Add any teardown code you need"
   ]
  },
  {
   "cell_type": "code",
   "execution_count": 3,
   "metadata": {},
   "outputs": [
    {
     "name": "stdout",
     "output_type": "stream",
     "text": [
      "hello\n",
      "foo is 42\n",
      "goodbye\n"
     ]
    }
   ],
   "source": [
    "import contextlib\n",
    "@contextlib.contextmanager\n",
    "def my_context():\n",
    "    print('hello')\n",
    "    yield 42\n",
    "    print('goodbye')\n",
    "\n",
    "with my_context() as foo:\n",
    "    print('foo is {}'.format(foo))"
   ]
  },
  {
   "cell_type": "code",
   "execution_count": null,
   "metadata": {},
   "outputs": [],
   "source": [
    "# Setup and teardown\n",
    "import contextlib\n",
    "@contextlib.contextmanager\n",
    "def database(url):\n",
    "    db = postgres.connect(url)\n",
    "    yield db\n",
    "    db.discount()\n",
    "\n",
    "url = 'http://datacamp.com/data'\n",
    "with database(url) as my_db:\n",
    "    course_list = my_db.execute(\n",
    "        'SELECT * FROM courses'\n",
    "    )"
   ]
  },
  {
   "cell_type": "code",
   "execution_count": null,
   "metadata": {},
   "outputs": [],
   "source": [
    "# Yielding a value or None\n",
    "def in_dir(path):\n",
    "    old_dir = os.getcwd()\n",
    "    os.chdir(path)\n",
    "    yield\n",
    "\n",
    "    os.chdir(old_dir)\n",
    "\n",
    "with in_dir('/data/project_1'):\n",
    "    project_files = os.listdir()"
   ]
  },
  {
   "cell_type": "code",
   "execution_count": null,
   "metadata": {},
   "outputs": [],
   "source": [
    "import pandas\n",
    "def x():\n",
    "    pass\n",
    "x = [1, 2, 3]\n",
    "x = {'foo': 42}\n",
    "x = pandas.DataFrame()\n",
    "x = 'This is a sentence.'\n",
    "x = 3\n",
    "x = 71.2\n",
    "import x"
   ]
  },
  {
   "cell_type": "code",
   "execution_count": 4,
   "metadata": {},
   "outputs": [
    {
     "name": "stdout",
     "output_type": "stream",
     "text": [
      "Hello\n",
      "I am printing with an element of a list!\n",
      "I am printing with a value of a dict!\n"
     ]
    }
   ],
   "source": [
    "# Functions as variables\n",
    "def my_function():\n",
    "    print('Hello')\n",
    "x = my_function\n",
    "type(x)\n",
    "x()\n",
    "\n",
    "list_of_functions = [my_function, open, print]\n",
    "list_of_functions[2]('I am printing with an element of a list!')\n",
    "\n",
    "dict_of_functions = {\n",
    "    'func1': my_function,\n",
    "    'func2': open,\n",
    "    'func3': print\n",
    "}\n",
    "dict_of_functions['func3']('I am printing with a value of a dict!')"
   ]
  },
  {
   "cell_type": "code",
   "execution_count": 5,
   "metadata": {},
   "outputs": [
    {
     "data": {
      "text/plain": [
       "42"
      ]
     },
     "execution_count": 5,
     "metadata": {},
     "output_type": "execute_result"
    }
   ],
   "source": [
    "# Referencing a function\n",
    "def my_function():\n",
    "    return 42\n",
    "\n",
    "x = my_function\n",
    "my_function()"
   ]
  },
  {
   "cell_type": "code",
   "execution_count": 9,
   "metadata": {},
   "outputs": [
    {
     "data": {
      "text/plain": [
       "False"
      ]
     },
     "execution_count": 9,
     "metadata": {},
     "output_type": "execute_result"
    }
   ],
   "source": [
    "def has_docstring(func):\n",
    "    return func.__doc__ is not None\n",
    "\n",
    "def no():\n",
    "    return 42\n",
    "\n",
    "def yes():\n",
    "    return 42\n",
    "\n",
    "has_docstring(no)\n",
    "has_docstring(yes)"
   ]
  },
  {
   "cell_type": "code",
   "execution_count": null,
   "metadata": {},
   "outputs": [],
   "source": [
    "# Nested functions\n",
    "def foo():\n",
    "    x = [3, 6, 9]\n",
    "\n",
    "    def bar(y):\n",
    "        print(y)\n",
    "    \n",
    "    for value in x:\n",
    "        bar(x)"
   ]
  },
  {
   "cell_type": "code",
   "execution_count": 10,
   "metadata": {},
   "outputs": [
    {
     "name": "stdout",
     "output_type": "stream",
     "text": [
      "This is a sentence.\n"
     ]
    }
   ],
   "source": [
    "# Functions as return values\n",
    "def get_function():\n",
    "    def print_me(s):\n",
    "        print(s)\n",
    "\n",
    "    return print_me\n",
    "\n",
    "new_func = get_function()\n",
    "new_func('This is a sentence.')"
   ]
  },
  {
   "cell_type": "code",
   "execution_count": 16,
   "metadata": {},
   "outputs": [
    {
     "name": "stdout",
     "output_type": "stream",
     "text": [
      "42\n",
      "200\n"
     ]
    }
   ],
   "source": [
    "# Scope\n",
    "def foo():\n",
    "    x = 42\n",
    "    print(x)\n",
    "    print(y)\n",
    "\n",
    "x = 7\n",
    "y = 200\n",
    "foo()"
   ]
  },
  {
   "cell_type": "code",
   "execution_count": 17,
   "metadata": {},
   "outputs": [
    {
     "name": "stdout",
     "output_type": "stream",
     "text": [
      "200\n",
      "200\n"
     ]
    }
   ],
   "source": [
    "# The nonlocal keyword\n",
    "def foo():\n",
    "    x = 10\n",
    "    def bar():\n",
    "        nonlocal x\n",
    "        x = 200\n",
    "        print(x)\n",
    "    bar()\n",
    "    print(x)\n",
    "foo()"
   ]
  },
  {
   "cell_type": "code",
   "execution_count": 24,
   "metadata": {},
   "outputs": [
    {
     "name": "stdout",
     "output_type": "stream",
     "text": [
      "25\n",
      "25\n"
     ]
    }
   ],
   "source": [
    "# Closures and deletion\n",
    "x = 25\n",
    "def foo(value):\n",
    "    def bar():\n",
    "        print(value)\n",
    "    return bar\n",
    "\n",
    "my_func = foo(x)\n",
    "my_func()\n",
    "\n",
    "del(x)\n",
    "my_func()\n",
    "# output : 25\n",
    "# Becoz foo()'s 'value' argument gets added to the closure attach to 'my_func' function.\n"
   ]
  },
  {
   "cell_type": "markdown",
   "metadata": {},
   "source": [
    "- func.__closure__\n",
    "- len(func.__closure__)\n",
    "- func.__closure__.cell_contents()"
   ]
  },
  {
   "cell_type": "code",
   "execution_count": 28,
   "metadata": {},
   "outputs": [
    {
     "name": "stdout",
     "output_type": "stream",
     "text": [
      "44\n",
      "yummy\n",
      "7\n"
     ]
    }
   ],
   "source": [
    "# Definitions - nonlocal variables\n",
    "def parent(arg_1, arg_2):\n",
    "    value = 22\n",
    "    my_dict = {'chocolate':'yummy'}\n",
    "\n",
    "    def child():\n",
    "        print(2 * value)\n",
    "        print(my_dict['chocolate'])\n",
    "        print(arg_1 + arg_2)\n",
    "    return child\n",
    "\n",
    "new_function = parent(3, 4)\n",
    "new_function()"
   ]
  },
  {
   "cell_type": "code",
   "execution_count": 36,
   "metadata": {},
   "outputs": [
    {
     "data": {
      "text/plain": [
       "20"
      ]
     },
     "execution_count": 36,
     "metadata": {},
     "output_type": "execute_result"
    }
   ],
   "source": [
    "# Decorator\n",
    "def double_args(func):\n",
    "    def wrapper(a, b):\n",
    "        result = func(a * 2, b * 2)\n",
    "        return result\n",
    "    return wrapper\n",
    "\n",
    "@double_args\n",
    "def multiply(a, b):\n",
    "    return a * b\n",
    "multiply(1, 5)"
   ]
  },
  {
   "cell_type": "code",
   "execution_count": 33,
   "metadata": {},
   "outputs": [
    {
     "data": {
      "text/plain": [
       "5"
      ]
     },
     "execution_count": 33,
     "metadata": {},
     "output_type": "execute_result"
    }
   ],
   "source": [
    "# The double_args decorator\n",
    "def multiply(a, b):\n",
    "    return a * b\n",
    "def double_args(func):\n",
    "    return func\n",
    "new_multiply = double_args(multiply)\n",
    "new_multiply(1, 5)"
   ]
  },
  {
   "cell_type": "code",
   "execution_count": 11,
   "metadata": {},
   "outputs": [
    {
     "name": "stdout",
     "output_type": "stream",
     "text": [
      "sleep_n_seconds took 5.004297256469727s\n"
     ]
    }
   ],
   "source": [
    "import time\n",
    "from functools import wraps\n",
    "def timer(func):\n",
    "    \"\"\"A decorator that prints how long a function took to run.\"\"\"\n",
    "    @wraps(func)\n",
    "    def wrapper(*args, **kwargs):\n",
    "        t_start = time.time()\n",
    "        result = func(*args, **kwargs)\n",
    "        t_total = time.time() - t_start\n",
    "        print('{} took {}s'.format(func.__name__, t_total))\n",
    "        return result\n",
    "    return wrapper\n",
    "\n",
    "@timer\n",
    "def sleep_n_seconds(n):\n",
    "    time.sleep(n)\n",
    "\n",
    "sleep_n_seconds(5)"
   ]
  },
  {
   "cell_type": "code",
   "execution_count": 8,
   "metadata": {},
   "outputs": [
    {
     "name": "stdout",
     "output_type": "stream",
     "text": [
      "Sleeping...\n"
     ]
    },
    {
     "data": {
      "text/plain": [
       "7"
      ]
     },
     "execution_count": 8,
     "metadata": {},
     "output_type": "execute_result"
    }
   ],
   "source": [
    "def memoize(func):\n",
    "    \"\"\"Store the results of the decorated function for fast lookup\"\"\"\n",
    "    # Store results in a dict that maps arguments to results\n",
    "    cache = {}\n",
    "    # Define the wrapper function to return.\n",
    "    def wrapper(*args, **kwargs):\n",
    "        # Convert kwargs to a sorted tuple of items\n",
    "        kwargs_key = tuple(sorted(kwargs.items()))\n",
    "        # Combine args and kwargs_key to form the complete key\n",
    "        key = (args, kwargs_key)\n",
    "        # If these arguments haven't been seen before,\n",
    "        if key not in cache:\n",
    "            cache[key] = func(*args, **kwargs)\n",
    "        return cache[key]\n",
    "    return wrapper\n",
    "\n",
    "@memoize\n",
    "def slow_function(a, b):\n",
    "    print('Sleeping...')\n",
    "    time.sleep(5)\n",
    "    return a+b \n",
    "\n",
    "slow_function(3, 4)"
   ]
  },
  {
   "cell_type": "code",
   "execution_count": 12,
   "metadata": {},
   "outputs": [
    {
     "name": "stdout",
     "output_type": "stream",
     "text": [
      "Pause processing for n seconds.\n",
      "    Args:\n",
      "    n (int): The number of seconds to pause for.\n",
      "    \n",
      "sleep_n_seconds\n"
     ]
    }
   ],
   "source": [
    "@timer\n",
    "def sleep_n_seconds(n=10):\n",
    "    \"\"\"Pause processing for n seconds.\n",
    "    Args:\n",
    "    n (int): The number of seconds to pause for.\n",
    "    \"\"\"\n",
    "    time.sleep(n)\n",
    "print(sleep_n_seconds.__doc__)\n",
    "print(sleep_n_seconds.__name__)"
   ]
  },
  {
   "cell_type": "code",
   "execution_count": 15,
   "metadata": {},
   "outputs": [
    {
     "name": "stdout",
     "output_type": "stream",
     "text": [
      "8\n",
      "8\n",
      "8\n"
     ]
    }
   ],
   "source": [
    "# run_n_times()\n",
    "def run_three_times(func):\n",
    "    def wrapper(*args, **kwargs):\n",
    "        for i in range(3):\n",
    "            func(*args, **kwargs)\n",
    "    return wrapper\n",
    "    \n",
    "@run_three_times\n",
    "def print_sum(a, b):\n",
    "    print(a + b)\n",
    "print_sum(3, 5)"
   ]
  },
  {
   "cell_type": "code",
   "execution_count": 19,
   "metadata": {},
   "outputs": [
    {
     "name": "stdout",
     "output_type": "stream",
     "text": [
      "foo!\n"
     ]
    }
   ],
   "source": [
    "# Timeout - background info\n",
    "import signal\n",
    "def raise_timeout(*args, **kwargs):\n",
    "    raise TimeoutError()\n",
    "# When an 'alarm' signal goes off, call raise_timeout()\n",
    "signal.signal(signalnum=signal.SIGALRM, handler=raise_timeout)\n",
    "# Set off an alarm in 5 seconds\n",
    "signal.alarm(5)\n",
    "# Cancel the alarm\n",
    "signal.alarm(0)\n",
    "\n",
    "def timeout_in_5s(func):\n",
    "    def wrapper(*args, **kwargs):\n",
    "        signal.alarm(5)\n",
    "        try:\n",
    "            return func(*args, **kwargs)\n",
    "        finally:\n",
    "            signal.alarm(0)\n",
    "    return wrapper\n",
    "\n",
    "@timeout_in_5s\n",
    "def foo():\n",
    "    time.sleep(3)\n",
    "    print('foo!')\n",
    "foo()"
   ]
  }
 ],
 "metadata": {
  "kernelspec": {
   "display_name": "Python 3.11.5 64-bit",
   "language": "python",
   "name": "python3"
  },
  "language_info": {
   "codemirror_mode": {
    "name": "ipython",
    "version": 3
   },
   "file_extension": ".py",
   "mimetype": "text/x-python",
   "name": "python",
   "nbconvert_exporter": "python",
   "pygments_lexer": "ipython3",
   "version": "3.11.5"
  },
  "orig_nbformat": 4,
  "vscode": {
   "interpreter": {
    "hash": "aee8b7b246df8f9039afb4144a1f6fd8d2ca17a180786b69acc140d282b71a49"
   }
  }
 },
 "nbformat": 4,
 "nbformat_minor": 2
}

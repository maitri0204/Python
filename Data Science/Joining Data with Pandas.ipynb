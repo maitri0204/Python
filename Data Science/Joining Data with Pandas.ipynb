{
 "cells": [
  {
   "cell_type": "code",
   "execution_count": null,
   "metadata": {},
   "outputs": [],
   "source": [
    "#inner join\n",
    "wards_census = wards.merge(census, on=\"ward\")\n",
    "print(wards_census.head(4))\n",
    "taxi_own_veh = taxi_owners.merge(taxi_veh, on='vid', suffixes=[\"_own\", \"_veh\"])"
   ]
  },
  {
   "cell_type": "code",
   "execution_count": null,
   "metadata": {},
   "outputs": [],
   "source": [
    "#left join\n",
    "movies_taglines=movies.merge(taglines, on=\"id\", how=\"left\")\n",
    "print(movies_taglines.head())"
   ]
  },
  {
   "cell_type": "code",
   "execution_count": null,
   "metadata": {},
   "outputs": [],
   "source": [
    "#merging through index\n",
    "samuel=pd.read_csv(\"samuel.csv\", index_col=[\"movie_id\", \"cast_id\"])\n",
    "print(samuel.head())\n",
    "\n",
    "movies_genres=movies.merge(movie_to_genres, left_on=\"id\", left_index=True, right_on=\"mevie_id\", right_index=True)\n",
    "print(movies_genres)"
   ]
  }
 ],
 "metadata": {
  "kernelspec": {
   "display_name": "Python 3.11.5 64-bit",
   "language": "python",
   "name": "python3"
  },
  "language_info": {
   "name": "python",
   "version": "3.11.5"
  },
  "orig_nbformat": 4,
  "vscode": {
   "interpreter": {
    "hash": "aee8b7b246df8f9039afb4144a1f6fd8d2ca17a180786b69acc140d282b71a49"
   }
  }
 },
 "nbformat": 4,
 "nbformat_minor": 2
}

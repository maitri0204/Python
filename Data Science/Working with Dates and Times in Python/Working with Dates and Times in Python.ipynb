{
 "cells": [
  {
   "cell_type": "code",
   "execution_count": 3,
   "metadata": {},
   "outputs": [
    {
     "name": "stdout",
     "output_type": "stream",
     "text": [
      "2016\n",
      "10\n",
      "7\n",
      "4\n"
     ]
    }
   ],
   "source": [
    "# Creating date objects\n",
    "from datetime import date\n",
    "two_hurricanes_dates = [date(2016, 10, 7), date(2017, 6, 21)]\n",
    "print(two_hurricanes_dates[0].year)\n",
    "print(two_hurricanes_dates[0].month)\n",
    "print(two_hurricanes_dates[0].day)\n",
    "print(two_hurricanes_dates[0].weekday())"
   ]
  },
  {
   "cell_type": "code",
   "execution_count": 7,
   "metadata": {},
   "outputs": [
    {
     "name": "stdout",
     "output_type": "stream",
     "text": [
      "2017-11-05\n",
      "29\n",
      "2017-12-04\n"
     ]
    }
   ],
   "source": [
    "# Math with dates\n",
    "from datetime import date\n",
    "d1 = date(2017, 11, 5)\n",
    "d2 = date(2017, 12, 4)\n",
    "l = [d1, d2]\n",
    "print(min(l))\n",
    "\n",
    "# Subtract two dates\n",
    "delta = d2 - d1\n",
    "print(delta.days)\n",
    "\n",
    "from datetime import timedelta\n",
    "td = timedelta(days=29)\n",
    "print(d1 + td)"
   ]
  },
  {
   "cell_type": "code",
   "execution_count": 8,
   "metadata": {},
   "outputs": [
    {
     "name": "stdout",
     "output_type": "stream",
     "text": [
      "2017-11-05\n",
      "['2017-11-05']\n"
     ]
    }
   ],
   "source": [
    "# ISO 8601 format\n",
    "from datetime import date\n",
    "d = date(2017, 11, 5)\n",
    "print(d)\n",
    "\n",
    "# Express the date in ISO 8601 format and put it in a list\n",
    "print([d.isoformat()])"
   ]
  },
  {
   "cell_type": "code",
   "execution_count": 10,
   "metadata": {},
   "outputs": [
    {
     "name": "stdout",
     "output_type": "stream",
     "text": [
      "2017\n",
      "2017/01/05\n"
     ]
    }
   ],
   "source": [
    "# Every other format: strftime\n",
    "d = date(2017, 1, 5)\n",
    "print(d.strftime('%Y'))\n",
    "\n",
    "# Format: YYYY/MM/DD\n",
    "print(d.strftime('%Y/%m/%d'))"
   ]
  },
  {
   "cell_type": "code",
   "execution_count": 3,
   "metadata": {},
   "outputs": [
    {
     "name": "stdout",
     "output_type": "stream",
     "text": [
      "2017-10-01 15:23:25.500000\n",
      "2017-10-01 15:00:00\n"
     ]
    }
   ],
   "source": [
    "# Dates and Times\n",
    "from datetime import datetime\n",
    "dt = datetime(year=2017, month=10, day=1, hour= 15,\n",
    "            minute=23, second=25, microsecond=500000)\n",
    "print(dt)\n",
    "\n",
    "dt_hr = dt.replace(minute=0, second=0, microsecond=0)\n",
    "print(dt_hr)"
   ]
  },
  {
   "cell_type": "code",
   "execution_count": 7,
   "metadata": {},
   "outputs": [
    {
     "name": "stdout",
     "output_type": "stream",
     "text": [
      "2017-12-30\n",
      "2017-12-30 15:19:13\n",
      "<class 'datetime.datetime'>\n"
     ]
    }
   ],
   "source": [
    "# Printing datetimes\n",
    "dt = datetime(2017, 12, 30, 15, 19, 13)\n",
    "print(dt.strftime('%Y-%m-%d'))\n",
    "print(dt.strftime('%Y-%m-%d %H:%M:%S'))"
   ]
  },
  {
   "cell_type": "code",
   "execution_count": 8,
   "metadata": {},
   "outputs": [
    {
     "name": "stdout",
     "output_type": "stream",
     "text": [
      "2017-12-30 15:19:13\n",
      "<class 'datetime.datetime'>\n"
     ]
    }
   ],
   "source": [
    "# Parsing datetimes with strptime\n",
    "# strptime() - string parse time\n",
    "from datetime import datetime\n",
    "dt = datetime.strptime('12/30/2017 15:19:13', '%m/%d/%Y %H:%M:%S')\n",
    "print(dt)"
   ]
  },
  {
   "cell_type": "code",
   "execution_count": 12,
   "metadata": {},
   "outputs": [
    {
     "name": "stdout",
     "output_type": "stream",
     "text": [
      "2017-12-31 01:49:13\n"
     ]
    }
   ],
   "source": [
    "# Parsing datetimes in Python (Unix timestamp)\n",
    "ts = 1514665153.0\n",
    "print(datetime.fromtimestamp(ts))"
   ]
  },
  {
   "cell_type": "code",
   "execution_count": 13,
   "metadata": {},
   "outputs": [
    {
     "name": "stdout",
     "output_type": "stream",
     "text": [
      "1450.0\n"
     ]
    }
   ],
   "source": [
    "# Working with durations\n",
    "start = datetime(2017, 10, 8, 23, 46, 47)\n",
    "end = datetime(2017, 10, 9, 0, 10, 57)\n",
    "duration = end - start\n",
    "print(duration.total_seconds())"
   ]
  },
  {
   "cell_type": "code",
   "execution_count": 18,
   "metadata": {},
   "outputs": [
    {
     "name": "stdout",
     "output_type": "stream",
     "text": [
      "2017-10-08 23:46:47\n",
      "2017-10-08 23:46:48\n",
      "2017-10-09 23:46:48\n",
      "2017-10-01 23:46:47\n"
     ]
    }
   ],
   "source": [
    "# Creating timedeltas\n",
    "from datetime import timedelta\n",
    "delta1 = timedelta(seconds=1)\n",
    "print(start)\n",
    "print(start+delta1)\n",
    "\n",
    "delta2 = timedelta(days=1, seconds=1)\n",
    "print(start+delta2)\n",
    "\n",
    "# Negative timedeltas\n",
    "delta3 = timedelta(weeks=-1)\n",
    "print(start+delta3)"
   ]
  },
  {
   "cell_type": "code",
   "execution_count": 5,
   "metadata": {},
   "outputs": [
    {
     "name": "stdout",
     "output_type": "stream",
     "text": [
      "2017-12-30 15:09:03-05:00\n",
      "2017-12-31 01:39:03+05:30\n",
      "2017-12-30 15:09:03+00:00\n",
      "2017-12-30 20:09:03+00:00\n"
     ]
    }
   ],
   "source": [
    "#  UTC\n",
    "from datetime import datetime, timedelta, timezone\n",
    "ET = timezone(timedelta(hours=-5))\n",
    "dt = datetime(2017, 12, 30, 15, 9, 3, tzinfo=ET)\n",
    "print(dt)\n",
    "\n",
    "IST = timezone(timedelta(hours=5, minutes=30))\n",
    "print(dt.astimezone(IST))\n",
    "\n",
    "print(dt.replace(tzinfo=timezone.utc))\n",
    "\n",
    "# Change original to watch UTC\n",
    "print(dt.astimezone(timezone.utc))"
   ]
  },
  {
   "cell_type": "code",
   "execution_count": 9,
   "metadata": {},
   "outputs": [
    {
     "name": "stdout",
     "output_type": "stream",
     "text": [
      "2017-12-30 15:09:03-05:00\n",
      "2017-10-01 15:23:25-04:00\n"
     ]
    }
   ],
   "source": [
    "# Time zone database\n",
    "from datetime import datetime\n",
    "from dateutil import tz\n",
    "\n",
    "# Format - 'Continent/City'\n",
    "# Eastern time\n",
    "et = tz.gettz('America/New_York')\n",
    "\n",
    "last = datetime(2017, 12, 30, 15, 9, 3, tzinfo=et)\n",
    "print(last)\n",
    "first = datetime(2017, 10, 1, 15, 23, 25, tzinfo=et)\n",
    "print(first)"
   ]
  },
  {
   "cell_type": "code",
   "execution_count": 16,
   "metadata": {},
   "outputs": [
    {
     "data": {
      "text/plain": [
       "1"
      ]
     },
     "execution_count": 16,
     "metadata": {},
     "output_type": "execute_result"
    }
   ],
   "source": [
    "# Start of Daylight Saving Time\n",
    "spring_ahead_159am = datetime(2017, 3, 12, 1, 59, 59)\n",
    "spring_ahead_159am.isoformat()\n",
    "\n",
    "spring_ahead_3am = datetime(2017, 3, 12, 3, 0, 0)\n",
    "spring_ahead_3am.isoformat()\n",
    "\n",
    "(spring_ahead_3am - spring_ahead_159am).total_seconds()\n",
    "\n",
    "from datetime import timezone, timedelta\n",
    "\n",
    "EST = timezone(timedelta(hours=-5))\n",
    "EDT = timezone(timedelta(hours=-4))\n",
    "\n",
    "spring_ahead_159am = spring_ahead_159am.replace(tzinfo=EST)\n",
    "spring_ahead_159am.isoformat()\n",
    "\n",
    "spring_ahead_3am = spring_ahead_3am.replace(tzinfo=EDT)\n",
    "spring_ahead_3am.isoformat()\n",
    "\n",
    "(spring_ahead_3am - spring_ahead_159am).seconds"
   ]
  },
  {
   "cell_type": "code",
   "execution_count": null,
   "metadata": {},
   "outputs": [],
   "source": [
    "from dateutil import tz\n",
    "eastern = tz.gettz('America/New_York')\n",
    "spring_ahead_159am = datetime(2017, 3, 12, 1, 59, 59, tzinfo=eastern)\n",
    "spring_ahead_3am = datetime(2017, 3, 12, 3, 0, 0, tzinfo=eastern)"
   ]
  },
  {
   "cell_type": "code",
   "execution_count": 20,
   "metadata": {},
   "outputs": [
    {
     "data": {
      "text/plain": [
       "3600.0"
      ]
     },
     "execution_count": 20,
     "metadata": {},
     "output_type": "execute_result"
    }
   ],
   "source": [
    "# Ending Daylight Saving Time\n",
    "eastern = tz.gettz('US/Eastern')\n",
    "# 2017-11-05 01:00:00\n",
    "first_1am = datetime(2017, 11, 5, 1, 0, 0, tzinfo=eastern)\n",
    "tz.datetime_ambiguous(first_1am)\n",
    "\n",
    "# 2017-11-05 01:00:00 again\n",
    "second_1am = datetime(2017, 11, 5, 1, 0, 0, tzinfo=eastern)\n",
    "second_1am = tz.enfold(second_1am)\n",
    "\n",
    "(first_1am - second_1am).seconds\n",
    "\n",
    "# Put into UTC as it is unambigious\n",
    "first_1am = first_1am.astimezone(tz.UTC)\n",
    "second_1am = second_1am.astimezone(tz.UTC)\n",
    "(second_1am - first_1am).total_seconds()"
   ]
  },
  {
   "cell_type": "code",
   "execution_count": null,
   "metadata": {},
   "outputs": [],
   "source": [
    "# A simple Pandas example\n",
    "import pandas as pd\n",
    "rides = pd.read_csv('capital-onebike.csv')\n",
    "rides.iloc[2]   # Prints the second row\n",
    "\n",
    "# Loading datetimes with parse_dates\n",
    "rides = pd.read_csv('capital-onebike.csv', parse_dates=['Start date', 'End date'])\n",
    "\n",
    "# Or:\n",
    "rides['Start date'] = pd.to_datetime(rides['Start date'], format='%Y-%m-%d %H:%M:%S')\n",
    "\n",
    "# Timezone-aware arithmetic\n",
    "rides['Duration'] = rides['End date'] - rides['Start date']\n",
    "print(rides['Duration'].head(5))\n",
    "\n",
    "rides['Duration']\\\n",
    "    .dt.total_seconds()\\\n",
    "    .head(5)\n"
   ]
  },
  {
   "cell_type": "code",
   "execution_count": null,
   "metadata": {},
   "outputs": [],
   "source": [
    "# Summarizing data in Pandas\n",
    "# Average time out of the dock\n",
    "rides['Duration'].mean()\n",
    "\n",
    "# Total time out of the dock\n",
    "rides['Duration'].sum()\n",
    "\n",
    "# Percent of time out of the dock\n",
    "rides['Duration'].sum() / timedelta(days=91)\n",
    "\n",
    "# Count how many time the bike started at each station\n",
    "rides['Member type'].value_counts()\n",
    "\n",
    "# Percent of rides by member\n",
    "rides['Member type'].value_counts() / len(rides)\n",
    "\n",
    "# Add duration (in seconds) column\n",
    "rides['Duration seconds'] = rides['Duration'].dt.total_seconds()\n",
    "\n",
    "# Average duration per member type\n",
    "rides.groupby('Member type')['Duration seconds'].mean()\n",
    "\n",
    "# Average duration by month\n",
    "rides.resample('M', on='Start date')['Duration seconds'].mean()\n",
    "\n",
    "# Size per group\n",
    "rides.groupby('Member type').size()\n",
    "\n",
    "# First ride per group\n",
    "rides.groupby('Member type').first()"
   ]
  },
  {
   "cell_type": "code",
   "execution_count": null,
   "metadata": {},
   "outputs": [],
   "source": [
    "# Timezones in Pandas\n",
    "rides['Start date'].head(3)\\\n",
    "    .dt.tz_localize('America/New_York')\n",
    "\n",
    "# Handle ambiguoug datetimes\n",
    "rides['Start date'] = rides['Start date']\\\n",
    "    .dt.tz_localize('America/New_York', ambiguous='NaT')\n",
    "\n",
    "rides['End date'] = rides['End date']\\\n",
    "    .dt.tz_localize('America/New_York', ambiguous='NaT')\n",
    "\n",
    "# Re-calculate duration, ignoring bad row\n",
    "rides['Duration'] = rides['End date'] - rides['Start date']\n",
    "\n",
    "# Find the minimun again\n",
    "rides['Duration'].dt.total_seconds().min()\n",
    "\n",
    "# Year of first three rows\n",
    "rides['Start date']\\\n",
    "    .head(3)\\\n",
    "        .dt.year\n",
    "\n",
    "# See weekdays for first three rides\n",
    "rides['Start date']\\\n",
    "    .head(3)\\\n",
    "        .dt.day_name()\n",
    "\n",
    "# Shift the indexes forward one, padding with NaT\n",
    "rides['End date'].shift(1).head(3)"
   ]
  }
 ],
 "metadata": {
  "kernelspec": {
   "display_name": "Python 3.11.5 64-bit",
   "language": "python",
   "name": "python3"
  },
  "language_info": {
   "codemirror_mode": {
    "name": "ipython",
    "version": 3
   },
   "file_extension": ".py",
   "mimetype": "text/x-python",
   "name": "python",
   "nbconvert_exporter": "python",
   "pygments_lexer": "ipython3",
   "version": "3.11.5"
  },
  "orig_nbformat": 4,
  "vscode": {
   "interpreter": {
    "hash": "aee8b7b246df8f9039afb4144a1f6fd8d2ca17a180786b69acc140d282b71a49"
   }
  }
 },
 "nbformat": 4,
 "nbformat_minor": 2
}

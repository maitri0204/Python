{
 "cells": [
  {
   "cell_type": "code",
   "execution_count": null,
   "metadata": {},
   "outputs": [],
   "source": [
    "# Updating data types\n",
    "books['year'] = books['year'].astype(int)\n",
    "books.dtypes\n",
    "\n",
    "# validating categorical data\n",
    "books['genre'].isin(['Fiction', 'Non Fiction'])\n",
    "\n",
    "# Named summary columns\n",
    "books.groupby('genre').agg(mean_rating=('rating', 'mean'), std_rating=('rating', 'std'), median_year=('year', 'median'))"
   ]
  },
  {
   "cell_type": "code",
   "execution_count": null,
   "metadata": {},
   "outputs": [],
   "source": [
    "# Checking for missing values\n",
    "print(salaries.isna().sum())\n",
    "\n",
    "# dropping missing values\n",
    "thresold = len(salaries) * 0.05\n",
    "print(thresold)\n",
    "cols_to_drop = salaries.columns[salaries.isna().sum() <= thresold]\n",
    "print(cols_to_drop)\n",
    "salaries.dropna(subset=cols_to_drop, inplace=True)\n",
    "\n",
    "# Imputing summary statistic\n",
    "cols_with_missing_values = salaries.columns[salaries.isna().sum() > 0]\n",
    "print(cols_with_missing_values)\n",
    "for col in cols_with_missing_values[:-1]:\n",
    "    salaries['col'].fillna(salaries[col].mode()[0])\n",
    "\n",
    "# Imputing by sub-group\n",
    "salaries_dict = salaries.groupby('Experience')['Salary_USD'].median().to_dict()\n",
    "print(salaries_dict)\n",
    "salaries['Salary_USD'] = salaries['Salary_USD'].fillna(salaries['Experince'].map(salaries_dict))\n"
   ]
  },
  {
   "cell_type": "code",
   "execution_count": 2,
   "metadata": {},
   "outputs": [
    {
     "ename": "TypeError",
     "evalue": "type 'DataFrame' is not subscriptable",
     "output_type": "error",
     "traceback": [
      "\u001b[0;31m---------------------------------------------------------------------------\u001b[0m",
      "\u001b[0;31mTypeError\u001b[0m                                 Traceback (most recent call last)",
      "Cell \u001b[0;32mIn[2], line 22\u001b[0m\n\u001b[1;32m     19\u001b[0m consultant \u001b[38;5;241m=\u001b[39m \u001b[38;5;124m'\u001b[39m\u001b[38;5;124mConsultant|Freelance\u001b[39m\u001b[38;5;124m'\u001b[39m\n\u001b[1;32m     20\u001b[0m salaries \u001b[38;5;241m=\u001b[39m pd\u001b[38;5;241m.\u001b[39mDataFrame\n\u001b[1;32m     21\u001b[0m conditions \u001b[38;5;241m=\u001b[39m [\n\u001b[0;32m---> 22\u001b[0m     (\u001b[43msalaries\u001b[49m\u001b[43m[\u001b[49m\u001b[38;5;124;43m'\u001b[39;49m\u001b[38;5;124;43mDesignation\u001b[39;49m\u001b[38;5;124;43m'\u001b[39;49m\u001b[43m]\u001b[49m\u001b[38;5;241m.\u001b[39mstr\u001b[38;5;241m.\u001b[39mcontains(data_science)),\n\u001b[1;32m     23\u001b[0m     (salaries[\u001b[38;5;124m'\u001b[39m\u001b[38;5;124mDesignation\u001b[39m\u001b[38;5;124m'\u001b[39m]\u001b[38;5;241m.\u001b[39mstr\u001b[38;5;241m.\u001b[39mcontains(data_analyst)),\n\u001b[1;32m     24\u001b[0m     (salaries[\u001b[38;5;124m'\u001b[39m\u001b[38;5;124mDesignation\u001b[39m\u001b[38;5;124m'\u001b[39m]\u001b[38;5;241m.\u001b[39mstr\u001b[38;5;241m.\u001b[39mcontains(data_engineer)),\n\u001b[1;32m     25\u001b[0m     (salaries[\u001b[38;5;124m'\u001b[39m\u001b[38;5;124mDesignation\u001b[39m\u001b[38;5;124m'\u001b[39m]\u001b[38;5;241m.\u001b[39mstr\u001b[38;5;241m.\u001b[39mcontains(ml_engineer)),\n\u001b[1;32m     26\u001b[0m     (salaries[\u001b[38;5;124m'\u001b[39m\u001b[38;5;124mDesignation\u001b[39m\u001b[38;5;124m'\u001b[39m]\u001b[38;5;241m.\u001b[39mstr\u001b[38;5;241m.\u001b[39mcontains(manager)),\n\u001b[1;32m     27\u001b[0m     (salaries[\u001b[38;5;124m'\u001b[39m\u001b[38;5;124mDesignation\u001b[39m\u001b[38;5;124m'\u001b[39m]\u001b[38;5;241m.\u001b[39mstr\u001b[38;5;241m.\u001b[39mcontains(consultant)),\n\u001b[1;32m     28\u001b[0m ]\n\u001b[1;32m     29\u001b[0m salaries[\u001b[38;5;124m'\u001b[39m\u001b[38;5;124mJob_Category\u001b[39m\u001b[38;5;124m'\u001b[39m] \u001b[38;5;241m=\u001b[39m np\u001b[38;5;241m.\u001b[39mselect(conditions, job_categories, default \u001b[38;5;241m=\u001b[39m \u001b[38;5;124m'\u001b[39m\u001b[38;5;124mOther\u001b[39m\u001b[38;5;124m'\u001b[39m)\n\u001b[1;32m     30\u001b[0m \u001b[38;5;28mprint\u001b[39m(salaries[[\u001b[38;5;124m'\u001b[39m\u001b[38;5;124mDesignation\u001b[39m\u001b[38;5;124m'\u001b[39m, \u001b[38;5;124m'\u001b[39m\u001b[38;5;124mJob_Category\u001b[39m\u001b[38;5;124m'\u001b[39m]]\u001b[38;5;241m.\u001b[39mhead())\n",
      "\u001b[0;31mTypeError\u001b[0m: type 'DataFrame' is not subscriptable"
     ]
    }
   ],
   "source": [
    "# previewing the data\n",
    "print(salaries.select_dtypes('object').head())\n",
    "\n",
    "# extracting value from categories\n",
    "salaries['Designation'].str.contains('Scientist')\n",
    "\n",
    "# findinf multiple phrases in strings\n",
    "salaries['Designation'].str.contains('Machine Learning|AI')\n",
    "salaries['Designation'].str.contains('^Data')   # starting with phrase data\n",
    "\n",
    "import pandas as pd\n",
    "import numpy as np\n",
    "import seaborn as sns\n",
    "import matplotlib.pyplot as plt\n",
    "\n",
    "job_categories = ['Data Science', 'Data Analytics', 'Data Engineering', 'Machine Learning', 'Managerial', 'Consultant']\n",
    "data_science = 'Data Scientist|NLP'\n",
    "data_analyst = 'Analyst|Analytics'\n",
    "data_engineer = 'Data Engineer|ETL|Architect|Infrastructure'\n",
    "ml_engineer = 'Machine Learning|ML|Big Data|AI'\n",
    "manager = 'Manager|Head|Director|Lead|Principal|Staff'\n",
    "consultant = 'Consultant|Freelance'\n",
    "conditions = [\n",
    "    (salaries['Designation'].str.contains(data_science)),\n",
    "    (salaries['Designation'].str.contains(data_analyst)),\n",
    "    (salaries['Designation'].str.contains(data_engineer)),\n",
    "    (salaries['Designation'].str.contains(ml_engineer)),\n",
    "    (salaries['Designation'].str.contains(manager)),\n",
    "    (salaries['Designation'].str.contains(consultant)),\n",
    "]\n",
    "salaries['Job_Category'] = np.select(conditions, job_categories, default = 'Other')\n",
    "print(salaries[['Designation', 'Job_Category']].head())\n",
    "sns.countplot(data=salaries, x='Job_Category')\n",
    "plt.show()"
   ]
  },
  {
   "cell_type": "code",
   "execution_count": null,
   "metadata": {},
   "outputs": [],
   "source": [
    "# converting strings to numbers\n",
    "pd.Series.str.replace('characters to remove', 'characters to replace them with')\n",
    "\n",
    "salaries['Salary_In_Rupees'] = salaries['Salary_In_Rupees'].str.replace(',', \"\")\n",
    "print(salary['Salary_In_Rupees'].head())\n",
    "\n",
    "salaries['Salary_In_Rupees'] = salaries['Salary_In_Rupees'].astype(float)\n",
    "salaries['Salary_In_Rupees'] = salaries['Salary_In_Rupees'] * 0.012\n",
    "\n",
    "# adding summary statistics into a DataFrame\n",
    "salaries['std_dev'] = salaries.groupby('Experience')['Salary_USD'].transform(lambda x: x.std())\n"
   ]
  },
  {
   "cell_type": "code",
   "execution_count": null,
   "metadata": {},
   "outputs": [],
   "source": [
    "# Indentifying thresholds\n",
    "seventy_fifth = salaries['Salary_USD'].quantile(0.75)\n",
    "twenty_fifth = salaries['Salary_USD'].quantile(0.25)\n",
    "salaries_iqr = seventy_fifth - twenty_fifth\n",
    "print(salaries_iqr)\n",
    "\n",
    "# identifying outliers\n",
    "upper = seventy_fifth + (1.5 * salaries_iqr)\n",
    "lower = twenty_fifth - (1.5 * salaries_iqr)\n",
    "print(upper, lower)\n",
    "\n",
    "# subsetting our data\n",
    "salaries[(salaries['Salary_USD'] < lower) | (salaries['Salary_USD'] > upper)] \\\n",
    "    [['Experience', 'Employee_Location', 'Salary_USD']]\n",
    "\n",
    "# dropping outliers\n",
    "no_outliers = salaries[(salaries['Salary_USD'] > lower) & (salaries['Salary_USD'] < upper)]\n",
    "print(no_outliers['Salary_USD'].describe())"
   ]
  },
  {
   "cell_type": "code",
   "execution_count": null,
   "metadata": {},
   "outputs": [],
   "source": [
    "# patterns over time\n",
    "divorce = pd.read_csv('divorce.csv', parse_dates=['marriage_date'])\n",
    "divorce.dtypes\n",
    "\n",
    "# converting to datatime data\n",
    "divorce['marriage_date'] = pd.to_datetime(divorce['marriage_date'])\n",
    "divorce.dtypes\n",
    "\n",
    "#extracting month attribute\n",
    "divorce['marriage_month'] = divorce['marriage_date'].dt.month\n",
    "divorce.head()"
   ]
  },
  {
   "cell_type": "code",
   "execution_count": null,
   "metadata": {},
   "outputs": [],
   "source": [
    "# correlation\n",
    "divorce.corr()\n",
    "\n",
    "# correlation heatmaps\n",
    "sns.heatmap(divorce.corr(), annot=True)\n",
    "plt.show()\n",
    "\n",
    "# pairplots\n",
    "sns.pairplot(data=divorce, vars=['income_man', 'income_woman', 'marriage_duration'])\n",
    "plt.show()"
   ]
  },
  {
   "cell_type": "markdown",
   "metadata": {},
   "source": [
    "cut tells seaborn how far past the minmum and maximum data values the curve should go when smoothing is applied.\n",
    "cut = 0, the curve will be limited to values between the minimum and maximum x values.\n",
    "\n",
    "if interested in cumulative funcation then set it to True."
   ]
  },
  {
   "cell_type": "code",
   "execution_count": null,
   "metadata": {},
   "outputs": [],
   "source": [
    "# factor relationships and distributions\n",
    "sns.histplot(data=divorce, x='marriage_duration',hue = 'education_man', binwidth=1)\n",
    "plt.show()\n",
    "\n",
    "# kernel density estimate (KDE) plots\n",
    "sns.kdeplot(data=divorce, x='marriage_duration', hue='education_man', cut=0, cumulative=True)\n",
    "plt.show()\n",
    "\n",
    "# relationship between marriage age and education\n",
    "divorce['man_age_marriage'] = divorce['marriage_year'] - divorce['dob_man'].dt.year\n",
    "divorce['woman_age_marriage'] = divorce['marriage_year'] - divorce['dob_woman'].dt.year\n",
    "sns.scatterplot(data=divorce, x='woman_age_marriage', y='man_age_marriage', hue='education_man')\n",
    "plt.show()"
   ]
  },
  {
   "cell_type": "code",
   "execution_count": null,
   "metadata": {},
   "outputs": [],
   "source": [
    "# considerations for categorical data\n",
    "# relative class frequency\n",
    "planes['Destination'].value_counts(normalize=True)\n",
    "\n",
    "# cross-tabulation\n",
    "pd.crosstab(planes['Source'], planes['Destination'], values=planes['Price'], aggfunc='median')"
   ]
  },
  {
   "cell_type": "code",
   "execution_count": null,
   "metadata": {},
   "outputs": [],
   "source": [
    "# Generating new features\n",
    "# Correlation\n",
    "sns.heatmap(planes.corr(), annot=True)\n",
    "plt.show()\n",
    "print(planes.dtypes)\n",
    "\n",
    "# Total stops\n",
    "print(planes['Total_Stops'].value_counts())\n",
    "\n",
    "# Cleaning total stops\n",
    "planes['Total_Stops'] = planes[\"Total_Stops\"].str.replace(\" stops\", \"\")\n",
    "planes['Total_Stops'] = planes[\"Total_Stops\"].str.replace(\" stop\", \"\")\n",
    "planes['Total_Stops'] = planes[\"Total_Stops\"].str.replace(\"non-stop\", \"\")\n",
    "planes['Total_Stops'] = planes[\"Total_Stops\"].astype(int)\n",
    "\n",
    "# Extracting month and weekday\n",
    "planes['month'] = planes['Date_of_Journey'].dt.month\n",
    "planes['weekday'] = planes['Date_of_Journey'].dt.weekday\n",
    "print(planes[['month', 'weekday', 'Date_of_Journey']].head())\n",
    "\n",
    "# Departure and arrival times\n",
    "planes['Dep_Hour'] = planes['Dep_Time'].dt.hour\n",
    "planes['Arrival_Hour'] = planes['Arrival_Time'].dt.hour\n",
    "\n",
    "# Descriptive statistics\n",
    "twenty_fifth = planes['Price'].quantile(0.25)\n",
    "median = planes['Price'].median()\n",
    "seventy_fifth = planes['Price'].quantile(0.75)\n",
    "maximum = planes['Price'].max()\n",
    "\n",
    "# Labels and bins\n",
    "labels = ['Economy', 'Premium Economy', 'Business Class', 'First Class']\n",
    "bins = [0, twenty_fifth, median, seventy_fifth, maximum]\n",
    "\n",
    "# pd.cut()\n",
    "planes[\"Price_Category\"] = pd.cut(planes['Price'], labels=labels, bins=bins)\n"
   ]
  },
  {
   "cell_type": "code",
   "execution_count": null,
   "metadata": {},
   "outputs": [],
   "source": [
    "# generating hypotheses\n",
    "sns.barplot(data=planes, x='Airline', y='Duration')\n",
    "plt.show()"
   ]
  }
 ],
 "metadata": {
  "kernelspec": {
   "display_name": "Python 3.11.5 64-bit",
   "language": "python",
   "name": "python3"
  },
  "language_info": {
   "codemirror_mode": {
    "name": "ipython",
    "version": 3
   },
   "file_extension": ".py",
   "mimetype": "text/x-python",
   "name": "python",
   "nbconvert_exporter": "python",
   "pygments_lexer": "ipython3",
   "version": "3.11.5"
  },
  "orig_nbformat": 4,
  "vscode": {
   "interpreter": {
    "hash": "aee8b7b246df8f9039afb4144a1f6fd8d2ca17a180786b69acc140d282b71a49"
   }
  }
 },
 "nbformat": 4,
 "nbformat_minor": 2
}

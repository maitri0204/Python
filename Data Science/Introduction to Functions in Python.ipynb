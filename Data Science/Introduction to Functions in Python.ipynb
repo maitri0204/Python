{
 "cells": [
  {
   "cell_type": "code",
   "execution_count": 3,
   "metadata": {},
   "outputs": [
    {
     "name": "stdout",
     "output_type": "stream",
     "text": [
      "25\n"
     ]
    }
   ],
   "source": [
    "# defining a func\n",
    "def square(value):\n",
    "    new_value = value**2\n",
    "    return new_value\n",
    "\n",
    "num=square(5)\n",
    "print(num)"
   ]
  },
  {
   "cell_type": "code",
   "execution_count": 7,
   "metadata": {},
   "outputs": [
    {
     "name": "stdout",
     "output_type": "stream",
     "text": [
      "16\n",
      "6\n",
      "4\n"
     ]
    }
   ],
   "source": [
    "# multiple parameters and return values\n",
    "def raise_to_power(value1, value2):\n",
    "    '''Raise value1 to the power of value2'''\n",
    "    new_value=value1**value2\n",
    "    return new_value\n",
    "\n",
    "x=raise_to_power(4, 2)\n",
    "print(x)\n",
    "\n",
    "# Unpacking tuples\n",
    "even_nums = (2, 4, 6)\n",
    "a, b, c = even_nums\n",
    "print(c)\n",
    "second_num = even_nums[1]\n",
    "print(second_num)\n",
    "\n",
    "# returning multiple values\n",
    "def raise_both(value1, value2):\n",
    "    '''Raise value1 to the power of value2 and vice versa'''\n",
    "    new_value1 = value1 ** value2\n",
    "    new_value2 = value2 ** value1\n",
    "\n",
    "    new_tuple=(new_value1, new_value2)\n",
    "    return new_tuple\n"
   ]
  },
  {
   "cell_type": "code",
   "execution_count": 1,
   "metadata": {},
   "outputs": [
    {
     "name": "stdout",
     "output_type": "stream",
     "text": [
      "4 64\n"
     ]
    }
   ],
   "source": [
    "# nested func.\n",
    "def raise_val(n):\n",
    "    '''Return the inner function.'''\n",
    "\n",
    "    def inner(x):\n",
    "        '''Raise x to the power of n.'''\n",
    "        raised = x**n\n",
    "        return raised\n",
    "\n",
    "    return inner\n",
    "\n",
    "square = raise_val(2)\n",
    "cube = raise_val(3)\n",
    "print(square(2), cube(4))"
   ]
  },
  {
   "cell_type": "code",
   "execution_count": 3,
   "metadata": {},
   "outputs": [
    {
     "name": "stdout",
     "output_type": "stream",
     "text": [
      "name: dumbledore\n",
      "job: headmaster\n"
     ]
    }
   ],
   "source": [
    "# default and flexible arguments\n",
    "def power(number, pow=1):\n",
    "    '''Raise number to the power of pow.'''\n",
    "    new_value = number ** pow\n",
    "    return new_value\n",
    "\n",
    "power(9, 2)\n",
    "\n",
    "def print_all(**kwargs):\n",
    "    '''Print out key-value pairs in  **kwargs.'''\n",
    "\n",
    "    # Print out the key-value pairs\n",
    "    for key, value in kwargs.items():\n",
    "        print(key + ': ' + value)\n",
    "\n",
    "print_all(name='dumbledore', job='headmaster')\n"
   ]
  },
  {
   "cell_type": "code",
   "execution_count": 2,
   "metadata": {},
   "outputs": [
    {
     "name": "stdout",
     "output_type": "stream",
     "text": [
      "<map object at 0x10c6fa830>\n"
     ]
    }
   ],
   "source": [
    "# lambda functions\n",
    "raise_to_power = lambda x, y: x**y\n",
    "raise_to_power(2, 3)\n",
    "\n",
    "# anonymous functions\n",
    "nums = [48, 6, 9, 21, 1]\n",
    "square_all = map(lambda num: num ** 2, nums)\n",
    "print(square_all)"
   ]
  },
  {
   "cell_type": "code",
   "execution_count": 5,
   "metadata": {},
   "outputs": [
    {
     "name": "stdout",
     "output_type": "stream",
     "text": [
      "x must be an int or float\n"
     ]
    }
   ],
   "source": [
    "# Introducing error handling\n",
    "def sqrt(x):\n",
    "    '''Returns the square root of a number'''\n",
    "    try:\n",
    "        return x ** 0.5\n",
    "    except:\n",
    "        print('x must be an int or float')\n",
    "\n",
    "sqrt('heelo')"
   ]
  }
 ],
 "metadata": {
  "kernelspec": {
   "display_name": "Python 3.11.5 64-bit",
   "language": "python",
   "name": "python3"
  },
  "language_info": {
   "codemirror_mode": {
    "name": "ipython",
    "version": 3
   },
   "file_extension": ".py",
   "mimetype": "text/x-python",
   "name": "python",
   "nbconvert_exporter": "python",
   "pygments_lexer": "ipython3",
   "version": "3.11.5"
  },
  "orig_nbformat": 4,
  "vscode": {
   "interpreter": {
    "hash": "aee8b7b246df8f9039afb4144a1f6fd8d2ca17a180786b69acc140d282b71a49"
   }
  }
 },
 "nbformat": 4,
 "nbformat_minor": 2
}

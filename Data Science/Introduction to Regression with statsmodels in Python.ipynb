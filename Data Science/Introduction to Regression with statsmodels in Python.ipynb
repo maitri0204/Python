{
 "cells": [
  {
   "cell_type": "code",
   "execution_count": null,
   "metadata": {},
   "outputs": [],
   "source": [
    "# Visualizing the plot\n",
    "import matplotlib.pyplot as plt\n",
    "import seaborn as sns\n",
    "\n",
    "sns.regplot(x='n_claims', y='total_payement_sek', data=swedish_motor_insurance, ci=None)\n",
    "plt.show()"
   ]
  },
  {
   "cell_type": "code",
   "execution_count": null,
   "metadata": {},
   "outputs": [],
   "source": [
    "# Import the ols function\n",
    "from statsmodels.formula.api import ols\n",
    "\n",
    "# Create the model object\n",
    "# price_twd_msq as the response variable and n_convenience as the explanatory variable\n",
    "mdl_price_vs_conv = ols(formula='price_twd_msq ~ n_convenience', data=taiwan_real_estate)\n",
    "\n",
    "# Fit the model\n",
    "mdl_price_vs_conv = mdl_price_vs_conv.fit()\n",
    "\n",
    "# Print the parameters of the fitted model\n",
    "print(mdl_price_vs_conv.params)"
   ]
  },
  {
   "cell_type": "code",
   "execution_count": null,
   "metadata": {},
   "outputs": [],
   "source": [
    "# Visualizing 1 numeric and 1 categorical variable\n",
    "import matplotlib.pyplot as plt\n",
    "import seaborn as sns\n",
    "\n",
    "sns.displot(data=fish, x='mass_g', col='species', col_wraps=2, bins=9)\n",
    "plt.show()\n",
    "\n",
    "# Mean mass by species\n",
    "summary_stats = fish.groupby('species')['mass_g'].mean()\n",
    "print(summary_stats)"
   ]
  },
  {
   "cell_type": "code",
   "execution_count": null,
   "metadata": {},
   "outputs": [],
   "source": [
    "# Linear regression\n",
    "from statsmodels.formula.api import ols\n",
    "mdl_mass_vs_species = ols('mass_g ~ species', data=fish).fit()\n",
    "print(mdl_mass_vs_species.params)\n",
    "\n",
    "# Without an intercept\n",
    "mdl_mass_vs_species = ols('mass_g ~ species + 0', data=fish).fit()\n",
    "print(mdl_mass_vs_species.params)"
   ]
  },
  {
   "cell_type": "code",
   "execution_count": null,
   "metadata": {},
   "outputs": [],
   "source": [
    "# Running the model\n",
    "import numpy as np\n",
    "import pandas as pd\n",
    "mdl_mass_vs_length = ols('mass_g ~ length_cm', data=bream).fit()\n",
    "print(mdl_mass_vs_length.params)\n",
    "\n",
    "explanatory_data = pd.DataFrame({'length_cm':np.arange(20, 41)})\n",
    "print(mdl_mass_vs_length.predict(explanatory_data))\n",
    "\n",
    "# Predicting inside a DataFrame\n",
    "explanatory_data = pd.DataFrame({'length_cm':np.arange(20, 41)})\n",
    "predicton_data = explanatory_data.assign(mass_g=mdl_mass_vs_length.predict(explanatory_data))\n",
    "print(predicton_data)\n",
    "\n",
    "# Showing predictions\n",
    "import matplotlib.pyplot as plt\n",
    "import seaborn as sns\n",
    "fig = plt.figure()\n",
    "sns.regplot(x='length_cm', y='mass_g', ci=None, data=bream)\n",
    "sns.scatterplot(x='length_cm', y='mass_g', data=prediction_data, color='red', marker='s')\n",
    "plt.show()\n",
    "\n",
    "# Extrapolating \n",
    "little_bream = pd.DataFrame({'length_cm': [10]})\n",
    "pred_little_bream = little_bream.assign(mass_g=ml_mass_vs_length.predict(little_bream))\n",
    "print(pred_little_bream)"
   ]
  },
  {
   "cell_type": "code",
   "execution_count": null,
   "metadata": {},
   "outputs": [],
   "source": [
    "from statsmodels.formula.api import ols\n",
    "mdl_mass_vs_length = ols('mass_g ~ length_cm', data=bream).fit()\n",
    "print(mdl_mass_vs_length.params)\n",
    "\n",
    "# .fittedvalues attribute(used to create models)\n",
    "print(mdl_mass_vs_length.fittedvalues)\n",
    "# or\n",
    "explanatory_data = bream['length_cm']\n",
    "print(mdl_mass_vs_length.predict(explanatory_data))\n",
    "\n",
    "# .resid attribute(measure of inaccuracy in model fit)\n",
    "print(mdl_mass_vs_length.resid)\n",
    "# or (Actual response value-predicted response value)\n",
    "print(bream['mass_g'] - mdl_mass_vs_length.fittedvalues)\n",
    "\n",
    "# .summary()\n",
    "mdl_mass_vs_length.summary()"
   ]
  },
  {
   "cell_type": "code",
   "execution_count": null,
   "metadata": {},
   "outputs": [],
   "source": [
    "# Regression to the mean\n",
    "fig = plt.figure()\n",
    "sns.scatterplot(x='father_height_cm', y='son_height_cm', data=father_son)\n",
    "plt.axline(xy1=(150, 150), slope=1, linewidth=2, color='green')\n",
    "plt.axis('equal')   # x-axis appears the same as one centimeter on y-axis\n",
    "plt.show()\n",
    "\n",
    "# Adding regression line\n",
    "fig = plt.figure()\n",
    "sns.regplot(x='father_height_cm', y='son_height_cm', data=father_son, ci=None, line_kws={'color': 'black'})\n",
    "plt.axline(xy1=(150, 150), slope=1, linewidth=2, color='green')\n",
    "plt.axis('equal')\n",
    "plt.show()\n",
    "\n",
    "# Running a regression\n",
    "mdl_son_vs_father = ols('son_height_cm ~ father_height_cm', data=father.son).fit()\n",
    "print(mdl_son_vs_father.params)\n",
    "\n",
    "# Making predictions\n",
    "really_tall_father = pd.DataFrame({'father_height_cm': [190]})\n",
    "mdl_son_vs_father.predict(really_tall_father)\n",
    "\n",
    "really_short_father = pd.DataFrame({'father_height_cm': [150]})\n",
    "mdl_son_vs_father.predict(really_short_father)"
   ]
  },
  {
   "cell_type": "code",
   "execution_count": null,
   "metadata": {},
   "outputs": [],
   "source": [
    "# Transforming variables\n",
    "# Plotting mass vs. length cubed\n",
    "perch['length_cm_cubed'] = perch['length_cm'] ** 3\n",
    "sns.regplot(x='length_cm_cubed', y='mass_g', data=perch, ci=None)\n",
    "plt.show()\n",
    "\n",
    "mdl_perch = ols('mass_g ~ length_cm_cubed', data=perch).fit()\n",
    "mdl_perch.params\n",
    "\n",
    "explanatory_data = pd.DataFrame({'length_cm_cubed': np.arange(10, 41, 5) ** 3, 'length_cm':np.arange(10, 41, 5)})\n",
    "\n",
    "prediction_data = explanatory_data.assign(mass_g=mdl_perch.predict(explanatory_data))\n",
    "print(prediction_data)\n",
    "\n",
    "fig = plt.figure()\n",
    "sns.regplot(x='length_cm_cubed', y='mass_g', data=perch, ci=None)\n",
    "sns.scatterplot(data=prediction_data, x='length_cm_cubed', y='mass_g', color='red', marker='s')\n",
    "\n",
    "fig = plt.figure()\n",
    "sns.regplot(x='length_cm', y='mass_g', data=perch, ci=None)\n",
    "sns.scatterplot(data=prediction_data, y='mass_g', x='length_cm', color='red', marker='s')\n"
   ]
  }
 ],
 "metadata": {
  "kernelspec": {
   "display_name": "Python 3.11.5 64-bit",
   "language": "python",
   "name": "python3"
  },
  "language_info": {
   "name": "python",
   "version": "3.11.5"
  },
  "orig_nbformat": 4,
  "vscode": {
   "interpreter": {
    "hash": "aee8b7b246df8f9039afb4144a1f6fd8d2ca17a180786b69acc140d282b71a49"
   }
  }
 },
 "nbformat": 4,
 "nbformat_minor": 2
}

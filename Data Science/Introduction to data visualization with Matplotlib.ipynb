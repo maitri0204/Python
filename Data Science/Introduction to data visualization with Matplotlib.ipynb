{
 "cells": [
  {
   "cell_type": "code",
   "execution_count": 1,
   "metadata": {},
   "outputs": [
    {
     "data": {
      "image/png": "[encoded data removed]",
      "text/plain": [
       "<Figure size 640x480 with 1 Axes>"
      ]
     },
     "metadata": {},
     "output_type": "display_data"
    }
   ],
   "source": [
    "# introducinf the pyplot interface\n",
    "import matplotlib.pyplot as plt\n",
    "fig, ax=plt.subplots()\n",
    "ax.plot(seattle_weather[\"MONTH\"], seattle_weather[\"MLY-TAVG-NORMAL\"])\n",
    "plt.show()"
   ]
  },
  {
   "cell_type": "code",
   "execution_count": null,
   "metadata": {},
   "outputs": [],
   "source": [
    "# customizing data apperance\n",
    "# add marker, add color\n",
    "ax.plot(seattle_weather['MONTH'], seattle_weather['MLY-PRCP-NORMAL'], marker='o', linestyle='--', color='r')\n",
    "ax.set_xlabel(\"Time (months)\")\n",
    "ax.set_ylabel(\"Average temperature (Fahrenheit degrees)\")\n",
    "ax.set_title(\"Weather in Seattle\")\n",
    "plt.show()"
   ]
  },
  {
   "cell_type": "code",
   "execution_count": 3,
   "metadata": {},
   "outputs": [
    {
     "data": {
      "image/png": "[encoded data removed]",
      "text/plain": [
       "<Figure size 640x480 with 6 Axes>"
      ]
     },
     "metadata": {},
     "output_type": "display_data"
    },
    {
     "data": {
      "text/plain": [
       "(3, 2)"
      ]
     },
     "execution_count": 3,
     "metadata": {},
     "output_type": "execute_result"
    }
   ],
   "source": [
    "# small multiples with plt.subplots\n",
    "import matplotlib.pyplot as plt\n",
    "fig, ax=plt.subplots(3, 2)\n",
    "plt.show()\n",
    "ax.shape\n",
    "ax[0, 0].plot(seattle_weather['MONTH'], seattle_weather['MLY-PRCP-NORMAL'], color='b')\n",
    "plt.show()\n",
    "\n",
    "# for same range in all subplots\n",
    "fig, ax=plt.subplots(2, 1, sharey=True)\n"
   ]
  },
  {
   "cell_type": "code",
   "execution_count": null,
   "metadata": {},
   "outputs": [],
   "source": [
    "# plotting time-series data\n",
    "climate_change.index\n",
    "climate_chamge['relative_temp']\n",
    "import matplotlib.pyplot as plt\n",
    "fig, ax=plt.subplots()\n",
    "ax.plot(climate_change.index, climate_change['co2'])\n",
    "ax.set_xlabel('Time')\n",
    "ax.set_ylabel('CO2 (ppm)')\n",
    "plt.show()\n",
    "\n",
    "# with different variables\n",
    "import pandas as pd\n",
    "climate_change = pd.read_csv('climate_change.csv', parse_dates=['date'], index_col='date')\n",
    "import matplotlib.pyplot as plt\n",
    "fig, ax=plt.subplots()\n",
    "ax.plot(climate_change.index, climate_change['co2'])\n",
    "ax.plot(climate_change.index, climate_change['relative_temp'])\n",
    "ax.set_xlabel('Time')\n",
    "ax.set_ylabel('CO2 (ppm) / Relative temperature')\n",
    "ax2 = ax.twinx()\n",
    "# ax2.plot(climate_change.index, climate_change['relative_temp'], color='red')\n",
    "# ax2.set_ylabel('Relative temperature (Celsius)', color='red')\n",
    "# ax2.tic_params('y', colors='red')\n",
    "plt.show()\n",
    "\n",
    "# defining a function\n",
    "def plot_timeseries(axes, x, y, color, xlabel, ylabel):\n",
    "    axes.plot(x, y, color=color)\n",
    "    axes.set_xlabel(xlabel)\n",
    "    axes.set_ylabel(ylabel, color=color)\n",
    "    axes.tick_params('y', colors=color)"
   ]
  },
  {
   "cell_type": "code",
   "execution_count": null,
   "metadata": {},
   "outputs": [],
   "source": [
    "# annotating time-series data\n",
    "import matplotlib.pyplot as plt\n",
    "fig, ax=plt.subplots()\n",
    "plot_timeseries(ax, climate_change.index, climate_change['co2'], 'blue', 'Time', 'CO2 (ppm)')\n",
    "ax2 = ax.twinx()\n",
    "plot_timeseries(ax2, climate_change.index, climate_change['relative_temp'], 'red', 'Time', 'Relative temperature (Celsius)')\n",
    "ax2.annotate(\">1 degree\", xy=(pd.Timestamp('2015-10-06'), 1), xytext=(pd.Timestamp('2008-10-06'), -0.2), arrowprops={\"arrowstyle\":\"->\", \"color\":\"gray\"})\n",
    "plt.show()"
   ]
  },
  {
   "cell_type": "code",
   "execution_count": null,
   "metadata": {},
   "outputs": [],
   "source": [
    "# quantative comparison between parts of data\n",
    "# bar charts\n",
    "medals=pd.read_csv('medals_by_country_2016.csv', index_col=0)\n",
    "fig, ax=plt.subplots()\n",
    "ax.bar(medals.index, medals['Gold'])\n",
    "ax.bar(medals.index, medals['Silver'], bottom=medals['Gold'])   # stacked bar chart\n",
    "ax.bar(medals.index, medals['Bronze'], bottom=medals['Gold'] + medals['Silver'])\n",
    "ax.set_xticklabels(medals.index, rotation=90)\n",
    "ax.set_ylabel('Number of medals')\n",
    "ax.legend()\n",
    "plt.show()"
   ]
  },
  {
   "cell_type": "code",
   "execution_count": null,
   "metadata": {},
   "outputs": [],
   "source": [
    "# histograms\n",
    "fig, ax=plt.subplots()\n",
    "ax.hist(mens_rowing['Height'], label='Rowing', bins=5)# bins=[150, 160,...]-boundaries btw bins\n",
    "ax.hist(mens_gymnastics['Height'], label='Gymnastics', bins=5)\n",
    "ax.set_xlabel('Height (cm)')\n",
    "ax.set_ylabel('# of observations')\n",
    "ax.legend()\n",
    "plt.show()"
   ]
  },
  {
   "cell_type": "code",
   "execution_count": null,
   "metadata": {},
   "outputs": [],
   "source": [
    "# statistical plotting\n",
    "fig, ax=plt.subplots()\n",
    "ax.bar('Rowing', mens_rowing['Height'].mean(),\n",
    "        yerr=mens_rowing['Height'].std())\n",
    "ax.bar('Gymnastics', mens_gymnastics['Height'].mean(),\n",
    "        yerr=mens_gymnastics['Height'].std())\n",
    "ax.set_ylabel('Height (cm)')\n",
    "plt.show()\n",
    "\n",
    "# adding error bars to plots\n",
    "fig, ax=plt.subplots()\n",
    "ax.errorbar(seattle_weather['MONTH'],\n",
    "            seattle_weather['MLY-TAVG-NORMAL'],\n",
    "            yerr=seattle_weather['MLY-TAVG-STDDEV'])\n",
    "\n",
    "ax.errorbar(austin_weather['MONTH'],\n",
    "            austin_weather['MLY-TAVG-NORMAL'],\n",
    "            yerr=austin_weather['MLY-TAVG-STDDEV'])   \n",
    "\n",
    "ax.set_ylabel('Temperature (Fahrenheit)')\n",
    "plt.show()\n",
    "\n",
    "# adding boxplots\n",
    "fig, ax=plt.subplots()\n",
    "ax.boxplot([mens_rowing['Height'], mens_gymnastics['Height']])\n",
    "ax.set_xticklabels(['Rowing', 'Gymnastics'])\n",
    "ax.set_ylabel('Height (cm)')\n",
    "plt.show()"
   ]
  },
  {
   "cell_type": "code",
   "execution_count": null,
   "metadata": {},
   "outputs": [],
   "source": [
    "# scatter plots\n",
    "fig, ax=plt.scatterplots()\n",
    "ax.scatterplot(climate_change['co2'], climate_change['relative_temp'])\n",
    "ax.set_xlabel('CO2 (ppm)')\n",
    "ax.set_ylabel('Relative temperature (Celsius)')\n",
    "plt.show()\n",
    "\n",
    "eighties=climate_change['1980-01-01':'1989-12-31']\n",
    "nineties=climate_change['1990-01-01':'1999-12-31']\n",
    "fig, ax=plt.subplots()\n",
    "ax.scatter(eighties['co2'], eighties['relative_temp'], color='red', label='eighties')\n",
    "ax.scatter(nineties['co2'], nineties['relative_temp'], color='blue', label='nineties')\n",
    "ax.legend()\n",
    "ax.set_xlabel(\"CO2 (ppm)\")\n",
    "ax.set_ylabel(\"Relative temperature (Celsius)\")\n",
    "plt.show()\n",
    "\n",
    "# encoding third variable by color\n",
    "fig, ax=plt.subplots()\n",
    "ax.scatter(climate_change['co2'], climate_change['relative_temp'], c=climate_change.index)\n",
    "ax.set_xlabel('CO2 (ppm)')\n",
    "ax.set_ylabel(\"Relative temperature (Celsius)\")\n",
    "plt.show()"
   ]
  },
  {
   "cell_type": "code",
   "execution_count": null,
   "metadata": {},
   "outputs": [],
   "source": [
    "# changing plot style\n",
    "plt.style.use('ggplot')\n",
    "fig,ax=plt.subplots()\n",
    "ax.plot(seattle_weather['MONTH'], seattle_weather['MLY-TAVG-NORMAL'])\n",
    "ax.plot(austin_weather['MONTH'], austin_weather['MLY-TAVG-NORMAL'])\n",
    "ax.set_xlabel('Time (months)')\n",
    "ax.set_ylabel('Average temperature (Fahrenheit degrees)')\n",
    "plt.show()\n",
    "\n",
    "# default use\n",
    "plt.style.use('default')\n",
    "plt.style.use('bmh')\n",
    "plt.style.use('seaborn-colorblind')"
   ]
  },
  {
   "cell_type": "code",
   "execution_count": null,
   "metadata": {},
   "outputs": [],
   "source": [
    "# figure to share\n",
    "fig, ax=plt.subplots()\n",
    "ax.bar(medals.index, medals['Gold'])\n",
    "ax.set_xticklabels(medals.index, rotation=90)\n",
    "ax.set_ylabel('Number of medals')\n",
    "fig.savefig('gold_medals.png', quality=50, dpi=300) # dots per inch-higher the no the more densly image\n",
    "fig.set_size_inches([5, 3])\n",
    "# ls - list the files used in directory\n"
   ]
  },
  {
   "cell_type": "code",
   "execution_count": null,
   "metadata": {},
   "outputs": [],
   "source": [
    "# bar-chart of heights for all sports\n",
    "fig, ax=plt.subplots()\n",
    "for sport in sports:\n",
    "    sport_df=summer_2016_medals[summer_2016_medals['Sport']==sport]\n",
    "    ax.bar(sport, sport_df['Height'].mean(), yerr=sport_df['Height'].std())\n",
    "ax.set_ylabel('Height (cm)')\n",
    "ax.set_xticklabels(sports, rotation=90)\n",
    "plt.show()"
   ]
  },
  {
   "cell_type": "code",
   "execution_count": null,
   "metadata": {},
   "outputs": [],
   "source": [
    "# pandas + matplotlib = seaborn\n",
    "import seaborn \n",
    "seaborn.replot(x='horsepower', y='mpg', hue='origin', size='weight', \n",
    "                sizes=(40, 400), alpha=.5, palette='muted', height=6, data=mpg)"
   ]
  }
 ],
 "metadata": {
  "kernelspec": {
   "display_name": "Python 3.11.5 64-bit",
   "language": "python",
   "name": "python3"
  },
  "language_info": {
   "codemirror_mode": {
    "name": "ipython",
    "version": 3
   },
   "file_extension": ".py",
   "mimetype": "text/x-python",
   "name": "python",
   "nbconvert_exporter": "python",
   "pygments_lexer": "ipython3",
   "version": "3.11.5"
  },
  "orig_nbformat": 4,
  "vscode": {
   "interpreter": {
    "hash": "aee8b7b246df8f9039afb4144a1f6fd8d2ca17a180786b69acc140d282b71a49"
   }
  }
 },
 "nbformat": 4,
 "nbformat_minor": 2
}

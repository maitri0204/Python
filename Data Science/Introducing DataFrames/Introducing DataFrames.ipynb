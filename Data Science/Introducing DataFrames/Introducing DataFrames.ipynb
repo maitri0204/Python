{
 "cells": [
  {
   "cell_type": "code",
   "execution_count": 2,
   "metadata": {},
   "outputs": [
    {
     "name": "stdout",
     "output_type": "stream",
     "text": [
      "      name      breed  color  height_cm  weight_kg date_of_birth\n",
      "0    Bella   Labrador  Brown         56         24    2013-07-01\n",
      "1  Charlie     Poodle  Black         43         24    2016-09-16\n",
      "2     Lucy  Chow Chow  Brown         46         24    2014-08-25\n",
      "<class 'pandas.core.frame.DataFrame'>\n",
      "RangeIndex: 7 entries, 0 to 6\n",
      "Data columns (total 6 columns):\n",
      " #   Column         Non-Null Count  Dtype \n",
      "---  ------         --------------  ----- \n",
      " 0   name           7 non-null      object\n",
      " 1   breed          7 non-null      object\n",
      " 2   color          7 non-null      object\n",
      " 3   height_cm      7 non-null      int64 \n",
      " 4   weight_kg      7 non-null      int64 \n",
      " 5   date_of_birth  7 non-null      object\n",
      "dtypes: int64(2), object(4)\n",
      "memory usage: 468.0+ bytes\n"
     ]
    },
    {
     "data": {
      "text/plain": [
       "RangeIndex(start=0, stop=7, step=1)"
      ]
     },
     "execution_count": 2,
     "metadata": {},
     "output_type": "execute_result"
    }
   ],
   "source": [
    "dict = {\n",
    "    \"name\":[\"Bella\", \"Charlie\", \"Lucy\", \"Cooper\", \"Max\", \"Stella\", \"Bernie\"],\n",
    "    \"breed\":[\"Labrador\", \"Poodle\", \"Chow Chow\", \"Schnauzer\", \"Labrador\", \"Chihuahua\", \"St. Bernard\"],\n",
    "    \"color\":[\"Brown\", \"Black\", \"Brown\", \"Gray\", \"Black\", \"Tan\", \"White\"],\n",
    "    \"height_cm\":[56, 43, 46, 49, 59, 18, 77],\n",
    "    \"weight_kg\":[24, 24, 24, 17, 29, 2, 74],\n",
    "    \"date_of_birth\":[\"2013-07-01\", \"2016-09-16\", \"2014-08-25\", \"2011-12-11\", \"2017-01-20\", \"2015-04-20\", \"2018-02-27\"]\n",
    "}\n",
    "\n",
    "import pandas as pd\n",
    "dogs = pd.DataFrame(dict)\n",
    "print(dogs.head(3)) # Prints first three rows \n",
    "dogs.info() # provides the info of dogs dataframe\n",
    "dogs.shape\n",
    "dogs.describe()\n",
    "dogs.values\n",
    "dogs.columns    # columns\n",
    "dogs.index  # the row"
   ]
  },
  {
   "cell_type": "code",
   "execution_count": 18,
   "metadata": {},
   "outputs": [
    {
     "data": {
      "text/html": [
       "<div>\n",
       "<style scoped>\n",
       "    .dataframe tbody tr th:only-of-type {\n",
       "        vertical-align: middle;\n",
       "    }\n",
       "\n",
       "    .dataframe tbody tr th {\n",
       "        vertical-align: top;\n",
       "    }\n",
       "\n",
       "    .dataframe thead th {\n",
       "        text-align: right;\n",
       "    }\n",
       "</style>\n",
       "<table border=\"1\" class=\"dataframe\">\n",
       "  <thead>\n",
       "    <tr style=\"text-align: right;\">\n",
       "      <th></th>\n",
       "      <th>name</th>\n",
       "      <th>breed</th>\n",
       "      <th>color</th>\n",
       "      <th>height_cm</th>\n",
       "      <th>weight_kg</th>\n",
       "      <th>date_of_birth</th>\n",
       "    </tr>\n",
       "  </thead>\n",
       "  <tbody>\n",
       "    <tr>\n",
       "      <th>0</th>\n",
       "      <td>Bella</td>\n",
       "      <td>Labrador</td>\n",
       "      <td>Brown</td>\n",
       "      <td>56</td>\n",
       "      <td>24</td>\n",
       "      <td>2013-07-01</td>\n",
       "    </tr>\n",
       "    <tr>\n",
       "      <th>2</th>\n",
       "      <td>Lucy</td>\n",
       "      <td>Chow Chow</td>\n",
       "      <td>Brown</td>\n",
       "      <td>46</td>\n",
       "      <td>24</td>\n",
       "      <td>2014-08-25</td>\n",
       "    </tr>\n",
       "    <tr>\n",
       "      <th>3</th>\n",
       "      <td>Cooper</td>\n",
       "      <td>Schnauzer</td>\n",
       "      <td>Gray</td>\n",
       "      <td>49</td>\n",
       "      <td>17</td>\n",
       "      <td>2011-12-11</td>\n",
       "    </tr>\n",
       "  </tbody>\n",
       "</table>\n",
       "</div>"
      ],
      "text/plain": [
       "     name      breed  color  height_cm  weight_kg date_of_birth\n",
       "0   Bella   Labrador  Brown         56         24    2013-07-01\n",
       "2    Lucy  Chow Chow  Brown         46         24    2014-08-25\n",
       "3  Cooper  Schnauzer   Gray         49         17    2011-12-11"
      ]
     },
     "execution_count": 18,
     "metadata": {},
     "output_type": "execute_result"
    }
   ],
   "source": [
    "#Sorting\n",
    "dogs.sort_values(\"weight_kg\", ascending=False)  # Sorted in descending order\n",
    "dogs.sort_values([\"weight_kg\", \"height_cm\"])    # sorted first by weight_kg and then by height_cm\n",
    "dogs.sort_values([\"weight_kg\", \"height_cm\"], ascending=[True, False])\n",
    "dogs[\"name\"]    # to look at particular column\n",
    "dogs[[\"breed\", \"height_cm\"]]    # to look at multiple column\n",
    "dogs[dogs[\"height_cm\"] > 50]\n",
    "dogs[dogs[\"breed\"] == \"Labrador\"]\n",
    "dogs[dogs[\"date_of_birth\"] < \"2015-01-01\"]"
   ]
  },
  {
   "cell_type": "code",
   "execution_count": 27,
   "metadata": {},
   "outputs": [
    {
     "data": {
      "text/html": [
       "<div>\n",
       "<style scoped>\n",
       "    .dataframe tbody tr th:only-of-type {\n",
       "        vertical-align: middle;\n",
       "    }\n",
       "\n",
       "    .dataframe tbody tr th {\n",
       "        vertical-align: top;\n",
       "    }\n",
       "\n",
       "    .dataframe thead th {\n",
       "        text-align: right;\n",
       "    }\n",
       "</style>\n",
       "<table border=\"1\" class=\"dataframe\">\n",
       "  <thead>\n",
       "    <tr style=\"text-align: right;\">\n",
       "      <th></th>\n",
       "      <th>name</th>\n",
       "      <th>breed</th>\n",
       "      <th>color</th>\n",
       "      <th>height_cm</th>\n",
       "      <th>weight_kg</th>\n",
       "      <th>date_of_birth</th>\n",
       "    </tr>\n",
       "  </thead>\n",
       "  <tbody>\n",
       "    <tr>\n",
       "      <th>0</th>\n",
       "      <td>Bella</td>\n",
       "      <td>Labrador</td>\n",
       "      <td>Brown</td>\n",
       "      <td>56</td>\n",
       "      <td>24</td>\n",
       "      <td>2013-07-01</td>\n",
       "    </tr>\n",
       "    <tr>\n",
       "      <th>1</th>\n",
       "      <td>Charlie</td>\n",
       "      <td>Poodle</td>\n",
       "      <td>Black</td>\n",
       "      <td>43</td>\n",
       "      <td>24</td>\n",
       "      <td>2016-09-16</td>\n",
       "    </tr>\n",
       "    <tr>\n",
       "      <th>2</th>\n",
       "      <td>Lucy</td>\n",
       "      <td>Chow Chow</td>\n",
       "      <td>Brown</td>\n",
       "      <td>46</td>\n",
       "      <td>24</td>\n",
       "      <td>2014-08-25</td>\n",
       "    </tr>\n",
       "    <tr>\n",
       "      <th>4</th>\n",
       "      <td>Max</td>\n",
       "      <td>Labrador</td>\n",
       "      <td>Black</td>\n",
       "      <td>59</td>\n",
       "      <td>29</td>\n",
       "      <td>2017-01-20</td>\n",
       "    </tr>\n",
       "  </tbody>\n",
       "</table>\n",
       "</div>"
      ],
      "text/plain": [
       "      name      breed  color  height_cm  weight_kg date_of_birth\n",
       "0    Bella   Labrador  Brown         56         24    2013-07-01\n",
       "1  Charlie     Poodle  Black         43         24    2016-09-16\n",
       "2     Lucy  Chow Chow  Brown         46         24    2014-08-25\n",
       "4      Max   Labrador  Black         59         29    2017-01-20"
      ]
     },
     "execution_count": 27,
     "metadata": {},
     "output_type": "execute_result"
    }
   ],
   "source": [
    "# Logical Operator\n",
    "# is_lab = dogs[\"breed\"] == \"Labrador\"\n",
    "# is_brown = dogs[\"color\"] == \"Brown\"\n",
    "# dogs[is_lab & is_brown]\n",
    "dogs[(dogs[\"breed\"] == \"Labrador\") & (dogs[\"color\"] == \"Brown\")]\n",
    "\n",
    "# filter mutliple values on categorical variable\n",
    "is_black_or_brown = dogs[\"color\"].isin([\"Black\", \"Brown\"])\n",
    "dogs[is_black_or_brown]\n",
    "# dogs[(dogs[\"color\"] == \"Black\") | (dogs[\"color\"] == \"Brown\")]"
   ]
  },
  {
   "cell_type": "code",
   "execution_count": 21,
   "metadata": {},
   "outputs": [
    {
     "name": "stdout",
     "output_type": "stream",
     "text": [
      "      name      breed  color  height_cm  weight_kg date_of_birth  height_m   \n",
      "0    Bella   Labrador  Brown         56         24    2013-07-01      0.56  \\\n",
      "1  Charlie     Poodle  Black         43         24    2016-09-16      0.43   \n",
      "2     Lucy  Chow Chow  Brown         46         24    2014-08-25      0.46   \n",
      "3   Cooper  Schnauzer   Gray         49         17    2011-12-11      0.49   \n",
      "4      Max   Labrador  Black         59         29    2017-01-20      0.59   \n",
      "\n",
      "          bmi  \n",
      "0   76.530612  \n",
      "1  129.799892  \n",
      "2  113.421550  \n",
      "3   70.803832  \n",
      "4   83.309394  \n",
      "     name  height_cm        bmi\n",
      "4     Max         59  83.309394\n",
      "0   Bella         56  76.530612\n",
      "3  Cooper         49  70.803832\n",
      "5  Stella         18  61.728395\n"
     ]
    }
   ],
   "source": [
    "#new column\n",
    "dogs[\"height_m\"] = dogs[\"height_cm\"] / 100\n",
    "dogs[\"bmi\"] = dogs[\"weight_kg\"] / dogs[\"height_m\"] ** 2\n",
    "print(dogs.head())\n",
    "bmi_lt_100 = dogs[dogs[\"bmi\"] < 100]\n",
    "bmi_lt_100_height = bmi_lt_100.sort_values(\"height_cm\", ascending = False)\n",
    "print(bmi_lt_100_height[[\"name\", \"height_cm\", \"bmi\"]])"
   ]
  },
  {
   "cell_type": "code",
   "execution_count": 15,
   "metadata": {},
   "outputs": [
    {
     "name": "stdout",
     "output_type": "stream",
     "text": [
      "49.714285714285715\n",
      "2011-12-11\n",
      "2018-02-27\n",
      "22.599999999999998\n",
      "weight_kg    22.6\n",
      "height_cm    45.4\n",
      "dtype: float64\n",
      "pct30    22.6\n",
      "pct40    24.0\n",
      "Name: weight_kg, dtype: float64\n",
      "0     24\n",
      "1     48\n",
      "2     72\n",
      "3     89\n",
      "4    118\n",
      "5    120\n",
      "6    194\n",
      "Name: weight_kg, dtype: int64\n",
      "0    24\n",
      "1    24\n",
      "2    24\n",
      "3    24\n",
      "4    29\n",
      "5    29\n",
      "6    74\n",
      "Name: weight_kg, dtype: int64\n"
     ]
    }
   ],
   "source": [
    "#summarizing data\n",
    "print(dogs[\"height_cm\"].mean())\n",
    "print(dogs[\"date_of_birth\"].min())  # oldest dog\n",
    "print(dogs[\"date_of_birth\"].max())  # youngest dog\n",
    "\n",
    "# .agg() method\n",
    "def pct30(column):\n",
    "    return column.quantile(0.3)\n",
    "\n",
    "print(dogs['weight_kg'].agg(pct30))\n",
    "print(dogs[[\"weight_kg\", \"height_cm\"]].agg(pct30))\n",
    "\n",
    "def pct40(column):\n",
    "    return column.quantile(0.4)\n",
    "\n",
    "print(dogs[\"weight_kg\"].agg([pct30, pct40]))\n",
    "print(dogs[\"weight_kg\"].cumsum())   # Cummulative statistics\n",
    "print(dogs[\"weight_kg\"].cummax())   # cummin(), cumprod()\n"
   ]
  },
  {
   "cell_type": "code",
   "execution_count": 9,
   "metadata": {},
   "outputs": [
    {
     "name": "stdout",
     "output_type": "stream",
     "text": [
      "      name        breed  color  height_cm  weight_kg date_of_birth\n",
      "0    Bella     Labrador  Brown         56         24    2013-07-01\n",
      "1  Charlie       Poodle  Black         43         24    2016-09-16\n",
      "2     Lucy    Chow Chow  Brown         46         24    2014-08-25\n",
      "3   Cooper    Schnauzer   Gray         49         17    2011-12-11\n",
      "4      Max     Labrador  Black         59         29    2017-01-20\n",
      "5   Stella    Chihuahua    Tan         18          2    2015-04-20\n",
      "6   Bernie  St. Bernard  White         77         74    2018-02-27\n",
      "breed\n",
      "Labrador       2\n",
      "Poodle         1\n",
      "Chow Chow      1\n",
      "Schnauzer      1\n",
      "Chihuahua      1\n",
      "St. Bernard    1\n",
      "Name: count, dtype: int64\n",
      "breed\n",
      "Labrador       0.285714\n",
      "Poodle         0.142857\n",
      "Chow Chow      0.142857\n",
      "Schnauzer      0.142857\n",
      "Chihuahua      0.142857\n",
      "St. Bernard    0.142857\n",
      "Name: proportion, dtype: float64\n"
     ]
    }
   ],
   "source": [
    "# Counting\n",
    "dogs.drop_duplicates(subset=\"name\")\n",
    "unique_dogs = dogs.drop_duplicates(subset=[\"name\", \"breed\"])\n",
    "print(unique_dogs)\n",
    "print(unique_dogs[\"breed\"].value_counts(sort=True)) # counts the unique\n",
    "print(unique_dogs[\"breed\"].value_counts(normalize=True))    # to count the proportion\n",
    "\n"
   ]
  },
  {
   "cell_type": "code",
   "execution_count": 16,
   "metadata": {},
   "outputs": [
    {
     "name": "stdout",
     "output_type": "stream",
     "text": [
      "26.5\n",
      "24.0\n",
      "74.0\n",
      "17.0\n",
      "2.0\n",
      "color\n",
      "Black    26.5\n",
      "Brown    24.0\n",
      "Gray     17.0\n",
      "Tan       2.0\n",
      "White    74.0\n",
      "Name: weight_kg, dtype: float64\n",
      "       min  max  sum\n",
      "color               \n",
      "Black   24   29   53\n",
      "Brown   24   24   48\n",
      "Gray    17   17   17\n",
      "Tan      2    2    2\n",
      "White   74   74   74\n",
      "color  breed      \n",
      "Black  Labrador       29.0\n",
      "       Poodle         24.0\n",
      "Brown  Chow Chow      24.0\n",
      "       Labrador       24.0\n",
      "Gray   Schnauzer      17.0\n",
      "Tan    Chihuahua       2.0\n",
      "White  St. Bernard    74.0\n",
      "Name: weight_kg, dtype: float64\n"
     ]
    }
   ],
   "source": [
    "# Summaries by group\n",
    "print(dogs[dogs[\"color\"] == \"Black\"][\"weight_kg\"].mean())\n",
    "print(dogs[dogs[\"color\"] == \"Brown\"][\"weight_kg\"].mean())\n",
    "print(dogs[dogs[\"color\"] == \"White\"][\"weight_kg\"].mean())\n",
    "print(dogs[dogs[\"color\"] == \"Gray\"][\"weight_kg\"].mean())\n",
    "print(dogs[dogs[\"color\"] == \"Tan\"][\"weight_kg\"].mean())\n",
    "\n",
    "print(dogs.groupby(\"color\")[\"weight_kg\"].mean())\n",
    "print(dogs.groupby(\"color\")[\"weight_kg\"].agg([min, max, sum]))\n",
    "print(dogs.groupby([\"color\", \"breed\"])[\"weight_kg\"].mean())"
   ]
  },
  {
   "cell_type": "code",
   "execution_count": 23,
   "metadata": {},
   "outputs": [
    {
     "name": "stdout",
     "output_type": "stream",
     "text": [
      "       weight_kg\n",
      "color           \n",
      "Black       26.5\n",
      "Brown       24.0\n",
      "Gray        17.0\n",
      "Tan          2.0\n",
      "White       74.0\n",
      "           mean    median\n",
      "      weight_kg weight_kg\n",
      "color                    \n",
      "Black      26.5      26.5\n",
      "Brown      24.0      24.0\n",
      "Gray       17.0      17.0\n",
      "Tan         2.0       2.0\n",
      "White      74.0      74.0\n",
      "breed  Chihuahua  Chow Chow  Labrador  Poodle  Schnauzer  St. Bernard   \n",
      "color                                                                   \n",
      "Black          0          0      29.0      24          0            0  \\\n",
      "Brown          0         24      24.0       0          0            0   \n",
      "Gray           0          0       0.0       0         17            0   \n",
      "Tan            2          0       0.0       0          0            0   \n",
      "White          0          0       0.0       0          0           74   \n",
      "All            2         24      26.5      24         17           74   \n",
      "\n",
      "breed        All  \n",
      "color             \n",
      "Black  26.500000  \n",
      "Brown  24.000000  \n",
      "Gray   17.000000  \n",
      "Tan     2.000000  \n",
      "White  74.000000  \n",
      "All    27.714286  \n"
     ]
    }
   ],
   "source": [
    "# pivot tables\n",
    "print(dogs.pivot_table(values=\"weight_kg\", index=\"color\"))  # values - column that we want to sumarize and index is the column we want to group by\n",
    "import numpy as np\n",
    "print(dogs.pivot_table(values=\"weight_kg\", index=\"color\", aggfunc=[np.mean, np.median]))\n",
    "\n",
    "print(dogs.pivot_table(values=\"weight_kg\", index=\"color\", columns=\"breed\", fill_value=0, margins=True)) # for multiple group by columns is used, margins = true gives the mean of the row\n"
   ]
  },
  {
   "cell_type": "code",
   "execution_count": 17,
   "metadata": {},
   "outputs": [
    {
     "data": {
      "text/html": [
       "<div>\n",
       "<style scoped>\n",
       "    .dataframe tbody tr th:only-of-type {\n",
       "        vertical-align: middle;\n",
       "    }\n",
       "\n",
       "    .dataframe tbody tr th {\n",
       "        vertical-align: top;\n",
       "    }\n",
       "\n",
       "    .dataframe thead th {\n",
       "        text-align: right;\n",
       "    }\n",
       "</style>\n",
       "<table border=\"1\" class=\"dataframe\">\n",
       "  <thead>\n",
       "    <tr style=\"text-align: right;\">\n",
       "      <th></th>\n",
       "      <th></th>\n",
       "      <th>name</th>\n",
       "      <th>height_cm</th>\n",
       "      <th>weight_kg</th>\n",
       "      <th>date_of_birth</th>\n",
       "    </tr>\n",
       "    <tr>\n",
       "      <th>breed</th>\n",
       "      <th>color</th>\n",
       "      <th></th>\n",
       "      <th></th>\n",
       "      <th></th>\n",
       "      <th></th>\n",
       "    </tr>\n",
       "  </thead>\n",
       "  <tbody>\n",
       "    <tr>\n",
       "      <th>Poodle</th>\n",
       "      <th>Black</th>\n",
       "      <td>Charlie</td>\n",
       "      <td>43</td>\n",
       "      <td>24</td>\n",
       "      <td>2016-09-16</td>\n",
       "    </tr>\n",
       "    <tr>\n",
       "      <th rowspan=\"2\" valign=\"top\">Labrador</th>\n",
       "      <th>Black</th>\n",
       "      <td>Max</td>\n",
       "      <td>59</td>\n",
       "      <td>29</td>\n",
       "      <td>2017-01-20</td>\n",
       "    </tr>\n",
       "    <tr>\n",
       "      <th>Brown</th>\n",
       "      <td>Bella</td>\n",
       "      <td>56</td>\n",
       "      <td>24</td>\n",
       "      <td>2013-07-01</td>\n",
       "    </tr>\n",
       "    <tr>\n",
       "      <th>Chow Chow</th>\n",
       "      <th>Brown</th>\n",
       "      <td>Lucy</td>\n",
       "      <td>46</td>\n",
       "      <td>24</td>\n",
       "      <td>2014-08-25</td>\n",
       "    </tr>\n",
       "    <tr>\n",
       "      <th>Schnauzer</th>\n",
       "      <th>Gray</th>\n",
       "      <td>Cooper</td>\n",
       "      <td>49</td>\n",
       "      <td>17</td>\n",
       "      <td>2011-12-11</td>\n",
       "    </tr>\n",
       "    <tr>\n",
       "      <th>Chihuahua</th>\n",
       "      <th>Tan</th>\n",
       "      <td>Stella</td>\n",
       "      <td>18</td>\n",
       "      <td>2</td>\n",
       "      <td>2015-04-20</td>\n",
       "    </tr>\n",
       "    <tr>\n",
       "      <th>St. Bernard</th>\n",
       "      <th>White</th>\n",
       "      <td>Bernie</td>\n",
       "      <td>77</td>\n",
       "      <td>74</td>\n",
       "      <td>2018-02-27</td>\n",
       "    </tr>\n",
       "  </tbody>\n",
       "</table>\n",
       "</div>"
      ],
      "text/plain": [
       "                      name  height_cm  weight_kg date_of_birth\n",
       "breed       color                                             \n",
       "Poodle      Black  Charlie         43         24    2016-09-16\n",
       "Labrador    Black      Max         59         29    2017-01-20\n",
       "            Brown    Bella         56         24    2013-07-01\n",
       "Chow Chow   Brown     Lucy         46         24    2014-08-25\n",
       "Schnauzer   Gray    Cooper         49         17    2011-12-11\n",
       "Chihuahua   Tan     Stella         18          2    2015-04-20\n",
       "St. Bernard White   Bernie         77         74    2018-02-27"
      ]
     },
     "execution_count": 17,
     "metadata": {},
     "output_type": "execute_result"
    }
   ],
   "source": [
    "# .columns and .index\n",
    "dogs.columns\n",
    "dogs.index\n",
    "dogs_ind = dogs.set_index(\"name\")\n",
    "dogs_ind\n",
    "dogs_ind.reset_index(drop = True)  # to reset the change, drop is used to remove the particular argument\n",
    "dogs[dogs[\"name\"].isin([\"Bella\", \"Stella\"])]\n",
    "dogs_ind.loc[[\"Bella\", \"Stella\"]]    # when names are the index\n",
    "dogs_ind3 = dogs.set_index([\"breed\", \"color\"])  # multilevel indexes\n",
    "dogs_ind3\n",
    "dogs_ind3.loc[[\"Labrador\", \"Chihuahua\"]]\n",
    "dogs_ind3.loc[[(\"Labrador\", \"Brown\"), (\"Chihuahua\", \"Tan\")]]\n",
    "dogs_ind3.sort_index()\n",
    "dogs_ind3.sort_index(level=[\"color\", \"breed\"], ascending=[True, False])"
   ]
  },
  {
   "cell_type": "code",
   "execution_count": 6,
   "metadata": {},
   "outputs": [
    {
     "name": "stdout",
     "output_type": "stream",
     "text": [
      "['Labradar', 'Poodle', 'Chow Chow', 'Schnauzer', 'Labradar', 'Chihuahua', 'St. Bernard']\n",
      "                      name  height_cm  weight_kg date_of_birth\n",
      "breed       color                                             \n",
      "Chihuahua   Tan     Stella         18          2    2015-04-20\n",
      "Chow Chow   Brown     Lucy         46         24    2014-08-25\n",
      "Labrador    Black      Max         59         29    2017-01-20\n",
      "            Brown    Bella         56         24    2013-07-01\n",
      "Poodle      Black  Charlie         43         24    2016-09-16\n",
      "Schnauzer   Gray    Cooper         49         17    2011-12-11\n",
      "St. Bernard White   Bernie         77         74    2018-02-27\n"
     ]
    },
    {
     "data": {
      "text/html": [
       "<div>\n",
       "<style scoped>\n",
       "    .dataframe tbody tr th:only-of-type {\n",
       "        vertical-align: middle;\n",
       "    }\n",
       "\n",
       "    .dataframe tbody tr th {\n",
       "        vertical-align: top;\n",
       "    }\n",
       "\n",
       "    .dataframe thead th {\n",
       "        text-align: right;\n",
       "    }\n",
       "</style>\n",
       "<table border=\"1\" class=\"dataframe\">\n",
       "  <thead>\n",
       "    <tr style=\"text-align: right;\">\n",
       "      <th></th>\n",
       "      <th>breed</th>\n",
       "      <th>color</th>\n",
       "      <th>height_cm</th>\n",
       "    </tr>\n",
       "  </thead>\n",
       "  <tbody>\n",
       "    <tr>\n",
       "      <th>2</th>\n",
       "      <td>Chow Chow</td>\n",
       "      <td>Brown</td>\n",
       "      <td>46</td>\n",
       "    </tr>\n",
       "    <tr>\n",
       "      <th>3</th>\n",
       "      <td>Schnauzer</td>\n",
       "      <td>Gray</td>\n",
       "      <td>49</td>\n",
       "    </tr>\n",
       "    <tr>\n",
       "      <th>4</th>\n",
       "      <td>Labrador</td>\n",
       "      <td>Black</td>\n",
       "      <td>59</td>\n",
       "    </tr>\n",
       "  </tbody>\n",
       "</table>\n",
       "</div>"
      ],
      "text/plain": [
       "       breed  color  height_cm\n",
       "2  Chow Chow  Brown         46\n",
       "3  Schnauzer   Gray         49\n",
       "4   Labrador  Black         59"
      ]
     },
     "execution_count": 6,
     "metadata": {},
     "output_type": "execute_result"
    }
   ],
   "source": [
    "# Slicing and subsetting with .loc and .iloc\n",
    "breeds=[\"Labradar\", \"Poodle\", \"Chow Chow\", \"Schnauzer\", \"Labradar\", \"Chihuahua\", \"St. Bernard\"]\n",
    "print(breeds)\n",
    "breeds[2:5]\n",
    "breeds[:3]\n",
    "dogs_srt = dogs.set_index([\"breed\", \"color\"]).sort_index()\n",
    "print(dogs_srt)\n",
    "dogs_srt.loc[\"Chow Chow\":\"Poodle\"]  # here final value is included\n",
    "dogs_srt.loc[\"Tan\":\"Grey\"]\n",
    "dogs_srt.loc[(\"Labrador\", \"Brown\"):(\"Schnauzer\", \"Grey\")]\n",
    "dogs_srt.loc[:, \"name\":\"height_cm\"]\n",
    "dogs_srt.loc[(\"Labrador\", \"Brown\"):(\"Schnauzer\", \"Grey\"), \"name\":\"height_cm\"]\n",
    "dogs.iloc[2:5, 1:4]"
   ]
  },
  {
   "cell_type": "code",
   "execution_count": 31,
   "metadata": {},
   "outputs": [
    {
     "name": "stdout",
     "output_type": "stream",
     "text": [
      "color        Black  Brown  Gray   Tan  White\n",
      "breed                                       \n",
      "Chihuahua      NaN    NaN   NaN  18.0    NaN\n",
      "Chow Chow      NaN   46.0   NaN   NaN    NaN\n",
      "Labrador      59.0   56.0   NaN   NaN    NaN\n",
      "Poodle        43.0    NaN   NaN   NaN    NaN\n",
      "Schnauzer      NaN    NaN  49.0   NaN    NaN\n",
      "St. Bernard    NaN    NaN   NaN   NaN   77.0\n"
     ]
    },
    {
     "data": {
      "text/plain": [
       "breed\n",
       "Chihuahua      18.0\n",
       "Chow Chow      46.0\n",
       "Labrador       57.5\n",
       "Poodle         43.0\n",
       "Schnauzer      49.0\n",
       "St. Bernard    77.0\n",
       "dtype: float64"
      ]
     },
     "execution_count": 31,
     "metadata": {},
     "output_type": "execute_result"
    }
   ],
   "source": [
    "# Working with pivot tables\n",
    "# First argument - values to aggregate, index argument - columns to group by and display in rows, columns argument - columns to group by and display in columns\n",
    "dogs_height_by_breed_color = dogs.pivot_table(\"height_cm\", index=\"breed\", columns=\"color\")  \n",
    "print(dogs_height_by_breed_color)\n",
    "dogs_height_by_breed_color.loc[\"Chow Chow\":\"Poodle\"]\n",
    "dogs_height_by_breed_color.mean(axis=\"index\")   # calculate statistics across rows\n",
    "dogs_height_by_breed_color.mean(axis=\"columns\") # across the columns\n"
   ]
  },
  {
   "cell_type": "code",
   "execution_count": 9,
   "metadata": {},
   "outputs": [
    {
     "data": {
      "image/png": "[encoded data removed]",
      "text/plain": [
       "<Figure size 640x480 with 1 Axes>"
      ]
     },
     "metadata": {},
     "output_type": "display_data"
    },
    {
     "name": "stdout",
     "output_type": "stream",
     "text": [
      "breed\n",
      "Chihuahua       2.0\n",
      "Chow Chow      24.0\n",
      "Labrador       26.5\n",
      "Poodle         24.0\n",
      "Schnauzer      17.0\n",
      "St. Bernard    74.0\n",
      "Name: weight_kg, dtype: float64\n"
     ]
    },
    {
     "data": {
      "image/png": "[encoded data removed]",
      "text/plain": [
       "<Figure size 640x480 with 1 Axes>"
      ]
     },
     "metadata": {},
     "output_type": "display_data"
    },
    {
     "data": {
      "image/png": "[encoded data removed]",
      "text/plain": [
       "<Figure size 640x480 with 1 Axes>"
      ]
     },
     "metadata": {},
     "output_type": "display_data"
    }
   ],
   "source": [
    "# Visualizing the data\n",
    "import matplotlib.pyplot as plt\n",
    "dogs[\"height_cm\"].hist(bins=5)\n",
    "plt.show()\n",
    "avg_weight_by_breed = dogs.groupby(\"breed\")[\"weight_kg\"].mean()\n",
    "print(avg_weight_by_breed)\n",
    "avg_weight_by_breed.plot(kind=\"bar\", title=\"Mean Weight by Dg Breed\")\n",
    "plt.show()\n",
    "# sully.plot(x=\"date\", y=\"weight_kg\", kind=\"line\", rot=45)  , rotates by 45°\n",
    "# plt.show()\n",
    "dogs.plot(x=\"height_cm\", y=\"weight_kg\", kind=\"scatter\")\n",
    "plt.show()\n",
    "# dog_pack[dog_pack[\"sex\"]==\"F\"][\"height_cm\"].hist(alpha=0.7)   , alpha- makes graph translucent\n",
    "# dog_pack[dog_pack[\"sex\"]==\"M\"][\"height_cm\"].hist(alpha=0.7)\n",
    "# plt.legend([\"F\", \"M\"])\n",
    "# plt.show()"
   ]
  },
  {
   "cell_type": "code",
   "execution_count": 20,
   "metadata": {},
   "outputs": [
    {
     "data": {
      "image/png": "[encoded data removed]",
      "text/plain": [
       "<Figure size 640x480 with 1 Axes>"
      ]
     },
     "metadata": {},
     "output_type": "display_data"
    },
    {
     "data": {
      "text/html": [
       "<div>\n",
       "<style scoped>\n",
       "    .dataframe tbody tr th:only-of-type {\n",
       "        vertical-align: middle;\n",
       "    }\n",
       "\n",
       "    .dataframe tbody tr th {\n",
       "        vertical-align: top;\n",
       "    }\n",
       "\n",
       "    .dataframe thead th {\n",
       "        text-align: right;\n",
       "    }\n",
       "</style>\n",
       "<table border=\"1\" class=\"dataframe\">\n",
       "  <thead>\n",
       "    <tr style=\"text-align: right;\">\n",
       "      <th></th>\n",
       "      <th>name</th>\n",
       "      <th>breed</th>\n",
       "      <th>color</th>\n",
       "      <th>height_cm</th>\n",
       "      <th>weight_kg</th>\n",
       "      <th>date_of_birth</th>\n",
       "    </tr>\n",
       "  </thead>\n",
       "  <tbody>\n",
       "    <tr>\n",
       "      <th>0</th>\n",
       "      <td>Bella</td>\n",
       "      <td>Labrador</td>\n",
       "      <td>Brown</td>\n",
       "      <td>56</td>\n",
       "      <td>24</td>\n",
       "      <td>2013-07-01</td>\n",
       "    </tr>\n",
       "    <tr>\n",
       "      <th>1</th>\n",
       "      <td>Charlie</td>\n",
       "      <td>Poodle</td>\n",
       "      <td>Black</td>\n",
       "      <td>43</td>\n",
       "      <td>24</td>\n",
       "      <td>2016-09-16</td>\n",
       "    </tr>\n",
       "    <tr>\n",
       "      <th>2</th>\n",
       "      <td>Lucy</td>\n",
       "      <td>Chow Chow</td>\n",
       "      <td>Brown</td>\n",
       "      <td>46</td>\n",
       "      <td>24</td>\n",
       "      <td>2014-08-25</td>\n",
       "    </tr>\n",
       "    <tr>\n",
       "      <th>3</th>\n",
       "      <td>Cooper</td>\n",
       "      <td>Schnauzer</td>\n",
       "      <td>Gray</td>\n",
       "      <td>49</td>\n",
       "      <td>17</td>\n",
       "      <td>2011-12-11</td>\n",
       "    </tr>\n",
       "    <tr>\n",
       "      <th>4</th>\n",
       "      <td>Max</td>\n",
       "      <td>Labrador</td>\n",
       "      <td>Black</td>\n",
       "      <td>59</td>\n",
       "      <td>29</td>\n",
       "      <td>2017-01-20</td>\n",
       "    </tr>\n",
       "    <tr>\n",
       "      <th>5</th>\n",
       "      <td>Stella</td>\n",
       "      <td>Chihuahua</td>\n",
       "      <td>Tan</td>\n",
       "      <td>18</td>\n",
       "      <td>2</td>\n",
       "      <td>2015-04-20</td>\n",
       "    </tr>\n",
       "    <tr>\n",
       "      <th>6</th>\n",
       "      <td>Bernie</td>\n",
       "      <td>St. Bernard</td>\n",
       "      <td>White</td>\n",
       "      <td>77</td>\n",
       "      <td>74</td>\n",
       "      <td>2018-02-27</td>\n",
       "    </tr>\n",
       "  </tbody>\n",
       "</table>\n",
       "</div>"
      ],
      "text/plain": [
       "      name        breed  color  height_cm  weight_kg date_of_birth\n",
       "0    Bella     Labrador  Brown         56         24    2013-07-01\n",
       "1  Charlie       Poodle  Black         43         24    2016-09-16\n",
       "2     Lucy    Chow Chow  Brown         46         24    2014-08-25\n",
       "3   Cooper    Schnauzer   Gray         49         17    2011-12-11\n",
       "4      Max     Labrador  Black         59         29    2017-01-20\n",
       "5   Stella    Chihuahua    Tan         18          2    2015-04-20\n",
       "6   Bernie  St. Bernard  White         77         74    2018-02-27"
      ]
     },
     "execution_count": 20,
     "metadata": {},
     "output_type": "execute_result"
    }
   ],
   "source": [
    "# missing values\n",
    "dogs.isna() # checks for missing values\n",
    "dogs.isna().any()\n",
    "dogs.isna().sum()   # to count nas in each column\n",
    "\n",
    "import matplotlib.pyplot as plt\n",
    "dogs.isna().sum().plot(kind=\"bar\")\n",
    "plt.show()\n",
    "dogs.dropna()\n",
    "dogs.fillna(0)"
   ]
  },
  {
   "cell_type": "code",
   "execution_count": 23,
   "metadata": {},
   "outputs": [
    {
     "name": "stdout",
     "output_type": "stream",
     "text": [
      "     name      breed  height_cm  weight_kg date_of_birth\n",
      "0  Ginger  Dachshund         22         10    2019-03-14\n",
      "1   Scout  Dalmatian         59         25    2019-05-09\n",
      "     name      breed  height  weight date_of_birth\n",
      "0  Ginger  Dachshund      22      10    2019-03-14\n",
      "1   Scout  Dalmation      59      25    2019-05-09\n"
     ]
    }
   ],
   "source": [
    "# creating dataframes\n",
    "my_dict={\n",
    "    \"title\":\"Charlotte's Web\",\n",
    "    \"author\":\"E.B. White\",\n",
    "    \"published\":1952\n",
    "}\n",
    "my_dict[\"title\"]\n",
    "\n",
    "# creating a list of dictionaries\n",
    "list_of_dicts=[\n",
    "    {\"name\":\"Ginger\", \"breed\":\"Dachshund\", \"height_cm\":22, \"weight_kg\":10, \"date_of_birth\":\"2019-03-14\"},\n",
    "    {\"name\":\"Scout\", \"breed\":\"Dalmatian\", \"height_cm\":59, \"weight_kg\":25, \"date_of_birth\":\"2019-05-09\"}\n",
    "]\n",
    "new_dogs=pd.DataFrame(list_of_dicts)\n",
    "print(new_dogs)\n",
    "\n",
    "# creating dictionary of list\n",
    "dict_of_lists={\n",
    "    \"name\":[\"Ginger\", \"Scout\"],\n",
    "    \"breed\":[\"Dachshund\", \"Dalmation\"],\n",
    "    \"height\":[22, 59],\n",
    "    \"weight\":[10, 25],\n",
    "    \"date_of_birth\":[\"2019-03-14\", \"2019-05-09\"]\n",
    "}\n",
    "new_dogs_1 = pd.DataFrame(dict_of_lists)\n",
    "print(new_dogs_1)"
   ]
  },
  {
   "cell_type": "code",
   "execution_count": null,
   "metadata": {},
   "outputs": [],
   "source": [
    "# Reading and Writing CSV files\n",
    "import pandas as pd\n",
    "new_dogs = pd.read_csv(\"new_dogs.csv\")\n",
    "print(new_dogs)\n",
    "new_dogs[\"bmi\"] = new_dogs[\"weight_kg\"] / (new_dogs[\"height_cm\"] / 100) ** 2\n",
    "print(new_dogs)\n",
    "new_dogs.to_csv(\"new_dogs_with_bmi.csv\")"
   ]
  }
 ],
 "metadata": {
  "kernelspec": {
   "display_name": "Python 3.11.5 64-bit",
   "language": "python",
   "name": "python3"
  },
  "language_info": {
   "codemirror_mode": {
    "name": "ipython",
    "version": 3
   },
   "file_extension": ".py",
   "mimetype": "text/x-python",
   "name": "python",
   "nbconvert_exporter": "python",
   "pygments_lexer": "ipython3",
   "version": "3.11.5"
  },
  "orig_nbformat": 4,
  "vscode": {
   "interpreter": {
    "hash": "aee8b7b246df8f9039afb4144a1f6fd8d2ca17a180786b69acc140d282b71a49"
   }
  }
 },
 "nbformat": 4,
 "nbformat_minor": 2
}

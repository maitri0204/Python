{
 "cells": [
  {
   "cell_type": "code",
   "execution_count": null,
   "metadata": {},
   "outputs": [],
   "source": [
    "# standard deviation\n",
    "import numpy as np\n",
    "np.sqrt(np.var(msleep['sleep_total'], ddof=1))\n",
    "np.std(msleep['sleep_total'], ddof=1)\n",
    "\n",
    "# mean absolute deviation\n",
    "dists = msleep['sleep_total'] - mean(msleep$sleep_total)\n",
    "np.mean(np.abs(dists))\n",
    "\n",
    "# quantiles\n",
    "np.quantile(msleep['sleep_total'], 0.5)\n",
    "np.quantile(msleep['sleep_total'], np.linspace(0, 1, 5)) # linspace(start, stop, num)\n",
    "np.quantile(msleep['sleep_total'], 0.75) - np.quantile(msleep['sleep_total'], 0.25)\n",
    "\n",
    "from scipy.stats import iqr\n",
    "iqr(msleep['sleep_total'])\n",
    "\n",
    "# finding outliers\n",
    "from scipy.stats import iqr\n",
    "iqr = iqr(msleep['bodywt'])\n",
    "lower_thresold = np.quantile(msleep['bodywt'], 0.25) - 1.5 * iqr\n",
    "upper_thresold = np.quantile(msleep['bodywt'], 0.75) + 1.5 * iqr\n",
    "# msleep[(msleep['bodywt'] < lower_threshold) | (msleep['bodywt'] > upper_threshold)]\n",
    "msleep['bodywt'].describe()"
   ]
  },
  {
   "cell_type": "code",
   "execution_count": null,
   "metadata": {},
   "outputs": [],
   "source": [
    "print(sales_counts)\n",
    "sales_counts.sample()\n",
    "\n",
    "np.random.seed(10)\n"
   ]
  },
  {
   "cell_type": "code",
   "execution_count": 5,
   "metadata": {},
   "outputs": [
    {
     "data": {
      "text/plain": [
       "array([4.93189631, 0.69602187, 4.87006423, 2.39259247, 4.07645843,\n",
       "       3.34936485, 4.88882864, 1.81086929, 1.50120324, 1.5086743 ])"
      ]
     },
     "execution_count": 5,
     "metadata": {},
     "output_type": "execute_result"
    }
   ],
   "source": [
    "# Uniform distribution in Python\n",
    "from scipy.stats import uniform\n",
    "uniform.cdf(7, 0, 12)\n",
    "uniform.rvs(0,5,10)"
   ]
  },
  {
   "cell_type": "code",
   "execution_count": 19,
   "metadata": {},
   "outputs": [
    {
     "data": {
      "text/plain": [
       "0.9453125"
      ]
     },
     "execution_count": 19,
     "metadata": {},
     "output_type": "execute_result"
    }
   ],
   "source": [
    "# single flip\n",
    "from scipy.stats import binom\n",
    "binom.rvs(1,0.5,size=5)\n",
    "binom.rvs(5,0.5,size=1) # number of heads\n",
    "\n",
    "# Simulate 52 weeks of 3 deals\n",
    "deals = binom.rvs(3, 0.3, size=52)\n",
    "\n",
    "# biased coin\n",
    "binom.rvs(3, 0.25, size=10)\n",
    "\n",
    "# binomial distribution\n",
    "binom.pmf(7, 10, 0.5)   #(num_heads, num_trials, prob_of_heads)\n",
    "binom.cdf(7, 10, 0.5)   #p(heads <= 7)\n"
   ]
  },
  {
   "cell_type": "code",
   "execution_count": 9,
   "metadata": {},
   "outputs": [
    {
     "data": {
      "text/plain": [
       "array([159.25312381, 165.99642257, 159.99545698, 162.19182857,\n",
       "       161.23004516, 159.00432309, 159.88180417, 162.72795032,\n",
       "       157.17884244, 160.39917631])"
      ]
     },
     "execution_count": 9,
     "metadata": {},
     "output_type": "execute_result"
    }
   ],
   "source": [
    "# normal distribution\n",
    "from scipy.stats import norm\n",
    "norm.cdf(154, 161, 7)\n",
    "norm.ppf(0.9, 161, 7)   # percentage\n",
    "\n",
    "# Generate 10 random heights\n",
    "norm.rvs(161, 7, size=10)"
   ]
  },
  {
   "cell_type": "code",
   "execution_count": 14,
   "metadata": {},
   "outputs": [
    {
     "name": "stdout",
     "output_type": "stream",
     "text": [
      "2    3\n",
      "3    4\n",
      "5    6\n",
      "2    3\n",
      "0    1\n",
      "dtype: int64\n"
     ]
    }
   ],
   "source": [
    "# rolling a dice\n",
    "import pandas as pd\n",
    "import numpy as np\n",
    "die = pd.Series([1, 2, 3, 4, 5, 6])\n",
    "# Roll 5 times\n",
    "samp_5 = die.sample(5, replace=True)\n",
    "print(samp_5)\n",
    "np.mean(samp_5)\n",
    "\n",
    "sample_mean = []\n",
    "sample_sds = []\n",
    "for i in range(10):\n",
    "    samp_5 = die.sample(5, replace=True)\n",
    "    sample_mean.append(np.mean(samp_5))\n",
    "    # sample_mean.append(np.mean(die.sample(5, replace=True)))\n",
    "    sample_sds.append(np.std(die.sample(5, replace=True)))\n",
    "\n",
    "# estimate expected value of die\n",
    "np.mean(sample_mean)"
   ]
  },
  {
   "cell_type": "code",
   "execution_count": 18,
   "metadata": {},
   "outputs": [
    {
     "data": {
      "text/plain": [
       "array([ 7,  4,  5, 11,  3, 11,  7,  8,  9,  8])"
      ]
     },
     "execution_count": 18,
     "metadata": {},
     "output_type": "execute_result"
    }
   ],
   "source": [
    "# poisson distribution\n",
    "from scipy.stats import poisson\n",
    "poisson.pmf(5, 8)   # P(# adoptions in a week = 5)\n",
    "poisson.cdf(5, 8)   # P(# adoptions in a week <=5)\n",
    "1 - poisson.cdf(5, 8)   # P(week > 5)\n",
    "\n",
    "poisson.rvs(8, size=10) # simulate 10 different weeks\n"
   ]
  },
  {
   "cell_type": "code",
   "execution_count": null,
   "metadata": {},
   "outputs": [],
   "source": [
    "# exponential distribution\n",
    "# probability of time between poisson events\n",
    "# eg. probability of >1 day between adoptions\n"
   ]
  }
 ],
 "metadata": {
  "kernelspec": {
   "display_name": "Python 3.11.5 64-bit",
   "language": "python",
   "name": "python3"
  },
  "language_info": {
   "codemirror_mode": {
    "name": "ipython",
    "version": 3
   },
   "file_extension": ".py",
   "mimetype": "text/x-python",
   "name": "python",
   "nbconvert_exporter": "python",
   "pygments_lexer": "ipython3",
   "version": "3.11.5"
  },
  "orig_nbformat": 4,
  "vscode": {
   "interpreter": {
    "hash": "aee8b7b246df8f9039afb4144a1f6fd8d2ca17a180786b69acc140d282b71a49"
   }
  }
 },
 "nbformat": 4,
 "nbformat_minor": 2
}

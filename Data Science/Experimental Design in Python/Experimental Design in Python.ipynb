{
 "cells": [
  {
   "cell_type": "code",
   "execution_count": 1,
   "metadata": {},
   "outputs": [],
   "source": [
    "import pandas as pd\n",
    "import numpy as np"
   ]
  },
  {
   "cell_type": "code",
   "execution_count": 3,
   "metadata": {},
   "outputs": [
    {
     "name": "stdout",
     "output_type": "stream",
     "text": [
      "   Unnamed: 0  ApplicationID ResponseTime InterestRate CustomerInteraction   \n",
      "0           0              1         Fast          Low                Poor  \\\n",
      "1           1              2     Moderate         High                Good   \n",
      "2           2              3         Slow       Medium             Average   \n",
      "3           3              4     Moderate         High             Average   \n",
      "4           4              5         Fast         High                Poor   \n",
      "\n",
      "   SatisfactionQuality  \n",
      "0             0.204979  \n",
      "1             0.462610  \n",
      "2             0.874398  \n",
      "3             0.428884  \n",
      "4             0.126637  \n"
     ]
    }
   ],
   "source": [
    "# Block randomization in Python\n",
    "group1 = ecom.sample(frac=0.5, random_state=42, replace=False)\n",
    "group1['Block'] = 1\n",
    "group2 = ecom.drop(group1.index)\n",
    "group2['Block']= 2\n",
    "print(len(group1), len(group2))"
   ]
  },
  {
   "cell_type": "code",
   "execution_count": null,
   "metadata": {},
   "outputs": [],
   "source": [
    "import seaborn as sns\n",
    "import matplotlib.pyplot as plt\n",
    "sns.displot(data=ecom, x='basket_size', hue='power_user', fill=True, kind='kde')"
   ]
  },
  {
   "cell_type": "code",
   "execution_count": null,
   "metadata": {},
   "outputs": [],
   "source": [
    "strata_1 = ecom[ecom['power_user'] == 1]\n",
    "strata_1['Block'] = 1\n",
    "strata_1_g1 = strata_1.sample(frac=0.5, replace=False)\n",
    "strata_1_g1['T_C'] = 'T'\n",
    "strata_1_g2 = strata_1.drop(strata_1_g1.index)\n",
    "strata_1_g2['T_C'] = 'C'"
   ]
  },
  {
   "cell_type": "code",
   "execution_count": null,
   "metadata": {},
   "outputs": [],
   "source": [
    "# Second strata\n",
    "strata_2 = ecom.drop(strata_1.index)\n",
    "strata_2['Block'] = 2\n",
    "strata_2_g1 = strata_2.sample(frac=0.5, replace=False)\n",
    "strata_2_g1['T_C'] = 'T'\n",
    "strata_2_g2 = strata_2.drop(strata_1_g1.index)\n",
    "strata_2_g2['T_C'] = 'C'"
   ]
  },
  {
   "cell_type": "code",
   "execution_count": null,
   "metadata": {},
   "outputs": [],
   "source": [
    "# Confirming stratification\n",
    "ecom_stratified = pd.concat([strata_1_g1, strata_1_g2, strata_2_g1, strata_2_g2])\n",
    "ecom_stratified.groupby(['Block', 'T_C', 'power_user']).size()"
   ]
  },
  {
   "cell_type": "code",
   "execution_count": null,
   "metadata": {},
   "outputs": [],
   "source": [
    "from statsmodels.graphics.gofplots import qqplot\n",
    "from scipy.stats.distributions import norm\n",
    "qqplot(salaries['salary'], line='s', dist=norm)\n",
    "plt.show()"
   ]
  },
  {
   "cell_type": "code",
   "execution_count": null,
   "metadata": {},
   "outputs": [],
   "source": [
    "# Shapiro-Wilk test\n",
    "from scipy.stats import shapiro\n",
    "alpha = 0.05\n",
    "stat, p = shapiro(salaries['salary'])\n",
    "print(f\"p: {round(p, 4)} test stat: {round(stat, 4)}\")"
   ]
  },
  {
   "cell_type": "code",
   "execution_count": null,
   "metadata": {},
   "outputs": [],
   "source": [
    "# Anderson-Darling test\n",
    "from scipy.stats import anderson\n",
    "result = anderson(x=salaries['salary'], dist='norm')\n",
    "\n",
    "print(round(result.statistic,4))\n",
    "print(result.significance_level)\n",
    "print(result.critical_values)"
   ]
  },
  {
   "cell_type": "code",
   "execution_count": null,
   "metadata": {},
   "outputs": [],
   "source": [
    "plant_growth_data.head()\n",
    "\n",
    "plant_growth = pd.pivot_table(plant_growth_data, values='Growth_cm', index='Light_Condition', columns='Fertilizer_Type', aggfunc='mean')\n",
    "plant_growth\n",
    "\n",
    "import seaborn as sns\n",
    "import matplotlib.pyplot as plt\n",
    "sns.heatmap(plant_growth, annot=True, cmap='coolwarm', fmt='g')\n",
    "plt.show()"
   ]
  },
  {
   "cell_type": "code",
   "execution_count": null,
   "metadata": {},
   "outputs": [],
   "source": [
    "blocks = athletes.groupby('Initial_Fitness_level').apply(lambda x: x.sample(frac=1))\n",
    "blocks = blocks.reset_index(drop=True)\n",
    "blocks"
   ]
  },
  {
   "cell_type": "code",
   "execution_count": null,
   "metadata": {},
   "outputs": [],
   "source": [
    "# Implemented randomized blocks\n",
    "blocks['Treatment'] = np.random.choice(['Cardio', 'Strength Training', 'Mixed'], size=len(blocks))\n",
    "blocks.sample(n=5)\n",
    "\n",
    "import seaborn as sns\n",
    "sns.boxplot(x='Initial_Fitness_Level', y='Muscle_Gain_kg', hue='Treatment', data=blocks)\n",
    "plt.show()"
   ]
  },
  {
   "cell_type": "code",
   "execution_count": null,
   "metadata": {},
   "outputs": [],
   "source": [
    "from scipy.stats import f_oneway\n",
    "blocks.groupby('Initial_Fitness_Level').apply(\n",
    "    lambda x: f_oneway(x[x['Treatment'] == 'Cardio']['Muscle_Gain_kg'],\n",
    "                        x[x['Treatment'] == 'Mixed']['Muscle_Gain_kg'],\n",
    "                        x[x['Treatment'] == 'Strength Training']['Muscle_Gain_kg'])\n",
    ")\n",
    "\n",
    "import seaborn as sns\n",
    "sns.boxplot(x='Initial_Fitness_Level', y='Muscle_Gain_kg', data=blocks)\n",
    "plt.show()"
   ]
  },
  {
   "cell_type": "code",
   "execution_count": null,
   "metadata": {},
   "outputs": [],
   "source": [
    "# ANOVA between blocks\n",
    "f_oneway(\n",
    "    blocks[blocks['Initial_Fitness_Level'] == 'Advanced']['Muscle_Gain_kg']\n",
    "    blocks[blocks['Initial_Fitness_Level'] == 'Beginner']['Muscle_Gain_kg']\n",
    "    blocks[blocks['Initial_Fitness_Level'] == 'Intermediate']['Muscle_Gain_kg']\n",
    ")"
   ]
  },
  {
   "cell_type": "code",
   "execution_count": null,
   "metadata": {},
   "outputs": [],
   "source": [
    "# Experimental data example\n",
    "exp_plant_data = plant_growth_data[['Plant_ID', 'Fertilizer_Type', 'Growth_cm']]\n"
   ]
  },
  {
   "cell_type": "code",
   "execution_count": null,
   "metadata": {},
   "outputs": [],
   "source": [
    "# Covariate data example\n",
    "covariate_data\n",
    "\n",
    "# Combining experimental data with covariates\n",
    "merged_plant_data = pd.merge(exp_plant_data, covariate_data, on='Plant_ID')"
   ]
  },
  {
   "cell_type": "code",
   "execution_count": null,
   "metadata": {},
   "outputs": [],
   "source": [
    "# Adjusting for covariates\n",
    "from statsmodels.formula.api import ols\n",
    "model = ols('Growth_cm ~ Fertilizer_Type + Watering_Days_Per_Week', data=merged_plant_data).fit()\n",
    "model.summary()"
   ]
  },
  {
   "cell_type": "code",
   "execution_count": null,
   "metadata": {},
   "outputs": [],
   "source": [
    "# Visualizing treatment effects with covariate adjustments\n",
    "import seaborn as sns\n",
    "import matplotlib.pyplot as plt\n",
    "sns.lmplot(x='Watering_Days_Per_Week', y='Growth_cm', hue='Fertilizer_Type', data=merged_plant_data)\n",
    "plt.show()"
   ]
  },
  {
   "cell_type": "code",
   "execution_count": 3,
   "metadata": {},
   "outputs": [
    {
     "name": "stdout",
     "output_type": "stream",
     "text": [
      "T-statistic: 0.20671020082912311, P-value: 0.8364563849070619\n"
     ]
    }
   ],
   "source": [
    "import pandas as pd\n",
    "athletic_perf = pd.read_csv('athletic_perf.csv')\n",
    "\n",
    "from scipy.stats import ttest_ind\n",
    "group1 = athletic_perf[athletic_perf['Training_Program'] == 'HIIT']['Performance_Inc']\n",
    "group2 = athletic_perf[athletic_perf['Training_Program'] == 'Endurance']['Performance_Inc']\n",
    "\n",
    "t_stat, p_val = ttest_ind(group1, group2)\n",
    "print(f\"T-statistic: {t_stat}, P-value: {p_val}\")"
   ]
  },
  {
   "cell_type": "code",
   "execution_count": 5,
   "metadata": {},
   "outputs": [
    {
     "name": "stdout",
     "output_type": "stream",
     "text": [
      "F-statistic: 1.5270022393256704, P-value: 0.2188859009050602\n"
     ]
    }
   ],
   "source": [
    "# One-way ANOVA\n",
    "from scipy.stats import f_oneway\n",
    "program_types = ['HIIT', 'Endurance', 'Strength']\n",
    "groups = [athletic_perf[athletic_perf['Training_Program'] == program]['Performance_Inc'] for program in program_types]\n",
    "f_stat, p_val = f_oneway(*groups)\n",
    "print(f\"F-statistic: {f_stat}, P-value: {p_val}\")"
   ]
  },
  {
   "cell_type": "code",
   "execution_count": 8,
   "metadata": {},
   "outputs": [
    {
     "name": "stdout",
     "output_type": "stream",
     "text": [
      "Diet_Type         High-Protein  Keto  Plant-Based\n",
      "Training_Program                                 \n",
      "Endurance                   33    28           33\n",
      "HIIT                        27    32           40\n",
      "Strength                    38    29           40\n"
     ]
    }
   ],
   "source": [
    "from scipy.stats import chi2_contingency\n",
    "import pandas as pd\n",
    "contingency_table = pd.crosstab(athletic_perf['Training_Program'], athletic_perf['Diet_Type'])\n",
    "print(contingency_table)"
   ]
  },
  {
   "cell_type": "code",
   "execution_count": 9,
   "metadata": {},
   "outputs": [
    {
     "name": "stdout",
     "output_type": "stream",
     "text": [
      "Chi2-statistic: 2.154450885821988, P_value: 0.7073764021451127\n"
     ]
    }
   ],
   "source": [
    "# Chi-square test of association\n",
    "chi2_stat, p_val, dof, expected = chi2_contingency(contingency_table)\n",
    "print(f\"Chi2-statistic: {chi2_stat}, P_value: {p_val}\")"
   ]
  },
  {
   "cell_type": "code",
   "execution_count": 15,
   "metadata": {},
   "outputs": [
    {
     "name": "stdout",
     "output_type": "stream",
     "text": [
      "                 Click_Through_Rate\n",
      "Messaging_Style                    \n",
      "Casual                     0.558105\n",
      "Formal                     0.554474\n"
     ]
    }
   ],
   "source": [
    "ad_campaigns = pd.read_feather('marketing_data.feather')\n",
    "\n",
    "pivot_table = ad_campaigns.pivot_table(values='Click_Through_Rate', index='Messaging_Style', aggfunc='mean')\n",
    "print(pivot_table)"
   ]
  },
  {
   "cell_type": "code",
   "execution_count": 16,
   "metadata": {},
   "outputs": [
    {
     "name": "stdout",
     "output_type": "stream",
     "text": [
      "0.8316902143662653\n"
     ]
    }
   ],
   "source": [
    "# Performing ANOVA\n",
    "from scipy.stats import f_oneway\n",
    "campaign_types = ['Casual', 'Formal']\n",
    "groups = [ad_campaigns[ad_campaigns['Messaging_Style'] == campaign]['Click_Through_Rate'] for campaign in campaign_types]\n",
    "\n",
    "f_stat, p_val = f_oneway(*groups)\n",
    "print(p_val)"
   ]
  },
  {
   "cell_type": "code",
   "execution_count": 17,
   "metadata": {},
   "outputs": [
    {
     "name": "stdout",
     "output_type": "stream",
     "text": [
      "Multiple Comparison of Means - Tukey HSD, FWER=0.05\n",
      "===================================================\n",
      "group1 group2 meandiff p-adj   lower  upper  reject\n",
      "---------------------------------------------------\n",
      "Casual Formal  -0.0036 0.8317 -0.0372 0.0299  False\n",
      "---------------------------------------------------\n"
     ]
    }
   ],
   "source": [
    "# Tukey's HSD test\n",
    "from statsmodels.stats.multicomp import pairwise_tukeyhsd\n",
    "tukey_results = pairwise_tukeyhsd(ad_campaigns['Click_Through_Rate'],ad_campaigns['Messaging_Style'], alpha=0.05)\n",
    "print(tukey_results)"
   ]
  },
  {
   "cell_type": "code",
   "execution_count": 20,
   "metadata": {},
   "outputs": [
    {
     "name": "stdout",
     "output_type": "stream",
     "text": [
      "Adjusted P-values: [ 1. nan nan]\n"
     ]
    }
   ],
   "source": [
    "# Bonferroni correction set-up\n",
    "from scipy.stats import ttest_ind\n",
    "from statsmodels.sandbox.stats.multicomp import multipletests\n",
    "p_values = []\n",
    "comparisons = [('Casual', 'Formal'),('Informal', 'Formal'),('Casual', 'Informal')]\n",
    "\n",
    "for comp in comparisons:\n",
    "    group1 = ad_campaigns[ad_campaigns['Messaging_Style'] == comp[0]]['Click_Through_Rate']\n",
    "    group2 = ad_campaigns[ad_campaigns['Messaging_Style'] == comp[1]]['Click_Through_Rate']\n",
    "    t_stat, p_val = ttest_ind(group1, group2)\n",
    "    p_values.append(p_val)\n",
    "\n",
    "p_adjusted = multipletests(p_values, alpha=0.05, method='bonferroni')\n",
    "print(f\"Adjusted P-values: {p_adjusted[1]}\")"
   ]
  },
  {
   "cell_type": "code",
   "execution_count": null,
   "metadata": {},
   "outputs": [],
   "source": [
    "# Visulizing the data\n",
    "import seaborn as sns\n",
    "sns.displot(data=crop_data, x='Crop_Yield', hue='Fertilizer_Type', kind='kde')"
   ]
  },
  {
   "cell_type": "code",
   "execution_count": null,
   "metadata": {},
   "outputs": [],
   "source": [
    "# Conducting an independent samples t-test\n",
    "from scipy.stats import ttest_ind\n",
    "organic_yield = crop_yields[crop_yields['Fertilizer_Type'] == 'Organic']['Crop_Yield']\n",
    "synthetic_yield = crop_yields[crop_yields['Fertilizer_Type'] == 'Synthetic']['Crop_Yield']\n",
    "t_stat, p_val = ttest_ind(organic_yield, synthetic_yield)\n",
    "print(p_val)"
   ]
  },
  {
   "cell_type": "code",
   "execution_count": 21,
   "metadata": {},
   "outputs": [
    {
     "name": "stdout",
     "output_type": "stream",
     "text": [
      "0.9677082519123804\n"
     ]
    }
   ],
   "source": [
    "# Calculating power overview\n",
    "from statsmodels.stats.power import TTestIndPower\n",
    "power_analysis = TTestIndPower()\n",
    "power = power_analysis.solve_power(effect_size=1, nobs1=30, alpha=0.05)\n",
    "print(power)"
   ]
  },
  {
   "cell_type": "code",
   "execution_count": null,
   "metadata": {},
   "outputs": [],
   "source": [
    "# Cohen's d formulation\n",
    "def cohens_d(group1, group2):\n",
    "    diff = group1.mean() - group2.mean()\n",
    "    n1, n2 = len(group1), len(group2)\n",
    "    var1, var2 = group1.var(), group2.var()\n",
    "    pooled_std = np.sqrt(((n1 - 1) * var1 + (n2 - 1) * var2) / (n1 + n2 - 2))\n",
    "    d = diff / pooled_std\n",
    "    return d\n",
    "\n",
    "action_times = video_game_data[video_game_data['Game_Genre'] == 'Action']['Engagement_Time']\n",
    "puzzle_times = video_game_data[video_game_data['Game_Genre'] == 'Puzzle']['Engagement_Time']\n",
    "\n",
    "d = cohens_d(action_times, puzzle_times)\n",
    "print(f\"Cohen's d: {d}\")"
   ]
  },
  {
   "cell_type": "code",
   "execution_count": null,
   "metadata": {},
   "outputs": [],
   "source": [
    "# sample size calculation in context\n",
    "from statsmodels.stats.power import TTestIndPower\n",
    "power_analysis = TTestIndPower()\n",
    "required_n = power_analysis.solve_power(effect_size=d, alpha=0.05, power=0.99, ratio=1)\n",
    "print(required_n)\n",
    "\n",
    "# Visualizing sample size\n",
    "plt.figure(figsize=(10, 6))\n",
    "plt.plot(effect_sizes, sample_sizes, 'o-')\n",
    "plt.title('Effect Size vs. Required Sample Size')\n",
    "plt.xlabel('Effect Size (Cohen\\s d)')\n",
    "plt.ylabel('Required Sample Size')\n",
    "plt.grid(True)\n",
    "plt.show()"
   ]
  },
  {
   "cell_type": "code",
   "execution_count": null,
   "metadata": {},
   "outputs": [],
   "source": [
    "# Merging strategy\n",
    "merged_manufacturing = pd.merge(manufacturing_yield, manufacturing_quality, on=['BatchID', 'ProductionSpeed'])\n",
    "print(merged_manufacturing)\n",
    "\n",
    "# Side-by-side bar graph\n",
    "import seaborn as sns\n",
    "sns.catplot(x='MaterialType', y='YieldStrength', hue='ProductionSpeed', kind='bar', data=merged_manufacturing)\n",
    "\n",
    "# Three variable scatterplot\n",
    "sns.relplot(x='YieldStrength', y='ProductQuality', hue='ProductionSpeed', kind='scatter', data=merged_manufacturing)\n",
    "plt.title('Yield Strength vs. Product Quality by Production Speed')"
   ]
  },
  {
   "cell_type": "code",
   "execution_count": null,
   "metadata": {},
   "outputs": [],
   "source": [
    "# Addressing heteroscedasticity\n",
    "sns.residplot(x='MineralHardness', y='RockPorosity', data=mineral_rocks, lowess=True)\n",
    "\n",
    "# Non-normal data\n",
    "sns.displot(mineral_rocks['RochPorosity'])\n",
    "\n",
    "# Data transformation with Box-Cox\n",
    "from scipy.stats import boxcox\n",
    "mineral_rocks['TransformedRockPorosity'], _ = boxcox(mineral_rocks['RockPorosity'])\n",
    "sns.displot(mineral_rocks['TransformedRockPorosity'])\n",
    "\n",
    "sns.residplot(x='MineralHardness', y='TransformedRockPorosity', data=mineral_rocks, lowess=True)\n"
   ]
  },
  {
   "cell_type": "code",
   "execution_count": null,
   "metadata": {},
   "outputs": [],
   "source": [
    "# Visualizing nonparametric data\n",
    "condensed_data = mineral_rocks[mineral_rocks['RockType'].isin(['Igneous', 'Metamorphic'])]\n",
    "sns.violinplot(x='RockType', y='MineralHardness', data=condensed_data)\n",
    "\n",
    "# Boxen plot\n",
    "sns.boxenplot(x='RockType', y='MineralHardness', data=mineral_rocks)"
   ]
  },
  {
   "cell_type": "code",
   "execution_count": null,
   "metadata": {},
   "outputs": [],
   "source": [
    "# Applying nonparametric tests - Mann Whitney U\n",
    "from scipy.stats import mannwhitneyu, kruskal\n",
    "u_stat, u_pval = mannwhitneyu(\n",
    "    mineral_rocks[mineral_rocks['RockType'] == 'Igneous']['MineralHardness'],\n",
    "    mineral_rocks[mineral_rocks['RockType'] == 'Sedimentary']['MineralHardness']\n",
    ")\n",
    "print(f\"Mann-Whitney U test p-value: {u_pval:.4f}\")"
   ]
  },
  {
   "cell_type": "code",
   "execution_count": null,
   "metadata": {},
   "outputs": [],
   "source": [
    "# Kruskal-Wallis\n",
    "k_stat, k_pval = kruskal(\n",
    "    mineral_rocks[mineral_rocks['RockType'] == 'Igneous']['MineralHardness']\n",
    "    mineral_rocks[mineral_rocks['RockType'] == 'Sedimentary']['MineralHardness']\n",
    "    mineral_rocks[mineral_rocks['RockType'] == 'Metamorphic']['MineralHardness']\n",
    ")\n",
    "print(f\"Kruskal-Wallis test p-value: {k_val:.4f}\")"
   ]
  }
 ],
 "metadata": {
  "kernelspec": {
   "display_name": "Python 3.11.5 64-bit",
   "language": "python",
   "name": "python3"
  },
  "language_info": {
   "codemirror_mode": {
    "name": "ipython",
    "version": 3
   },
   "file_extension": ".py",
   "mimetype": "text/x-python",
   "name": "python",
   "nbconvert_exporter": "python",
   "pygments_lexer": "ipython3",
   "version": "3.11.5"
  },
  "orig_nbformat": 4,
  "vscode": {
   "interpreter": {
    "hash": "aee8b7b246df8f9039afb4144a1f6fd8d2ca17a180786b69acc140d282b71a49"
   }
  }
 },
 "nbformat": 4,
 "nbformat_minor": 2
}

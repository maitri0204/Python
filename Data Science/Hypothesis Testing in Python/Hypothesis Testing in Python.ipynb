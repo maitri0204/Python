{
 "cells": [
  {
   "cell_type": "code",
   "execution_count": 12,
   "metadata": {},
   "outputs": [
    {
     "name": "stdout",
     "output_type": "stream",
     "text": [
      "   respondent                                        main_branch hobbyist   \n",
      "0        36.0  I am not primarily a developer, but I write co...      Yes  \\\n",
      "1        47.0                     I am a developer by profession      Yes   \n",
      "2        69.0                     I am a developer by profession      Yes   \n",
      "3       125.0  I am not primarily a developer, but I write co...      Yes   \n",
      "4       147.0  I am not primarily a developer, but I write co...       No   \n",
      "\n",
      "    age  age_1st_code age_first_code_cut comp_freq  comp_total   \n",
      "0  34.0          30.0              adult    Yearly     60000.0  \\\n",
      "1  53.0          10.0              child    Yearly     58000.0   \n",
      "2  25.0          12.0              child    Yearly    550000.0   \n",
      "3  41.0          30.0              adult   Monthly    200000.0   \n",
      "4  28.0          15.0              adult    Yearly     50000.0   \n",
      "\n",
      "   converted_comp         country  ...          survey_length trans   \n",
      "0         77556.0  United Kingdom  ...  Appropriate in length    No  \\\n",
      "1         74970.0  United Kingdom  ...  Appropriate in length    No   \n",
      "2        594539.0          France  ...              Too short    No   \n",
      "3       2000000.0   United States  ...  Appropriate in length    No   \n",
      "4         37816.0          Canada  ...  Appropriate in length    No   \n",
      "\n",
      "                                     undergrad_major   \n",
      "0  Computer science, computer engineering, or sof...  \\\n",
      "1  A natural science (such as biology, chemistry,...   \n",
      "2  Computer science, computer engineering, or sof...   \n",
      "3                                               None   \n",
      "4  Another engineering discipline (such as civil,...   \n",
      "\n",
      "  webframe_desire_next_year webframe_worked_with   \n",
      "0          Express;React.js     Express;React.js  \\\n",
      "1              Flask;Spring         Flask;Spring   \n",
      "2              Django;Flask         Django;Flask   \n",
      "3                      None                 None   \n",
      "4                      None        Express;Flask   \n",
      "\n",
      "                            welcome_change work_week_hrs years_code   \n",
      "0  Just as welcome now as I felt last year          40.0        4.0  \\\n",
      "1  Just as welcome now as I felt last year          40.0       43.0   \n",
      "2  Just as welcome now as I felt last year          40.0       13.0   \n",
      "3  Just as welcome now as I felt last year          40.0       11.0   \n",
      "4  Just as welcome now as I felt last year          40.0        5.0   \n",
      "\n",
      "  years_code_pro      age_cat  \n",
      "0            3.0  At least 30  \n",
      "1           28.0  At least 30  \n",
      "2            3.0     Under 30  \n",
      "3           11.0  At least 30  \n",
      "4            3.0     Under 30  \n",
      "\n",
      "[5 rows x 63 columns]\n"
     ]
    }
   ],
   "source": [
    "import pandas as pd\n",
    "stack_overflow = pd.read_feather('stack_overflow.feather')\n",
    "print(stack_overflow.head())"
   ]
  },
  {
   "cell_type": "code",
   "execution_count": 3,
   "metadata": {},
   "outputs": [],
   "source": [
    "# Hypothesizing about the mean\n",
    "mean_comp_samp = stack_overflow['converted_comp'].mean()"
   ]
  },
  {
   "cell_type": "code",
   "execution_count": 4,
   "metadata": {},
   "outputs": [
    {
     "data": {
      "image/png": "[encoded data removed]",
      "text/plain": [
       "<Figure size 640x480 with 1 Axes>"
      ]
     },
     "metadata": {},
     "output_type": "display_data"
    },
    {
     "name": "stdout",
     "output_type": "stream",
     "text": [
      "5625.345856334281\n"
     ]
    }
   ],
   "source": [
    "# Generating a bootstrap distribution\n",
    "import numpy as np\n",
    "so_boot_distn = []\n",
    "for i in range(5000):\n",
    "    so_boot_distn.append(\n",
    "        np.mean(stack_overflow.sample(frac=1, replace=True)['converted_comp'])\n",
    "    )\n",
    "\n",
    "import matplotlib.pyplot as plt\n",
    "plt.hist(so_boot_distn, bins=50)\n",
    "plt.show()\n",
    "\n",
    "std_error = np.std(so_boot_distn, ddof=1)\n",
    "print(std_error)"
   ]
  },
  {
   "cell_type": "code",
   "execution_count": 5,
   "metadata": {},
   "outputs": [
    {
     "name": "stdout",
     "output_type": "stream",
     "text": [
      "1.702067326386368\n"
     ]
    }
   ],
   "source": [
    "stack_overflow['converted_comp'].mean()\n",
    "\n",
    "mean_comp_hyp = 110000\n",
    "std_error\n",
    "\n",
    "z_score = (mean_comp_samp - mean_comp_hyp) / std_error\n",
    "print(z_score)"
   ]
  },
  {
   "cell_type": "code",
   "execution_count": 6,
   "metadata": {},
   "outputs": [
    {
     "ename": "NameError",
     "evalue": "name 'first_code_boot_distn' is not defined",
     "output_type": "error",
     "traceback": [
      "\u001b[0;31m---------------------------------------------------------------------------\u001b[0m",
      "\u001b[0;31mNameError\u001b[0m                                 Traceback (most recent call last)",
      "Cell \u001b[0;32mIn[6], line 4\u001b[0m\n\u001b[1;32m      2\u001b[0m prop_child_samp \u001b[38;5;241m=\u001b[39m (stack_overflow[\u001b[38;5;124m'\u001b[39m\u001b[38;5;124mage_first_code_cut\u001b[39m\u001b[38;5;124m'\u001b[39m] \u001b[38;5;241m==\u001b[39m \u001b[38;5;124m'\u001b[39m\u001b[38;5;124mchild\u001b[39m\u001b[38;5;124m'\u001b[39m)\u001b[38;5;241m.\u001b[39mmean()\n\u001b[1;32m      3\u001b[0m prop_child_hyp \u001b[38;5;241m=\u001b[39m \u001b[38;5;241m0.35\u001b[39m\n\u001b[0;32m----> 4\u001b[0m std_error \u001b[38;5;241m=\u001b[39m np\u001b[38;5;241m.\u001b[39mstd(\u001b[43mfirst_code_boot_distn\u001b[49m, ddof\u001b[38;5;241m=\u001b[39m\u001b[38;5;241m1\u001b[39m)\n",
      "\u001b[0;31mNameError\u001b[0m: name 'first_code_boot_distn' is not defined"
     ]
    }
   ],
   "source": [
    "# Calculating the z-score\n",
    "prop_child_samp = (stack_overflow['age_first_code_cut'] == 'child').mean()\n",
    "prop_child_hyp = 0.35\n",
    "std_error = np.std(first_code_boot_distn, ddof=1)"
   ]
  },
  {
   "cell_type": "code",
   "execution_count": 8,
   "metadata": {},
   "outputs": [
    {
     "data": {
      "text/plain": [
       "0.04437137401547531"
      ]
     },
     "execution_count": 8,
     "metadata": {},
     "output_type": "execute_result"
    }
   ],
   "source": [
    "from scipy.stats import norm\n",
    "1 - norm.cdf(z_score, loc=0, scale=1)"
   ]
  },
  {
   "cell_type": "code",
   "execution_count": 9,
   "metadata": {},
   "outputs": [
    {
     "ename": "NameError",
     "evalue": "name 'first_code_boot_distn' is not defined",
     "output_type": "error",
     "traceback": [
      "\u001b[0;31m---------------------------------------------------------------------------\u001b[0m",
      "\u001b[0;31mNameError\u001b[0m                                 Traceback (most recent call last)",
      "Cell \u001b[0;32mIn[9], line 5\u001b[0m\n\u001b[1;32m      3\u001b[0m prop_child_samp \u001b[38;5;241m=\u001b[39m (stack_overflow[\u001b[38;5;124m'\u001b[39m\u001b[38;5;124mage_first_code_cut\u001b[39m\u001b[38;5;124m'\u001b[39m] \u001b[38;5;241m==\u001b[39m \u001b[38;5;124m'\u001b[39m\u001b[38;5;124mchild\u001b[39m\u001b[38;5;124m'\u001b[39m)\u001b[38;5;241m.\u001b[39mmean()\n\u001b[1;32m      4\u001b[0m prop_child_hyp \u001b[38;5;241m=\u001b[39m \u001b[38;5;241m0.35\u001b[39m\n\u001b[0;32m----> 5\u001b[0m std_error \u001b[38;5;241m=\u001b[39m np\u001b[38;5;241m.\u001b[39mstd(\u001b[43mfirst_code_boot_distn\u001b[49m, ddof\u001b[38;5;241m=\u001b[39m\u001b[38;5;241m1\u001b[39m)\n\u001b[1;32m      7\u001b[0m z_score \u001b[38;5;241m=\u001b[39m (prop_child_samp \u001b[38;5;241m-\u001b[39m prop_child_hyp) \u001b[38;5;241m/\u001b[39m std_error\n\u001b[1;32m      9\u001b[0m p_value \u001b[38;5;241m=\u001b[39m \u001b[38;5;241m1\u001b[39m \u001b[38;5;241m-\u001b[39m norm\u001b[38;5;241m.\u001b[39mcdf(z_score, loc\u001b[38;5;241m=\u001b[39m\u001b[38;5;241m0\u001b[39m, scale\u001b[38;5;241m=\u001b[39m\u001b[38;5;241m1\u001b[39m)\n",
      "\u001b[0;31mNameError\u001b[0m: name 'first_code_boot_distn' is not defined"
     ]
    }
   ],
   "source": [
    "# Calculating the p-value\n",
    "alpha = 0.05\n",
    "prop_child_samp = (stack_overflow['age_first_code_cut'] == 'child').mean()\n",
    "prop_child_hyp = 0.35\n",
    "std_error = np.std(first_code_boot_distn, ddof=1)\n",
    "\n",
    "z_score = (prop_child_samp - prop_child_hyp) / std_error\n",
    "\n",
    "p_value = 1 - norm.cdf(z_score, loc=0, scale=1)\n"
   ]
  },
  {
   "cell_type": "code",
   "execution_count": 10,
   "metadata": {},
   "outputs": [
    {
     "ename": "NameError",
     "evalue": "name 'first_code_boot_distn' is not defined",
     "output_type": "error",
     "traceback": [
      "\u001b[0;31m---------------------------------------------------------------------------\u001b[0m",
      "\u001b[0;31mNameError\u001b[0m                                 Traceback (most recent call last)",
      "Cell \u001b[0;32mIn[10], line 3\u001b[0m\n\u001b[1;32m      1\u001b[0m \u001b[38;5;66;03m# Confidence intervals\u001b[39;00m\n\u001b[1;32m      2\u001b[0m \u001b[38;5;28;01mimport\u001b[39;00m \u001b[38;5;21;01mnumpy\u001b[39;00m \u001b[38;5;28;01mas\u001b[39;00m \u001b[38;5;21;01mnp\u001b[39;00m\n\u001b[0;32m----> 3\u001b[0m lower \u001b[38;5;241m=\u001b[39m np\u001b[38;5;241m.\u001b[39mquantile(\u001b[43mfirst_code_boot_distn\u001b[49m, \u001b[38;5;241m0.025\u001b[39m)\n\u001b[1;32m      4\u001b[0m upper \u001b[38;5;241m=\u001b[39m np\u001b[38;5;241m.\u001b[39mquantile(first_code_boot_distn, \u001b[38;5;241m0.975\u001b[39m)\n\u001b[1;32m      5\u001b[0m \u001b[38;5;28mprint\u001b[39m((lower, upper))\n",
      "\u001b[0;31mNameError\u001b[0m: name 'first_code_boot_distn' is not defined"
     ]
    }
   ],
   "source": [
    "# Confidence intervals\n",
    "import numpy as np\n",
    "lower = np.quantile(first_code_boot_distn, 0.025)\n",
    "upper = np.quantile(first_code_boot_distn, 0.975)\n",
    "print((lower, upper))"
   ]
  },
  {
   "cell_type": "code",
   "execution_count": 11,
   "metadata": {},
   "outputs": [
    {
     "data": {
      "text/plain": [
       "age_first_code_cut\n",
       "adult    111313.311047\n",
       "child    132419.570621\n",
       "Name: converted_comp, dtype: float64"
      ]
     },
     "execution_count": 11,
     "metadata": {},
     "output_type": "execute_result"
    }
   ],
   "source": [
    "# Calculating groupwsie summary statistics\n",
    "stack_overflow.groupby('age_first_code_cut')['converted_comp'].mean()"
   ]
  },
  {
   "cell_type": "code",
   "execution_count": 12,
   "metadata": {},
   "outputs": [
    {
     "name": "stdout",
     "output_type": "stream",
     "text": [
      "age_first_code_cut\n",
      "adult    111313.311047\n",
      "child    132419.570621\n",
      "Name: converted_comp, dtype: float64\n",
      "age_first_code_cut\n",
      "adult    271546.521729\n",
      "child    255585.240115\n",
      "Name: converted_comp, dtype: float64\n",
      "age_first_code_cut\n",
      "adult    1376\n",
      "child     885\n",
      "Name: converted_comp, dtype: int64\n"
     ]
    }
   ],
   "source": [
    "# Calculations assuming the null hypothesis is true\n",
    "xbar = stack_overflow.groupby('age_first_code_cut')['converted_comp'].mean()\n",
    "print(xbar)\n",
    "\n",
    "s = stack_overflow.groupby('age_first_code_cut')['converted_comp'].std()\n",
    "print(s)\n",
    "\n",
    "n = stack_overflow.groupby('age_first_code_cut')['converted_comp'].count()\n",
    "print(n)"
   ]
  },
  {
   "cell_type": "code",
   "execution_count": 13,
   "metadata": {},
   "outputs": [
    {
     "ename": "NameError",
     "evalue": "name 'xbar_child' is not defined",
     "output_type": "error",
     "traceback": [
      "\u001b[0;31m---------------------------------------------------------------------------\u001b[0m",
      "\u001b[0;31mNameError\u001b[0m                                 Traceback (most recent call last)",
      "Cell \u001b[0;32mIn[13], line 3\u001b[0m\n\u001b[1;32m      1\u001b[0m \u001b[38;5;66;03m# Calculating the test statistic\u001b[39;00m\n\u001b[1;32m      2\u001b[0m \u001b[38;5;28;01mimport\u001b[39;00m \u001b[38;5;21;01mnumpy\u001b[39;00m \u001b[38;5;28;01mas\u001b[39;00m \u001b[38;5;21;01mnp\u001b[39;00m\n\u001b[0;32m----> 3\u001b[0m numerator \u001b[38;5;241m=\u001b[39m \u001b[43mxbar_child\u001b[49m \u001b[38;5;241m-\u001b[39m xbar_adult\n\u001b[1;32m      4\u001b[0m denominator \u001b[38;5;241m=\u001b[39m np\u001b[38;5;241m.\u001b[39msqrt(s_child \u001b[38;5;241m*\u001b[39m\u001b[38;5;241m*\u001b[39m \u001b[38;5;241m2\u001b[39m \u001b[38;5;241m/\u001b[39m n_child \u001b[38;5;241m+\u001b[39m s_adult \u001b[38;5;241m*\u001b[39m\u001b[38;5;241m*\u001b[39m \u001b[38;5;241m2\u001b[39m \u001b[38;5;241m/\u001b[39m n_adult)\n\u001b[1;32m      5\u001b[0m t_stat \u001b[38;5;241m=\u001b[39m numerator \u001b[38;5;241m/\u001b[39m denominator\n",
      "\u001b[0;31mNameError\u001b[0m: name 'xbar_child' is not defined"
     ]
    }
   ],
   "source": [
    "# Calculating the test statistic\n",
    "import numpy as np\n",
    "numerator = xbar_child - xbar_adult\n",
    "denominator = np.sqrt(s_child ** 2 / n_child + s_adult ** 2 / n_adult)\n",
    "t_stat = numerator / denominator\n",
    "\n",
    "degrees_of_freedom = n_child + n_adult - 2\n",
    "\n",
    "from scipy.stats import t\n",
    "1 - t.cdf(t_stat, df=degrees_of_freedom)"
   ]
  },
  {
   "cell_type": "code",
   "execution_count": 1,
   "metadata": {},
   "outputs": [
    {
     "name": "stdout",
     "output_type": "stream",
     "text": [
      "        state   county  repub_percent_08  repub_percent_12\n",
      "0     Alabama     Hale         38.957877         37.139882\n",
      "1    Arkansas   Nevada         56.726272         58.983452\n",
      "2  California     Lake         38.896719         39.331367\n",
      "3  California  Ventura         42.923190         45.250693\n",
      "4    Colorado  Lincoln         74.522569         73.764757\n"
     ]
    }
   ],
   "source": [
    "import pandas as pd\n",
    "repub_votes_potus_08_12 = pd.read_feather('repub_votes.feather')\n",
    "print(repub_votes_potus_08_12.head())"
   ]
  },
  {
   "cell_type": "code",
   "execution_count": 15,
   "metadata": {},
   "outputs": [
    {
     "name": "stdout",
     "output_type": "stream",
     "text": [
      "-2.877109041242944\n"
     ]
    },
    {
     "data": {
      "image/png": "[encoded data removed]",
      "text/plain": [
       "<Figure size 640x480 with 1 Axes>"
      ]
     },
     "metadata": {},
     "output_type": "display_data"
    }
   ],
   "source": [
    "sample_data = repub_votes_potus_08_12\n",
    "sample_data['diff'] = sample_data['repub_percent_08'] - sample_data['repub_percent_12']\n",
    "\n",
    "import matplotlib.pyplot as plt\n",
    "sample_data['diff'].hist(bins=20)\n",
    "\n",
    "# Calculate sample statistics of the difference\n",
    "xbar_diff = sample_data['diff'].mean()\n",
    "print(xbar_diff)"
   ]
  },
  {
   "cell_type": "code",
   "execution_count": 16,
   "metadata": {},
   "outputs": [
    {
     "name": "stdout",
     "output_type": "stream",
     "text": [
      "100\n",
      "5.136737887231852\n",
      "-5.601043121928489\n",
      "99\n",
      "9.572537285272411e-08\n"
     ]
    }
   ],
   "source": [
    "# Calculating the p-value\n",
    "import numpy as np  \n",
    "n_diff = len(sample_data)\n",
    "print(n_diff)\n",
    "\n",
    "s_diff = sample_data['diff'].std()\n",
    "print(s_diff)\n",
    "\n",
    "t_stat = (xbar_diff - 0) / np.sqrt(s_diff**2/n_diff)\n",
    "print(t_stat)\n",
    "\n",
    "degrees_of_freedom = n_diff - 1\n",
    "print(degrees_of_freedom)\n",
    "\n",
    "from scipy.stats import t\n",
    "p_value = t.cdf(t_stat, df=n_diff-1)\n",
    "print(p_value)"
   ]
  },
  {
   "cell_type": "code",
   "execution_count": 17,
   "metadata": {},
   "outputs": [
    {
     "data": {
      "text/html": [
       "<div>\n",
       "<style scoped>\n",
       "    .dataframe tbody tr th:only-of-type {\n",
       "        vertical-align: middle;\n",
       "    }\n",
       "\n",
       "    .dataframe tbody tr th {\n",
       "        vertical-align: top;\n",
       "    }\n",
       "\n",
       "    .dataframe thead th {\n",
       "        text-align: right;\n",
       "    }\n",
       "</style>\n",
       "<table border=\"1\" class=\"dataframe\">\n",
       "  <thead>\n",
       "    <tr style=\"text-align: right;\">\n",
       "      <th></th>\n",
       "      <th>T</th>\n",
       "      <th>dof</th>\n",
       "      <th>alternative</th>\n",
       "      <th>p-val</th>\n",
       "      <th>CI95%</th>\n",
       "      <th>cohen-d</th>\n",
       "      <th>BF10</th>\n",
       "      <th>power</th>\n",
       "    </tr>\n",
       "  </thead>\n",
       "  <tbody>\n",
       "    <tr>\n",
       "      <th>T-test</th>\n",
       "      <td>-5.601043</td>\n",
       "      <td>99</td>\n",
       "      <td>less</td>\n",
       "      <td>9.572537e-08</td>\n",
       "      <td>[-inf, -2.02]</td>\n",
       "      <td>0.560104</td>\n",
       "      <td>1.323e+05</td>\n",
       "      <td>0.999955</td>\n",
       "    </tr>\n",
       "  </tbody>\n",
       "</table>\n",
       "</div>"
      ],
      "text/plain": [
       "               T  dof alternative         p-val          CI95%   cohen-d   \n",
       "T-test -5.601043   99        less  9.572537e-08  [-inf, -2.02]  0.560104  \\\n",
       "\n",
       "             BF10     power  \n",
       "T-test  1.323e+05  0.999955  "
      ]
     },
     "execution_count": 17,
     "metadata": {},
     "output_type": "execute_result"
    }
   ],
   "source": [
    "# Testind differences between two means using ttest()\n",
    "import pingouin\n",
    "pingouin.ttest(x=sample_data['diff'], y=0, alternative='less')\n"
   ]
  },
  {
   "cell_type": "code",
   "execution_count": 18,
   "metadata": {},
   "outputs": [
    {
     "data": {
      "text/html": [
       "<div>\n",
       "<style scoped>\n",
       "    .dataframe tbody tr th:only-of-type {\n",
       "        vertical-align: middle;\n",
       "    }\n",
       "\n",
       "    .dataframe tbody tr th {\n",
       "        vertical-align: top;\n",
       "    }\n",
       "\n",
       "    .dataframe thead th {\n",
       "        text-align: right;\n",
       "    }\n",
       "</style>\n",
       "<table border=\"1\" class=\"dataframe\">\n",
       "  <thead>\n",
       "    <tr style=\"text-align: right;\">\n",
       "      <th></th>\n",
       "      <th>T</th>\n",
       "      <th>dof</th>\n",
       "      <th>alternative</th>\n",
       "      <th>p-val</th>\n",
       "      <th>CI95%</th>\n",
       "      <th>cohen-d</th>\n",
       "      <th>BF10</th>\n",
       "      <th>power</th>\n",
       "    </tr>\n",
       "  </thead>\n",
       "  <tbody>\n",
       "    <tr>\n",
       "      <th>T-test</th>\n",
       "      <td>-1.536997</td>\n",
       "      <td>198</td>\n",
       "      <td>less</td>\n",
       "      <td>0.062945</td>\n",
       "      <td>[-inf, 0.22]</td>\n",
       "      <td>0.217364</td>\n",
       "      <td>0.927</td>\n",
       "      <td>0.454972</td>\n",
       "    </tr>\n",
       "  </tbody>\n",
       "</table>\n",
       "</div>"
      ],
      "text/plain": [
       "               T  dof alternative     p-val         CI95%   cohen-d   BF10   \n",
       "T-test -1.536997  198        less  0.062945  [-inf, 0.22]  0.217364  0.927  \\\n",
       "\n",
       "           power  \n",
       "T-test  0.454972  "
      ]
     },
     "execution_count": 18,
     "metadata": {},
     "output_type": "execute_result"
    }
   ],
   "source": [
    "# ttest() with paired=True\n",
    "pingouin.ttest(x=sample_data['repub_percent_08'], y=sample_data['repub_percent_12'], paired=True, alternative='less')\n",
    "\n",
    "# Unpaired ttest()\n",
    "pingouin.ttest(x=sample_data['repub_percent_08'], y=sample_data['repub_percent_12'], paired=False, alternative='less') # False - the default\n"
   ]
  },
  {
   "cell_type": "code",
   "execution_count": 19,
   "metadata": {},
   "outputs": [
    {
     "data": {
      "text/plain": [
       "job_sat\n",
       "Very satisfied           879\n",
       "Slightly satisfied       680\n",
       "Slightly dissatisfied    342\n",
       "Neither                  201\n",
       "Very dissatisfied        159\n",
       "Name: count, dtype: int64"
      ]
     },
     "execution_count": 19,
     "metadata": {},
     "output_type": "execute_result"
    }
   ],
   "source": [
    "# ANOVA tests\n",
    "stack_overflow['job_sat'].value_counts()"
   ]
  },
  {
   "cell_type": "code",
   "execution_count": 20,
   "metadata": {},
   "outputs": [
    {
     "data": {
      "image/png": "[encoded data removed]",
      "text/plain": [
       "<Figure size 640x480 with 1 Axes>"
      ]
     },
     "metadata": {},
     "output_type": "display_data"
    }
   ],
   "source": [
    "import seaborn as sns\n",
    "import matplotlib.pyplot as plt\n",
    "sns.barplot(x='converted_comp', y='job_sat', data=stack_overflow)\n",
    "plt.show()"
   ]
  },
  {
   "cell_type": "code",
   "execution_count": 21,
   "metadata": {},
   "outputs": [
    {
     "data": {
      "text/html": [
       "<div>\n",
       "<style scoped>\n",
       "    .dataframe tbody tr th:only-of-type {\n",
       "        vertical-align: middle;\n",
       "    }\n",
       "\n",
       "    .dataframe tbody tr th {\n",
       "        vertical-align: top;\n",
       "    }\n",
       "\n",
       "    .dataframe thead th {\n",
       "        text-align: right;\n",
       "    }\n",
       "</style>\n",
       "<table border=\"1\" class=\"dataframe\">\n",
       "  <thead>\n",
       "    <tr style=\"text-align: right;\">\n",
       "      <th></th>\n",
       "      <th>Source</th>\n",
       "      <th>ddof1</th>\n",
       "      <th>ddof2</th>\n",
       "      <th>F</th>\n",
       "      <th>p-unc</th>\n",
       "      <th>np2</th>\n",
       "    </tr>\n",
       "  </thead>\n",
       "  <tbody>\n",
       "    <tr>\n",
       "      <th>0</th>\n",
       "      <td>job_sat</td>\n",
       "      <td>4</td>\n",
       "      <td>2256</td>\n",
       "      <td>4.480485</td>\n",
       "      <td>0.001315</td>\n",
       "      <td>0.007882</td>\n",
       "    </tr>\n",
       "  </tbody>\n",
       "</table>\n",
       "</div>"
      ],
      "text/plain": [
       "    Source  ddof1  ddof2         F     p-unc       np2\n",
       "0  job_sat      4   2256  4.480485  0.001315  0.007882"
      ]
     },
     "execution_count": 21,
     "metadata": {},
     "output_type": "execute_result"
    }
   ],
   "source": [
    "# Analysis of variance (ANOVA)\n",
    "alpha = 0.2\n",
    "pingouin.anova(data=stack_overflow, dv='converted_comp', between='job_sat')"
   ]
  },
  {
   "cell_type": "code",
   "execution_count": 22,
   "metadata": {},
   "outputs": [
    {
     "data": {
      "text/html": [
       "<div>\n",
       "<style scoped>\n",
       "    .dataframe tbody tr th:only-of-type {\n",
       "        vertical-align: middle;\n",
       "    }\n",
       "\n",
       "    .dataframe tbody tr th {\n",
       "        vertical-align: top;\n",
       "    }\n",
       "\n",
       "    .dataframe thead th {\n",
       "        text-align: right;\n",
       "    }\n",
       "</style>\n",
       "<table border=\"1\" class=\"dataframe\">\n",
       "  <thead>\n",
       "    <tr style=\"text-align: right;\">\n",
       "      <th></th>\n",
       "      <th>Contrast</th>\n",
       "      <th>A</th>\n",
       "      <th>B</th>\n",
       "      <th>Paired</th>\n",
       "      <th>Parametric</th>\n",
       "      <th>T</th>\n",
       "      <th>dof</th>\n",
       "      <th>alternative</th>\n",
       "      <th>p-unc</th>\n",
       "      <th>p-corr</th>\n",
       "      <th>p-adjust</th>\n",
       "      <th>BF10</th>\n",
       "      <th>hedges</th>\n",
       "    </tr>\n",
       "  </thead>\n",
       "  <tbody>\n",
       "    <tr>\n",
       "      <th>0</th>\n",
       "      <td>job_sat</td>\n",
       "      <td>Very dissatisfied</td>\n",
       "      <td>Slightly dissatisfied</td>\n",
       "      <td>False</td>\n",
       "      <td>True</td>\n",
       "      <td>1.129951</td>\n",
       "      <td>247.570187</td>\n",
       "      <td>two-sided</td>\n",
       "      <td>0.259590</td>\n",
       "      <td>1.000000</td>\n",
       "      <td>bonf</td>\n",
       "      <td>0.197</td>\n",
       "      <td>0.119131</td>\n",
       "    </tr>\n",
       "    <tr>\n",
       "      <th>1</th>\n",
       "      <td>job_sat</td>\n",
       "      <td>Very dissatisfied</td>\n",
       "      <td>Neither</td>\n",
       "      <td>False</td>\n",
       "      <td>True</td>\n",
       "      <td>0.545948</td>\n",
       "      <td>321.165726</td>\n",
       "      <td>two-sided</td>\n",
       "      <td>0.585481</td>\n",
       "      <td>1.000000</td>\n",
       "      <td>bonf</td>\n",
       "      <td>0.135</td>\n",
       "      <td>0.058537</td>\n",
       "    </tr>\n",
       "    <tr>\n",
       "      <th>2</th>\n",
       "      <td>job_sat</td>\n",
       "      <td>Very dissatisfied</td>\n",
       "      <td>Slightly satisfied</td>\n",
       "      <td>False</td>\n",
       "      <td>True</td>\n",
       "      <td>1.243665</td>\n",
       "      <td>187.153329</td>\n",
       "      <td>two-sided</td>\n",
       "      <td>0.215179</td>\n",
       "      <td>1.000000</td>\n",
       "      <td>bonf</td>\n",
       "      <td>0.208</td>\n",
       "      <td>0.145624</td>\n",
       "    </tr>\n",
       "    <tr>\n",
       "      <th>3</th>\n",
       "      <td>job_sat</td>\n",
       "      <td>Very dissatisfied</td>\n",
       "      <td>Very satisfied</td>\n",
       "      <td>False</td>\n",
       "      <td>True</td>\n",
       "      <td>-0.747379</td>\n",
       "      <td>221.666205</td>\n",
       "      <td>two-sided</td>\n",
       "      <td>0.455627</td>\n",
       "      <td>1.000000</td>\n",
       "      <td>bonf</td>\n",
       "      <td>0.126</td>\n",
       "      <td>-0.063479</td>\n",
       "    </tr>\n",
       "    <tr>\n",
       "      <th>4</th>\n",
       "      <td>job_sat</td>\n",
       "      <td>Slightly dissatisfied</td>\n",
       "      <td>Neither</td>\n",
       "      <td>False</td>\n",
       "      <td>True</td>\n",
       "      <td>-0.602209</td>\n",
       "      <td>367.730081</td>\n",
       "      <td>two-sided</td>\n",
       "      <td>0.547406</td>\n",
       "      <td>1.000000</td>\n",
       "      <td>bonf</td>\n",
       "      <td>0.118</td>\n",
       "      <td>-0.055707</td>\n",
       "    </tr>\n",
       "    <tr>\n",
       "      <th>5</th>\n",
       "      <td>job_sat</td>\n",
       "      <td>Slightly dissatisfied</td>\n",
       "      <td>Slightly satisfied</td>\n",
       "      <td>False</td>\n",
       "      <td>True</td>\n",
       "      <td>0.038264</td>\n",
       "      <td>569.926329</td>\n",
       "      <td>two-sided</td>\n",
       "      <td>0.969491</td>\n",
       "      <td>1.000000</td>\n",
       "      <td>bonf</td>\n",
       "      <td>0.074</td>\n",
       "      <td>0.002719</td>\n",
       "    </tr>\n",
       "    <tr>\n",
       "      <th>6</th>\n",
       "      <td>job_sat</td>\n",
       "      <td>Slightly dissatisfied</td>\n",
       "      <td>Very satisfied</td>\n",
       "      <td>False</td>\n",
       "      <td>True</td>\n",
       "      <td>-3.076222</td>\n",
       "      <td>821.303063</td>\n",
       "      <td>two-sided</td>\n",
       "      <td>0.002166</td>\n",
       "      <td>0.021659</td>\n",
       "      <td>bonf</td>\n",
       "      <td>7.43</td>\n",
       "      <td>-0.173247</td>\n",
       "    </tr>\n",
       "    <tr>\n",
       "      <th>7</th>\n",
       "      <td>job_sat</td>\n",
       "      <td>Neither</td>\n",
       "      <td>Slightly satisfied</td>\n",
       "      <td>False</td>\n",
       "      <td>True</td>\n",
       "      <td>0.700752</td>\n",
       "      <td>258.204546</td>\n",
       "      <td>two-sided</td>\n",
       "      <td>0.484088</td>\n",
       "      <td>1.000000</td>\n",
       "      <td>bonf</td>\n",
       "      <td>0.114</td>\n",
       "      <td>0.068513</td>\n",
       "    </tr>\n",
       "    <tr>\n",
       "      <th>8</th>\n",
       "      <td>job_sat</td>\n",
       "      <td>Neither</td>\n",
       "      <td>Very satisfied</td>\n",
       "      <td>False</td>\n",
       "      <td>True</td>\n",
       "      <td>-1.662901</td>\n",
       "      <td>328.326639</td>\n",
       "      <td>two-sided</td>\n",
       "      <td>0.097286</td>\n",
       "      <td>0.972864</td>\n",
       "      <td>bonf</td>\n",
       "      <td>0.337</td>\n",
       "      <td>-0.120115</td>\n",
       "    </tr>\n",
       "    <tr>\n",
       "      <th>9</th>\n",
       "      <td>job_sat</td>\n",
       "      <td>Slightly satisfied</td>\n",
       "      <td>Very satisfied</td>\n",
       "      <td>False</td>\n",
       "      <td>True</td>\n",
       "      <td>-4.009935</td>\n",
       "      <td>1478.622799</td>\n",
       "      <td>two-sided</td>\n",
       "      <td>0.000064</td>\n",
       "      <td>0.000638</td>\n",
       "      <td>bonf</td>\n",
       "      <td>158.564</td>\n",
       "      <td>-0.192931</td>\n",
       "    </tr>\n",
       "  </tbody>\n",
       "</table>\n",
       "</div>"
      ],
      "text/plain": [
       "  Contrast                      A                      B  Paired  Parametric   \n",
       "0  job_sat      Very dissatisfied  Slightly dissatisfied   False        True  \\\n",
       "1  job_sat      Very dissatisfied                Neither   False        True   \n",
       "2  job_sat      Very dissatisfied     Slightly satisfied   False        True   \n",
       "3  job_sat      Very dissatisfied         Very satisfied   False        True   \n",
       "4  job_sat  Slightly dissatisfied                Neither   False        True   \n",
       "5  job_sat  Slightly dissatisfied     Slightly satisfied   False        True   \n",
       "6  job_sat  Slightly dissatisfied         Very satisfied   False        True   \n",
       "7  job_sat                Neither     Slightly satisfied   False        True   \n",
       "8  job_sat                Neither         Very satisfied   False        True   \n",
       "9  job_sat     Slightly satisfied         Very satisfied   False        True   \n",
       "\n",
       "          T          dof alternative     p-unc    p-corr p-adjust     BF10   \n",
       "0  1.129951   247.570187   two-sided  0.259590  1.000000     bonf    0.197  \\\n",
       "1  0.545948   321.165726   two-sided  0.585481  1.000000     bonf    0.135   \n",
       "2  1.243665   187.153329   two-sided  0.215179  1.000000     bonf    0.208   \n",
       "3 -0.747379   221.666205   two-sided  0.455627  1.000000     bonf    0.126   \n",
       "4 -0.602209   367.730081   two-sided  0.547406  1.000000     bonf    0.118   \n",
       "5  0.038264   569.926329   two-sided  0.969491  1.000000     bonf    0.074   \n",
       "6 -3.076222   821.303063   two-sided  0.002166  0.021659     bonf     7.43   \n",
       "7  0.700752   258.204546   two-sided  0.484088  1.000000     bonf    0.114   \n",
       "8 -1.662901   328.326639   two-sided  0.097286  0.972864     bonf    0.337   \n",
       "9 -4.009935  1478.622799   two-sided  0.000064  0.000638     bonf  158.564   \n",
       "\n",
       "     hedges  \n",
       "0  0.119131  \n",
       "1  0.058537  \n",
       "2  0.145624  \n",
       "3 -0.063479  \n",
       "4 -0.055707  \n",
       "5  0.002719  \n",
       "6 -0.173247  \n",
       "7  0.068513  \n",
       "8 -0.120115  \n",
       "9 -0.192931  "
      ]
     },
     "execution_count": 22,
     "metadata": {},
     "output_type": "execute_result"
    }
   ],
   "source": [
    "# pairwise_tests()\n",
    "pingouin.pairwise_tests(data=stack_overflow, dv='converted_comp', between='job_sat', padjust='bonf')"
   ]
  },
  {
   "cell_type": "code",
   "execution_count": 27,
   "metadata": {},
   "outputs": [
    {
     "name": "stdout",
     "output_type": "stream",
     "text": [
      "0.5356037151702786\n",
      "2261\n"
     ]
    }
   ],
   "source": [
    "alpha = 0.01\n",
    "stack_overflow['age_cat'].value_counts(normalize=True)\n",
    "\n",
    "# Variables for z\n",
    "p_hat = (stack_overflow['age_cat'] == 'Under 30').mean()\n",
    "print(p_hat)\n",
    "\n",
    "p_0 = 0.50\n",
    "n = len(stack_overflow)\n",
    "print(n)"
   ]
  },
  {
   "cell_type": "code",
   "execution_count": 29,
   "metadata": {},
   "outputs": [
    {
     "name": "stdout",
     "output_type": "stream",
     "text": [
      "3.385911440783663\n"
     ]
    }
   ],
   "source": [
    "# Calculating the z-score\n",
    "import numpy as np\n",
    "numerator = p_hat - p_0\n",
    "denominator = np.sqrt(p_0 * (1-p_0)/n)\n",
    "z_score = numerator / denominator\n",
    "print(z_score)"
   ]
  },
  {
   "cell_type": "code",
   "execution_count": 33,
   "metadata": {},
   "outputs": [
    {
     "name": "stdout",
     "output_type": "stream",
     "text": [
      "0.999645288631595\n",
      "0.00035471136840503625\n",
      "1.0\n"
     ]
    }
   ],
   "source": [
    "# Calculating the p-value\n",
    "from scipy.stats import norm\n",
    "p_value = norm.cdf(z_score)\n",
    "print(p_value) # Left-tailed(\"less than\")\n",
    "p_value = 1 - norm.cdf(z_score)\n",
    "print(p_value) # Right-tailed(\"greater than\") \n",
    "p_value = norm.cdf(z_score) + 1 - norm.cdf(z_score)\n",
    "print(p_value)  # Two-tailed(\"not equal\")"
   ]
  },
  {
   "cell_type": "code",
   "execution_count": 38,
   "metadata": {},
   "outputs": [
    {
     "name": "stdout",
     "output_type": "stream",
     "text": [
      "age_cat      hobbyist\n",
      "At least 30  Yes         0.773333\n",
      "             No          0.226667\n",
      "Under 30     Yes         0.843105\n",
      "             No          0.156895\n",
      "Name: proportion, dtype: float64\n",
      "age_cat\n",
      "At least 30    1050\n",
      "Under 30       1211\n",
      "Name: hobbyist, dtype: int64\n"
     ]
    }
   ],
   "source": [
    "# Getting the numbers for the z-score\n",
    "p_hats = stack_overflow.groupby('age_cat')['hobbyist'].value_counts(normalize=True)\n",
    "print(p_hats)\n",
    "n = stack_overflow.groupby('age_cat')['hobbyist'].count()\n",
    "print(n)"
   ]
  },
  {
   "cell_type": "code",
   "execution_count": 40,
   "metadata": {},
   "outputs": [
    {
     "name": "stdout",
     "output_type": "stream",
     "text": [
      "age_cat      hobbyist\n",
      "At least 30  Yes         0.773333\n",
      "             No          0.226667\n",
      "Under 30     Yes         0.843105\n",
      "             No          0.156895\n",
      "Name: proportion, dtype: float64\n",
      "0.7733333333333333 0.8431048720066061\n"
     ]
    }
   ],
   "source": [
    "p_hats = stack_overflow.groupby('age_cat')['hobbyist'].value_counts(normalize=True)\n",
    "print(p_hats)\n",
    "\n",
    "p_hat_at_least_30 = p_hats[('At least 30', 'Yes')]\n",
    "p_hat_under_30 = p_hats[('Under 30', 'Yes')]\n",
    "print(p_hat_at_least_30, p_hat_under_30)"
   ]
  },
  {
   "cell_type": "code",
   "execution_count": 41,
   "metadata": {},
   "outputs": [
    {
     "name": "stdout",
     "output_type": "stream",
     "text": [
      "age_cat\n",
      "At least 30    1050\n",
      "Under 30       1211\n",
      "Name: hobbyist, dtype: int64\n",
      "1050 1211\n"
     ]
    }
   ],
   "source": [
    "n =  stack_overflow.groupby('age_cat')['hobbyist'].count()\n",
    "print(n)\n",
    "\n",
    "n_at_least_30 = n['At least 30']\n",
    "n_under_30 = n['Under 30']\n",
    "print(n_at_least_30, n_under_30)"
   ]
  },
  {
   "cell_type": "code",
   "execution_count": 42,
   "metadata": {},
   "outputs": [
    {
     "name": "stdout",
     "output_type": "stream",
     "text": [
      "0.810703228659885\n",
      "0.016519089824430542\n",
      "-4.223691463320559\n"
     ]
    }
   ],
   "source": [
    "p_hat = (n_at_least_30 * p_hat_at_least_30 + n_under_30 * p_hat_under_30) / (n_at_least_30 + n_under_30)\n",
    "print(p_hat)\n",
    "\n",
    "std_error = np.sqrt(p_hat * (1-p_hat) / n_at_least_30 + p_hat * (1-p_hat) / n_under_30)\n",
    "print(std_error)\n",
    "\n",
    "z_score = (p_hat_at_least_30 - p_hat_under_30) / std_error\n",
    "print(z_score)"
   ]
  },
  {
   "cell_type": "code",
   "execution_count": 49,
   "metadata": {},
   "outputs": [
    {
     "name": "stdout",
     "output_type": "stream",
     "text": [
      "-4.223691463320559 2.403330142685068e-05\n"
     ]
    }
   ],
   "source": [
    "stack_overflow.groupby('age_cat')['hobbyist'].value_counts()\n",
    "\n",
    "n_hobbyist = np.array([812, 1021])\n",
    "n_rows = np.array([812 + 238, 1021 + 190])\n",
    "from statsmodels.stats.proportion import proportions_ztest\n",
    "z_score, p_value = proportions_ztest(count=n_hobbyist, nobs=n_rows, alternative='two-sided')\n",
    "print(z_score, p_value)"
   ]
  },
  {
   "cell_type": "code",
   "execution_count": 51,
   "metadata": {},
   "outputs": [
    {
     "name": "stdout",
     "output_type": "stream",
     "text": [
      "                 test    lambda       chi2  dof      pval    cramer     power\n",
      "0             pearson  1.000000  17.839570  1.0  0.000024  0.088826  0.988205\n",
      "1        cressie-read  0.666667  17.818114  1.0  0.000024  0.088773  0.988126\n",
      "2      log-likelihood  0.000000  17.802653  1.0  0.000025  0.088734  0.988069\n",
      "3       freeman-tukey -0.500000  17.815060  1.0  0.000024  0.088765  0.988115\n",
      "4  mod-log-likelihood -1.000000  17.848099  1.0  0.000024  0.088848  0.988236\n",
      "5              neyman -2.000000  17.976656  1.0  0.000022  0.089167  0.988694\n"
     ]
    }
   ],
   "source": [
    "# test for independence of variables\n",
    "import pingouin\n",
    "expected, observed, stats = pingouin.chi2_independence(data=stack_overflow, x='hobbyist', y='age_cat', correction=False)\n",
    "print(stats)"
   ]
  },
  {
   "cell_type": "code",
   "execution_count": 53,
   "metadata": {},
   "outputs": [
    {
     "data": {
      "text/plain": [
       "<Axes: xlabel='job_sat'>"
      ]
     },
     "execution_count": 53,
     "metadata": {},
     "output_type": "execute_result"
    },
    {
     "data": {
      "image/png": "[encoded data removed]",
      "text/plain": [
       "<Figure size 640x480 with 1 Axes>"
      ]
     },
     "metadata": {},
     "output_type": "display_data"
    }
   ],
   "source": [
    "# Exploratory visualization: proportional stacked bar plot\n",
    "props = stack_overflow.groupby('job_sat')['age_cat'].value_counts(normalize=True)\n",
    "wide_props = props.unstack()\n",
    "wide_props.plot(kind='bar', stacked=True)"
   ]
  },
  {
   "cell_type": "code",
   "execution_count": 54,
   "metadata": {},
   "outputs": [
    {
     "data": {
      "text/plain": [
       "<Axes: xlabel='age_cat'>"
      ]
     },
     "execution_count": 54,
     "metadata": {},
     "output_type": "execute_result"
    },
    {
     "data": {
      "image/png": "[encoded data removed]",
      "text/plain": [
       "<Figure size 640x480 with 1 Axes>"
      ]
     },
     "metadata": {},
     "output_type": "display_data"
    }
   ],
   "source": [
    "# Swapping the variables\n",
    "props = stack_overflow.groupby('age_cat')['job_sat'].value_counts(normalize=True)\n",
    "wide_props = props.unstack()\n",
    "wide_props.plot(kind='bar', stacked=True)"
   ]
  },
  {
   "cell_type": "code",
   "execution_count": 55,
   "metadata": {},
   "outputs": [
    {
     "name": "stdout",
     "output_type": "stream",
     "text": [
      "      test  lambda      chi2  dof      pval    cramer     power\n",
      "0  pearson     1.0  5.552373  4.0  0.235164  0.049555  0.437417\n"
     ]
    }
   ],
   "source": [
    "#chi-square both ways\n",
    "expected, observed, stats = pingouin.chi2_independence(data=stack_overflow, x='age_cat', y='job_sat')\n",
    "print(stats[stats['test'] == 'pearson'])"
   ]
  },
  {
   "cell_type": "code",
   "execution_count": 57,
   "metadata": {},
   "outputs": [
    {
     "name": "stdout",
     "output_type": "stream",
     "text": [
      "         purple_link     n\n",
      "2             Amused   368\n",
      "3            Annoyed   263\n",
      "0  Hello, old friend  1225\n",
      "1        Indifferent   405\n"
     ]
    }
   ],
   "source": [
    "# Purple links\n",
    "purple_link_counts = stack_overflow['purple_link'].value_counts()\n",
    "purple_link_counts = purple_link_counts.rename_axis('purple_link').reset_index(name='n').sort_values('purple_link')\n",
    "print(purple_link_counts)"
   ]
  },
  {
   "cell_type": "code",
   "execution_count": 58,
   "metadata": {},
   "outputs": [
    {
     "name": "stdout",
     "output_type": "stream",
     "text": [
      "         purple_link      prop\n",
      "0             Amused  0.166667\n",
      "1            Annoyed  0.166667\n",
      "2  Hello, old friend  0.500000\n",
      "3        Indifferent  0.166667\n"
     ]
    }
   ],
   "source": [
    "# Declaring the hypotheses\n",
    "hypothesized = pd.DataFrame({\n",
    "    'purple_link': ['Amused', 'Annoyed', 'Hello, old friend', 'Indifferent'],\n",
    "    'prop': [1/6, 1/6, 1/2, 1/6]\n",
    "})\n",
    "print(hypothesized)"
   ]
  },
  {
   "cell_type": "code",
   "execution_count": 60,
   "metadata": {},
   "outputs": [
    {
     "name": "stdout",
     "output_type": "stream",
     "text": [
      "         purple_link      prop            n\n",
      "0             Amused  0.166667   376.833333\n",
      "1            Annoyed  0.166667   376.833333\n",
      "2  Hello, old friend  0.500000  1130.500000\n",
      "3        Indifferent  0.166667   376.833333\n"
     ]
    }
   ],
   "source": [
    "# Hypothesized counts by category\n",
    "n_total = len(stack_overflow)\n",
    "hypothesized['n'] = hypothesized['prop'] * n_total\n",
    "print(hypothesized)"
   ]
  },
  {
   "cell_type": "code",
   "execution_count": 61,
   "metadata": {},
   "outputs": [
    {
     "data": {
      "image/png": "[encoded data removed]",
      "text/plain": [
       "<Figure size 640x480 with 1 Axes>"
      ]
     },
     "metadata": {},
     "output_type": "display_data"
    }
   ],
   "source": [
    "# Visualizing counts\n",
    "import matplotlib.pyplot as plt\n",
    "plt.bar(purple_link_counts['purple_link'], purple_link_counts['n'], color='red', label='Observed')\n",
    "plt.bar(hypothesized['purple_link'], hypothesized['n'], alpha=0.5, color='blue', label='Hypothesized')\n",
    "plt.legend()\n",
    "plt.show()"
   ]
  },
  {
   "cell_type": "code",
   "execution_count": 62,
   "metadata": {},
   "outputs": [
    {
     "data": {
      "text/plain": [
       "Power_divergenceResult(statistic=44.59840778416629, pvalue=1.1261810719413759e-09)"
      ]
     },
     "execution_count": 62,
     "metadata": {},
     "output_type": "execute_result"
    }
   ],
   "source": [
    "from scipy.stats import chisquare\n",
    "chisquare(f_obs=purple_link_counts['n'], f_exp=hypothesized['n'])\n"
   ]
  },
  {
   "cell_type": "code",
   "execution_count": 2,
   "metadata": {},
   "outputs": [
    {
     "data": {
      "text/html": [
       "<div>\n",
       "<style scoped>\n",
       "    .dataframe tbody tr th:only-of-type {\n",
       "        vertical-align: middle;\n",
       "    }\n",
       "\n",
       "    .dataframe tbody tr th {\n",
       "        vertical-align: top;\n",
       "    }\n",
       "\n",
       "    .dataframe thead th {\n",
       "        text-align: right;\n",
       "    }\n",
       "</style>\n",
       "<table border=\"1\" class=\"dataframe\">\n",
       "  <thead>\n",
       "    <tr style=\"text-align: right;\">\n",
       "      <th></th>\n",
       "      <th>T</th>\n",
       "      <th>dof</th>\n",
       "      <th>alternative</th>\n",
       "      <th>p-val</th>\n",
       "      <th>CI95%</th>\n",
       "      <th>cohen-d</th>\n",
       "      <th>BF10</th>\n",
       "      <th>power</th>\n",
       "    </tr>\n",
       "  </thead>\n",
       "  <tbody>\n",
       "    <tr>\n",
       "      <th>T-test</th>\n",
       "      <td>-5.601043</td>\n",
       "      <td>99</td>\n",
       "      <td>less</td>\n",
       "      <td>9.572537e-08</td>\n",
       "      <td>[-inf, -2.02]</td>\n",
       "      <td>0.217364</td>\n",
       "      <td>1.323e+05</td>\n",
       "      <td>0.696338</td>\n",
       "    </tr>\n",
       "  </tbody>\n",
       "</table>\n",
       "</div>"
      ],
      "text/plain": [
       "               T  dof alternative         p-val          CI95%   cohen-d   \n",
       "T-test -5.601043   99        less  9.572537e-08  [-inf, -2.02]  0.217364  \\\n",
       "\n",
       "             BF10     power  \n",
       "T-test  1.323e+05  0.696338  "
      ]
     },
     "execution_count": 2,
     "metadata": {},
     "output_type": "execute_result"
    }
   ],
   "source": [
    "# Results with pingouin.ttest()\n",
    "alpha = 0.01\n",
    "import pingouin\n",
    "pingouin.ttest(x=repub_votes_potus_08_12['repub_percent_08'], y=repub_votes_potus_08_12['repub_percent_12'], paired=True, alternative='less')"
   ]
  },
  {
   "cell_type": "code",
   "execution_count": 3,
   "metadata": {},
   "outputs": [
    {
     "data": {
      "text/plain": [
       "array([1., 5., 2., 4., 3.])"
      ]
     },
     "execution_count": 3,
     "metadata": {},
     "output_type": "execute_result"
    }
   ],
   "source": [
    "# Non-paramteric tests\n",
    "x = [1, 15, 3, 10, 6]\n",
    "from scipy.stats import rankdata\n",
    "rankdata(x)"
   ]
  },
  {
   "cell_type": "code",
   "execution_count": 5,
   "metadata": {},
   "outputs": [
    {
     "name": "stdout",
     "output_type": "stream",
     "text": [
      "         state       county  repub_percent_08  repub_percent_12       diff\n",
      "0      Alabama         Hale         38.957877         37.139882   1.817995\n",
      "1     Arkansas       Nevada         56.726272         58.983452  -2.257179\n",
      "2   California         Lake         38.896719         39.331367  -0.434648\n",
      "3   California      Ventura         42.923190         45.250693  -2.327503\n",
      "4     Colorado      Lincoln         74.522569         73.764757   0.757812\n",
      "..         ...          ...               ...               ...        ...\n",
      "95   Wisconsin      Burnett         48.342541         52.437478  -4.094937\n",
      "96   Wisconsin    La Crosse         37.490904         40.577038  -3.086134\n",
      "97   Wisconsin    Lafayette         38.104967         41.675050  -3.570083\n",
      "98     Wyoming       Weston         76.684241         83.983328  -7.299087\n",
      "99      Alaska  District 34         77.063259         40.789626  36.273633\n",
      "\n",
      "[100 rows x 5 columns]\n",
      "         state       county  repub_percent_08  repub_percent_12       diff   \n",
      "0      Alabama         Hale         38.957877         37.139882   1.817995  \\\n",
      "1     Arkansas       Nevada         56.726272         58.983452  -2.257179   \n",
      "2   California         Lake         38.896719         39.331367  -0.434648   \n",
      "3   California      Ventura         42.923190         45.250693  -2.327503   \n",
      "4     Colorado      Lincoln         74.522569         73.764757   0.757812   \n",
      "..         ...          ...               ...               ...        ...   \n",
      "95   Wisconsin      Burnett         48.342541         52.437478  -4.094937   \n",
      "96   Wisconsin    La Crosse         37.490904         40.577038  -3.086134   \n",
      "97   Wisconsin    Lafayette         38.104967         41.675050  -3.570083   \n",
      "98     Wyoming       Weston         76.684241         83.983328  -7.299087   \n",
      "99      Alaska  District 34         77.063259         40.789626  36.273633   \n",
      "\n",
      "     abs_diff  \n",
      "0    1.817995  \n",
      "1    2.257179  \n",
      "2    0.434648  \n",
      "3    2.327503  \n",
      "4    0.757812  \n",
      "..        ...  \n",
      "95   4.094937  \n",
      "96   3.086134  \n",
      "97   3.570083  \n",
      "98   7.299087  \n",
      "99  36.273633  \n",
      "\n",
      "[100 rows x 6 columns]\n"
     ]
    }
   ],
   "source": [
    "# Wilcoxon-signed rank test\n",
    "repub_votes_potus_08_12['diff'] = repub_votes_potus_08_12['repub_percent_08'] - repub_votes_potus_08_12['repub_percent_12']\n",
    "print(repub_votes_potus_08_12)\n",
    "repub_votes_potus_08_12['abs_diff'] = repub_votes_potus_08_12['diff'].abs()\n",
    "print(repub_votes_potus_08_12)"
   ]
  },
  {
   "cell_type": "code",
   "execution_count": 6,
   "metadata": {},
   "outputs": [
    {
     "name": "stdout",
     "output_type": "stream",
     "text": [
      "         state       county  repub_percent_08  repub_percent_12       diff   \n",
      "0      Alabama         Hale         38.957877         37.139882   1.817995  \\\n",
      "1     Arkansas       Nevada         56.726272         58.983452  -2.257179   \n",
      "2   California         Lake         38.896719         39.331367  -0.434648   \n",
      "3   California      Ventura         42.923190         45.250693  -2.327503   \n",
      "4     Colorado      Lincoln         74.522569         73.764757   0.757812   \n",
      "..         ...          ...               ...               ...        ...   \n",
      "95   Wisconsin      Burnett         48.342541         52.437478  -4.094937   \n",
      "96   Wisconsin    La Crosse         37.490904         40.577038  -3.086134   \n",
      "97   Wisconsin    Lafayette         38.104967         41.675050  -3.570083   \n",
      "98     Wyoming       Weston         76.684241         83.983328  -7.299087   \n",
      "99      Alaska  District 34         77.063259         40.789626  36.273633   \n",
      "\n",
      "     abs_diff  rank_abs_diff  \n",
      "0    1.817995           33.0  \n",
      "1    2.257179           42.0  \n",
      "2    0.434648           10.0  \n",
      "3    2.327503           44.0  \n",
      "4    0.757812           16.0  \n",
      "..        ...            ...  \n",
      "95   4.094937           63.0  \n",
      "96   3.086134           50.0  \n",
      "97   3.570083           54.0  \n",
      "98   7.299087           87.0  \n",
      "99  36.273633          100.0  \n",
      "\n",
      "[100 rows x 7 columns]\n"
     ]
    }
   ],
   "source": [
    "# Ranking the diff col\n",
    "from scipy.stats import rankdata\n",
    "repub_votes_potus_08_12['rank_abs_diff'] = rankdata(repub_votes_potus_08_12['abs_diff'])\n",
    "print(repub_votes_potus_08_12)"
   ]
  },
  {
   "cell_type": "code",
   "execution_count": 8,
   "metadata": {},
   "outputs": [
    {
     "name": "stdout",
     "output_type": "stream",
     "text": [
      "0\n"
     ]
    }
   ],
   "source": [
    "import numpy as np\n",
    "T_minus = 1 + 4 + 5 + 2 + 3\n",
    "T_plus = 0\n",
    "W = np.min([T_minus, T_plus])\n",
    "print(W)"
   ]
  },
  {
   "cell_type": "code",
   "execution_count": 11,
   "metadata": {},
   "outputs": [
    {
     "data": {
      "text/html": [
       "<div>\n",
       "<style scoped>\n",
       "    .dataframe tbody tr th:only-of-type {\n",
       "        vertical-align: middle;\n",
       "    }\n",
       "\n",
       "    .dataframe tbody tr th {\n",
       "        vertical-align: top;\n",
       "    }\n",
       "\n",
       "    .dataframe thead th {\n",
       "        text-align: right;\n",
       "    }\n",
       "</style>\n",
       "<table border=\"1\" class=\"dataframe\">\n",
       "  <thead>\n",
       "    <tr style=\"text-align: right;\">\n",
       "      <th></th>\n",
       "      <th>W-val</th>\n",
       "      <th>alternative</th>\n",
       "      <th>p-val</th>\n",
       "      <th>RBC</th>\n",
       "      <th>CLES</th>\n",
       "    </tr>\n",
       "  </thead>\n",
       "  <tbody>\n",
       "    <tr>\n",
       "      <th>Wilcoxon</th>\n",
       "      <td>386.0</td>\n",
       "      <td>less</td>\n",
       "      <td>9.700674e-14</td>\n",
       "      <td>-0.847129</td>\n",
       "      <td>0.5729</td>\n",
       "    </tr>\n",
       "  </tbody>\n",
       "</table>\n",
       "</div>"
      ],
      "text/plain": [
       "          W-val alternative         p-val       RBC    CLES\n",
       "Wilcoxon  386.0        less  9.700674e-14 -0.847129  0.5729"
      ]
     },
     "execution_count": 11,
     "metadata": {},
     "output_type": "execute_result"
    }
   ],
   "source": [
    "# Implementation with pingouin.wilcoxon()\n",
    "alpha = 0.01\n",
    "pingouin.wilcoxon(x=repub_votes_potus_08_12['repub_percent_08'], y=repub_votes_potus_08_12['repub_percent_12'], alternative='less')"
   ]
  },
  {
   "cell_type": "code",
   "execution_count": 15,
   "metadata": {},
   "outputs": [
    {
     "name": "stdout",
     "output_type": "stream",
     "text": [
      "age_first_code_cut      adult     child\n",
      "0                     77556.0       NaN\n",
      "1                         NaN   74970.0\n",
      "2                         NaN  594539.0\n",
      "3                   2000000.0       NaN\n",
      "4                     37816.0       NaN\n",
      "...                       ...       ...\n",
      "2256                      NaN  145000.0\n",
      "2257                      NaN   33972.0\n",
      "2258                      NaN   97284.0\n",
      "2259                      NaN   72000.0\n",
      "2260                      NaN  180000.0\n",
      "\n",
      "[2261 rows x 2 columns]\n"
     ]
    }
   ],
   "source": [
    "# Wilcoxon-Mann-Whitney test setup\n",
    "age_vs_comp = stack_overflow[['converted_comp', 'age_first_code_cut']]\n",
    "age_vs_comp_wide = age_vs_comp.pivot(columns='age_first_code_cut', values='converted_comp')\n",
    "print(age_vs_comp_wide)"
   ]
  },
  {
   "cell_type": "code",
   "execution_count": 17,
   "metadata": {},
   "outputs": [
    {
     "data": {
      "text/html": [
       "<div>\n",
       "<style scoped>\n",
       "    .dataframe tbody tr th:only-of-type {\n",
       "        vertical-align: middle;\n",
       "    }\n",
       "\n",
       "    .dataframe tbody tr th {\n",
       "        vertical-align: top;\n",
       "    }\n",
       "\n",
       "    .dataframe thead th {\n",
       "        text-align: right;\n",
       "    }\n",
       "</style>\n",
       "<table border=\"1\" class=\"dataframe\">\n",
       "  <thead>\n",
       "    <tr style=\"text-align: right;\">\n",
       "      <th></th>\n",
       "      <th>U-val</th>\n",
       "      <th>alternative</th>\n",
       "      <th>p-val</th>\n",
       "      <th>RBC</th>\n",
       "      <th>CLES</th>\n",
       "    </tr>\n",
       "  </thead>\n",
       "  <tbody>\n",
       "    <tr>\n",
       "      <th>MWU</th>\n",
       "      <td>744365.5</td>\n",
       "      <td>greater</td>\n",
       "      <td>1.902723e-19</td>\n",
       "      <td>-0.222516</td>\n",
       "      <td>0.611258</td>\n",
       "    </tr>\n",
       "  </tbody>\n",
       "</table>\n",
       "</div>"
      ],
      "text/plain": [
       "        U-val alternative         p-val       RBC      CLES\n",
       "MWU  744365.5     greater  1.902723e-19 -0.222516  0.611258"
      ]
     },
     "execution_count": 17,
     "metadata": {},
     "output_type": "execute_result"
    }
   ],
   "source": [
    "alpha = 0.01\n",
    "import pingouin\n",
    "pingouin.mwu(x=age_vs_comp_wide['child'], y=age_vs_comp_wide['adult'], alternative='greater')"
   ]
  },
  {
   "cell_type": "code",
   "execution_count": 19,
   "metadata": {},
   "outputs": [
    {
     "data": {
      "text/html": [
       "<div>\n",
       "<style scoped>\n",
       "    .dataframe tbody tr th:only-of-type {\n",
       "        vertical-align: middle;\n",
       "    }\n",
       "\n",
       "    .dataframe tbody tr th {\n",
       "        vertical-align: top;\n",
       "    }\n",
       "\n",
       "    .dataframe thead th {\n",
       "        text-align: right;\n",
       "    }\n",
       "</style>\n",
       "<table border=\"1\" class=\"dataframe\">\n",
       "  <thead>\n",
       "    <tr style=\"text-align: right;\">\n",
       "      <th></th>\n",
       "      <th>Source</th>\n",
       "      <th>ddof1</th>\n",
       "      <th>H</th>\n",
       "      <th>p-unc</th>\n",
       "    </tr>\n",
       "  </thead>\n",
       "  <tbody>\n",
       "    <tr>\n",
       "      <th>Kruskal</th>\n",
       "      <td>job_sat</td>\n",
       "      <td>4</td>\n",
       "      <td>72.814939</td>\n",
       "      <td>5.772915e-15</td>\n",
       "    </tr>\n",
       "  </tbody>\n",
       "</table>\n",
       "</div>"
      ],
      "text/plain": [
       "          Source  ddof1          H         p-unc\n",
       "Kruskal  job_sat      4  72.814939  5.772915e-15"
      ]
     },
     "execution_count": 19,
     "metadata": {},
     "output_type": "execute_result"
    }
   ],
   "source": [
    "#Krushal-Wallis test\n",
    "alpha = 0.01\n",
    "pingouin.kruskal(data=stack_overflow, dv='converted_comp', between='job_sat')"
   ]
  }
 ],
 "metadata": {
  "kernelspec": {
   "display_name": "Python 3.11.5 64-bit",
   "language": "python",
   "name": "python3"
  },
  "language_info": {
   "codemirror_mode": {
    "name": "ipython",
    "version": 3
   },
   "file_extension": ".py",
   "mimetype": "text/x-python",
   "name": "python",
   "nbconvert_exporter": "python",
   "pygments_lexer": "ipython3",
   "version": "3.11.5"
  },
  "orig_nbformat": 4,
  "vscode": {
   "interpreter": {
    "hash": "aee8b7b246df8f9039afb4144a1f6fd8d2ca17a180786b69acc140d282b71a49"
   }
  }
 },
 "nbformat": 4,
 "nbformat_minor": 2
}

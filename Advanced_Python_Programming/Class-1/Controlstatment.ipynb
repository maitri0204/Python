{
 "cells": [
  {
   "cell_type": "code",
   "execution_count": 2,
   "metadata": {},
   "outputs": [
    {
     "name": "stdout",
     "output_type": "stream",
     "text": [
      "one-two-three\n"
     ]
    }
   ],
   "source": [
    "def number_to_words(num: int):\n",
    "    dict = {'0':'zero', '1':'one', '2':'two', '3':'three', '4':'four', '5':'five', '6':'six',\n",
    "        '7':'seven', '8':'eight', '9':'nine'}\n",
    "\n",
    "    result = [dict[digit] for digit in str(num)]\n",
    "    return '-'.join(result)\n",
    "\n",
    "input_1 = number_to_words(123)\n",
    "print(input_1)"
   ]
  },
  {
   "cell_type": "code",
   "execution_count": 4,
   "metadata": {},
   "outputs": [
    {
     "name": "stdout",
     "output_type": "stream",
     "text": [
      "Eligible to vote\n"
     ]
    }
   ],
   "source": [
    "def age(num1: int):\n",
    "    if num1 >= 18:\n",
    "        return 'Eligible to vote'\n",
    "    else:\n",
    "        return 'Not eligible to vote'\n",
    "\n",
    "age_1 = age(18)\n",
    "print(age_1)"
   ]
  }
 ],
 "metadata": {
  "kernelspec": {
   "display_name": "Python 3.11.5 64-bit",
   "language": "python",
   "name": "python3"
  },
  "language_info": {
   "codemirror_mode": {
    "name": "ipython",
    "version": 3
   },
   "file_extension": ".py",
   "mimetype": "text/x-python",
   "name": "python",
   "nbconvert_exporter": "python",
   "pygments_lexer": "ipython3",
   "version": "3.11.5"
  },
  "orig_nbformat": 4,
  "vscode": {
   "interpreter": {
    "hash": "aee8b7b246df8f9039afb4144a1f6fd8d2ca17a180786b69acc140d282b71a49"
   }
  }
 },
 "nbformat": 4,
 "nbformat_minor": 2
}

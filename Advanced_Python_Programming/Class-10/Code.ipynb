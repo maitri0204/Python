{
 "cells": [
  {
   "cell_type": "code",
   "execution_count": 3,
   "metadata": {},
   "outputs": [],
   "source": [
    "import pandas as pd\n",
    "import numpy as np\n",
    "import matplotlib.pyplot as plt\n",
    "import os"
   ]
  },
  {
   "cell_type": "code",
   "execution_count": 2,
   "metadata": {},
   "outputs": [
    {
     "data": {
      "text/html": [
       "<div>\n",
       "<style scoped>\n",
       "    .dataframe tbody tr th:only-of-type {\n",
       "        vertical-align: middle;\n",
       "    }\n",
       "\n",
       "    .dataframe tbody tr th {\n",
       "        vertical-align: top;\n",
       "    }\n",
       "\n",
       "    .dataframe thead th {\n",
       "        text-align: right;\n",
       "    }\n",
       "</style>\n",
       "<table border=\"1\" class=\"dataframe\">\n",
       "  <thead>\n",
       "    <tr style=\"text-align: right;\">\n",
       "      <th></th>\n",
       "      <th>Name</th>\n",
       "      <th>Date</th>\n",
       "      <th>Description</th>\n",
       "      <th>Amount</th>\n",
       "    </tr>\n",
       "  </thead>\n",
       "  <tbody>\n",
       "    <tr>\n",
       "      <th>0</th>\n",
       "      <td>Alice</td>\n",
       "      <td>2024-10-01</td>\n",
       "      <td>Groceries</td>\n",
       "      <td>150.75</td>\n",
       "    </tr>\n",
       "    <tr>\n",
       "      <th>1</th>\n",
       "      <td>Bob</td>\n",
       "      <td>2024-10-01</td>\n",
       "      <td>Fuel</td>\n",
       "      <td>60.00</td>\n",
       "    </tr>\n",
       "    <tr>\n",
       "      <th>2</th>\n",
       "      <td>Alice</td>\n",
       "      <td>2024-10-02</td>\n",
       "      <td>Electricity Bill</td>\n",
       "      <td>120.00</td>\n",
       "    </tr>\n",
       "    <tr>\n",
       "      <th>3</th>\n",
       "      <td>Charlie</td>\n",
       "      <td>2024-10-03</td>\n",
       "      <td>Dining Out</td>\n",
       "      <td>85.50</td>\n",
       "    </tr>\n",
       "    <tr>\n",
       "      <th>4</th>\n",
       "      <td>Bob</td>\n",
       "      <td>2024-10-03</td>\n",
       "      <td>Internet Bill</td>\n",
       "      <td>55.00</td>\n",
       "    </tr>\n",
       "    <tr>\n",
       "      <th>5</th>\n",
       "      <td>Charlie</td>\n",
       "      <td>2024-10-04</td>\n",
       "      <td>Groceries</td>\n",
       "      <td>200.00</td>\n",
       "    </tr>\n",
       "    <tr>\n",
       "      <th>6</th>\n",
       "      <td>Alice</td>\n",
       "      <td>2024-10-05</td>\n",
       "      <td>Gym Membership</td>\n",
       "      <td>50.00</td>\n",
       "    </tr>\n",
       "    <tr>\n",
       "      <th>7</th>\n",
       "      <td>Bob</td>\n",
       "      <td>2024-10-05</td>\n",
       "      <td>Clothes</td>\n",
       "      <td>130.25</td>\n",
       "    </tr>\n",
       "  </tbody>\n",
       "</table>\n",
       "</div>"
      ],
      "text/plain": [
       "      Name        Date       Description  Amount\n",
       "0    Alice  2024-10-01         Groceries  150.75\n",
       "1      Bob  2024-10-01              Fuel   60.00\n",
       "2    Alice  2024-10-02  Electricity Bill  120.00\n",
       "3  Charlie  2024-10-03        Dining Out   85.50\n",
       "4      Bob  2024-10-03     Internet Bill   55.00\n",
       "5  Charlie  2024-10-04         Groceries  200.00\n",
       "6    Alice  2024-10-05    Gym Membership   50.00\n",
       "7      Bob  2024-10-05           Clothes  130.25"
      ]
     },
     "execution_count": 2,
     "metadata": {},
     "output_type": "execute_result"
    }
   ],
   "source": [
    "if not os.path.exists('expenses.csv'):\n",
    "    df = pd.DataFrame(columns=['Name', 'Date', 'Description', 'Amount', 'Category'])\n",
    "    df.to_csv('expenses.csv', index=False)\n",
    "\n",
    "# Input expense details\n",
    "name = input(\"Enter your name: \")\n",
    "date = input(\"Enter the date (YYYY-MM-DD): \")\n",
    "description = input(\"Enter a description: \")\n",
    "amount = float(input(\"Enter the amount: \"))\n",
    "category = input(\"Enter the category (e.g., groceries, utilities, entertainment): \")\n",
    "\n",
    "# Save the new expense to the CSV file\n",
    "new_expense = pd.DataFrame([[name, date, description, amount, category]], \n",
    "                           columns=['Name', 'Date', 'Description', 'Amount', 'Category'])\n",
    "new_expense.to_csv('expenses.csv', mode='a', header=False, index=False)\n",
    "print(\"Expense added successfully!\")"
   ]
  },
  {
   "cell_type": "code",
   "execution_count": null,
   "metadata": {},
   "outputs": [],
   "source": []
  }
 ],
 "metadata": {
  "kernelspec": {
   "display_name": "Python 3.11.5 64-bit",
   "language": "python",
   "name": "python3"
  },
  "language_info": {
   "codemirror_mode": {
    "name": "ipython",
    "version": 3
   },
   "file_extension": ".py",
   "mimetype": "text/x-python",
   "name": "python",
   "nbconvert_exporter": "python",
   "pygments_lexer": "ipython3",
   "version": "3.11.5"
  },
  "orig_nbformat": 4,
  "vscode": {
   "interpreter": {
    "hash": "aee8b7b246df8f9039afb4144a1f6fd8d2ca17a180786b69acc140d282b71a49"
   }
  }
 },
 "nbformat": 4,
 "nbformat_minor": 2
}

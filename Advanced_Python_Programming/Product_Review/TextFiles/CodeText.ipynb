{
 "cells": [
  {
   "cell_type": "code",
   "execution_count": 6,
   "metadata": {},
   "outputs": [
    {
     "name": "stdout",
     "output_type": "stream",
     "text": [
      "   CustomerID   ProductID Review Date  Review Rating         Review Text\n",
      "0      CI0001  PI63618832  2024-01-01              3       janwknckwcjwj\n",
      "1      CI0004  PI26872238  2024-05-05              5  wfiwhfichewuchoewq\n",
      "2      CI0002  PI82328982  2024-03-03              1          wfiwhifhew\n",
      "3      CI0007  PI82328982  2024-10-02              3          hjowjocwjs\n",
      "4      CI0009  PI63618832  2024-12-26              4     iheiuwfowjfoeiw\n",
      "5      CI0017  PI74727392  2024-11-01              2       janwknckwcjwj\n",
      "6      CI0014  PI47273180  2024-05-15              5  wfiwhfichewuchoewq\n",
      "7      CI0012  PI74727392  2024-03-13              1          wfiwhifhew\n",
      "8      CI0018  PI82328919  2024-10-12              5          hjowjocwjs\n",
      "9      CI0019  PI42732989  2024-12-06              4     iheiuwfowjfoeiw\n",
      "10     CI0027  PI28328998  2024-11-11              3       janwknckwcjwj\n",
      "11     CI0024  PI22398298  2024-05-25              5  wfiwhfichewuchoewq\n",
      "12     CI0022  PI28328998  2024-03-23              1          wfiwhifhew\n",
      "13     CI0028  PI82328919  2024-10-22              2          hjowjocwjs\n",
      "14        NaN  PI42732989  2024-12-16              4     iheiuwfowjfoeiw\n",
      "15     CI0027  PI92983824  2023-11-11              2       janwknckwcjwj\n",
      "16        NaN  PI32932382  2023-05-25              4  wfiwhfichewuchoewq\n",
      "17     CI0022  PI32932382  2023-03-23              3                 NaN\n",
      "18     CI0028  PI82328919  2023-10-22              1          hjowjocwjs\n",
      "19     CI0039  PI92983824  2023-12-16              4     iheiuwfowjfoeiw\n",
      "20     CI0017  PI23729739  2024-11-01              5       janwknckwcjwj\n",
      "21        NaN  PI47273180  2024-05-15              3  wfiwhfichewuchoewq\n",
      "22     CI0012  PI23922939  2024-03-13              2          wfiwhifhew\n",
      "23        NaN  PI82328919  2024-10-12              4          hjowjocwjs\n",
      "24     CI0019  PI23922939  2024-12-06              5     iheiuwfowjfoeiw\n"
     ]
    }
   ],
   "source": [
    "import pandas as pd\n",
    "import numpy as np\n",
    "\n",
    "data1 = pd.read_csv('File1.txt', sep = '\\t')\n",
    "data2 = pd.read_csv('File2.txt', sep = '\\t')\n",
    "data3 = pd.read_csv('File3.txt', sep = '\\t')\n",
    "data4 = pd.read_csv('File4.txt', sep = '\\t')\n",
    "data5 = pd.read_csv('File5.txt', sep = '\\t')\n",
    "\n",
    "data = pd.concat([data1, data2, data3, data4, data5], ignore_index=True)\n",
    "print(data)"
   ]
  },
  {
   "cell_type": "code",
   "execution_count": 7,
   "metadata": {},
   "outputs": [
    {
     "name": "stdout",
     "output_type": "stream",
     "text": [
      "{'PI22398298': 5.0, 'PI23729739': 5.0, 'PI23922939': 3.5, 'PI26872238': 5.0, 'PI28328998': 2.0, 'PI32932382': 3.5, 'PI42732989': 4.0, 'PI47273180': 4.0, 'PI63618832': 3.5, 'PI74727392': 1.5, 'PI82328919': 3.0, 'PI82328982': 2.0, 'PI92983824': 3.0}\n",
      "ProductID\n",
      "PI22398298    5.0\n",
      "PI23729739    5.0\n",
      "PI26872238    5.0\n",
      "Name: Review Rating, dtype: float64\n"
     ]
    }
   ],
   "source": [
    "mean_ratings = data.groupby('ProductID')['Review Rating'].mean()\n",
    "mean_ratings_dict = mean_ratings.to_dict()\n",
    "print(mean_ratings_dict)\n",
    "\n",
    "highest_rating = mean_ratings.sort_values(ascending=False).head(3)\n",
    "print(highest_rating)"
   ]
  },
  {
   "cell_type": "code",
   "execution_count": 8,
   "metadata": {},
   "outputs": [
    {
     "name": "stdout",
     "output_type": "stream",
     "text": [
      "25\n",
      "20\n",
      "5\n"
     ]
    }
   ],
   "source": [
    "number_of_reviews = data.shape[0]\n",
    "print(number_of_reviews)\n",
    "\n",
    "total_valid_reviews = data.dropna().shape[0]\n",
    "print(total_valid_reviews)\n",
    "\n",
    "total_invalid_reviews = number_of_reviews - total_valid_reviews\n",
    "print(total_invalid_reviews)\n"
   ]
  },
  {
   "cell_type": "code",
   "execution_count": 9,
   "metadata": {},
   "outputs": [],
   "source": [
    "with open('Summary.txt', 'w') as file:\n",
    "    file.write(f'Total number of reviews: {number_of_reviews} \\n')\n",
    "    file.write(f'Number of valid reiews: {total_valid_reviews} \\n')\n",
    "    file.write(f'Number of invalid reiews: {total_invalid_reviews} \\n')\n",
    "    file.write(f'Highest average ratings: \\n {highest_rating}')"
   ]
  }
 ],
 "metadata": {
  "kernelspec": {
   "display_name": "Python 3.11.5 64-bit",
   "language": "python",
   "name": "python3"
  },
  "language_info": {
   "codemirror_mode": {
    "name": "ipython",
    "version": 3
   },
   "file_extension": ".py",
   "mimetype": "text/x-python",
   "name": "python",
   "nbconvert_exporter": "python",
   "pygments_lexer": "ipython3",
   "version": "3.11.5"
  },
  "orig_nbformat": 4,
  "vscode": {
   "interpreter": {
    "hash": "aee8b7b246df8f9039afb4144a1f6fd8d2ca17a180786b69acc140d282b71a49"
   }
  }
 },
 "nbformat": 4,
 "nbformat_minor": 2
}

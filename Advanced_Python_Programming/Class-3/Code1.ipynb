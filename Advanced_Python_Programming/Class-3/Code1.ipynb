{
 "cells": [
  {
   "cell_type": "code",
   "execution_count": 35,
   "metadata": {},
   "outputs": [],
   "source": [
    "import pandas as pd\n",
    "import numpy as np"
   ]
  },
  {
   "cell_type": "code",
   "execution_count": 36,
   "metadata": {},
   "outputs": [
    {
     "name": "stdout",
     "output_type": "stream",
     "text": [
      "  Train ID     Train Name  Source Destination Station  Total Seats   \n",
      "0     T123    Express 123  City A              City B          200  \\\n",
      "1     T456  Superfast 456  City B              City C          150   \n",
      "2     T789   Shatabdi 789  City C              City D          100   \n",
      "3     T321  Intercity 321  City D              City E          180   \n",
      "4     T654   Rajdhani 654  City E              City F          250   \n",
      "5     T234            NaN  City F              City G          135   \n",
      "6      NaN        ABC 123  City G              City H          179   \n",
      "\n",
      "   Available Seats  Total fare  \n",
      "0              198       500.0  \n",
      "1              147      1200.0  \n",
      "2               96      1400.0  \n",
      "3              179       200.0  \n",
      "4              250      1500.0  \n",
      "5              120       300.0  \n",
      "6              160         NaN  \n",
      "  Passenger Name Train ID  Number of Tickets\n",
      "0           John     T123                2.0\n",
      "1          Alice     T321                1.0\n",
      "2            Bob     T123                4.0\n",
      "3            Eve     T456                3.0\n",
      "4            NaN     T321                5.0\n",
      "5            ABC     T321                NaN\n"
     ]
    }
   ],
   "source": [
    "train = pd.read_csv('Train.csv')\n",
    "print(train)\n",
    "\n",
    "passenger = pd.read_csv('Passengers.csv')\n",
    "print(passenger)"
   ]
  },
  {
   "cell_type": "code",
   "execution_count": 43,
   "metadata": {},
   "outputs": [
    {
     "name": "stdout",
     "output_type": "stream",
     "text": [
      "Total number of valid inputs in train dataset: 5\n",
      "Total number of invalid inputs in train dataset: 2\n"
     ]
    }
   ],
   "source": [
    "train_total_values = train.shape[0]\n",
    "train = train.dropna()\n",
    "train_valid_values = train.dropna().shape[0]\n",
    "print(f'Total number of valid inputs in train dataset: {train_valid_values}')\n",
    "train_invalid_values = train_total_values - train_valid_values\n",
    "print(f'Total number of invalid inputs in train dataset: {train_invalid_values}')"
   ]
  },
  {
   "cell_type": "code",
   "execution_count": 44,
   "metadata": {},
   "outputs": [
    {
     "name": "stdout",
     "output_type": "stream",
     "text": [
      "Total number of valid inputs in passenger dataset: 4\n",
      "Total number of invalid inputs in passenger dataset: 2\n"
     ]
    }
   ],
   "source": [
    "passenger_total_values = passenger.shape[0]\n",
    "passenger = passenger.dropna()\n",
    "passenger_valid_values = passenger.shape[0]\n",
    "print(f'Total number of valid inputs in passenger dataset: {passenger_valid_values}')\n",
    "passenger_invalid_values = passenger_total_values - passenger_valid_values\n",
    "print(f'Total number of invalid inputs in passenger dataset: {passenger_invalid_values}')"
   ]
  },
  {
   "cell_type": "code",
   "execution_count": 46,
   "metadata": {},
   "outputs": [
    {
     "name": "stdout",
     "output_type": "stream",
     "text": [
      "  Passenger Name Train ID  Number of Tickets  Available Seats  Total fare   \n",
      "0           John     T123                2.0              174       500.0  \\\n",
      "1            Bob     T123                4.0              174       500.0   \n",
      "2          Alice     T321                1.0              160       200.0   \n",
      "3            Eve     T456                3.0              135      1200.0   \n",
      "\n",
      "   Booking Status  \n",
      "0            True  \n",
      "1            True  \n",
      "2            True  \n",
      "3            True  \n",
      "2.0 tickets for John on Train T123 successfully booked for 1000.0.\n",
      "4.0 tickets for Bob on Train T123 successfully booked for 2000.0.\n",
      "1.0 tickets for Alice on Train T321 successfully booked for 200.0.\n",
      "3.0 tickets for Eve on Train T456 successfully booked for 3600.0.\n"
     ]
    },
    {
     "data": {
      "text/plain": [
       "(  Passenger Name Train ID  Number of Tickets  Available Seats  Total fare   \n",
       " 0           John     T123                2.0              174       500.0  \\\n",
       " 1            Bob     T123                4.0              174       500.0   \n",
       " 2          Alice     T321                1.0              160       200.0   \n",
       " 3            Eve     T456                3.0              135      1200.0   \n",
       " \n",
       "    Booking Status  \n",
       " 0            True  \n",
       " 1            True  \n",
       " 2            True  \n",
       " 3            True  ,\n",
       "   Train ID     Train Name  Source Destination Station  Total Seats   \n",
       " 0     T123    Express 123  City A              City B          200  \\\n",
       " 1     T456  Superfast 456  City B              City C          150   \n",
       " 2     T789   Shatabdi 789  City C              City D          100   \n",
       " 3     T321  Intercity 321  City D              City E          180   \n",
       " 4     T654   Rajdhani 654  City E              City F          250   \n",
       " \n",
       "    Available Seats  Total fare  \n",
       " 0              168       500.0  \n",
       " 1              132      1200.0  \n",
       " 2               96      1400.0  \n",
       " 3              159       200.0  \n",
       " 4              250      1500.0  )"
      ]
     },
     "execution_count": 46,
     "metadata": {},
     "output_type": "execute_result"
    }
   ],
   "source": [
    "def Bookings(passenger, train):\n",
    "    merged_dataset = pd.merge(passenger, train[['Train ID', 'Available Seats', 'Total fare']], on='Train ID')\n",
    "    merged_dataset['Booking Status'] = merged_dataset['Available Seats'] >= merged_dataset['Number of Tickets']\n",
    "\n",
    "    for index, row in merged_dataset.iterrows():\n",
    "        if row['Booking Status']:\n",
    "            train.loc[train['Train ID'] == row['Train ID'], 'Available Seats'] -= row['Number of Tickets']\n",
    "            passenger_fare = train.loc[train['Train ID'] == row['Train ID'], 'Total fare'].values[0] * row['Number of Tickets']\n",
    "            print(f\"{row['Number of Tickets']} tickets for {row['Passenger Name']} on Train {row['Train ID']} successfully booked for {passenger_fare}.\")\n",
    "        else:\n",
    "            print(f\"Booking failed for {row['Passenger Name']} on Train {row['Train ID']} due to insufficient available seats.\")\n",
    "    return merged_dataset, train\n",
    "\n",
    "booking = Bookings(passenger, train)\n",
    "booking"
   ]
  }
 ],
 "metadata": {
  "kernelspec": {
   "display_name": "Python 3.11.5 64-bit",
   "language": "python",
   "name": "python3"
  },
  "language_info": {
   "codemirror_mode": {
    "name": "ipython",
    "version": 3
   },
   "file_extension": ".py",
   "mimetype": "text/x-python",
   "name": "python",
   "nbconvert_exporter": "python",
   "pygments_lexer": "ipython3",
   "version": "3.11.5"
  },
  "orig_nbformat": 4,
  "vscode": {
   "interpreter": {
    "hash": "aee8b7b246df8f9039afb4144a1f6fd8d2ca17a180786b69acc140d282b71a49"
   }
  }
 },
 "nbformat": 4,
 "nbformat_minor": 2
}

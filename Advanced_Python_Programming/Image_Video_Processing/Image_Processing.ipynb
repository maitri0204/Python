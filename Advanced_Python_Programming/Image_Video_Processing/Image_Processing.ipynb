{
 "cells": [
  {
   "cell_type": "code",
   "execution_count": 1,
   "metadata": {},
   "outputs": [],
   "source": [
    "from PIL import Image, ImageFilter, ImageEnhance\n",
    "import matplotlib.pyplot as plt\n",
    "import numpy as np"
   ]
  },
  {
   "cell_type": "code",
   "execution_count": 2,
   "metadata": {},
   "outputs": [],
   "source": [
    "def load_and_display_image(file_path):\n",
    "    try:\n",
    "        image = Image.open(file_path)\n",
    "        image.show()\n",
    "        return image\n",
    "    except Exception as e:\n",
    "        print(f\"Error loading image: {e}\")\n",
    "        return None"
   ]
  },
  {
   "cell_type": "code",
   "execution_count": 3,
   "metadata": {},
   "outputs": [],
   "source": [
    "def apply_filter(image, filter_type):\n",
    "    if filter_type == \"blur\":\n",
    "        return image.filter(ImageFilter.GaussianBlur(radius=5))\n",
    "    elif filter_type == \"edge\":\n",
    "        return image.filter(ImageFilter.FIND_EDGES)\n",
    "    else:\n",
    "        print(\"Unknown filter type\")\n",
    "        return image"
   ]
  },
  {
   "cell_type": "code",
   "execution_count": 4,
   "metadata": {},
   "outputs": [],
   "source": [
    "def adjust_brightness_contrast(image, brightness_factor=1.0, contrast_factor=1.0):\n",
    "    enhancer_brightness = ImageEnhance.Brightness(image)\n",
    "    image = enhancer_brightness.enhance(brightness_factor)\n",
    "    enhancer_contrast = ImageEnhance.Contrast(image)\n",
    "    return enhancer_contrast.enhance(contrast_factor)"
   ]
  },
  {
   "cell_type": "code",
   "execution_count": 5,
   "metadata": {},
   "outputs": [],
   "source": [
    "def resize_image(image, width, height):\n",
    "    return image.resize((width, height))"
   ]
  },
  {
   "cell_type": "code",
   "execution_count": 6,
   "metadata": {},
   "outputs": [],
   "source": [
    "def convert_to_grayscale(image):\n",
    "    return image.convert(\"L\")"
   ]
  },
  {
   "cell_type": "code",
   "execution_count": 7,
   "metadata": {},
   "outputs": [],
   "source": [
    "def display_histogram(image):\n",
    "    image_np = np.array(image)\n",
    "    \n",
    "    if image.mode == 'RGB':\n",
    "        color = ('red', 'green', 'blue')\n",
    "        for i, col in enumerate(color):\n",
    "            plt.hist(image_np[:, :, i].ravel(), bins=256, color=col, alpha=0.5)\n",
    "    else: \n",
    "        plt.hist(image_np.ravel(), bins=256, color='black')\n",
    "    \n",
    "    plt.xlabel(\"Pixel Intensity\")\n",
    "    plt.ylabel(\"Frequency\")\n",
    "    plt.title(\"Image Histogram\")\n",
    "    plt.show()"
   ]
  },
  {
   "cell_type": "code",
   "execution_count": 16,
   "metadata": {},
   "outputs": [
    {
     "name": "stdout",
     "output_type": "stream",
     "text": [
      "\n",
      "Options:\n",
      "1. Apply Filter (blur, edge)\n",
      "2. Adjust Brightness/Contrast\n",
      "3. Resize Image\n",
      "4. Convert to Grayscale\n",
      "5. Display Histogram\n",
      "6. Quit\n"
     ]
    },
    {
     "data": {
      "image/png": "[encoded data removed]",
      "text/plain": [
       "<Figure size 640x480 with 1 Axes>"
      ]
     },
     "metadata": {},
     "output_type": "display_data"
    },
    {
     "name": "stdout",
     "output_type": "stream",
     "text": [
      "\n",
      "Options:\n",
      "1. Apply Filter (blur, edge)\n",
      "2. Adjust Brightness/Contrast\n",
      "3. Resize Image\n",
      "4. Convert to Grayscale\n",
      "5. Display Histogram\n",
      "6. Quit\n",
      "Exiting.\n"
     ]
    }
   ],
   "source": [
    "def main():\n",
    "    file_path = input(\"Enter the path of the image: \")\n",
    "    image = load_and_display_image(file_path)\n",
    "    \n",
    "    if not image:\n",
    "        print(\"Could not load image. Exiting.\")\n",
    "        return\n",
    "    \n",
    "    while True:\n",
    "        print(\"\\nOptions:\")\n",
    "        print(\"1. Apply Filter (blur, edge)\")\n",
    "        print(\"2. Adjust Brightness/Contrast\")\n",
    "        print(\"3. Resize Image\")\n",
    "        print(\"4. Convert to Grayscale\")\n",
    "        print(\"5. Display Histogram\")\n",
    "        print(\"6. Quit\")\n",
    "        \n",
    "        choice = input(\"Enter choice: \")\n",
    "        \n",
    "        if choice == '1':\n",
    "            filter_type = input(\"Enter filter type (blur, edge): \")\n",
    "            image = apply_filter(image, filter_type)\n",
    "            image.show()\n",
    "        \n",
    "        elif choice == '2':\n",
    "            brightness = float(input(\"Enter brightness factor (default 1.0): \"))\n",
    "            contrast = float(input(\"Enter contrast factor (default 1.0): \"))\n",
    "            image = adjust_brightness_contrast(image, brightness, contrast)\n",
    "            image.show()\n",
    "        \n",
    "        elif choice == '3':\n",
    "            width = int(input(\"Enter new width: \"))\n",
    "            height = int(input(\"Enter new height: \"))\n",
    "            image = resize_image(image, width, height)\n",
    "            image.show()\n",
    "        \n",
    "        elif choice == '4':\n",
    "            image = convert_to_grayscale(image)\n",
    "            image.show()\n",
    "        \n",
    "        elif choice == '5':\n",
    "            display_histogram(image)\n",
    "        \n",
    "        elif choice == '6':\n",
    "            print(\"Exiting.\")\n",
    "            break\n",
    "        \n",
    "        else:\n",
    "            print(\"Invalid choice. Please try again.\")\n",
    "\n",
    "if __name__ == \"__main__\":\n",
    "    main()\n"
   ]
  }
 ],
 "metadata": {
  "kernelspec": {
   "display_name": "Python 3.11.5 64-bit",
   "language": "python",
   "name": "python3"
  },
  "language_info": {
   "codemirror_mode": {
    "name": "ipython",
    "version": 3
   },
   "file_extension": ".py",
   "mimetype": "text/x-python",
   "name": "python",
   "nbconvert_exporter": "python",
   "pygments_lexer": "ipython3",
   "version": "3.11.5"
  },
  "orig_nbformat": 4,
  "vscode": {
   "interpreter": {
    "hash": "aee8b7b246df8f9039afb4144a1f6fd8d2ca17a180786b69acc140d282b71a49"
   }
  }
 },
 "nbformat": 4,
 "nbformat_minor": 2
}

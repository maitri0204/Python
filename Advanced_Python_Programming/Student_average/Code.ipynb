{
 "cells": [
  {
   "cell_type": "code",
   "execution_count": 2,
   "metadata": {},
   "outputs": [
    {
     "name": "stdout",
     "output_type": "stream",
     "text": [
      "  name  sub1   sub2  sub3  sub4  sub5\n",
      "0  ABC     24    65    98    23    87\n",
      "1  DEF     87    23    76    54    12\n",
      "2  GHI     23    98    67    94    34\n",
      "3  JKL     87    67    34    85    46\n",
      "4  MNO     34    67    98    34    98\n"
     ]
    }
   ],
   "source": [
    "import pandas as pd\n",
    "student_grade = pd.read_csv('student_grades.csv')\n",
    "print(student_grade.head())"
   ]
  },
  {
   "cell_type": "code",
   "execution_count": 3,
   "metadata": {},
   "outputs": [
    {
     "data": {
      "text/plain": [
       "name     0\n",
       "sub1     0\n",
       "sub2     0\n",
       "sub3     0\n",
       "sub4     0\n",
       "sub5     0\n",
       "dtype: int64"
      ]
     },
     "execution_count": 3,
     "metadata": {},
     "output_type": "execute_result"
    }
   ],
   "source": [
    "student_grade.isna().sum()"
   ]
  },
  {
   "cell_type": "code",
   "execution_count": 15,
   "metadata": {},
   "outputs": [
    {
     "name": "stdout",
     "output_type": "stream",
     "text": [
      "{'ABC': 59.4, 'DEF': 50.4, 'GHI': 63.2, 'JKL': 63.8, 'MNO': 66.2, 'PQR': 72.2, 'STU': 76.0}\n"
     ]
    }
   ],
   "source": [
    "def average_score(dataset):\n",
    "    average_dict = {}\n",
    "    for index, row in dataset.iterrows():\n",
    "        average = row[1:].mean()\n",
    "        average_dict[row['name']] = average\n",
    "    return average_dict\n",
    "\n",
    "student_average = average_score(student_grade)\n",
    "print(student_average)"
   ]
  },
  {
   "cell_type": "code",
   "execution_count": 16,
   "metadata": {},
   "outputs": [],
   "source": [
    "student_average_grades = pd.DataFrame(list(student_average.items()), columns=['Names', 'Average'])\n",
    "student_average_grades.to_csv('student_average_grades.csv', index=False)"
   ]
  }
 ],
 "metadata": {
  "kernelspec": {
   "display_name": "Python 3.11.5 64-bit",
   "language": "python",
   "name": "python3"
  },
  "language_info": {
   "codemirror_mode": {
    "name": "ipython",
    "version": 3
   },
   "file_extension": ".py",
   "mimetype": "text/x-python",
   "name": "python",
   "nbconvert_exporter": "python",
   "pygments_lexer": "ipython3",
   "version": "3.11.5"
  },
  "orig_nbformat": 4,
  "vscode": {
   "interpreter": {
    "hash": "aee8b7b246df8f9039afb4144a1f6fd8d2ca17a180786b69acc140d282b71a49"
   }
  }
 },
 "nbformat": 4,
 "nbformat_minor": 2
}

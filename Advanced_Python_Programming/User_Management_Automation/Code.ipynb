{
 "cells": [
  {
   "cell_type": "code",
   "execution_count": 1,
   "metadata": {},
   "outputs": [],
   "source": [
    "import hashlib\n",
    "import logging"
   ]
  },
  {
   "cell_type": "code",
   "execution_count": 2,
   "metadata": {},
   "outputs": [],
   "source": [
    "logging.basicConfig(filename='app.log', level=logging.DEBUG, format='%(asctime)s - %(levelname)s - %(message)s')"
   ]
  },
  {
   "cell_type": "code",
   "execution_count": 3,
   "metadata": {},
   "outputs": [],
   "source": [
    "def register_user(username, password):\n",
    "    try:\n",
    "        hashed_password = hashlib.sha256(password.encode()).hexdigest()\n",
    "        \n",
    "        with open('users.txt', 'a') as users_file:\n",
    "            users_file.write(f\"{username}:{hashed_password}\\n\")\n",
    "        \n",
    "        logging.info('User registered: %s', username)\n",
    "        print(\"User registered successfully!\")\n",
    "    except Exception as e:\n",
    "        logging.error('Error while registering user: %s', e)\n",
    "        print(\"An error occurred during registration.\")"
   ]
  },
  {
   "cell_type": "code",
   "execution_count": 4,
   "metadata": {},
   "outputs": [],
   "source": [
    "def authenticate_user(username, password):\n",
    "    try:\n",
    "        # Hash the password\n",
    "        hashed_password = hashlib.sha256(password.encode()).hexdigest()\n",
    "        \n",
    "        # Open 'users.txt' to read stored usernames and passwords\n",
    "        with open('users.txt', 'r') as users_file:\n",
    "            for line in users_file:\n",
    "                stored_username, stored_password = line.strip().split(':')\n",
    "                # Check if username and password match\n",
    "                if username == stored_username and hashed_password == stored_password:\n",
    "                    return True\n",
    "        return False\n",
    "    except Exception as e:\n",
    "        logging.error('Error while authenticating user: %s', e)\n",
    "        print(\"An error occurred during authentication.\")\n",
    "        return False"
   ]
  },
  {
   "cell_type": "code",
   "execution_count": 5,
   "metadata": {},
   "outputs": [
    {
     "name": "stdout",
     "output_type": "stream",
     "text": [
      "1. Register\n",
      "2. Login\n",
      "3. Quit\n",
      "Login failed. Invalid credentials.\n",
      "1. Register\n",
      "2. Login\n",
      "3. Quit\n",
      "Login failed. Invalid credentials.\n",
      "1. Register\n",
      "2. Login\n",
      "3. Quit\n",
      "User registered successfully!\n",
      "1. Register\n",
      "2. Login\n",
      "3. Quit\n",
      "Exiting.\n"
     ]
    }
   ],
   "source": [
    "if __name__ == '__main__':\n",
    "    try:\n",
    "        while True:\n",
    "            print(\"1. Register\\n2. Login\\n3. Quit\")\n",
    "            choice = input('Enter your choice: ')\n",
    "\n",
    "            if choice == '1':\n",
    "                # Register user\n",
    "                username = input('Enter username: ')\n",
    "                password = input('Enter password: ')\n",
    "                register_user(username, password)\n",
    "\n",
    "            elif choice == '2':\n",
    "                # Authenticate user\n",
    "                username = input('Enter username: ')\n",
    "                password = input('Enter password: ')\n",
    "                if authenticate_user(username, password):\n",
    "                    print('Login successful!')\n",
    "                else:\n",
    "                    print('Login failed. Invalid credentials.')\n",
    "            \n",
    "            elif choice == '3':\n",
    "                print('Exiting.')\n",
    "                break\n",
    "            \n",
    "            else:\n",
    "                print('Invalid choice. Please choose again.')\n",
    "    except Exception as e:\n",
    "        logging.error('Unhandled error: %s', e)\n",
    "        print(\"An unexpected error occurred. Please try again.\")\n"
   ]
  }
 ],
 "metadata": {
  "kernelspec": {
   "display_name": "Python 3.11.5 64-bit",
   "language": "python",
   "name": "python3"
  },
  "language_info": {
   "codemirror_mode": {
    "name": "ipython",
    "version": 3
   },
   "file_extension": ".py",
   "mimetype": "text/x-python",
   "name": "python",
   "nbconvert_exporter": "python",
   "pygments_lexer": "ipython3",
   "version": "3.11.5"
  },
  "orig_nbformat": 4,
  "vscode": {
   "interpreter": {
    "hash": "aee8b7b246df8f9039afb4144a1f6fd8d2ca17a180786b69acc140d282b71a49"
   }
  }
 },
 "nbformat": 4,
 "nbformat_minor": 2
}
